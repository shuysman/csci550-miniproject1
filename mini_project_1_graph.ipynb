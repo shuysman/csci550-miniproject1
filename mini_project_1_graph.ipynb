{
 "cells": [
  {
   "cell_type": "markdown",
   "metadata": {
    "collapsed": false,
    "editable": true,
    "id": "pZ2MWm92dQl2",
    "jupyter": {
     "outputs_hidden": false
    },
    "slideshow": {
     "slide_type": ""
    },
    "tags": []
   },
   "source": [
    "# The New York Social Graph\n"
   ]
  },
  {
   "cell_type": "markdown",
   "metadata": {
    "collapsed": false,
    "id": "BRD19jzbdQl3",
    "jupyter": {
     "outputs_hidden": false
    }
   },
   "source": [
    "[New York Social Diary](https://www.newyorksocialdiary.com/) provides a\n",
    "fascinating lens onto New York's socially well-to-do.  The data forms a natural social graph for New York's social elite.  Take a look at this page of a recent [To Love Unconditionally](https://www.newyorksocialdiary.com/to-love-unconditionally/).\n",
    "\n",
    "You will notice the photos have carefully annotated captions labeling those that appear in the photos.  We can think of this as implicitly implying a social graph: there is a connection between two individuals if they appear in a picture together.\n",
    "\n",
    "For this project, we will assemble the social graph from photo captions for parties.  Using this graph, we can make guesses at the most popular socialites, the most influential people, and the most tightly coupled pairs.\n",
    "\n",
    "We will attack the project in three phases:\n",
    "1. Get a list of all the photo pages to be analyzed.\n",
    "2. Get all captions in each party, Parse all of the captions and extract guests' names.\n",
    "3. Assemble the graph, analyze the graph and answer the questions"
   ]
  },
  {
   "cell_type": "markdown",
   "metadata": {
    "collapsed": false,
    "id": "fil83QYMdQl4",
    "jupyter": {
     "outputs_hidden": false
    }
   },
   "source": [
    "## Phase One\n"
   ]
  },
  {
   "cell_type": "markdown",
   "metadata": {
    "collapsed": false,
    "id": "sHL14Y2udQl4",
    "jupyter": {
     "outputs_hidden": false
    }
   },
   "source": [
    "The first step is to crawl the data.  We want photos from parties on or before December 1st, 2014.  Go to the [Party Pictures Archive](https://web.archive.org/web/20150913224145/http://www.newyorksocialdiary.com/party-pictures) to see a list of (party) pages.  We want to get the url for each party page, along with its date.\n",
    "\n",
    "Here are some packages that you may find useful.  You are welcome to use others, if you prefer."
   ]
  },
  {
   "cell_type": "code",
   "execution_count": 587,
   "metadata": {
    "colab": {
     "base_uri": "https://localhost:8080/"
    },
    "collapsed": false,
    "id": "jYBmnGpydQl4",
    "jupyter": {
     "outputs_hidden": false
    },
    "outputId": "0fee2573-2c76-4169-db76-ab20b0ed60e2"
   },
   "outputs": [],
   "source": [
    "import requests\n",
    "#!pip install dill\n",
    "import dill\n",
    "import glob\n",
    "from bs4 import BeautifulSoup\n",
    "from datetime import datetime\n",
    "import time\n",
    "\n",
    "import math\n",
    "\n",
    "import pandas as pd\n",
    "import numpy as np\n",
    "import matplotlib.pyplot as plt\n",
    "\n",
    "import re\n",
    "\n",
    "import itertools  # itertools.combinations may be useful\n",
    "import networkx as nx\n",
    "import nx_parallel as nxp\n",
    "\n",
    "# enabling networkx's config for nx-parallel\n",
    "#nx.config.backends.parallel.active = True\n",
    "\n",
    "# setting `n_jobs` (by default, `n_jobs=None`)\n",
    "#nx.config.backends.parallel.n_jobs = 4\n",
    "\n",
    "#!pip install spacy\n",
    "#!python -m spacy download en_core_web_lg\n",
    "\n",
    "#import spacy\n",
    "#from spacy.language import Language\n",
    "#from spacy.tokens import Span"
   ]
  },
  {
   "cell_type": "markdown",
   "metadata": {
    "collapsed": false,
    "id": "X7MzwfTUdQl5",
    "jupyter": {
     "outputs_hidden": false
    }
   },
   "source": [
    "We recommend using Python [Requests](http://docs.python-requests.org/en/master/) to download the HTML pages, and [BeautifulSoup](https://www.crummy.com/software/BeautifulSoup/) to process the HTML.  Let's start by getting the [first page](https://web.archive.org/web/20150913224145/http://www.newyorksocialdiary.com/party-pictures)."
   ]
  },
  {
   "cell_type": "code",
   "execution_count": 109,
   "metadata": {
    "collapsed": false,
    "id": "S6nrDVuadQl5",
    "jupyter": {
     "outputs_hidden": false
    }
   },
   "outputs": [],
   "source": [
    "nysd_url = \"https://web.archive.org/web/20150913224145/http://www.newyorksocialdiary.com/party-pictures\"\n",
    "page = requests.get(nysd_url) # Use requests.get to download the page."
   ]
  },
  {
   "cell_type": "markdown",
   "metadata": {
    "collapsed": false,
    "id": "N6A372fWdQl5",
    "jupyter": {
     "outputs_hidden": false
    }
   },
   "source": [
    "Now, we process the text of the page with BeautifulSoup."
   ]
  },
  {
   "cell_type": "code",
   "execution_count": 110,
   "metadata": {
    "collapsed": false,
    "id": "hDqhRM2gdQl5",
    "jupyter": {
     "outputs_hidden": false
    }
   },
   "outputs": [],
   "source": [
    "soup = BeautifulSoup(page.text, \"lxml\")"
   ]
  },
  {
   "cell_type": "markdown",
   "metadata": {
    "collapsed": false,
    "id": "cDbSvwNOdQl6",
    "jupyter": {
     "outputs_hidden": false
    }
   },
   "source": [
    "This page has links to 50 party pages. Look at the structure of the page and determine how to isolate those links.  Your browser's developer tools (usually `Cmd`-`Option`-`I` on Mac, `Ctrl`-`Shift`-`I` on others) offer helpful tools to explore the structure of the HTML page.\n",
    "\n",
    "Once you have found a pattern, use BeautifulSoup's [select](https://www.crummy.com/software/BeautifulSoup/bs4/doc/#css-selectors) or [find_all](https://www.crummy.com/software/BeautifulSoup/bs4/doc/#find) methods to get those elements."
   ]
  },
  {
   "cell_type": "code",
   "execution_count": 111,
   "metadata": {
    "colab": {
     "base_uri": "https://localhost:8080/",
     "height": 36
    },
    "collapsed": false,
    "id": "XXAwWDp0dQl6",
    "jupyter": {
     "outputs_hidden": false
    },
    "outputId": "e3685981-f7c7-4b23-a73b-43171385fa96"
   },
   "outputs": [
    {
     "name": "stdout",
     "output_type": "stream",
     "text": [
      "URL:  /web/20150913224145/http://www.newyorksocialdiary.com/party-pictures/2015/kicks-offs-sing-offs-and-pro-ams\n",
      "Date:  Friday, September 11, 2015\n"
     ]
    }
   ],
   "source": [
    "links = soup.select(\"div.views-row\")\n",
    "\n",
    "print(\"URL: \", links[0].find(\"a\").get(\"href\"))\n",
    "print(\"Date: \", links[0].select(\"span.field-content\")[1].text)"
   ]
  },
  {
   "cell_type": "markdown",
   "metadata": {
    "collapsed": false,
    "id": "Dqo4nAZ6dQl7",
    "jupyter": {
     "outputs_hidden": false
    }
   },
   "source": [
    "There should be 50 per page."
   ]
  },
  {
   "cell_type": "code",
   "execution_count": 112,
   "metadata": {
    "colab": {
     "base_uri": "https://localhost:8080/"
    },
    "collapsed": false,
    "id": "55w2XnyndQl7",
    "jupyter": {
     "outputs_hidden": false
    },
    "outputId": "16964e6d-9b5f-4ff5-b08c-8e6063fd9572"
   },
   "outputs": [
    {
     "data": {
      "text/plain": [
       "True"
      ]
     },
     "execution_count": 112,
     "metadata": {},
     "output_type": "execute_result"
    }
   ],
   "source": [
    "len(links) == 50"
   ]
  },
  {
   "cell_type": "markdown",
   "metadata": {
    "collapsed": false,
    "id": "qUagJwV8dQl7",
    "jupyter": {
     "outputs_hidden": false
    }
   },
   "source": [
    "Let's take a look at that first link.  Figure out how to extract the URL of the link, as well as the date.  You probably want to use `datetime.strptime`.  See the [format codes for dates](https://docs.python.org/3/library/datetime.html#strftime-and-strptime-behavior) for reference."
   ]
  },
  {
   "cell_type": "code",
   "execution_count": 113,
   "metadata": {
    "collapsed": false,
    "id": "eFmrbxiYdQl7",
    "jupyter": {
     "outputs_hidden": false
    }
   },
   "outputs": [
    {
     "data": {
      "text/plain": [
       "'/web/20150913224145/http://www.newyorksocialdiary.com/party-pictures/2015/kicks-offs-sing-offs-and-pro-ams'"
      ]
     },
     "execution_count": 113,
     "metadata": {},
     "output_type": "execute_result"
    }
   ],
   "source": [
    "link = links[0]\n",
    "# Check that the title and date match what you see visually.\n",
    "links[0].find(\"a\").get(\"href\")"
   ]
  },
  {
   "cell_type": "markdown",
   "metadata": {
    "collapsed": false,
    "id": "e30LrMB7dQl7",
    "jupyter": {
     "outputs_hidden": false
    }
   },
   "source": [
    "For purposes of code reuse, let's put that logic into a function.  It should take the link element and return the URL and date parsed from it."
   ]
  },
  {
   "cell_type": "code",
   "execution_count": 114,
   "metadata": {
    "collapsed": false,
    "id": "rckvye4fdQl8",
    "jupyter": {
     "outputs_hidden": false
    }
   },
   "outputs": [
    {
     "data": {
      "text/plain": [
       "('/web/20150913224145/http://www.newyorksocialdiary.com/party-pictures/2015/kicks-offs-sing-offs-and-pro-ams',\n",
       " datetime.datetime(2015, 9, 11, 0, 0))"
      ]
     },
     "execution_count": 114,
     "metadata": {},
     "output_type": "execute_result"
    }
   ],
   "source": [
    "def get_link_date(el):\n",
    "    url = el.find(\"a\").get(\"href\")\n",
    "    date_text = el.select(\"span.field-content\")[1].text\n",
    "    ## Example date format:\n",
    "    ## Tuesday, September 1, 2015\n",
    "    date = datetime.strptime(date_text, \"%A, %B %d, %Y\")\n",
    "    return url, date\n",
    "\n",
    "get_link_date(links[0])"
   ]
  },
  {
   "cell_type": "markdown",
   "metadata": {
    "collapsed": false,
    "id": "aPgOMDJbdQl8",
    "jupyter": {
     "outputs_hidden": false
    }
   },
   "source": [
    "You may want to check that it works as you expected.\n",
    "\n",
    "Once that's working, let's write another function to parse all of the links on a page.  Thinking ahead, we can make it take a Requests [Response](https://requests.readthedocs.io/en/master/api/#requests.Response) object and do the BeautifulSoup parsing within it."
   ]
  },
  {
   "cell_type": "code",
   "execution_count": 115,
   "metadata": {
    "collapsed": false,
    "id": "W67j6Fl2dQl8",
    "jupyter": {
     "outputs_hidden": false
    }
   },
   "outputs": [
    {
     "data": {
      "text/plain": [
       "[('/web/20150913224145/http://www.newyorksocialdiary.com/party-pictures/2015/kicks-offs-sing-offs-and-pro-ams',\n",
       "  datetime.datetime(2015, 9, 11, 0, 0)),\n",
       " ('/web/20150913224145/http://www.newyorksocialdiary.com/party-pictures/2015/grand-finale-of-the-hampton-classic-horse-show',\n",
       "  datetime.datetime(2015, 9, 1, 0, 0)),\n",
       " ('/web/20150913224145/http://www.newyorksocialdiary.com/party-pictures/2015/riders-spectators-horses-and-more',\n",
       "  datetime.datetime(2015, 8, 26, 0, 0)),\n",
       " ('/web/20150913224145/http://www.newyorksocialdiary.com/party-pictures/2015/artist-and-writers-and-designers',\n",
       "  datetime.datetime(2015, 8, 20, 0, 0)),\n",
       " ('/web/20150913224145/http://www.newyorksocialdiary.com/party-pictures/2015/garden-parties-kickoffs-and-summer-benefits',\n",
       "  datetime.datetime(2015, 8, 17, 0, 0)),\n",
       " ('/web/20150913224145/http://www.newyorksocialdiary.com/party-pictures/2015/the-summer-set',\n",
       "  datetime.datetime(2015, 8, 12, 0, 0)),\n",
       " ('/web/20150913224145/http://www.newyorksocialdiary.com/party-pictures/2015/midsummer-parties',\n",
       "  datetime.datetime(2015, 8, 5, 0, 0)),\n",
       " ('/web/20150913224145/http://www.newyorksocialdiary.com/party-pictures/2015/the-watermill-center-and-the-parrish',\n",
       "  datetime.datetime(2015, 7, 29, 0, 0)),\n",
       " ('/web/20150913224145/http://www.newyorksocialdiary.com/party-pictures/2015/unconditional-love',\n",
       "  datetime.datetime(2015, 7, 23, 0, 0)),\n",
       " ('/web/20150913224145/http://www.newyorksocialdiary.com/party-pictures/2015/womens-health-boys-girls-cancer-research-and-just-plain-summer-fun',\n",
       "  datetime.datetime(2015, 7, 17, 0, 0)),\n",
       " ('/web/20150913224145/http://www.newyorksocialdiary.com/party-pictures/2015/art-southampton-mashomack-sofo-and-arthamptons',\n",
       "  datetime.datetime(2015, 7, 13, 0, 0)),\n",
       " ('/web/20150913224145/http://www.newyorksocialdiary.com/party-pictures/2015/this-and-that',\n",
       "  datetime.datetime(2015, 7, 10, 0, 0)),\n",
       " ('/web/20150913224145/http://www.newyorksocialdiary.com/party-pictures/2015/divine-intervention',\n",
       "  datetime.datetime(2015, 7, 3, 0, 0)),\n",
       " ('/web/20150913224145/http://www.newyorksocialdiary.com/party-pictures/2015/where-the-wild-things',\n",
       "  datetime.datetime(2015, 6, 29, 0, 0)),\n",
       " ('/web/20150913224145/http://www.newyorksocialdiary.com/party-pictures/2015/signature-events',\n",
       "  datetime.datetime(2015, 6, 26, 0, 0)),\n",
       " ('/web/20150913224145/http://www.newyorksocialdiary.com/party-pictures/2015/young-new-yorkers-chashama-brain-behavior-fundahigado-america',\n",
       "  datetime.datetime(2015, 6, 23, 0, 0)),\n",
       " ('/web/20150913224145/http://www.newyorksocialdiary.com/party-pictures/2015/play-for-pink-freeing-voices-stories-from-the-war-and-spirit-of-achievement',\n",
       "  datetime.datetime(2015, 6, 22, 0, 0)),\n",
       " ('/web/20150913224145/http://www.newyorksocialdiary.com/party-pictures/2015/a-taste-of-summer',\n",
       "  datetime.datetime(2015, 6, 17, 0, 0)),\n",
       " ('/web/20150913224145/http://www.newyorksocialdiary.com/party-pictures/2015/gods-love-we-deliver-the-black-alumni-of-pratt-a-gala-salute-for-wnet-and',\n",
       "  datetime.datetime(2015, 6, 15, 0, 0)),\n",
       " ('/web/20150913224145/http://www.newyorksocialdiary.com/party-pictures/2015/education-research-and-patient-care',\n",
       "  datetime.datetime(2015, 6, 10, 0, 0)),\n",
       " ('/web/20150913224145/http://www.newyorksocialdiary.com/party-pictures/2015/broadway-melodies-historic-hearst-castle-the-hermione-calvary-china-institute',\n",
       "  datetime.datetime(2015, 6, 8, 0, 0)),\n",
       " ('/web/20150913224145/http://www.newyorksocialdiary.com/party-pictures/2015/philanthropic-legal-social-justice-civic-and-business-communities',\n",
       "  datetime.datetime(2015, 6, 5, 0, 0)),\n",
       " ('/web/20150913224145/http://www.newyorksocialdiary.com/party-pictures/2015/milestone-celebrations',\n",
       "  datetime.datetime(2015, 6, 4, 0, 0)),\n",
       " ('/web/20150913224145/http://www.newyorksocialdiary.com/party-pictures/2015/arf-pratt-institute-caron-city-college-center-for-the-arts-and-susan-g-komen',\n",
       "  datetime.datetime(2015, 6, 1, 0, 0)),\n",
       " ('/web/20150913224145/http://www.newyorksocialdiary.com/party-pictures/2015/united-cerebral-palsy-the-opportunity-network-92nd-street-y-the-animal-medical',\n",
       "  datetime.datetime(2015, 5, 27, 0, 0)),\n",
       " ('/web/20150913224145/http://www.newyorksocialdiary.com/party-pictures/2015/la-belle-epoque',\n",
       "  datetime.datetime(2015, 5, 26, 0, 0)),\n",
       " ('/web/20150913224145/http://www.newyorksocialdiary.com/party-pictures/2015/el-museo-del-barrio-fountain-house-empowers-africa-and-gray-matters',\n",
       "  datetime.datetime(2015, 5, 22, 0, 0)),\n",
       " ('/web/20150913224145/http://www.newyorksocialdiary.com/party-pictures/2015/spring-ahead',\n",
       "  datetime.datetime(2015, 5, 19, 0, 0)),\n",
       " ('/web/20150913224145/http://www.newyorksocialdiary.com/party-pictures/2015/rockefeller-university-bal-des-berceaux-and-icaa',\n",
       "  datetime.datetime(2015, 5, 18, 0, 0)),\n",
       " ('/web/20150913224145/http://www.newyorksocialdiary.com/party-pictures/2015/nyc-ballet-masterpiece-london-pratt-institute-and-project-sunshine',\n",
       "  datetime.datetime(2015, 5, 15, 0, 0)),\n",
       " ('/web/20150913224145/http://www.newyorksocialdiary.com/party-pictures/2015/in-the-presence-of',\n",
       "  datetime.datetime(2015, 5, 12, 0, 0)),\n",
       " ('/web/20150913224145/http://www.newyorksocialdiary.com/party-pictures/2015/over-the-top-extravaganzas',\n",
       "  datetime.datetime(2015, 5, 8, 0, 0)),\n",
       " ('/web/20150913224145/http://www.newyorksocialdiary.com/party-pictures/2015/dpcs-take-at-the-33rd-annual-frederick-law-olmsted-awards-luncheon',\n",
       "  datetime.datetime(2015, 5, 7, 0, 0)),\n",
       " ('/web/20150913224145/http://www.newyorksocialdiary.com/party-pictures/2015/hellos-and-goodbyes',\n",
       "  datetime.datetime(2015, 5, 5, 0, 0)),\n",
       " ('/web/20150913224145/http://www.newyorksocialdiary.com/party-pictures/2015/women-of-distinction',\n",
       "  datetime.datetime(2015, 4, 30, 0, 0)),\n",
       " ('/web/20150913224145/http://www.newyorksocialdiary.com/party-pictures/2015/nights-for-changing-lives',\n",
       "  datetime.datetime(2015, 4, 27, 0, 0)),\n",
       " ('/web/20150913224145/http://www.newyorksocialdiary.com/party-pictures/2015/il-piacere-dellamore',\n",
       "  datetime.datetime(2015, 4, 23, 0, 0)),\n",
       " ('/web/20150913224145/http://www.newyorksocialdiary.com/party-pictures/2015/masquerade-retrograde',\n",
       "  datetime.datetime(2015, 4, 22, 0, 0)),\n",
       " ('/web/20150913224145/http://www.newyorksocialdiary.com/party-pictures/2015/artists-and-writers-and-designers',\n",
       "  datetime.datetime(2015, 4, 21, 0, 0)),\n",
       " ('/web/20150913224145/http://www.newyorksocialdiary.com/party-pictures/2015/in-kind',\n",
       "  datetime.datetime(2015, 4, 17, 0, 0)),\n",
       " ('/web/20150913224145/http://www.newyorksocialdiary.com/party-pictures/2015/aspca-playground-partners-east-side-house-settlement-and-castle-connolly',\n",
       "  datetime.datetime(2015, 4, 13, 0, 0)),\n",
       " ('/web/20150913224145/http://www.newyorksocialdiary.com/party-pictures/2015/el-museo-pdf-tusk-and-nyc-mission-society',\n",
       "  datetime.datetime(2015, 4, 9, 0, 0)),\n",
       " ('/web/20150913224145/http://www.newyorksocialdiary.com/party-pictures/2015/drifting-in-daylight',\n",
       "  datetime.datetime(2015, 4, 6, 0, 0)),\n",
       " ('/web/20150913224145/http://www.newyorksocialdiary.com/party-pictures/2015/the-art-of-fashion',\n",
       "  datetime.datetime(2015, 4, 3, 0, 0)),\n",
       " ('/web/20150913224145/http://www.newyorksocialdiary.com/party-pictures/2015/glitz-glamour',\n",
       "  datetime.datetime(2015, 3, 30, 0, 0)),\n",
       " ('/web/20150913224145/http://www.newyorksocialdiary.com/party-pictures/2015/madoo-in-manhattan-pmp-in-palm-beach',\n",
       "  datetime.datetime(2015, 3, 25, 0, 0)),\n",
       " ('/web/20150913224145/http://www.newyorksocialdiary.com/party-pictures/2015/love-heals',\n",
       "  datetime.datetime(2015, 3, 20, 0, 0)),\n",
       " ('/web/20150913224145/http://www.newyorksocialdiary.com/party-pictures/2015/citymeals-on-wheels-mount-sinai-hospital-un-women-for-peace-and-the-red-cross',\n",
       "  datetime.datetime(2015, 3, 18, 0, 0)),\n",
       " ('/web/20150913224145/http://www.newyorksocialdiary.com/party-pictures/2015/ripa-eight-over-eighty-trees-new-york-and-fabulous-at-any-age',\n",
       "  datetime.datetime(2015, 3, 17, 0, 0)),\n",
       " ('/web/20150913224145/http://www.newyorksocialdiary.com/party-pictures/2015/bunny-hop-the-boys-club-old-bags-and-more',\n",
       "  datetime.datetime(2015, 3, 13, 0, 0))]"
      ]
     },
     "execution_count": 115,
     "metadata": {},
     "output_type": "execute_result"
    }
   ],
   "source": [
    "def get_links(response):\n",
    "  links = []\n",
    "  for r in response:\n",
    "    links.append(get_link_date(r))\n",
    "  return links # A list of URL, date pair s\n",
    "\n",
    "get_links(links)"
   ]
  },
  {
   "cell_type": "markdown",
   "metadata": {
    "collapsed": false,
    "id": "0flSSgGndQl8",
    "jupyter": {
     "outputs_hidden": false
    }
   },
   "source": [
    "If we run this on the previous response, we should get 50 pairs."
   ]
  },
  {
   "cell_type": "code",
   "execution_count": 116,
   "metadata": {
    "collapsed": false,
    "id": "FXNFZW59dQl8",
    "jupyter": {
     "outputs_hidden": false
    }
   },
   "outputs": [
    {
     "data": {
      "text/plain": [
       "True"
      ]
     },
     "execution_count": 116,
     "metadata": {},
     "output_type": "execute_result"
    }
   ],
   "source": [
    "# These should be the same links from earlier\n",
    "len(get_links(links)) == 50"
   ]
  },
  {
   "cell_type": "markdown",
   "metadata": {
    "collapsed": false,
    "id": "pQWA9oPfdQl8",
    "jupyter": {
     "outputs_hidden": false
    }
   },
   "source": [
    "But we only want parties with dates on or before the first of December, 2014.  Let's write a function to filter our list of dates to those at or before a cutoff.  Using a keyword argument, we can put in a default cutoff, but allow us to test with others."
   ]
  },
  {
   "cell_type": "code",
   "execution_count": 117,
   "metadata": {
    "collapsed": false,
    "id": "ph83id-6dQl9",
    "jupyter": {
     "outputs_hidden": false
    }
   },
   "outputs": [
    {
     "data": {
      "text/plain": [
       "[]"
      ]
     },
     "execution_count": 117,
     "metadata": {},
     "output_type": "execute_result"
    }
   ],
   "source": [
    "def filter_by_date(links, cutoff=datetime(2014, 12, 1)):\n",
    "    # Return only the elements with date <= cutoff\n",
    "    return [link for link in links if link[1] <= cutoff]\n",
    "\n",
    "filter_by_date(get_links(links))"
   ]
  },
  {
   "cell_type": "markdown",
   "metadata": {
    "collapsed": false,
    "id": "WT58Q_YkdQl9",
    "jupyter": {
     "outputs_hidden": false
    }
   },
   "source": [
    "With the default cutoff, there should be no valid parties on the first page.  Adjust the cutoff date to check that it is actually working."
   ]
  },
  {
   "cell_type": "code",
   "execution_count": 118,
   "metadata": {
    "collapsed": false,
    "id": "Au4PqJ5IdQl9",
    "jupyter": {
     "outputs_hidden": false
    }
   },
   "outputs": [
    {
     "data": {
      "text/plain": [
       "True"
      ]
     },
     "execution_count": 118,
     "metadata": {},
     "output_type": "execute_result"
    }
   ],
   "source": [
    "# Double check the dates are being extracted correctly\n",
    "len(filter_by_date(get_links(links))) == 0"
   ]
  },
  {
   "cell_type": "markdown",
   "metadata": {
    "collapsed": false,
    "id": "AGR19IN4dQl9",
    "jupyter": {
     "outputs_hidden": false
    }
   },
   "source": [
    "Now we should be ready to get all of the party URLs.  Click through a few of the index pages to determine how the URL changes.  Figure out a strategy to visit all of them.\n",
    "\n",
    "HTTP requests are generally IO-bound.  This means that most of the time is spent waiting for the remote server to respond.  If you use `requests` directly, you can only wait on one response at a time.  [requests-futures](https://github.com/ross/requests-futures) lets you wait for multiple requests at a time.  You may wish to use this to speed up the downloading process."
   ]
  },
  {
   "cell_type": "code",
   "execution_count": 119,
   "metadata": {
    "collapsed": false,
    "id": "BH7D7CZVdQl9",
    "jupyter": {
     "outputs_hidden": false
    }
   },
   "outputs": [
    {
     "ename": "KeyboardInterrupt",
     "evalue": "",
     "output_type": "error",
     "traceback": [
      "\u001b[0;31m---------------------------------------------------------------------------\u001b[0m",
      "\u001b[0;31mKeyboardInterrupt\u001b[0m                         Traceback (most recent call last)",
      "Cell \u001b[0;32mIn[119], line 14\u001b[0m\n\u001b[1;32m     12\u001b[0m links \u001b[38;5;241m=\u001b[39m soup\u001b[38;5;241m.\u001b[39mselect(\u001b[38;5;124m\"\u001b[39m\u001b[38;5;124mdiv.views-row\u001b[39m\u001b[38;5;124m\"\u001b[39m)\n\u001b[1;32m     13\u001b[0m link_list\u001b[38;5;241m.\u001b[39mextend(filter_by_date(get_links(links)))\n\u001b[0;32m---> 14\u001b[0m time\u001b[38;5;241m.\u001b[39msleep(\u001b[38;5;241m10\u001b[39m) \u001b[38;5;66;03m### Avoid getting blocked by making requests too quickly\u001b[39;00m\n",
      "\u001b[0;31mKeyboardInterrupt\u001b[0m: "
     ]
    }
   ],
   "source": [
    "#!pip install requests-futures\n",
    "#from requests_futures.sessions import FuturesSession\n",
    "\n",
    "link_list = []\n",
    "# You can use link_list.extend(others) to add the elements of others\n",
    "# to link_list.\n",
    "\n",
    "for i in range(1, 27):\n",
    "  index_url = f\"https://web.archive.org/web/20150913224145/http://www.newyorksocialdiary.com/party-pictures?page={i}\"\n",
    "  page = requests.get(index_url)\n",
    "  soup = BeautifulSoup(page.text, \"lxml\")\n",
    "  links = soup.select(\"div.views-row\")\n",
    "  link_list.extend(filter_by_date(get_links(links)))\n",
    "  time.sleep(10) ### Avoid getting blocked by making requests too quickly"
   ]
  },
  {
   "cell_type": "markdown",
   "metadata": {
    "collapsed": false,
    "id": "zsYv__JOdQl9",
    "jupyter": {
     "outputs_hidden": false
    }
   },
   "source": [
    "In the end, you should have 1193 parties."
   ]
  },
  {
   "cell_type": "code",
   "execution_count": null,
   "metadata": {
    "collapsed": false,
    "id": "Zab-LDGydQl9",
    "jupyter": {
     "outputs_hidden": false
    }
   },
   "outputs": [],
   "source": [
    "# Make sure you are using the same /web/stringofdigits/... for each page\n",
    "# This is to prevent the archive from accessing later copies of the same page\n",
    "# If you are off by a just a few, that can be the archive misbehaving\n",
    "len(link_list) == 1193"
   ]
  },
  {
   "cell_type": "markdown",
   "metadata": {
    "collapsed": false,
    "id": "MRTcFU_0dQl9",
    "jupyter": {
     "outputs_hidden": false
    }
   },
   "source": [
    "In case we need to restart the notebook, we should save this information to a file.  There are many ways you could do this; here's one using `dill`."
   ]
  },
  {
   "cell_type": "code",
   "execution_count": null,
   "metadata": {
    "collapsed": false,
    "id": "M11QdhVWdQl-",
    "jupyter": {
     "outputs_hidden": false
    }
   },
   "outputs": [],
   "source": [
    "dill.dump(link_list, open('nysd-links.pkd', 'wb'))"
   ]
  },
  {
   "cell_type": "markdown",
   "metadata": {
    "collapsed": false,
    "id": "9MV6aZosdQl-",
    "jupyter": {
     "outputs_hidden": false
    }
   },
   "source": [
    "To restore the list, we can just load it from the file.  When the notebook is restarted, you can skip the code above and just run this command."
   ]
  },
  {
   "cell_type": "code",
   "execution_count": 12,
   "metadata": {
    "collapsed": false,
    "editable": true,
    "id": "1b_1ZW4ddQl-",
    "jupyter": {
     "outputs_hidden": false
    },
    "slideshow": {
     "slide_type": ""
    },
    "tags": []
   },
   "outputs": [],
   "source": [
    "link_list = dill.load(open('nysd-links.pkd', 'rb'))\n",
    "link_list = dill.load(open('nysd-links.pkd', 'rb'))\n",
    "\n",
    "print(len(link_list))\n",
    "print(link_list[0])\n",
    "print(link_list[-1])"
   ]
  },
  {
   "cell_type": "markdown",
   "metadata": {
    "collapsed": false,
    "editable": true,
    "id": "NePMX4hEdQl-",
    "jupyter": {
     "outputs_hidden": false
    },
    "slideshow": {
     "slide_type": ""
    },
    "tags": []
   },
   "source": [
    "### Question 1: In which month did most of the parties occur? (10 p)"
   ]
  },
  {
   "cell_type": "code",
   "execution_count": 13,
   "metadata": {
    "colab": {
     "base_uri": "https://localhost:8080/",
     "height": 730
    },
    "collapsed": false,
    "id": "fdNAdexj8GH7",
    "jupyter": {
     "outputs_hidden": false
    },
    "outputId": "285bcc85-5cc2-495f-a7c3-b278e7561f21"
   },
   "outputs": [],
   "source": [
    "import pandas as pd\n",
    "import numpy as np\n",
    "import matplotlib.pyplot as plt\n",
    "\n",
    "df = pd.DataFrame(link_list, columns=['url', 'date'])\n",
    "df['month'] = df['date'].dt.month\n",
    "\n",
    "# Group by month and count the number of parties in each month\n",
    "monthly_counts = df.groupby('month').size()\n",
    "\n",
    "print(monthly_counts)\n",
    "\n",
    "plt.bar(monthly_counts.index, monthly_counts.values)\n",
    "plt.xlabel(\"Month\")\n",
    "plt.ylabel(\"Number of Parties\")\n",
    "plt.title(\"Number of Parties by Month\")\n",
    "\n",
    "plt.show()"
   ]
  },
  {
   "cell_type": "markdown",
   "metadata": {
    "collapsed": false,
    "editable": true,
    "id": "NePMX4hEdQl-",
    "jupyter": {
     "outputs_hidden": false
    },
    "slideshow": {
     "slide_type": ""
    },
    "tags": []
   },
   "source": [
    "### Question 2: What is the overall trend of parties from 2007 to 2014? (10 p)\n",
    "Use visualizations to answer the two questions above. Ensure that you interpret your plots thoroughly."
   ]
  },
  {
   "cell_type": "code",
   "execution_count": 14,
   "metadata": {
    "colab": {
     "base_uri": "https://localhost:8080/",
     "height": 480
    },
    "collapsed": false,
    "id": "91vM2wBI8m9x",
    "jupyter": {
     "outputs_hidden": false
    },
    "outputId": "bf26fc37-eb16-479b-de6d-d9031211bf0d"
   },
   "outputs": [],
   "source": [
    "df['year'] = df['date'].dt.year\n",
    "\n",
    "## Number of parties per year\n",
    "yearly_counts = df.groupby('year').size()\n",
    "\n",
    "plt.scatter(yearly_counts.index, yearly_counts.values)\n",
    "z = np.polyfit(yearly_counts.index, yearly_counts.values, 1)\n",
    "p = np.poly1d(z)\n",
    "plt.plot(yearly_counts.index, p(yearly_counts.index), \"r--\")\n",
    "\n",
    "plt.xlabel(\"Year\")\n",
    "plt.ylabel(\"Number of Parties\")\n",
    "plt.title(\"Trend of Parties from 2007 to 2014\")\n",
    "\n",
    "plt.show()\n"
   ]
  },
  {
   "cell_type": "markdown",
   "metadata": {
    "collapsed": false,
    "id": "TdCKxlIUdQl-",
    "jupyter": {
     "outputs_hidden": false
    }
   },
   "source": [
    "## Phase Two\n"
   ]
  },
  {
   "cell_type": "markdown",
   "metadata": {
    "collapsed": false,
    "id": "FD-kvAmsdQl-",
    "jupyter": {
     "outputs_hidden": false
    }
   },
   "source": [
    "In this phase, we concentrate on getting the names out of captions for a given page.  We'll start with [the benefit cocktails and dinner](https://web.archive.org/web/20150913224145/http://www.newyorksocialdiary.com/party-pictures/2015/celebrating-the-neighborhood) for [Lenox Hill Neighborhood House](http://www.lenoxhill.org/), a neighborhood organization for the East Side.\n",
    "\n",
    "Take a look at that page.  Note that some of the text on the page is captions, but others are descriptions of the event.  Determine how to select only the captions."
   ]
  },
  {
   "cell_type": "code",
   "execution_count": 9,
   "metadata": {
    "collapsed": false,
    "id": "ROB-Jk1xdQl-",
    "jupyter": {
     "outputs_hidden": false
    }
   },
   "outputs": [],
   "source": [
    "url = \"https://web.archive.org/web/20151114014941/http://www.newyorksocialdiary.com/party-pictures/2015/celebrating-the-neighborhood\"\n",
    "page = requests.get(url)\n",
    "soup = BeautifulSoup(page.text, \"lxml\")"
   ]
  },
  {
   "cell_type": "code",
   "execution_count": 10,
   "metadata": {
    "collapsed": false,
    "id": "3GxiYzT7_F-N",
    "jupyter": {
     "outputs_hidden": false
    }
   },
   "outputs": [],
   "source": [
    "captions = soup.select(\"div.photocaption\")"
   ]
  },
  {
   "cell_type": "markdown",
   "metadata": {
    "collapsed": false,
    "id": "n_RjKoX9dQl_",
    "jupyter": {
     "outputs_hidden": false
    }
   },
   "source": [
    "By our count, there are about 110.  But if you're off by a couple, you're probably okay."
   ]
  },
  {
   "cell_type": "code",
   "execution_count": 11,
   "metadata": {
    "colab": {
     "base_uri": "https://localhost:8080/"
    },
    "collapsed": false,
    "id": "GSbz31mudQl_",
    "jupyter": {
     "outputs_hidden": false
    },
    "outputId": "e9e7c9c5-5d54-4150-c94d-bd5564215175"
   },
   "outputs": [],
   "source": [
    "# These are for the specific party referenced in the text\n",
    "abs(len(captions) - 110) < 5"
   ]
  },
  {
   "cell_type": "markdown",
   "metadata": {
    "collapsed": false,
    "id": "DafrBmkzdQl_",
    "jupyter": {
     "outputs_hidden": false
    }
   },
   "source": [
    "Let's encapsulate this in a function.  As with the links pages, we want to avoid downloading a given page the next time we need to run the notebook.  While we could save the files by hand, as we did before, a checkpoint library like [ediblepickle](https://pypi.python.org/pypi/ediblepickle/1.1.3) can handle this for you.  (Note, though, that you may not want to enable this until you are sure that your function is working.)\n",
    "\n",
    "You should also keep in mind that HTTP requests fail occasionally, for transient reasons.  You should plan how to detect and react to these failures.   The [retrying module](https://pypi.python.org/pypi/retrying) is one way to deal with this."
   ]
  },
  {
   "cell_type": "code",
   "execution_count": 12,
   "metadata": {
    "collapsed": false,
    "id": "3OZtv5OmdQl_",
    "jupyter": {
     "outputs_hidden": false
    }
   },
   "outputs": [],
   "source": [
    "def get_captions(path):\n",
    "  url = f\"https://web.archive.org/{path}\"\n",
    "  page = requests.get(url)\n",
    "  soup = BeautifulSoup(page.text, \"lxml\")\n",
    "  return soup.select(\"div.photocaption\")"
   ]
  },
  {
   "cell_type": "markdown",
   "metadata": {
    "collapsed": false,
    "id": "t6_iwcFwdQl_",
    "jupyter": {
     "outputs_hidden": false
    }
   },
   "source": [
    "This should get the same captions as before."
   ]
  },
  {
   "cell_type": "code",
   "execution_count": 13,
   "metadata": {
    "colab": {
     "base_uri": "https://localhost:8080/"
    },
    "collapsed": false,
    "id": "eMS0xI5wdQmA",
    "jupyter": {
     "outputs_hidden": false
    },
    "outputId": "3443238c-f3c5-44aa-ee2a-7e86760e5213"
   },
   "outputs": [],
   "source": [
    "# This cell is expecting get_captions to return a list of the captions themselves\n",
    "# Other routes to a solution might need to adjust this cell a bit\n",
    "captions == get_captions(\"/web/20150913224145/http://www.newyorksocialdiary.com/party-pictures/2015/celebrating-the-neighborhood\")"
   ]
  },
  {
   "cell_type": "markdown",
   "metadata": {
    "collapsed": false,
    "id": "7mBXliqbdQmA",
    "jupyter": {
     "outputs_hidden": false
    }
   },
   "source": [
    "Now that we have some sample captions, let's start parsing names out of those captions.  There are many ways of going about this, and we leave the details up to you.  Some issues to consider:\n",
    "\n",
    "  1. Some captions are not useful: they contain long narrative texts that explain the event.  Try to find some heuristic rules to separate captions that are a list of names from those that are not.  A few heuristics include:\n",
    "    - look for sentences (which have verbs) and as opposed to lists of nouns. For example, [`nltk` does part of speech tagging](http://www.nltk.org/book/ch05.html) but it is a little slow. There may also be heuristics that accomplish the same thing.\n",
    "    - Similarly, spaCy's [entity recognition](https://spacy.io/docs/usage/entity-recognition) could be useful here.\n",
    "    - Look for commonly repeated threads (e.g. you might end up picking up the photo credits or people such as \"a friend\").\n",
    "    - Long captions are often not lists of people.  The cutoff is subjective, but for grading purposes, *set that cutoff at 250 characters*.\n",
    "  2. You will want to separate the captions based on various forms of punctuation.  Try using `re.split`, which is more sophisticated than `string.split`. **Note**: Use regex exclusively for name parsing.\n",
    "  3. This site is pretty formal and likes to say things like \"Mayor Michael Bloomberg\" after his election but \"Michael Bloomberg\" before his election.  Can you find other titles that are being used?  They should probably be filtered out because they ultimately refer to the same person: \"Michael Bloomberg.\"\n",
    "  4. There is a special case you might find where couples are written as eg. \"John and Mary Smith\". You will need to write some extra logic to make sure this properly parses to two names: \"John Smith\" and \"Mary Smith\".\n",
    "  5. When parsing names from captions, it can help to look at your output frequently and address the problems that you see coming up, iterating until you have a list that looks reasonable. Because we can only asymptotically approach perfect identification and entity matching, we have to stop somewhere.\n",
    "  \n",
    "**Questions worth considering:**\n",
    "  1. Who is Patrick McMullan and should he be included in the results? How would you address this?\n",
    "  2. What else could you do to improve the quality of the graph's information?"
   ]
  },
  {
   "cell_type": "code",
   "execution_count": 821,
   "metadata": {
    "colab": {
     "base_uri": "https://localhost:8080/"
    },
    "collapsed": false,
    "id": "fYliWF39_8vE",
    "jupyter": {
     "outputs_hidden": false
    },
    "outputId": "a6e35980-b860-4928-f08f-d67d73ee764d"
   },
   "outputs": [],
   "source": [
    "def split_married_couple(text):\n",
    "    groups = re.split(r',\\s*(and|with|&)\\s*', text)\n",
    "    names = []\n",
    "    for group in groups:\n",
    "        match = re.search(r'(.*) (?:and|with|&) (.*) (\\w+)', group)\n",
    "        if match and len(match.group(1).split()) == 1:  ### Only repair names if first name in pair is just first name\n",
    "            first_name1 = match.group(1)\n",
    "            first_name2 = match.group(2)\n",
    "            last_name = match.group(3)\n",
    "            names.extend([f\"{first_name1} {last_name}\", f\"{first_name2} {last_name}\"])\n",
    "        else:\n",
    "            names.append(group)\n",
    "    return \", \".join(names)"
   ]
  },
  {
   "cell_type": "code",
   "execution_count": 822,
   "metadata": {
    "colab": {
     "base_uri": "https://localhost:8080/"
    },
    "collapsed": false,
    "id": "fYliWF39_8vE",
    "jupyter": {
     "outputs_hidden": false
    },
    "outputId": "a6e35980-b860-4928-f08f-d67d73ee764d"
   },
   "outputs": [
    {
     "data": {
      "text/plain": [
       "'John Smith, Jane Smith'"
      ]
     },
     "execution_count": 822,
     "metadata": {},
     "output_type": "execute_result"
    }
   ],
   "source": [
    "test = \"John and Jane Smith\"\n",
    "split_married_couple(test) ### Should merge last names"
   ]
  },
  {
   "cell_type": "code",
   "execution_count": 823,
   "metadata": {
    "colab": {
     "base_uri": "https://localhost:8080/"
    },
    "collapsed": false,
    "id": "fYliWF39_8vE",
    "jupyter": {
     "outputs_hidden": false
    },
    "outputId": "a6e35980-b860-4928-f08f-d67d73ee764d"
   },
   "outputs": [
    {
     "data": {
      "text/plain": [
       "'Jean Shafiroff and Mary Mahoney'"
      ]
     },
     "execution_count": 823,
     "metadata": {},
     "output_type": "execute_result"
    }
   ],
   "source": [
    "test2 = \"Jean Shafiroff and Mary Mahoney\"\n",
    "split_married_couple(test2) ### Should not merge last names"
   ]
  },
  {
   "cell_type": "code",
   "execution_count": 857,
   "metadata": {},
   "outputs": [
    {
     "data": {
      "text/plain": [
       "'Tim and Andrea Collins with Hondi Brasco '"
      ]
     },
     "execution_count": 857,
     "metadata": {},
     "output_type": "execute_result"
    }
   ],
   "source": [
    "test3 = \"Tim and Andrea Collins with Hondi Brasco \"\n",
    "split_married_couple(test3) ### Doesn't work"
   ]
  },
  {
   "cell_type": "code",
   "execution_count": 853,
   "metadata": {
    "colab": {
     "base_uri": "https://localhost:8080/"
    },
    "collapsed": false,
    "editable": true,
    "id": "fYliWF39_8vE",
    "jupyter": {
     "outputs_hidden": false
    },
    "outputId": "a6e35980-b860-4928-f08f-d67d73ee764d",
    "slideshow": {
     "slide_type": ""
    },
    "tags": []
   },
   "outputs": [],
   "source": [
    "def remove_blacklisted_words(text):\n",
    "    ### Pre-processing cleaning.  Remove blacklisted words that pass through spaCy filter\n",
    "    text = re.sub(r\"Frick Director\", \"\", text)\n",
    "    text = re.sub(r\"Chair(wo)?m(e|a)n\", \"\", text)\n",
    "    text = re.sub(r\"CFO\", \"\", text)\n",
    "    text = re.sub(r\"CEO\", \"\", text)\n",
    "    text = re.sub(r\"COO\", \"\", text)\n",
    "    text = re.sub(r\"Mayor\\s+\", \"\", text)\n",
    "    text = re.sub(r\"Board\", \"\", text)\n",
    "    text = re.sub(r\"Honoree\", \"\", text)\n",
    "    text = re.sub(r\"Dr\\.*\", \"\", text)\n",
    "    text = re.sub(r\"Jr\\.*\", \"\", text)\n",
    "    text = re.sub(r\"Esq\\.*\", \"\", text)\n",
    "    text = re.sub(r\"M\\.*D\\.*\", \"\", text)\n",
    "    text = re.sub(r\"PhD\\.*\", \"\", text)\n",
    "    text = re.sub(r\"PsyD\\.*\", \"\", text)\n",
    "    text = re.sub(r\"Benefit\\s+\", \"\", text)\n",
    "    text = re.sub(r\"Artist\\s+\", \"\", text)\n",
    "    text = re.sub(r\"Composer\\s+\", \"\", text)\n",
    "    text = re.sub(r\"Chair[s]?\\s+\", \"\", text)\n",
    "    text = re.sub(r\"[Tt]he\\s+\", \"\", text)\n",
    "    text = re.sub(r\"Actor\\s+\", \"\", text)\n",
    "    text = re.sub(r\"Actress\\s+\", \"\", text)\n",
    "    text = re.sub(r\"President\\s+\", \"\", text)\n",
    "    text = re.sub(r\"Senator\\s+\", \"\", text)\n",
    "    text = re.sub(r\"wife\\s+\", \"\", text)\n",
    "    text = re.sub(r\"Co-[C|c]hair[s]?\\s+\", \"\", text)\n",
    "    text = re.sub(r\"Father\\s+\", \"\", text)\n",
    "    text = re.sub(r\"Colonel\\s+\", \"\", text)\n",
    "    text = re.sub(r\"Commissioner\\s+\", \"\", text)\n",
    "    text = re.sub(r\"Committee\\s+\", \"\", text)\n",
    "    text = re.sub(r\"Writer(s)?\\s+\", \"\", text)\n",
    "    text = re.sub(r\"Congress(wo)?man\\s+\", \"\", text)\n",
    "    text = re.sub(r\"Executive Director\\s+\", \"\", text)\n",
    "    text = re.sub(r\"NewYork-Presbyterian\\s+\", \"\", text)\n",
    "    text = re.sub(r\"\\d+\", \"\", text)\n",
    "    text = re.sub(r\"\\.\", \"\", text)\n",
    "    text = re.sub(r\"\\(.*\\)\", \"\", text)\n",
    "    text = re.sub(r\":\", \"\", text)\n",
    "\n",
    "    return text"
   ]
  },
  {
   "cell_type": "code",
   "execution_count": 854,
   "metadata": {
    "colab": {
     "base_uri": "https://localhost:8080/"
    },
    "collapsed": false,
    "id": "fYliWF39_8vE",
    "jupyter": {
     "outputs_hidden": false
    },
    "outputId": "a6e35980-b860-4928-f08f-d67d73ee764d"
   },
   "outputs": [],
   "source": [
    "def pre_clean_name(name):\n",
    "    name = str(name)\n",
    "    name = re.sub(r\"'s$\", \"\", name)    ### remove trailing 's\n",
    "    name = re.sub(r\"\\s+\", \" \", name)  ### replace sequences of multiple whitespaces with a single space char\n",
    "    \n",
    "    name = name.strip(\"/\")\n",
    "    name = name.strip(\"'\")\n",
    "    name = name.strip()\n",
    "    \n",
    "    return name"
   ]
  },
  {
   "cell_type": "code",
   "execution_count": 855,
   "metadata": {
    "collapsed": false,
    "editable": true,
    "jupyter": {
     "outputs_hidden": false
    },
    "slideshow": {
     "slide_type": ""
    },
    "tags": []
   },
   "outputs": [],
   "source": [
    "def post_clean_name(caption):\n",
    "    name_re = r\"((?:[A-Z]{1}\\S*[a-z]*\\s+)(?:[A-Z]{1,2}\\s+|[a-z]+\\s+)?(?:[A-Z]{1}\\S*[a-z]*\\s+)?(?:[A-Z]{1}\\S*[a-z]+))\"\n",
    "    \n",
    "    new_caption = []\n",
    "    for item in caption:\n",
    "        if (item not in [\",\", \"and\", \"with\", '', ' '] and\n",
    "            len(item.split()) < 4 and ### Things over 3 words are probably not names\n",
    "            len(item.split()) > 1):   ### 1 word things are probably not identifiable names\n",
    "            search =  re.search(name_re, item)\n",
    "            if search:\n",
    "                name = search.group(1)\n",
    "                new_caption.append(name)\n",
    "\n",
    "    return new_caption"
   ]
  },
  {
   "cell_type": "code",
   "execution_count": 856,
   "metadata": {
    "collapsed": false,
    "jupyter": {
     "outputs_hidden": false
    }
   },
   "outputs": [],
   "source": [
    "def extract_names_re(caption):\n",
    "    caption = remove_blacklisted_words(caption)\n",
    "    caption = split_married_couple(caption)\n",
    "    caption = pre_clean_name(caption)\n",
    "\n",
    "    caption = re.split(r\"\\s*(,|and|with|&)+\\s+\", caption)\n",
    "\n",
    "    caption = post_clean_name(caption)\n",
    "    \n",
    "    return caption"
   ]
  },
  {
   "cell_type": "code",
   "execution_count": 852,
   "metadata": {
    "collapsed": false,
    "editable": true,
    "jupyter": {
     "outputs_hidden": false
    },
    "scrolled": true,
    "slideshow": {
     "slide_type": ""
    },
    "tags": []
   },
   "outputs": [
    {
     "data": {
      "text/plain": [
       "[[],\n",
       " [],\n",
       " ['Gretchen Dow Simpson', 'James Baird', 'Tina Howe'],\n",
       " ['Genevieve Mathis', 'Ed Sherin', 'Tony Sherin'],\n",
       " ['Robert MacNeil'],\n",
       " ['Joel Sanders',\n",
       "  'Paul Gunther',\n",
       "  'Honorary Martin Puryear',\n",
       "  'Pamela Joyner',\n",
       "  'Rick Stone'],\n",
       " ['Ed Sherin', 'Jane Alexander', 'Jace Alexander', 'Maddie Corman'],\n",
       " ['Steve Reich', 'Beryl Korot'],\n",
       " ['Stewart Wallace', 'Rick Moody'],\n",
       " ['MacDowell Robert MacNeil', 'Jane Alexander', 'James Earl Jones'],\n",
       " ['Cheryl Young', 'Nicky Dawidoff'],\n",
       " ['Anne Jackson', 'Eli Wallach'],\n",
       " ['Genevieve Mathis', 'Tony Sherin'],\n",
       " ['Jane Alexander', 'Thomas Putnam'],\n",
       " ['Amitav Ghosh', 'Deborah Baker'],\n",
       " ['Eileen Wiseman', 'William Banks', 'Ann Cox Chambers', 'Stephanie Olmsted'],\n",
       " ['Lynn Waterston', 'Sam Waterston'],\n",
       " ['Jace Alexander', 'Maddie Corman'],\n",
       " ['Gretchen Dow Simpson', 'Tina Howe', 'Jane Alexander'],\n",
       " ['Paul LeClerc', 'Emerita Helen Tucker'],\n",
       " ['Jane Dickson', 'Brandon Fradd'],\n",
       " ['Bob Olmsted', 'Stephanie Olmsted'],\n",
       " ['Coddy Granum', 'James Earl Jones'],\n",
       " ['Helen Tucker', 'Lewis Cullman'],\n",
       " ['MacDowell Carter Wiseman', 'Cheryl Young'],\n",
       " ['Tina Howe', 'Jane Alexander', 'Sam Waterston'],\n",
       " ['Beryl Korot', 'Steve Reich'],\n",
       " ['Tania Leon'],\n",
       " ['Robert MacNeil', 'Donna MacNeil'],\n",
       " [],\n",
       " [\"Yale Baker's Dozen\"],\n",
       " ['Camille Kelleher', 'Min Min Schaffner', 'Christopher Hyl'],\n",
       " [\"George D'Angelo\", 'Brenda Barak'],\n",
       " ['Constantino Castellano', 'Seth Pariser'],\n",
       " ['Lorenzo Carcaterra', 'Susan Toepfer'],\n",
       " ['Francis Gasparik', 'Joe Sano', 'Christopher Hyl', \"Yale Baker's Dozen\"],\n",
       " ['Hendersons Hyl', 'Christopher Hyland'],\n",
       " ['Mr Raiola', 'Jared Flynn'],\n",
       " ['Andy Presti', 'Eilen Presti'],\n",
       " ['Jana Milo', 'Louis Milo'],\n",
       " ['Jane Pflug', 'Scott Salvatore', 'Tyler Tinsworth'],\n",
       " ['John Maguire'],\n",
       " ['Georgia Gogel', 'Christopher Hyl', 'Cassandra Hyland'],\n",
       " ['Seth Pariser', 'Mr Gary Knapp'],\n",
       " ['Rory Kelleher', 'Camille Kelleher'],\n",
       " ['Leif Arntzen', 'Kathy Arntzen'],\n",
       " ['William Diamond', 'Kathy Pardoe Irwin', 'Christopher Hyl', 'Mr Baratta'],\n",
       " ['Helga Hodosh', 'Richard Hodosh'],\n",
       " ['Helga Hodosh', 'Anna Galtarossa'],\n",
       " ['Georgia Gogel'],\n",
       " ['Emanuel Sharp', 'Dorothy Palmer'],\n",
       " ['Mr Ewing'],\n",
       " ['Andrew Weiss', 'Linda Berkeley'],\n",
       " [],\n",
       " [\"George D'Angelo\", 'Christopher Hyl'],\n",
       " ['Alana Henderson'],\n",
       " ['Kathy Pardoe Irwin', 'Constantino Castellano'],\n",
       " ['Carol Sano',\n",
       "  'Thomas Gambino Sr',\n",
       "  'Francis Gasparik',\n",
       "  'Frances Gambino',\n",
       "  'Louis Milo',\n",
       "  'Joseph Sano',\n",
       "  'Jana Milo',\n",
       "  'Eilen Presti'],\n",
       " ['Joana Steichen', 'Irene Neves'],\n",
       " ['Pat Bass', 'Fred Bass'],\n",
       " ['Mrs Sogoloff', 'Mr Capriccio'],\n",
       " ['Dave Oesterheld', 'Barbara Sieg', 'Min Min Schaffner'],\n",
       " ['Susan Solomon', 'Harold Koplewicz'],\n",
       " ['Linda Sirow', 'Wood Heller'],\n",
       " ['Marcia Mishaan', 'Linda Sirow'],\n",
       " ['Stuart Match-Suna', 'Beth Gordon'],\n",
       " ['Alex Usi'],\n",
       " ['Stanley Rosenberg'],\n",
       " ['Joan Lazarus', 'Rachel Klein'],\n",
       " ['Harold Koplewicz', 'Molly Jong-Fast'],\n",
       " ['Ann Keating', 'Linda Sirow'],\n",
       " ['Alexandra Trullols',\n",
       "  'Jane Bloomingdale',\n",
       "  'Andrea Gutierrez',\n",
       "  'Henrique Cisneros',\n",
       "  'Jose Agria Trulliols'],\n",
       " ['Alejandro Santo Domingo'],\n",
       " ['Yaz Hernandez'],\n",
       " ['Carlos Picon', 'Jose Solis Betancourt', 'Andrew Kepler'],\n",
       " ['Claudia Cisneros',\n",
       "  'Katerina Thermiotis',\n",
       "  'Martin Rozenblum',\n",
       "  'Katie von Strasser'],\n",
       " ['Mark Mullet', 'Fabiola Beracasa', 'Kevin Ulrich'],\n",
       " ['Yayi Santandreu', 'Corina Balbontin', 'Irene Zingg', 'Katerina Thermiotis'],\n",
       " ['Sonia Braga'],\n",
       " ['Amy Sacco', 'Mario Testino'],\n",
       " ['Narciso Rodriguez', 'Margherita Misoni', 'Sonia Braga', 'Lily Donaldson'],\n",
       " ['Alexandra Trullols', 'Regina Haymes', 'Karen Larrain', 'Lily Maddock'],\n",
       " ['Maria Eugenia', 'Ambassador Ricardo Arias'],\n",
       " ['Jesus Aguais', 'Fabiola Beracasa', 'Alejandro Pompei', 'Maria Eugenia'],\n",
       " ['Karina Correa Maury', 'Mario Testino', 'Maria Eugenia'],\n",
       " []]"
      ]
     },
     "execution_count": 852,
     "metadata": {},
     "output_type": "execute_result"
    }
   ],
   "source": [
    "### Test name extraction on sample captions\n",
    "[extract_names_re(caption.text) for caption in captions]"
   ]
  },
  {
   "cell_type": "markdown",
   "metadata": {
    "collapsed": false,
    "id": "64aBJD93dQmA",
    "jupyter": {
     "outputs_hidden": false
    }
   },
   "source": [
    "Once you feel that your algorithm is working well on these captions, parse all of the captions and extract all the names mentioned.  "
   ]
  },
  {
   "cell_type": "markdown",
   "metadata": {
    "collapsed": false,
    "id": "QgElWndsdQmA",
    "jupyter": {
     "outputs_hidden": false
    }
   },
   "source": [
    "Now, run this sort of test on a few other pages.  You will probably find that other pages have a slightly different HTML structure, as well as new captions that trip up your caption parser.  But don't worry if the parser isn't perfect -- just try to get the easy cases."
   ]
  },
  {
   "cell_type": "markdown",
   "metadata": {
    "collapsed": false,
    "id": "DH549Y3pdQmA",
    "jupyter": {
     "outputs_hidden": false
    }
   },
   "source": [
    "Once you are satisfied that your caption scraper and parser are working, run this for all of the pages.  If you haven't implemented some caching of the captions, you probably want to do this first.\n"
   ]
  },
  {
   "cell_type": "code",
   "execution_count": 73,
   "metadata": {},
   "outputs": [],
   "source": [
    "## make txt file containing all urls to scrape\n",
    "with open(\"links.txt\", \"w\") as f:\n",
    "    for link in link_list:\n",
    "        f.writelines(f\"https://web.archive.org{link[0]}\\n\")"
   ]
  },
  {
   "cell_type": "markdown",
   "metadata": {},
   "source": [
    "We use GNU `Wget` to scrape the NYSD archive, because when python `requests` was used, the NYSD server would eventually throttle requests, making the scraping take an exceptionally long amount of time.  Scraping all parties in link_list takes about 20 minutes with this method."
   ]
  },
  {
   "cell_type": "code",
   "execution_count": 28,
   "metadata": {
    "collapsed": false,
    "editable": true,
    "jupyter": {
     "outputs_hidden": false
    },
    "slideshow": {
     "slide_type": ""
    },
    "tags": []
   },
   "outputs": [],
   "source": [
    "#import subprocess\n",
    "#subprocess.run([\"wget\", \"-i\", \"links.txt\", \"--random-wait\", \"-P\", \"nysd\"])"
   ]
  },
  {
   "cell_type": "markdown",
   "metadata": {
    "collapsed": false,
    "id": "rB_b-H-8dQmB",
    "jupyter": {
     "outputs_hidden": false
    }
   },
   "source": [
    "## Phase 3: Graph Analysis"
   ]
  },
  {
   "cell_type": "markdown",
   "metadata": {
    "collapsed": false,
    "id": "OaEwFF4ndQmB",
    "jupyter": {
     "outputs_hidden": false
    }
   },
   "source": [
    "For the remaining analysis, we think of the problem in terms of a\n",
    "[network](http://en.wikipedia.org/wiki/Computer_network) or a\n",
    "[graph](https://en.wikipedia.org/wiki/Graph_%28discrete_mathematics%29).  Any time a pair of people appear in a photo together, that is considered a link.  It is an example of  an **undirected weighted graph**. We recommend using python's [`networkx`](https://networkx.github.io/) library."
   ]
  },
  {
   "cell_type": "markdown",
   "metadata": {
    "collapsed": false,
    "id": "SdMTym8QdQmB",
    "jupyter": {
     "outputs_hidden": false
    }
   },
   "source": [
    "All in all, you should end up with over 100,000 captions and more than 110,000 names, connected in about 200,000 pairs."
   ]
  },
  {
   "cell_type": "code",
   "execution_count": 693,
   "metadata": {
    "collapsed": false,
    "jupyter": {
     "outputs_hidden": false
    }
   },
   "outputs": [],
   "source": [
    "def get_captions_file(webpage):\n",
    "  soup = BeautifulSoup(webpage, \"lxml\")\n",
    "  return soup.select(\"div.photocaption\")\n",
    "\n",
    "all_captions = []\n",
    "for file in glob.glob(\"./nysd/*\"):\n",
    "    with open(file, \"r\", encoding='utf-8', errors='ignore') as f:\n",
    "        webpage = f.read()\n",
    "        captions = get_captions_file(webpage)\n",
    "        all_captions.extend(captions)"
   ]
  },
  {
   "cell_type": "code",
   "execution_count": 694,
   "metadata": {
    "collapsed": false,
    "jupyter": {
     "outputs_hidden": false
    }
   },
   "outputs": [
    {
     "data": {
      "text/plain": [
       "71316"
      ]
     },
     "execution_count": 694,
     "metadata": {},
     "output_type": "execute_result"
    }
   ],
   "source": [
    "len(all_captions)"
   ]
  },
  {
   "cell_type": "code",
   "execution_count": 695,
   "metadata": {
    "collapsed": false,
    "jupyter": {
     "outputs_hidden": false
    }
   },
   "outputs": [
    {
     "data": {
      "text/plain": [
       "71316"
      ]
     },
     "execution_count": 695,
     "metadata": {},
     "output_type": "execute_result"
    }
   ],
   "source": [
    "cleaned_captions_re = [extract_names_re(caption.text) for caption in all_captions]\n",
    "\n",
    "len(cleaned_captions_re)"
   ]
  },
  {
   "cell_type": "code",
   "execution_count": 696,
   "metadata": {
    "collapsed": false,
    "jupyter": {
     "outputs_hidden": false
    }
   },
   "outputs": [
    {
     "data": {
      "text/plain": [
       "71745"
      ]
     },
     "execution_count": 696,
     "metadata": {},
     "output_type": "execute_result"
    }
   ],
   "source": [
    "unique_names = set([name for names in cleaned_captions_re for name in names])\n",
    "\n",
    "len(unique_names)"
   ]
  },
  {
   "cell_type": "code",
   "execution_count": 697,
   "metadata": {
    "collapsed": false,
    "jupyter": {
     "outputs_hidden": false
    }
   },
   "outputs": [],
   "source": [
    "with open(\"names_Re.txt\", \"w\") as f:\n",
    "    f.writelines([f\"{str(name)}\\n\" for name in sorted(list(unique_names))])"
   ]
  },
  {
   "cell_type": "markdown",
   "metadata": {
    "collapsed": false,
    "editable": true,
    "id": "W4U6DsKDdQmB",
    "jupyter": {
     "outputs_hidden": false
    },
    "slideshow": {
     "slide_type": ""
    },
    "tags": []
   },
   "source": [
    "## Question 3: Graph EDA (20 p)\n"
   ]
  },
  {
   "cell_type": "markdown",
   "metadata": {
    "collapsed": false,
    "id": "-V5rO16rdQmB",
    "jupyter": {
     "outputs_hidden": false
    }
   },
   "source": [
    "- Use parsed names to create the undirected weighted network and visualize it (5 p)\n",
    "- Report the number of nodes and edges (5 p)\n",
    "- What is the diameter of this graph? (5 p)\n",
    "- What is the average clustering coeff of the graph? How you interpret this number? (5 p)"
   ]
  },
  {
   "cell_type": "code",
   "execution_count": 698,
   "metadata": {
    "collapsed": false,
    "jupyter": {
     "outputs_hidden": false
    }
   },
   "outputs": [],
   "source": [
    "G = nx.Graph()\n",
    "for caption in cleaned_captions_re:\n",
    "    pairs = itertools.combinations(caption, 2)\n",
    "    for pair in pairs:\n",
    "        first_person = pair[0]\n",
    "        second_person = pair[1]\n",
    "        if G.has_edge(first_person, second_person):\n",
    "            G[first_person][second_person]['weight'] += 1\n",
    "        else:\n",
    "            G.add_edge(first_person, second_person, weight = 1)\n",
    "\n",
    "degrees = sorted(G.degree(weight = \"weight\"), key = lambda x: (-x[1]))"
   ]
  },
  {
   "cell_type": "code",
   "execution_count": 699,
   "metadata": {
    "collapsed": false,
    "jupyter": {
     "outputs_hidden": false
    },
    "scrolled": true
   },
   "outputs": [
    {
     "data": {
      "text/plain": [
       "[('Jean Shafiroff', 462),\n",
       " ('Mark Gilbertson', 355),\n",
       " ('Gillian Miniter', 348),\n",
       " ('Alexandra Lebenthal', 299),\n",
       " ('Geoffrey Bradfield', 257),\n",
       " ('Kamie Lightburn', 210),\n",
       " ('Somers Farkas', 208),\n",
       " ('Eleanora Kennedy', 202),\n",
       " ('Yaz Hernandez', 198),\n",
       " ('Andrew Saffir', 197),\n",
       " ('Debbie Bancroft', 196),\n",
       " ('Alina Cho', 180),\n",
       " ('Lydia Fenet', 180),\n",
       " ('Jamee Gregory', 177),\n",
       " ('Allison Aston', 167),\n",
       " ('Muffie Potter Aston', 158),\n",
       " ('Mario Buatta', 157),\n",
       " ('Bonnie Comley', 156),\n",
       " ('Lucia Hwong Gordon', 155),\n",
       " ('Sharon Bush', 153),\n",
       " ('Patrick McMullan', 150),\n",
       " ('Deborah Norville', 150),\n",
       " ('Karen LeFrak', 145),\n",
       " ('Liz Peek', 141),\n",
       " ('Martha Stewart', 135),\n",
       " ('Bettina Zilkha', 134),\n",
       " ('Grace Meigher', 133),\n",
       " ('Barbara Tober', 132),\n",
       " ('Audrey Gruss', 131),\n",
       " ('Stewart Lane', 131),\n",
       " ('Rosanna Scotto', 129),\n",
       " ('Jennifer Creel', 128),\n",
       " ('Martha Glass', 128),\n",
       " ('Diana Taylor', 123),\n",
       " ('Alexandra Lind Rose', 122),\n",
       " ('Michael Bloomberg', 122),\n",
       " ('Nicole Miller', 121),\n",
       " ('Roric Tobin', 121),\n",
       " ('Fe Fendi', 121),\n",
       " ('Daniel Benedict', 119),\n",
       " ('Nathalie Kaplan', 119),\n",
       " ('Kipton Cronkite', 118),\n",
       " ('Adelina Wong Ettelson', 117),\n",
       " ('Karen Klopp', 116),\n",
       " ('Janna Bullock', 115),\n",
       " ('Barbara Regna', 114),\n",
       " ('Leonard Lauder', 114),\n",
       " ('Amy Fine Collins', 113),\n",
       " ('Margaret Russell', 113),\n",
       " ('Lisa Anastos', 111),\n",
       " ('Clare McKeon', 111),\n",
       " ('Dennis Basso', 110),\n",
       " ('Julia Koch', 110),\n",
       " ('Margo Langenberg', 109),\n",
       " ('R Couri Hay', 109),\n",
       " ('Elizabeth Stribling', 109),\n",
       " ('Gregory Long', 109),\n",
       " ('Sylvester Miniter', 108),\n",
       " ('Hilary Geary Ross', 105),\n",
       " ('Alexia Hamm Ryan', 103),\n",
       " ('CeCe Black', 103),\n",
       " ('Michele Herbert', 102),\n",
       " ('Wendy Carduner', 101),\n",
       " ('Coco Kopelman', 100),\n",
       " ('Stephanie Winston Wolkoff', 99),\n",
       " ('Dawne Marie Grannum', 99),\n",
       " ('Fern Mallis', 99),\n",
       " ('Wilbur Ross', 98),\n",
       " ('Margo Catsimatidis', 97),\n",
       " ('Amy Hoadley', 97),\n",
       " ('John Catsimatidis', 96),\n",
       " ('Deborah Roberts', 96),\n",
       " ('Kelly Rutherford', 96),\n",
       " ('Alec Baldwin', 95),\n",
       " ('Russell Simmons', 94),\n",
       " ('Diana DiMenna', 94),\n",
       " ('Gerald Loughlin', 93),\n",
       " ('Evelyn Lauder', 93),\n",
       " ('Coralie Charriol Paul', 93),\n",
       " ('Michele Gerber Klein', 92),\n",
       " ('Felicia Taylor', 92),\n",
       " ('Pamela Fiori', 91),\n",
       " ('Frederick Anderson', 90),\n",
       " ('Susan Shin', 90),\n",
       " ('Donna Hanover', 89),\n",
       " ('Chris Meigher', 89),\n",
       " ('Fernanda Kellogg', 89),\n",
       " ('Richard Johnson', 89),\n",
       " ('Liliana Cavendish', 88),\n",
       " ('Carmen Dubroc', 88),\n",
       " ('Mary Davidson', 88),\n",
       " ('Tinsley Mortimer', 87),\n",
       " ('Georgina Schaeffer', 87),\n",
       " ('Olivia Chantecaille', 87),\n",
       " ('Melanie Holl', 86),\n",
       " ('Jonathan Farkas', 85),\n",
       " ('Lizzie Tisch', 85),\n",
       " ('Hunt Slonem', 85),\n",
       " ('Suzanne Cochran', 85),\n",
       " ('Allison Mignone', 85)]"
      ]
     },
     "execution_count": 699,
     "metadata": {},
     "output_type": "execute_result"
    }
   ],
   "source": [
    "### 100 Highest Degree nodes\n",
    "degrees[:100]"
   ]
  },
  {
   "cell_type": "code",
   "execution_count": 700,
   "metadata": {
    "collapsed": false,
    "editable": true,
    "jupyter": {
     "outputs_hidden": false
    },
    "scrolled": true,
    "slideshow": {
     "slide_type": ""
    },
    "tags": []
   },
   "outputs": [
    {
     "data": {
      "text/plain": [
       "[('Alfred Merrin', 1),\n",
       " ('Maria Muzio', 1),\n",
       " ('Gaetano Muzio', 1),\n",
       " ('Stephen Krieger', 1),\n",
       " ('Nada Gligorov', 1),\n",
       " ('James Sved', 1),\n",
       " ('Sonika Nanda', 1),\n",
       " ('Verne Chaney', 1),\n",
       " ('Johan Reinhard', 1),\n",
       " ('Nanci Schallman', 1),\n",
       " ('Dick DeScherer', 1),\n",
       " ('Anna Baryshnikov', 1),\n",
       " ('Sofia Baryshnikov', 1),\n",
       " ('Claire Porter', 1),\n",
       " ('Karl Dittebrandt', 1),\n",
       " ('Susan Sugar', 1),\n",
       " ('Jamil Simon', 1),\n",
       " ('Fredericka Hunter', 1),\n",
       " ('James Lapierre', 1),\n",
       " ('Maria Lapierre', 1),\n",
       " ('Ellen Moul', 1),\n",
       " ('Gaetano Barile', 1),\n",
       " ('Haroldine Freireich', 1),\n",
       " ('David Bradford', 1),\n",
       " ('Jerome Shestack', 1),\n",
       " ('Ruth Hershey Lincoln', 1),\n",
       " ('Francisco J Núñez', 1),\n",
       " ('Adam Chin', 1),\n",
       " ('Dave Price', 1),\n",
       " ('Bruce Bernstein', 1),\n",
       " ('Brett Garfinkel', 1),\n",
       " ('Tierney Model', 1),\n",
       " ('Robert Greebel', 1),\n",
       " ('Dahlia Loeb', 1),\n",
       " ('Todd Hirsch', 1),\n",
       " ('Anna Klein', 1),\n",
       " ('Robert Lopez', 1),\n",
       " ('Kristen Anderson Lopez', 1),\n",
       " ('Wendy C Goldberg', 1),\n",
       " ('Nilo Cruz', 1),\n",
       " ('Penny Fuller', 1),\n",
       " ('Tom Viertel', 1),\n",
       " ('Patricia Daily', 1),\n",
       " ('Steve Bakunas', 1),\n",
       " ('John Cudia', 1),\n",
       " ('Kathy Voytko', 1),\n",
       " ('Chad Herzog', 1),\n",
       " ('Nell Yperifanos', 1),\n",
       " ('Mark McFadden', 1),\n",
       " ('Joseph Chin', 1),\n",
       " ('Sean Meehan', 1),\n",
       " ('Jody Hilton', 1),\n",
       " ('Jack O’Neil', 1),\n",
       " ('Ninotchka Manus', 1),\n",
       " ('Elaine Edwards', 1),\n",
       " ('Trish Donnelley', 1),\n",
       " ('Suelyn Farel', 1),\n",
       " ('Mary Meehan', 1),\n",
       " ('Suzanne von Liebig', 1),\n",
       " ('Anne Cooling', 1),\n",
       " ('Norman Brown', 1),\n",
       " (\"Jack O'Neil\", 1),\n",
       " ('Stewart Wallace', 1),\n",
       " ('Writer Rick Moody', 1),\n",
       " ('Nicky Dawidoff', 1),\n",
       " ('Thomas Putnam', 1),\n",
       " ('Writers Amitav Ghosh', 1),\n",
       " ('Deborah Baker', 1),\n",
       " ('Emerita Helen Tucker', 1),\n",
       " ('Artist Jane Dickson', 1),\n",
       " ('Bob Olmsted', 1),\n",
       " ('Coddy Granum', 1),\n",
       " ('MacDowell Carter Wiseman', 1),\n",
       " ('Donna MacNeil', 1),\n",
       " ('Brenda Barak', 1),\n",
       " ('Lorenzo Carcaterra', 1),\n",
       " ('Susan Toepfer', 1),\n",
       " ('The Hendersons', 1),\n",
       " ('Mr Raiola', 1),\n",
       " ('Jared Flynn', 1),\n",
       " ('Andy Presti', 1),\n",
       " ('Mr Gary Knapp', 1),\n",
       " ('Rory Kelleher', 1),\n",
       " ('Leif Arntzen', 1),\n",
       " ('Kathy Arntzen', 1),\n",
       " ('Anna Galtarossa', 1),\n",
       " ('Emanuel Sharp', 1),\n",
       " ('Dorothy Palmer', 1),\n",
       " ('Andrew Weiss', 1),\n",
       " ('Linda Berkeley', 1),\n",
       " ('Joana Steichen', 1),\n",
       " ('Irene Neves', 1),\n",
       " ('Pat Bass', 1),\n",
       " ('Fred Bass', 1),\n",
       " ('Mrs Sogoloff', 1),\n",
       " ('Mr Capriccio', 1),\n",
       " ('Wood Heller', 1),\n",
       " ('Stuart Match-Suna', 1),\n",
       " ('Rachel Klein', 1),\n",
       " ('Molly Jong-Fast', 1)]"
      ]
     },
     "execution_count": 700,
     "metadata": {},
     "output_type": "execute_result"
    }
   ],
   "source": [
    "#### 100 Lowest degree nodes\n",
    "degrees[-100:]"
   ]
  },
  {
   "cell_type": "code",
   "execution_count": 701,
   "metadata": {
    "collapsed": false,
    "jupyter": {
     "outputs_hidden": false
    }
   },
   "outputs": [
    {
     "data": {
      "text/plain": [
       "66755"
      ]
     },
     "execution_count": 701,
     "metadata": {},
     "output_type": "execute_result"
    }
   ],
   "source": [
    "len(G.nodes)"
   ]
  },
  {
   "cell_type": "code",
   "execution_count": 702,
   "metadata": {
    "collapsed": false,
    "jupyter": {
     "outputs_hidden": false
    }
   },
   "outputs": [
    {
     "data": {
      "text/plain": [
       "117228"
      ]
     },
     "execution_count": 702,
     "metadata": {},
     "output_type": "execute_result"
    }
   ],
   "source": [
    "len(G.edges)"
   ]
  },
  {
   "cell_type": "code",
   "execution_count": 703,
   "metadata": {
    "collapsed": false,
    "jupyter": {
     "outputs_hidden": false
    },
    "scrolled": true
   },
   "outputs": [
    {
     "data": {
      "text/plain": [
       "{'Imelda Nicolas',\n",
       " 'Bobby Steinsdorfer',\n",
       " 'Lydia Carlston',\n",
       " 'Susan Zises-Green',\n",
       " 'Miranda Bass',\n",
       " 'Delfina Frers',\n",
       " 'Barbara Duvowski',\n",
       " 'Serena Nikkah',\n",
       " 'Reshma Saujani',\n",
       " 'Erica Figueroa',\n",
       " 'April Benasich',\n",
       " 'Jack Huston',\n",
       " 'Jennifer Lim',\n",
       " 'Jimmie Holl',\n",
       " 'Avery Toland',\n",
       " 'Delphine Figueras',\n",
       " 'Bob Garvy',\n",
       " 'Ryan Stewart',\n",
       " 'Eri Stern',\n",
       " 'Gilbert Kinney',\n",
       " 'Jacquie Garrett',\n",
       " 'Daniel Meyer',\n",
       " 'David Valger',\n",
       " 'David Redden',\n",
       " 'Elizabeth Hendrickson',\n",
       " 'Gordon Kaplan',\n",
       " 'Leighton Candler',\n",
       " 'Mariah Kennedy Cuomo',\n",
       " 'Jai Phillips',\n",
       " 'Michelle Clayman',\n",
       " 'Carrie Glassman',\n",
       " 'Jennifer Led',\n",
       " 'Sarah Horton',\n",
       " 'Michelle Suna',\n",
       " 'Thomas J Lynch',\n",
       " 'Eleanore Roper',\n",
       " 'Jeffrey J Feil',\n",
       " 'Heather Thomson',\n",
       " 'Nancy Becker',\n",
       " 'Sarah Weeks',\n",
       " 'Judia Black',\n",
       " 'Louis Oliver Gropp',\n",
       " 'Marcia Riklis',\n",
       " 'Melody Moore',\n",
       " 'Rick Miramontez',\n",
       " 'Ron Finley',\n",
       " 'Vartan Gregorian',\n",
       " 'Karl Krieter',\n",
       " 'Mary McBride',\n",
       " 'Linda Vogel',\n",
       " 'Monica Botkier',\n",
       " 'Richard Jamkowski',\n",
       " 'Renee Domingo',\n",
       " 'Luz Allende',\n",
       " 'Gaby Basora',\n",
       " 'Cynthia Lufkin',\n",
       " 'Tielman Van Vleck',\n",
       " 'Steve Shane',\n",
       " 'Pat Doherty',\n",
       " 'Bob Appel',\n",
       " 'Deborah Clayman',\n",
       " 'Michael Solomon',\n",
       " 'William Rudin',\n",
       " 'Andrew Tobias',\n",
       " 'Victoria Barabas',\n",
       " 'Emma McCormick-Goodheart',\n",
       " 'Louise Duncan',\n",
       " 'Rena Barsanti',\n",
       " 'Patrick Herning',\n",
       " 'Phyllis Mills',\n",
       " 'Gala Co-Mercedes Bass',\n",
       " 'Ritchie Scaife',\n",
       " 'Vivian Cardia',\n",
       " 'Hedi Ferjani',\n",
       " 'Cory Slovik',\n",
       " 'Scott Kauffman',\n",
       " 'Inger Stringfellow',\n",
       " 'Donna Shalek',\n",
       " 'Christine Cheng',\n",
       " 'Oliver Stanton',\n",
       " 'Aerin Lauder Zinterhofer',\n",
       " 'Vincent Ottomanelli',\n",
       " 'Sofia Coppola',\n",
       " 'Ralph Daiuto',\n",
       " 'Somres Farkas',\n",
       " 'Gladys Thomas',\n",
       " 'Jasmine Mir',\n",
       " 'Adele Chatfield-Taylor',\n",
       " 'Cecile Abeille',\n",
       " 'Clelia Peters',\n",
       " 'John David Willingham',\n",
       " 'Guido Torlonia',\n",
       " 'Nancy Havens-Hasty',\n",
       " 'Jennan Al-Hamdouni',\n",
       " 'Julie Tobias',\n",
       " 'Meg Wendy',\n",
       " 'Winston Majatte',\n",
       " 'Jennie C Jones',\n",
       " 'Jane Stanton Hitchcock',\n",
       " 'Debra Del Vecchio',\n",
       " 'Dave DeMattei',\n",
       " 'Mei Mei',\n",
       " 'Jane Clark Chermayeff',\n",
       " 'Event Co-Ronit Berkman',\n",
       " 'Staci Barber',\n",
       " 'Anne Mintz',\n",
       " 'Judy Nelson',\n",
       " 'Henry Gottfried',\n",
       " 'Bert Peterson',\n",
       " 'Boris Talan',\n",
       " 'Stephanie Pratt',\n",
       " 'Pippa Gerrard',\n",
       " 'Tom Dakin',\n",
       " 'Hannah Weaver',\n",
       " 'Bill Bone',\n",
       " 'Inger Anderson',\n",
       " 'Jennifer Raab',\n",
       " 'Val Chmerkovskiy',\n",
       " 'David Yurman',\n",
       " 'Mel Rose',\n",
       " 'Kerrie Buitrago',\n",
       " 'Jim Aman',\n",
       " 'Melissa Deamicim',\n",
       " 'Blair Harris',\n",
       " 'Alan Caspi',\n",
       " 'Stuart Clifford',\n",
       " 'Maureen Cavanagh',\n",
       " 'Herbert Wachtel',\n",
       " 'Nick Raynes',\n",
       " 'Marc Gurell',\n",
       " 'Muffie Fitzgerald',\n",
       " 'Molly Monahan',\n",
       " 'Kirsten Peckerman',\n",
       " 'Blake Griffin',\n",
       " 'Harry Slatkin',\n",
       " 'Troy Garrity',\n",
       " 'Taylen Richards',\n",
       " 'AOHT Students',\n",
       " 'Sacha Farnsworth',\n",
       " 'Michael Anthony Pegues',\n",
       " 'Ariella Menegon',\n",
       " 'Patrice Motsepe',\n",
       " 'Richard Shepard',\n",
       " 'Phyllis Tuchman',\n",
       " 'Katherine Bailey Kennedy',\n",
       " 'Craig Harwood',\n",
       " 'Nancy Downey',\n",
       " \"Shelia O'Malley-Fuchs\",\n",
       " 'Erica Karsch',\n",
       " 'Harris Doran',\n",
       " 'Gopa Dobson',\n",
       " 'Peggy Stankevich',\n",
       " 'John Margaritis',\n",
       " 'Erika Shlomm',\n",
       " 'Xander Kramer',\n",
       " 'Otis Donovan Herring',\n",
       " 'Charlotte Turchyn',\n",
       " 'Betsy Ross',\n",
       " 'Theodore V Wells',\n",
       " 'Jennifer Goodman',\n",
       " 'Deena Wolfson',\n",
       " 'Yeesan Loh',\n",
       " 'Rusell Grant',\n",
       " 'Cora Cahan',\n",
       " 'Barry Frediani',\n",
       " 'Margot Takian',\n",
       " 'Emily Hubley',\n",
       " 'Hannah K Walter',\n",
       " 'Merri Rosenberg',\n",
       " 'Kim Coleman',\n",
       " 'Paige Hershey',\n",
       " 'Jeffrey Marcus',\n",
       " 'Dante Blakeley',\n",
       " 'Whit Stillman',\n",
       " 'Nazee Moinian',\n",
       " 'Janet Burnett',\n",
       " 'Hayden Knox',\n",
       " 'Tom Farber',\n",
       " 'Scott Stanford',\n",
       " 'Alessandra Baker',\n",
       " 'Tory Grauer',\n",
       " 'Associates Lisa Errico',\n",
       " 'Inge Heckel',\n",
       " 'Felicia Knight',\n",
       " 'Richard Feigen',\n",
       " 'Douglas Heyman',\n",
       " 'Emily McEnroe',\n",
       " 'Gigi Stone',\n",
       " 'Marion de Vogel',\n",
       " 'Annette Lauer',\n",
       " 'Francisco Ballistar',\n",
       " 'Jeffrey Terrance',\n",
       " 'Mark Epstein',\n",
       " 'Pam Taylor',\n",
       " 'Kim Dickstein',\n",
       " 'Solene Delobello',\n",
       " 'Elisabeth Holder Raberin',\n",
       " 'Laurie Golub',\n",
       " 'Honey Kurtz',\n",
       " 'Elizabeth Kahane',\n",
       " 'Ambassador Craig Stapleton',\n",
       " 'John Fitzsimons',\n",
       " 'Cathy Rick',\n",
       " 'Patrick Mouboussin',\n",
       " 'Alex Gonzalez',\n",
       " 'David Wilshin',\n",
       " 'Sandra Wagenfeld',\n",
       " 'Miss Teen',\n",
       " 'George Wambold',\n",
       " 'Christina Strassfield',\n",
       " 'Michael Wolf',\n",
       " 'Philip Schlussel',\n",
       " 'Blue Bertin',\n",
       " 'Eliot Hawkins',\n",
       " 'Federica Imperialli',\n",
       " 'Annalise Carol',\n",
       " 'Luma Halazon',\n",
       " 'Joe Petrocik',\n",
       " 'Tara Cortes',\n",
       " 'Ben Nickoll',\n",
       " 'Robert Hirschfeld',\n",
       " 'Candace Moore',\n",
       " 'P Allen Smith',\n",
       " 'Siddhartha Mukherjee',\n",
       " 'Paul Comeau',\n",
       " 'Madalina Ghenea',\n",
       " 'Raymond Lukens',\n",
       " 'Event Franci Blassberg',\n",
       " 'Carrie Creca',\n",
       " 'Lori Kanter-Tritsch',\n",
       " 'Feryal Gulman',\n",
       " 'Sir Thomas Moore',\n",
       " 'Bruce Gendelman',\n",
       " 'Irina Aleksander',\n",
       " 'Sgt Todd Bowers',\n",
       " 'Michael Corey',\n",
       " 'Bill Kelly',\n",
       " 'Peter Evangelidis',\n",
       " 'Bertha Coombs',\n",
       " 'Lilla Crawford',\n",
       " 'Scott Chaskey',\n",
       " 'Margery Harnick',\n",
       " 'Sharon Sharma Patal',\n",
       " 'Lara Shriftman',\n",
       " 'Nick Manifold',\n",
       " 'Beth De Woody',\n",
       " 'Bob Cohcran',\n",
       " 'Harris M Nagler',\n",
       " 'Abigail Jacobs',\n",
       " 'Consuelo Vanderbilt',\n",
       " 'Courtney Czepiga',\n",
       " 'Ian Kessler',\n",
       " 'Claire Capello',\n",
       " 'Clint Rodenberg',\n",
       " 'Amrei Fumian',\n",
       " 'Cooper Ray',\n",
       " 'Fred Myers',\n",
       " 'John Sills',\n",
       " 'Joseph Perella',\n",
       " 'Marc Rozic',\n",
       " 'Lary Wolf',\n",
       " 'Noelle Ashley Dunphy',\n",
       " 'Mariangelica Cuervo',\n",
       " 'Kristin Kramer',\n",
       " 'David Tisch',\n",
       " 'Lisa Metselaar',\n",
       " 'Sophie Elgort',\n",
       " 'Bill Miller',\n",
       " 'Marianna Kaufman',\n",
       " 'Rita Roselle',\n",
       " 'Juan Pablo',\n",
       " 'Blythe Masters',\n",
       " 'Patricia Field',\n",
       " 'Sharon Goldberg',\n",
       " 'Brooke Monohan',\n",
       " 'Elise James-DeCruise',\n",
       " 'Dianna Cohen',\n",
       " 'Milos Forman',\n",
       " 'Bernard Schwartz',\n",
       " 'Mary Schmidt Campbell',\n",
       " 'Veve Wheeler',\n",
       " 'Honorable Rodney Hood',\n",
       " 'Maria Hernandez',\n",
       " 'John Wadell',\n",
       " 'Marian S Heiskell',\n",
       " 'Jen Haile',\n",
       " 'Valesca Guerrand-Hermes',\n",
       " 'Lynne Cary',\n",
       " 'Ania Poinvil',\n",
       " 'Laurie Margolies',\n",
       " 'Dan Dailey',\n",
       " 'Karen Kirby',\n",
       " 'Polly Aguilera',\n",
       " 'Jennifer Zaslo',\n",
       " 'Mrs Miklos Toth',\n",
       " 'Kim Setoodeh',\n",
       " 'Shari Patrick',\n",
       " 'Brendan Sexton',\n",
       " 'Marielle Safra',\n",
       " 'Lisa Ryan Boyle',\n",
       " 'Jose Soriano',\n",
       " 'Gillian Hearst Simonds',\n",
       " 'Lara Holtz',\n",
       " 'Cacho Falcon',\n",
       " 'Michael Weiner',\n",
       " 'Christopher Moretti',\n",
       " 'Christine Paras',\n",
       " 'Richard Friedberg',\n",
       " 'David Rivel',\n",
       " 'Missy Egbert Sheehan',\n",
       " 'Daniel Adams',\n",
       " 'Cookie Sloat',\n",
       " 'Zuzanna Szadkowski',\n",
       " 'Chloe Chisholm',\n",
       " 'Jonathan Lees',\n",
       " 'The Lehrer',\n",
       " 'Missie Taylor',\n",
       " 'Suzan Salmon',\n",
       " 'Melissa Bensinger',\n",
       " 'Jennifer Bandier',\n",
       " 'Sara Menkin',\n",
       " 'Susan Havdesven',\n",
       " 'Anastasiya Siro',\n",
       " 'Bill Spears',\n",
       " 'Sandra Ferguson',\n",
       " 'Jack Shear',\n",
       " 'Dwight Evans',\n",
       " 'Elizabeth Blau',\n",
       " 'Barrie Vanderpoel',\n",
       " 'Rita Castagna',\n",
       " 'Jason Hirsch',\n",
       " 'Annalise Goldberg',\n",
       " 'Piaget Larry Bol',\n",
       " 'Jerome LeWine',\n",
       " 'Eva Longoria',\n",
       " 'Gary Rein',\n",
       " 'Carol Miller',\n",
       " 'Lorey Hayes',\n",
       " 'Kristina Lewin',\n",
       " 'Sandy Krakoff',\n",
       " 'Jim Jordan',\n",
       " 'Lee Potter',\n",
       " 'Michele Clark-Ceres',\n",
       " 'Joseph Mizzi',\n",
       " 'Eva Dillon',\n",
       " 'Heather Shekerchi',\n",
       " 'Katerina Alevizaki-acopoulos',\n",
       " 'Christine Falow',\n",
       " 'Jeffrey Allen',\n",
       " 'Robin Elliot',\n",
       " 'Jennifer Howell',\n",
       " 'Paul Williams',\n",
       " 'Sharon Crary',\n",
       " 'Margery Flannigan',\n",
       " 'Robert Kraft',\n",
       " 'Ariana Rockefeller Bucklin',\n",
       " 'Alexis Laken',\n",
       " 'Scott Havens',\n",
       " 'Jill Lynne',\n",
       " 'Mary Pulitzer',\n",
       " 'Ana Dolores Temple',\n",
       " 'Patrick Liotard-Vogt',\n",
       " 'Janet Rodriguez',\n",
       " 'Jeff Kronemeyer',\n",
       " 'Timothy Furzer',\n",
       " 'Arturo Constantiner',\n",
       " 'Amelia Saddington',\n",
       " 'Susan Fales Hill',\n",
       " 'Jessica Nagel',\n",
       " 'Catherine Shepherd',\n",
       " 'Ralph Gibson',\n",
       " 'Scott Asher',\n",
       " 'Dance Co-Armene Milliken',\n",
       " 'Chris Salgardo',\n",
       " 'Donna Blank',\n",
       " 'David Childs',\n",
       " 'Amb Spielvogel',\n",
       " 'Maxim Thorne',\n",
       " 'Mica Ertegün',\n",
       " 'Blaire Eby',\n",
       " 'Christie Quinn',\n",
       " 'Christopher Trump',\n",
       " 'Graham Gund',\n",
       " 'Robert Towbin',\n",
       " 'Alex Erdman',\n",
       " 'Carl Hewitt',\n",
       " 'Alexandria Austin',\n",
       " 'Lamusic Producer Sendafou',\n",
       " 'Steven Webster',\n",
       " 'E Wayne Nordberg',\n",
       " 'Candia Fisher',\n",
       " 'Julian Fisher',\n",
       " 'Ellen Hamilton',\n",
       " 'Barbara Byrne',\n",
       " 'Ayse Kenmore',\n",
       " 'Susan Holmberg',\n",
       " 'Ann Philbin',\n",
       " 'Urban Visionaries-Architecture-Frank Gehry',\n",
       " 'Euan Relli',\n",
       " 'Craig Eckes',\n",
       " 'Brian Howes',\n",
       " 'John Farr',\n",
       " 'Avery Singer',\n",
       " 'Ashley Lauren Fisher',\n",
       " 'Dale Coudert',\n",
       " 'Walter Dean',\n",
       " 'Kevin Wilson',\n",
       " 'Tigran Tsitoghdzyan',\n",
       " 'Pepe Villegas',\n",
       " 'Carter Lightburn',\n",
       " 'Anne Matthews',\n",
       " 'Will McDonough',\n",
       " 'Mike Diamond',\n",
       " 'Liz Stern',\n",
       " 'Mary Lee Kennedy',\n",
       " 'Kurt Andersen',\n",
       " 'Rebecca Desman',\n",
       " 'Joseph J DiTrapani',\n",
       " 'Jean Godfrey',\n",
       " 'Audrey Meyer',\n",
       " 'Kojiro Umezaki',\n",
       " 'Joe Falco',\n",
       " 'Alexis Zambrano',\n",
       " 'Maud Ferrand',\n",
       " 'Lesley Vecsler',\n",
       " 'Jon Peter',\n",
       " 'Kathy Thomas',\n",
       " 'Member Marianne Lockwood',\n",
       " 'Michelle Marie Heniemann',\n",
       " 'Sara Van Nostr',\n",
       " 'Yo-Yo Ma',\n",
       " 'Elyse Buxbaum',\n",
       " 'Dede Wilsey',\n",
       " 'Thomas Tuft',\n",
       " 'Dennis Hopper',\n",
       " 'Daniela Kronemeyer',\n",
       " 'Lola Finkelstein',\n",
       " 'Stan Horowitz',\n",
       " 'Patricia Cayne',\n",
       " 'Bobye List',\n",
       " 'Ida Liu',\n",
       " 'Rudy Sotolongo',\n",
       " 'Linda Well',\n",
       " 'Greg Stevens',\n",
       " 'Kinga Lampert',\n",
       " 'Jodine Russo',\n",
       " 'Suzanne Czech',\n",
       " 'Alan Rappaport',\n",
       " 'Baroness Veronique Bich',\n",
       " 'Kim Hamill',\n",
       " 'Lee Desner',\n",
       " 'Pierre-Michel Dumonteil',\n",
       " 'Rachel Mary Cox',\n",
       " 'TJ Luty',\n",
       " 'Virginia Lawson',\n",
       " 'Karl Kempner',\n",
       " 'Cynthia Reede',\n",
       " 'Katie Thomson',\n",
       " 'May-Eliane de Lencquesaing',\n",
       " 'L C Armstrong',\n",
       " 'Jesse Davis',\n",
       " 'Bob Menschel',\n",
       " 'Bruno Eberli',\n",
       " 'Ron Fiamma',\n",
       " 'Vicki Reynolds',\n",
       " 'Christopher Flatters',\n",
       " 'Carol Singer',\n",
       " 'Mark Urken',\n",
       " 'Yves Theze',\n",
       " 'Phil Banks',\n",
       " 'Martin Scorsese',\n",
       " 'Nickolos Manice',\n",
       " 'Fay Shutzer',\n",
       " 'Bill Stahl',\n",
       " 'Ben Cummings',\n",
       " 'Vice President',\n",
       " 'Eva Hagberg',\n",
       " 'Jane esner Sadaka',\n",
       " 'Blakesle Krusen',\n",
       " 'Margaret Sullivan',\n",
       " 'Catherine Grinfell',\n",
       " 'Alexander Creswell',\n",
       " 'Alexis Clark',\n",
       " 'Alessandro Rabagnan',\n",
       " 'Marla Helen',\n",
       " 'Remington Curtis',\n",
       " 'Melanie Forman',\n",
       " 'Anna Porcella Pinheiro',\n",
       " 'Maud Robertson',\n",
       " 'Katie Mossman',\n",
       " 'Brett Egan',\n",
       " 'Ralph Suozzi',\n",
       " 'Marjorie Sobiloff',\n",
       " 'AMC Vet Chiaramonte',\n",
       " 'Francois Poulet',\n",
       " 'Kathy Irwin',\n",
       " 'Joseph Merrill',\n",
       " 'Lauren Hochfelder Silverman',\n",
       " 'Charles S Moffett',\n",
       " 'Thanos Petrelis',\n",
       " 'Landon Hilliard',\n",
       " 'Eldad Shepen',\n",
       " 'Christine Munnelly',\n",
       " 'Ariane Romano',\n",
       " 'F Paul',\n",
       " 'Patrick Benoist',\n",
       " 'Tom Hill',\n",
       " 'Kristin Fealy',\n",
       " 'Isabelle Huppert',\n",
       " 'Bonny Datema',\n",
       " 'Alberta Ferretti',\n",
       " 'Trustee Ann Ziff',\n",
       " 'Sonya Verny',\n",
       " 'Candice Swanepoel',\n",
       " 'Sherry Janowitz Grenz',\n",
       " 'Nicole Sebastian',\n",
       " 'Sebastian Echavarria',\n",
       " 'Teresa De Sequera',\n",
       " 'Ms Sweeney',\n",
       " 'Sandy Golinkin',\n",
       " 'Gil Mauer',\n",
       " 'George Manahan',\n",
       " 'Carissa Robinson',\n",
       " 'Vicky McClure',\n",
       " 'Bonnie Apfelbaum',\n",
       " 'Louis Shapiro',\n",
       " 'Coleman Burke',\n",
       " 'Patricia Kluge',\n",
       " 'Catherine Foster',\n",
       " 'Jacques Roizen',\n",
       " 'Bill Kronenberg',\n",
       " 'Alan Doft',\n",
       " 'John Barnwell',\n",
       " 'Becca Thrash',\n",
       " 'Simon Spurr',\n",
       " 'Janet W Mavec',\n",
       " 'Jessye Norman',\n",
       " 'Dan Moe',\n",
       " 'Richard Rose',\n",
       " 'Benjamin Hayden',\n",
       " 'Todd English',\n",
       " 'Gene Williams',\n",
       " 'Lesley Stahl',\n",
       " 'Julia Braverman',\n",
       " 'The Gr',\n",
       " 'Sommer Farkas',\n",
       " 'Fr Francis Gasparik',\n",
       " 'Becca Pratt',\n",
       " 'Alexandra Sacchy',\n",
       " 'Donald Baechler',\n",
       " 'Karen Kaminsky',\n",
       " 'Lisa Alexander',\n",
       " 'Natalie Harounian',\n",
       " 'Christian Bjell',\n",
       " 'Beatriz Pintado',\n",
       " 'Sharon Casdin',\n",
       " 'Deborah Sale',\n",
       " 'Daniel Morales',\n",
       " 'Christina Di Donna',\n",
       " 'Emma Snowdon-Jones',\n",
       " 'John Fox Sullivan',\n",
       " 'Carin Mei',\n",
       " 'Elizabeth Khoo',\n",
       " 'Michael Aaron',\n",
       " 'Stephanie Simon',\n",
       " 'Jason Preston',\n",
       " 'Anna Merker',\n",
       " 'Dwayne Wade',\n",
       " 'Jane Tucker',\n",
       " 'The End',\n",
       " 'Yuja Wang',\n",
       " 'Joseph Zagami',\n",
       " 'Dick Cavett',\n",
       " 'Terrianne Zeifman',\n",
       " 'Gilbert Harrison',\n",
       " 'Glen Dubin',\n",
       " 'Renée Fleming',\n",
       " 'Joshua Laterman',\n",
       " 'Lewis Friedman',\n",
       " 'Courtney Nebons',\n",
       " 'Dee Dee Ricks',\n",
       " 'Deborah Lamm',\n",
       " 'Jenna Segal',\n",
       " 'Curtis Sliwa',\n",
       " 'Chris Joel',\n",
       " 'Alex Hancock',\n",
       " 'Jean H Pearman',\n",
       " 'Dori Kresge',\n",
       " 'Robert Marinelli',\n",
       " 'Terrie Williams',\n",
       " 'Susan Posen',\n",
       " 'Yanna Myronovska',\n",
       " 'Annie Barrish',\n",
       " 'Al Roker',\n",
       " 'Jeffrey Fisher',\n",
       " 'Theodore Reicher',\n",
       " 'Grace Hightower DeNiro',\n",
       " 'Louie Metzner',\n",
       " 'Kirsty Williams',\n",
       " 'Jarett Fein',\n",
       " 'David Baldwin',\n",
       " 'Anna Parlet',\n",
       " 'Richard Gaddes',\n",
       " 'Tucker Mack',\n",
       " 'Patricia Shiah',\n",
       " 'Lizzy Tisch',\n",
       " 'Brooks Huston',\n",
       " 'David Cronenberg',\n",
       " 'Shana Hunter',\n",
       " 'Andrew Mer',\n",
       " 'Debra Heller',\n",
       " 'Bobby Zarin',\n",
       " 'Julie McHugh',\n",
       " 'Dale Garstin',\n",
       " 'Philea Dominick',\n",
       " 'Mary Nelson Sinclair',\n",
       " 'Jennifer Powers',\n",
       " 'Paul Kanavos',\n",
       " 'Rose Polidoro',\n",
       " 'Justin Bova',\n",
       " 'Helena Durst',\n",
       " 'George Bush',\n",
       " 'Claire Gilman',\n",
       " 'Anne Dexter Jones',\n",
       " 'Reuben Kopel',\n",
       " 'Nataly Zaldana',\n",
       " 'Darryl DMC McDaniels',\n",
       " 'Maria Camps',\n",
       " 'Shalla McCoy',\n",
       " 'Daniel Hanley',\n",
       " 'Valerie Mason',\n",
       " 'Leila Heller',\n",
       " 'Sae Endler',\n",
       " 'Jennifer Westfeldt',\n",
       " 'Adelina Wong',\n",
       " 'Diana Quasha',\n",
       " 'Margarite Almeida',\n",
       " 'Jean Bella',\n",
       " 'Sebastian Baverstam',\n",
       " 'Mona Husani',\n",
       " 'Keith Sroka',\n",
       " 'Jennifer Pinkos',\n",
       " 'Janet Robinson',\n",
       " 'Glen Tobias',\n",
       " 'Wendy Van Raalte',\n",
       " 'Lila Warburton',\n",
       " 'Dick Gephardt',\n",
       " 'Veronica Kelly',\n",
       " 'Eunice Nazarian',\n",
       " 'Elena Moreno',\n",
       " 'Deborah Cogut',\n",
       " 'Chris Santos',\n",
       " 'Liz Martinez',\n",
       " 'Robert DeNiro',\n",
       " 'Bernard Tyson',\n",
       " 'Roberta Wallach',\n",
       " 'Clarissa Bronfman',\n",
       " 'Anne Marie Karish',\n",
       " 'Christin Rueger',\n",
       " 'Leslie Brille',\n",
       " 'Lauren Hurst',\n",
       " 'Courtney Stovall',\n",
       " 'Gil Lamphere',\n",
       " 'Lisa Salibello',\n",
       " 'Bobette Chon',\n",
       " 'Alecia Joy Bloom',\n",
       " 'Lane Coder',\n",
       " 'Mary Beth Buck',\n",
       " 'Nancy Robey',\n",
       " 'Frederic Dechnik',\n",
       " 'Christine Arlotta',\n",
       " 'Felicia Toohey',\n",
       " 'Tracey Duryea',\n",
       " 'Jedd Wolchok',\n",
       " 'Nick Fowler',\n",
       " 'Lynette Smith',\n",
       " 'Melody Kanschant',\n",
       " 'Nicole Leibman',\n",
       " 'Marina Abramovi',\n",
       " 'Jimmy Yaffe',\n",
       " 'Monique Brendel',\n",
       " 'Dana Power',\n",
       " 'Robert Couturier',\n",
       " 'Mark Oldman',\n",
       " 'Debbie Brenneman',\n",
       " 'Christine Romeo',\n",
       " 'Katy Leibold',\n",
       " 'Berni Gilfonce',\n",
       " 'Debra Leible',\n",
       " 'Amory McAndrew',\n",
       " 'Fred Krimendahl',\n",
       " 'Ben Foster',\n",
       " 'Pierre Manigault',\n",
       " 'Jolene Bolton',\n",
       " 'Charles Lucas',\n",
       " 'Casey Spooner',\n",
       " 'Matthew White',\n",
       " 'Ric Barbatelli',\n",
       " 'Joseph Lapid',\n",
       " 'Sharon Park',\n",
       " 'Susan Glesby',\n",
       " 'Jane Keltner',\n",
       " 'Kristin Becker',\n",
       " 'Gregory Alexander Robin',\n",
       " 'Daniel Zucchi',\n",
       " 'Anne Denes',\n",
       " 'Zoe Tananbaum',\n",
       " 'Anne Kofol',\n",
       " 'Vice-Benedetta Casamento',\n",
       " 'Jaime Pallot',\n",
       " 'Janelle Simmons',\n",
       " 'Robert Wiesenthal',\n",
       " 'John Delucie',\n",
       " 'Caitlin DiStefano',\n",
       " 'Moshe Safdie',\n",
       " 'Susan Duffy',\n",
       " 'Emily Polidore',\n",
       " 'Jamie Yike',\n",
       " 'Ellen Egeth',\n",
       " 'Christian Baly',\n",
       " 'Lara Spencer',\n",
       " 'Lies Maculan',\n",
       " 'Susan Stevenson Woodward',\n",
       " 'Jennifer Liang',\n",
       " 'Tatiana Pantaeva',\n",
       " 'Lea Lis',\n",
       " 'Barry Cenower',\n",
       " 'Cliff Comfort',\n",
       " 'Elliott Broidy',\n",
       " 'Fund; Marcela Leahy',\n",
       " 'Harsha Murthy',\n",
       " 'Robert Shriver',\n",
       " 'Donna Atwater',\n",
       " 'Mary Beth Stevenson',\n",
       " 'Tawana Tibbs',\n",
       " 'Douglas P Teitelbaum',\n",
       " 'Dan Perry',\n",
       " 'David Milgram',\n",
       " 'Damian Standen',\n",
       " 'Josh Hartnett',\n",
       " 'Clair Capello',\n",
       " 'Toni Canada',\n",
       " 'Gregg Wasser',\n",
       " 'Cary Elwes',\n",
       " 'Arlene Kieta',\n",
       " 'Jamie FIgg',\n",
       " 'Evan Megibow',\n",
       " 'Mia Simpson',\n",
       " 'John Domenico',\n",
       " 'Megan Scott',\n",
       " 'Elaine Crocker',\n",
       " 'Marlo Bakst',\n",
       " 'Rikki Klieman',\n",
       " 'Barbra Davis',\n",
       " 'Jean Pearman',\n",
       " 'David Cholcher',\n",
       " 'Jan Cushing',\n",
       " 'Lily Snyder',\n",
       " 'Regina Dantas',\n",
       " 'Stan Shuman',\n",
       " 'Paul Auster',\n",
       " 'Shirley Young',\n",
       " 'Elaine Uzan Leary',\n",
       " 'Nancy Sutherl',\n",
       " 'Michael Stipe',\n",
       " 'Bill Kornreich',\n",
       " 'Dave Herbst',\n",
       " 'Charles Smithers',\n",
       " 'Chien Chung Pei',\n",
       " 'LaTanya Richardson Jackson',\n",
       " 'Bruno Quinson',\n",
       " 'Coco Kopelman',\n",
       " 'Chuck Grodin',\n",
       " 'Beth Rudin DeWoody',\n",
       " 'Nancy Goslee',\n",
       " 'Shahin Rafii',\n",
       " 'Ellen Charles',\n",
       " 'Elizabeth Edelman',\n",
       " 'Siamak Hakakian',\n",
       " 'Alex Lind',\n",
       " 'Rod Keenan',\n",
       " 'Amber Parmentier',\n",
       " 'Georgia McElveen',\n",
       " 'Said Belhadfa',\n",
       " 'Leslie Bergson',\n",
       " 'Graham Pratt',\n",
       " 'Andrew Hoover',\n",
       " 'Kate Fitzgerald',\n",
       " 'Helena Khazanova',\n",
       " 'William Morris',\n",
       " 'Angelika Ronson',\n",
       " 'Michelle Cleary',\n",
       " 'Esperanza Spalding',\n",
       " 'Teresa Teague',\n",
       " 'Edmée Firth',\n",
       " 'Lori Sutherland',\n",
       " 'Richard Pare',\n",
       " 'Annalise Stack',\n",
       " 'Jeff Borenstein',\n",
       " 'Claudia Cisneros',\n",
       " 'Jessica Wyatt',\n",
       " 'Mike Faherty',\n",
       " 'Francine Leinhardt',\n",
       " 'Rachael Hovnanian',\n",
       " 'Paola Bacchini',\n",
       " 'Naeem Khan',\n",
       " 'Eric Smith',\n",
       " 'Dan Zanes',\n",
       " 'George Corbat',\n",
       " 'Saul Zabar',\n",
       " 'Howard Stein',\n",
       " 'Shane Neuringer',\n",
       " 'Tuzili Charney',\n",
       " 'Evey Crawford',\n",
       " 'Jessica Seinfeld',\n",
       " 'Cecilia Herbert',\n",
       " 'Karen Feldman',\n",
       " 'Marshall Dornfeld',\n",
       " 'Monica Siskind',\n",
       " 'J Thomas Savage',\n",
       " 'Gary DeBode',\n",
       " 'Edmund de Waal',\n",
       " 'Eric Borzino',\n",
       " 'Monty Hackett',\n",
       " 'Alana McGee',\n",
       " 'Tom Hilbink',\n",
       " 'Jill Mainelli',\n",
       " 'Jesse Araskog',\n",
       " 'Victor Cruz',\n",
       " 'Dana Taylor',\n",
       " 'Lorne Weil',\n",
       " 'Deborah Strobin',\n",
       " 'Benjamin Flaherty',\n",
       " 'Tara Cathcart',\n",
       " 'Mark Hodgberg',\n",
       " 'Dorothy Walter',\n",
       " 'George Nader',\n",
       " 'Linda Allard',\n",
       " 'Tom Mellons',\n",
       " 'Thomas Morbitzer',\n",
       " 'Charlotte Assaf',\n",
       " 'Leslie Robarge',\n",
       " 'Stewart F Lane',\n",
       " 'Don Knox',\n",
       " 'Gerrit Lansing',\n",
       " 'Katarina Vinarova',\n",
       " 'Nikolas Baker',\n",
       " 'Mark Wahlberg',\n",
       " 'Ellen Crown',\n",
       " 'Kirk Henckels',\n",
       " 'Robert McKeon',\n",
       " 'Elisabeth Saint-Amand',\n",
       " 'Johanna Methusalemsdottir',\n",
       " 'Kick Kennedy',\n",
       " 'Olivia Aguilar Durantes',\n",
       " 'Patrick Abouchalache Standing',\n",
       " 'Sharri Kane',\n",
       " 'Sally Perrin',\n",
       " 'Sarah Margaret Qualley',\n",
       " 'Lynn Sedley',\n",
       " 'Lisa Miller',\n",
       " 'Luca Corbelli',\n",
       " 'Jackie Leo',\n",
       " 'Christine Rales',\n",
       " 'David Schoenberger',\n",
       " 'Walter Burr',\n",
       " 'David Ling',\n",
       " 'Steven Welch',\n",
       " 'Kaili Lass',\n",
       " 'Florence Hvorostovsky',\n",
       " 'Melinda Hassen',\n",
       " 'Torie Ross',\n",
       " 'Cynthia Young',\n",
       " 'Stan Kelly',\n",
       " 'Ted Loos',\n",
       " 'Hamlish Linklater',\n",
       " 'Maria Maxwell',\n",
       " 'Katrina Stepanov',\n",
       " 'Andres Serrano',\n",
       " 'Elizabeth Hazan',\n",
       " 'Kristin Chenoweth',\n",
       " 'Erika Szabo',\n",
       " 'Diane von Furstenburg',\n",
       " 'Jamie Gregory',\n",
       " 'Philip Berney',\n",
       " 'The Xerox Foundation',\n",
       " 'Doug Eisenberg',\n",
       " 'Kirsten Carmel',\n",
       " 'William Shutzer',\n",
       " 'Janet Andrew',\n",
       " 'Courtney Sale Ross',\n",
       " 'Lenora Somervell',\n",
       " 'Theresa Jaeger',\n",
       " 'Elisa Halpern',\n",
       " 'Robert Koenig',\n",
       " 'Randall Tarasuk',\n",
       " 'David Yanks',\n",
       " 'Myron Stein',\n",
       " 'Samantha Zalaznick',\n",
       " 'Marline Sexton',\n",
       " 'Ahlam Amahdi',\n",
       " 'Shana Madoff Swanson',\n",
       " 'Miranda Reinfeldt',\n",
       " 'Loraine Boyle',\n",
       " 'Honorable Judy',\n",
       " 'Col Ralph Kauzlarich',\n",
       " 'Peyton Muldoon',\n",
       " 'Mason Granger',\n",
       " 'Jerry Jordan',\n",
       " 'Deb Shriver',\n",
       " 'Lauren Silverstein',\n",
       " 'Paige Hardy',\n",
       " 'Vanessa Lawrence',\n",
       " 'Alex Sanger',\n",
       " 'Jake Weiss',\n",
       " 'Helen LaKelly Hunt',\n",
       " 'Arnold Aronson',\n",
       " 'Katherine Gage',\n",
       " 'Aurelie Biederman',\n",
       " 'Michael Wolkowitz',\n",
       " 'Co-Marilyn Sorenson',\n",
       " 'Guss Jenkins',\n",
       " 'Barret Swatek',\n",
       " 'Kristen Somody Whalen',\n",
       " 'Linda Giammona',\n",
       " 'Linda Nudelman',\n",
       " 'Prakesh Melwani',\n",
       " 'Alma Rangel',\n",
       " 'Emily Field',\n",
       " 'Deborah Jackson',\n",
       " 'Charlie Thompson',\n",
       " 'Mrs Benjamin',\n",
       " 'Co-John McGinley',\n",
       " 'Max Tucci',\n",
       " 'Liz Pearce',\n",
       " 'Merrill Halpern',\n",
       " 'Laurence Magro',\n",
       " 'Frank Bisignano',\n",
       " 'Lilly Schonwald',\n",
       " 'Jeremy Zuba',\n",
       " 'Detta Willis',\n",
       " 'Yvonne Dunleavy',\n",
       " 'Jose Cordero',\n",
       " 'Jim Sherwood',\n",
       " 'Chanel Smith',\n",
       " 'Margot Bogert',\n",
       " 'Taylor Overstrom',\n",
       " 'Gary Snieski',\n",
       " 'David Foster',\n",
       " 'McDowell Winn',\n",
       " 'Joan Schnitzer Levy',\n",
       " 'Emel Kiral',\n",
       " 'Walter Dankohler',\n",
       " 'Paul Fiorentino',\n",
       " 'Stefano Sassi',\n",
       " 'Alison Pappas',\n",
       " 'Gigi Tang',\n",
       " 'Fabi Khanlari',\n",
       " 'Pat Kerr',\n",
       " 'Christine Smith',\n",
       " 'Arthur Ashman',\n",
       " 'Jeffrey Feldman',\n",
       " 'Ann Paskor',\n",
       " 'Julia Stegner',\n",
       " 'Carolee Schneemann',\n",
       " 'Aoki Lee Simmons',\n",
       " 'Claire Mellinger',\n",
       " 'Justin Giunta',\n",
       " 'Micahel Okwu',\n",
       " 'Nancy Novograd',\n",
       " 'Ariella Freid',\n",
       " 'Linda Golden',\n",
       " 'Len Bibliowicz',\n",
       " 'Jim Freeman',\n",
       " 'Pooneh Mohazzabi',\n",
       " 'Terence Gallagher',\n",
       " 'Steven Gaines',\n",
       " 'Karen Roberts',\n",
       " 'Ann Barry',\n",
       " 'Jose Luis Guerra',\n",
       " 'Tutti Davis',\n",
       " 'Senior Vice President',\n",
       " 'Jeremy Wallison',\n",
       " 'Mal Schwartz',\n",
       " 'Agapi Xenopoulos',\n",
       " 'Joe Smolinsky',\n",
       " 'Claudia Overstrom',\n",
       " 'Joel Freyberg',\n",
       " 'Patricia Specter',\n",
       " 'Matthew Vermedahl',\n",
       " 'Joe Cotter',\n",
       " 'Yvonne Meier',\n",
       " 'Michael Feinstein',\n",
       " 'Chonita Cleary',\n",
       " 'Justine Koons',\n",
       " 'Dan Tietz',\n",
       " 'Adam Gottbetter',\n",
       " 'Tracey Keilly',\n",
       " 'Joseph Benincasa',\n",
       " 'Nate Freeman',\n",
       " ...}"
      ]
     },
     "execution_count": 703,
     "metadata": {},
     "output_type": "execute_result"
    }
   ],
   "source": [
    "#G = G.remove_nodes_from(list(nx.isolates(G)))\n",
    "nx.is_connected(G)\n",
    "list(nx.connected_components(G))[0]"
   ]
  },
  {
   "cell_type": "code",
   "execution_count": 704,
   "metadata": {
    "collapsed": false,
    "jupyter": {
     "outputs_hidden": false
    },
    "scrolled": true
   },
   "outputs": [],
   "source": [
    "S = [G.subgraph(c).copy() for c in nx.connected_components(G)]"
   ]
  },
  {
   "cell_type": "code",
   "execution_count": null,
   "metadata": {
    "collapsed": false,
    "jupyter": {
     "outputs_hidden": false
    },
    "scrolled": true
   },
   "outputs": [],
   "source": [
    "diams = [nx.diameter(graph) for graph in S]"
   ]
  },
  {
   "cell_type": "code",
   "execution_count": 639,
   "metadata": {
    "collapsed": false,
    "jupyter": {
     "outputs_hidden": false
    },
    "scrolled": true
   },
   "outputs": [
    {
     "data": {
      "text/plain": [
       "[21,\n",
       " 8,\n",
       " 8,\n",
       " 7,\n",
       " 6,\n",
       " 6,\n",
       " 5,\n",
       " 5,\n",
       " 5,\n",
       " 5,\n",
       " 5,\n",
       " 5,\n",
       " 5,\n",
       " 5,\n",
       " 5,\n",
       " 5,\n",
       " 5,\n",
       " 5,\n",
       " 5,\n",
       " 5,\n",
       " 5,\n",
       " 4,\n",
       " 4,\n",
       " 4,\n",
       " 4,\n",
       " 4,\n",
       " 4,\n",
       " 4,\n",
       " 4,\n",
       " 4,\n",
       " 4,\n",
       " 4,\n",
       " 4,\n",
       " 4,\n",
       " 4,\n",
       " 4,\n",
       " 4,\n",
       " 4,\n",
       " 4,\n",
       " 4,\n",
       " 4,\n",
       " 4,\n",
       " 4,\n",
       " 4,\n",
       " 4,\n",
       " 4,\n",
       " 4,\n",
       " 4,\n",
       " 4,\n",
       " 4,\n",
       " 4,\n",
       " 4,\n",
       " 4,\n",
       " 4,\n",
       " 4,\n",
       " 4,\n",
       " 4,\n",
       " 4,\n",
       " 4,\n",
       " 4,\n",
       " 4,\n",
       " 4,\n",
       " 4,\n",
       " 4,\n",
       " 4,\n",
       " 4,\n",
       " 4,\n",
       " 4,\n",
       " 4,\n",
       " 4,\n",
       " 4,\n",
       " 4,\n",
       " 4,\n",
       " 3,\n",
       " 3,\n",
       " 3,\n",
       " 3,\n",
       " 3,\n",
       " 3,\n",
       " 3,\n",
       " 3,\n",
       " 3,\n",
       " 3,\n",
       " 3,\n",
       " 3,\n",
       " 3,\n",
       " 3,\n",
       " 3,\n",
       " 3,\n",
       " 3,\n",
       " 3,\n",
       " 3,\n",
       " 3,\n",
       " 3,\n",
       " 3,\n",
       " 3,\n",
       " 3,\n",
       " 3,\n",
       " 3,\n",
       " 3,\n",
       " 3,\n",
       " 3,\n",
       " 3,\n",
       " 3,\n",
       " 3,\n",
       " 3,\n",
       " 3,\n",
       " 3,\n",
       " 3,\n",
       " 3,\n",
       " 3,\n",
       " 3,\n",
       " 3,\n",
       " 3,\n",
       " 3,\n",
       " 3,\n",
       " 3,\n",
       " 3,\n",
       " 3,\n",
       " 3,\n",
       " 3,\n",
       " 3,\n",
       " 3,\n",
       " 3,\n",
       " 3,\n",
       " 3,\n",
       " 3,\n",
       " 3,\n",
       " 3,\n",
       " 3,\n",
       " 3,\n",
       " 3,\n",
       " 3,\n",
       " 3,\n",
       " 3,\n",
       " 3,\n",
       " 3,\n",
       " 3,\n",
       " 3,\n",
       " 3,\n",
       " 3,\n",
       " 3,\n",
       " 3,\n",
       " 3,\n",
       " 3,\n",
       " 3,\n",
       " 3,\n",
       " 3,\n",
       " 3,\n",
       " 3,\n",
       " 3,\n",
       " 3,\n",
       " 3,\n",
       " 3,\n",
       " 3,\n",
       " 3,\n",
       " 3,\n",
       " 3,\n",
       " 3,\n",
       " 3,\n",
       " 3,\n",
       " 3,\n",
       " 3,\n",
       " 3,\n",
       " 3,\n",
       " 3,\n",
       " 3,\n",
       " 3,\n",
       " 3,\n",
       " 3,\n",
       " 3,\n",
       " 3,\n",
       " 3,\n",
       " 3,\n",
       " 3,\n",
       " 3,\n",
       " 3,\n",
       " 3,\n",
       " 3,\n",
       " 3,\n",
       " 3,\n",
       " 3,\n",
       " 3,\n",
       " 3,\n",
       " 3,\n",
       " 3,\n",
       " 3,\n",
       " 3,\n",
       " 3,\n",
       " 3,\n",
       " 3,\n",
       " 3,\n",
       " 3,\n",
       " 3,\n",
       " 3,\n",
       " 3,\n",
       " 3,\n",
       " 3,\n",
       " 3,\n",
       " 3,\n",
       " 3,\n",
       " 3,\n",
       " 3,\n",
       " 3,\n",
       " 3,\n",
       " 3,\n",
       " 3,\n",
       " 3,\n",
       " 3,\n",
       " 3,\n",
       " 3,\n",
       " 3,\n",
       " 3,\n",
       " 3,\n",
       " 3,\n",
       " 3,\n",
       " 3,\n",
       " 3,\n",
       " 3,\n",
       " 3,\n",
       " 3,\n",
       " 3,\n",
       " 3,\n",
       " 3,\n",
       " 3,\n",
       " 3,\n",
       " 3,\n",
       " 3,\n",
       " 3,\n",
       " 3,\n",
       " 3,\n",
       " 3,\n",
       " 3,\n",
       " 3,\n",
       " 3,\n",
       " 3,\n",
       " 3,\n",
       " 3,\n",
       " 3,\n",
       " 3,\n",
       " 3,\n",
       " 3,\n",
       " 3,\n",
       " 3,\n",
       " 3,\n",
       " 3,\n",
       " 3,\n",
       " 3,\n",
       " 3,\n",
       " 3,\n",
       " 3,\n",
       " 3,\n",
       " 3,\n",
       " 3,\n",
       " 3,\n",
       " 3,\n",
       " 3,\n",
       " 3,\n",
       " 3,\n",
       " 3,\n",
       " 3,\n",
       " 3,\n",
       " 3,\n",
       " 3,\n",
       " 3,\n",
       " 3,\n",
       " 3,\n",
       " 3,\n",
       " 2,\n",
       " 2,\n",
       " 2,\n",
       " 2,\n",
       " 2,\n",
       " 2,\n",
       " 2,\n",
       " 2,\n",
       " 2,\n",
       " 2,\n",
       " 2,\n",
       " 2,\n",
       " 2,\n",
       " 2,\n",
       " 2,\n",
       " 2,\n",
       " 2,\n",
       " 2,\n",
       " 2,\n",
       " 2,\n",
       " 2,\n",
       " 2,\n",
       " 2,\n",
       " 2,\n",
       " 2,\n",
       " 2,\n",
       " 2,\n",
       " 2,\n",
       " 2,\n",
       " 2,\n",
       " 2,\n",
       " 2,\n",
       " 2,\n",
       " 2,\n",
       " 2,\n",
       " 2,\n",
       " 2,\n",
       " 2,\n",
       " 2,\n",
       " 2,\n",
       " 2,\n",
       " 2,\n",
       " 2,\n",
       " 2,\n",
       " 2,\n",
       " 2,\n",
       " 2,\n",
       " 2,\n",
       " 2,\n",
       " 2,\n",
       " 2,\n",
       " 2,\n",
       " 2,\n",
       " 2,\n",
       " 2,\n",
       " 2,\n",
       " 2,\n",
       " 2,\n",
       " 2,\n",
       " 2,\n",
       " 2,\n",
       " 2,\n",
       " 2,\n",
       " 2,\n",
       " 2,\n",
       " 2,\n",
       " 2,\n",
       " 2,\n",
       " 2,\n",
       " 2,\n",
       " 2,\n",
       " 2,\n",
       " 2,\n",
       " 2,\n",
       " 2,\n",
       " 2,\n",
       " 2,\n",
       " 2,\n",
       " 2,\n",
       " 2,\n",
       " 2,\n",
       " 2,\n",
       " 2,\n",
       " 2,\n",
       " 2,\n",
       " 2,\n",
       " 2,\n",
       " 2,\n",
       " 2,\n",
       " 2,\n",
       " 2,\n",
       " 2,\n",
       " 2,\n",
       " 2,\n",
       " 2,\n",
       " 2,\n",
       " 2,\n",
       " 2,\n",
       " 2,\n",
       " 2,\n",
       " 2,\n",
       " 2,\n",
       " 2,\n",
       " 2,\n",
       " 2,\n",
       " 2,\n",
       " 2,\n",
       " 2,\n",
       " 2,\n",
       " 2,\n",
       " 2,\n",
       " 2,\n",
       " 2,\n",
       " 2,\n",
       " 2,\n",
       " 2,\n",
       " 2,\n",
       " 2,\n",
       " 2,\n",
       " 2,\n",
       " 2,\n",
       " 2,\n",
       " 2,\n",
       " 2,\n",
       " 2,\n",
       " 2,\n",
       " 2,\n",
       " 2,\n",
       " 2,\n",
       " 2,\n",
       " 2,\n",
       " 2,\n",
       " 2,\n",
       " 2,\n",
       " 2,\n",
       " 2,\n",
       " 2,\n",
       " 2,\n",
       " 2,\n",
       " 2,\n",
       " 2,\n",
       " 2,\n",
       " 2,\n",
       " 2,\n",
       " 2,\n",
       " 2,\n",
       " 2,\n",
       " 2,\n",
       " 2,\n",
       " 2,\n",
       " 2,\n",
       " 2,\n",
       " 2,\n",
       " 2,\n",
       " 2,\n",
       " 2,\n",
       " 2,\n",
       " 2,\n",
       " 2,\n",
       " 2,\n",
       " 2,\n",
       " 2,\n",
       " 2,\n",
       " 2,\n",
       " 2,\n",
       " 2,\n",
       " 2,\n",
       " 2,\n",
       " 2,\n",
       " 2,\n",
       " 2,\n",
       " 2,\n",
       " 2,\n",
       " 2,\n",
       " 2,\n",
       " 2,\n",
       " 2,\n",
       " 2,\n",
       " 2,\n",
       " 2,\n",
       " 2,\n",
       " 2,\n",
       " 2,\n",
       " 2,\n",
       " 2,\n",
       " 2,\n",
       " 2,\n",
       " 2,\n",
       " 2,\n",
       " 2,\n",
       " 2,\n",
       " 2,\n",
       " 2,\n",
       " 2,\n",
       " 2,\n",
       " 2,\n",
       " 2,\n",
       " 2,\n",
       " 2,\n",
       " 2,\n",
       " 2,\n",
       " 2,\n",
       " 2,\n",
       " 2,\n",
       " 2,\n",
       " 2,\n",
       " 2,\n",
       " 2,\n",
       " 2,\n",
       " 2,\n",
       " 2,\n",
       " 2,\n",
       " 2,\n",
       " 2,\n",
       " 2,\n",
       " 2,\n",
       " 2,\n",
       " 2,\n",
       " 2,\n",
       " 2,\n",
       " 2,\n",
       " 2,\n",
       " 2,\n",
       " 2,\n",
       " 2,\n",
       " 2,\n",
       " 2,\n",
       " 2,\n",
       " 2,\n",
       " 2,\n",
       " 2,\n",
       " 2,\n",
       " 2,\n",
       " 2,\n",
       " 2,\n",
       " 2,\n",
       " 2,\n",
       " 2,\n",
       " 2,\n",
       " 2,\n",
       " 2,\n",
       " 2,\n",
       " 2,\n",
       " 2,\n",
       " 2,\n",
       " 2,\n",
       " 2,\n",
       " 2,\n",
       " 2,\n",
       " 2,\n",
       " 2,\n",
       " 2,\n",
       " 2,\n",
       " 2,\n",
       " 2,\n",
       " 2,\n",
       " 2,\n",
       " 2,\n",
       " 2,\n",
       " 2,\n",
       " 2,\n",
       " 2,\n",
       " 2,\n",
       " 2,\n",
       " 2,\n",
       " 2,\n",
       " 2,\n",
       " 2,\n",
       " 2,\n",
       " 2,\n",
       " 2,\n",
       " 2,\n",
       " 2,\n",
       " 2,\n",
       " 2,\n",
       " 2,\n",
       " 2,\n",
       " 2,\n",
       " 2,\n",
       " 2,\n",
       " 2,\n",
       " 2,\n",
       " 2,\n",
       " 2,\n",
       " 2,\n",
       " 2,\n",
       " 2,\n",
       " 2,\n",
       " 2,\n",
       " 2,\n",
       " 2,\n",
       " 2,\n",
       " 2,\n",
       " 2,\n",
       " 2,\n",
       " 2,\n",
       " 2,\n",
       " 2,\n",
       " 2,\n",
       " 2,\n",
       " 2,\n",
       " 2,\n",
       " 2,\n",
       " 2,\n",
       " 2,\n",
       " 2,\n",
       " 2,\n",
       " 2,\n",
       " 2,\n",
       " 2,\n",
       " 2,\n",
       " 2,\n",
       " 2,\n",
       " 2,\n",
       " 2,\n",
       " 2,\n",
       " 2,\n",
       " 2,\n",
       " 2,\n",
       " 2,\n",
       " 2,\n",
       " 2,\n",
       " 2,\n",
       " 2,\n",
       " 2,\n",
       " 2,\n",
       " 2,\n",
       " 2,\n",
       " 2,\n",
       " 2,\n",
       " 2,\n",
       " 2,\n",
       " 2,\n",
       " 2,\n",
       " 2,\n",
       " 2,\n",
       " 2,\n",
       " 2,\n",
       " 2,\n",
       " 2,\n",
       " 2,\n",
       " 2,\n",
       " 2,\n",
       " 2,\n",
       " 2,\n",
       " 2,\n",
       " 2,\n",
       " 2,\n",
       " 2,\n",
       " 2,\n",
       " 2,\n",
       " 2,\n",
       " 2,\n",
       " 2,\n",
       " 2,\n",
       " 2,\n",
       " 2,\n",
       " 2,\n",
       " 2,\n",
       " 2,\n",
       " 2,\n",
       " 2,\n",
       " 2,\n",
       " 2,\n",
       " 2,\n",
       " 2,\n",
       " 2,\n",
       " 2,\n",
       " 2,\n",
       " 2,\n",
       " 2,\n",
       " 2,\n",
       " 2,\n",
       " 2,\n",
       " 2,\n",
       " 2,\n",
       " 2,\n",
       " 2,\n",
       " 2,\n",
       " 2,\n",
       " 2,\n",
       " 2,\n",
       " 2,\n",
       " 2,\n",
       " 2,\n",
       " 2,\n",
       " 2,\n",
       " 2,\n",
       " 2,\n",
       " 2,\n",
       " 2,\n",
       " 2,\n",
       " 2,\n",
       " 2,\n",
       " 2,\n",
       " 2,\n",
       " 2,\n",
       " 2,\n",
       " 2,\n",
       " 2,\n",
       " 2,\n",
       " 2,\n",
       " 2,\n",
       " 2,\n",
       " 2,\n",
       " 2,\n",
       " 2,\n",
       " 2,\n",
       " 2,\n",
       " 2,\n",
       " 2,\n",
       " 2,\n",
       " 2,\n",
       " 2,\n",
       " 2,\n",
       " 2,\n",
       " 2,\n",
       " 2,\n",
       " 2,\n",
       " 2,\n",
       " 2,\n",
       " 2,\n",
       " 2,\n",
       " 2,\n",
       " 2,\n",
       " 2,\n",
       " 2,\n",
       " 2,\n",
       " 2,\n",
       " 2,\n",
       " 2,\n",
       " 2,\n",
       " 2,\n",
       " 2,\n",
       " 2,\n",
       " 2,\n",
       " 2,\n",
       " 2,\n",
       " 2,\n",
       " 2,\n",
       " 2,\n",
       " 2,\n",
       " 2,\n",
       " 2,\n",
       " 2,\n",
       " 2,\n",
       " 2,\n",
       " 2,\n",
       " 2,\n",
       " 2,\n",
       " 2,\n",
       " 2,\n",
       " 2,\n",
       " 2,\n",
       " 2,\n",
       " 2,\n",
       " 2,\n",
       " 2,\n",
       " 2,\n",
       " 2,\n",
       " 2,\n",
       " 2,\n",
       " 2,\n",
       " 2,\n",
       " 2,\n",
       " 2,\n",
       " 2,\n",
       " 2,\n",
       " 2,\n",
       " 2,\n",
       " 2,\n",
       " 2,\n",
       " 2,\n",
       " 2,\n",
       " 2,\n",
       " 2,\n",
       " 2,\n",
       " 2,\n",
       " 2,\n",
       " 2,\n",
       " 2,\n",
       " 2,\n",
       " 2,\n",
       " 2,\n",
       " 2,\n",
       " 2,\n",
       " 2,\n",
       " 2,\n",
       " 2,\n",
       " 2,\n",
       " 2,\n",
       " 2,\n",
       " 2,\n",
       " 2,\n",
       " 2,\n",
       " 2,\n",
       " 2,\n",
       " 2,\n",
       " 2,\n",
       " 2,\n",
       " 2,\n",
       " 2,\n",
       " 2,\n",
       " 2,\n",
       " 2,\n",
       " 2,\n",
       " 2,\n",
       " 2,\n",
       " 2,\n",
       " 2,\n",
       " 2,\n",
       " 2,\n",
       " 2,\n",
       " 2,\n",
       " 2,\n",
       " 2,\n",
       " 2,\n",
       " 2,\n",
       " 2,\n",
       " 2,\n",
       " 2,\n",
       " 2,\n",
       " 2,\n",
       " 2,\n",
       " 2,\n",
       " 2,\n",
       " 2,\n",
       " 2,\n",
       " 2,\n",
       " 2,\n",
       " 2,\n",
       " 2,\n",
       " 2,\n",
       " 2,\n",
       " 2,\n",
       " 2,\n",
       " 2,\n",
       " 2,\n",
       " 2,\n",
       " 2,\n",
       " 2,\n",
       " 2,\n",
       " 2,\n",
       " 2,\n",
       " 2,\n",
       " 2,\n",
       " 2,\n",
       " 2,\n",
       " 2,\n",
       " 2,\n",
       " 2,\n",
       " 2,\n",
       " 2,\n",
       " 2,\n",
       " 2,\n",
       " 2,\n",
       " 2,\n",
       " 2,\n",
       " 2,\n",
       " 2,\n",
       " 2,\n",
       " 2,\n",
       " 2,\n",
       " 2,\n",
       " 2,\n",
       " 2,\n",
       " 2,\n",
       " 2,\n",
       " 2,\n",
       " 2,\n",
       " 2,\n",
       " 2,\n",
       " 2,\n",
       " 2,\n",
       " 2,\n",
       " 2,\n",
       " 2,\n",
       " 2,\n",
       " 2,\n",
       " 2,\n",
       " 2,\n",
       " 2,\n",
       " 2,\n",
       " 2,\n",
       " 2,\n",
       " 2,\n",
       " 2,\n",
       " 2,\n",
       " 2,\n",
       " 2,\n",
       " 2,\n",
       " 2,\n",
       " 2,\n",
       " 2,\n",
       " 2,\n",
       " 2,\n",
       " 2,\n",
       " 2,\n",
       " 2,\n",
       " 2,\n",
       " 2,\n",
       " 2,\n",
       " 2,\n",
       " 2,\n",
       " 2,\n",
       " 2,\n",
       " 2,\n",
       " 2,\n",
       " 2,\n",
       " 2,\n",
       " 2,\n",
       " 2,\n",
       " 2,\n",
       " 2,\n",
       " 2,\n",
       " 2,\n",
       " 2,\n",
       " 2,\n",
       " 2,\n",
       " 2,\n",
       " 2,\n",
       " 2,\n",
       " 2,\n",
       " 2,\n",
       " 2,\n",
       " 2,\n",
       " 2,\n",
       " 2,\n",
       " 2,\n",
       " 2,\n",
       " 2,\n",
       " 2,\n",
       " 2,\n",
       " 2,\n",
       " 2,\n",
       " 2,\n",
       " 2,\n",
       " 2,\n",
       " 2,\n",
       " 2,\n",
       " 2,\n",
       " 2,\n",
       " 2,\n",
       " 2,\n",
       " 2,\n",
       " 2,\n",
       " 2,\n",
       " 2,\n",
       " 2,\n",
       " 2,\n",
       " 2,\n",
       " 2,\n",
       " 2,\n",
       " 2,\n",
       " 2,\n",
       " 2,\n",
       " 2,\n",
       " 2,\n",
       " 2,\n",
       " 2,\n",
       " 2,\n",
       " 2,\n",
       " 2,\n",
       " 2,\n",
       " 2,\n",
       " 2,\n",
       " 2,\n",
       " 2,\n",
       " 2,\n",
       " 2,\n",
       " 2,\n",
       " 2,\n",
       " 2,\n",
       " 2,\n",
       " 2,\n",
       " 2,\n",
       " 2,\n",
       " 2,\n",
       " 2,\n",
       " 2,\n",
       " 2,\n",
       " 2,\n",
       " 2,\n",
       " 2,\n",
       " 2,\n",
       " 2,\n",
       " 2,\n",
       " 2,\n",
       " 2,\n",
       " 2,\n",
       " 2,\n",
       " 2,\n",
       " 2,\n",
       " 2,\n",
       " 2,\n",
       " 2,\n",
       " 2,\n",
       " 2,\n",
       " 2,\n",
       " 2,\n",
       " 2,\n",
       " 2,\n",
       " 2,\n",
       " 2,\n",
       " 2,\n",
       " 2,\n",
       " 2,\n",
       " 2,\n",
       " 2,\n",
       " 2,\n",
       " 2,\n",
       " 2,\n",
       " 2,\n",
       " 2,\n",
       " 2,\n",
       " 2,\n",
       " 2,\n",
       " 2,\n",
       " 2,\n",
       " 2,\n",
       " 2,\n",
       " 2,\n",
       " 2,\n",
       " 2,\n",
       " 2,\n",
       " 2,\n",
       " 2,\n",
       " 2,\n",
       " 2,\n",
       " 2,\n",
       " 2,\n",
       " 2,\n",
       " ...]"
      ]
     },
     "execution_count": 639,
     "metadata": {},
     "output_type": "execute_result"
    }
   ],
   "source": [
    "sorted(diams, reverse = True)"
   ]
  },
  {
   "cell_type": "code",
   "execution_count": 48,
   "metadata": {
    "scrolled": true
   },
   "outputs": [],
   "source": [
    "##H = nxp.ParallelGraph(S[0])\n",
    "\n",
    "##list(nxp.all_pairs_shortest_path_length(H))"
   ]
  },
  {
   "cell_type": "code",
   "execution_count": 576,
   "metadata": {},
   "outputs": [],
   "source": [
    "nx.diameter(S[0]) ### Takes a long time to run"
   ]
  },
  {
   "cell_type": "code",
   "execution_count": 705,
   "metadata": {
    "collapsed": false,
    "jupyter": {
     "outputs_hidden": false
    }
   },
   "outputs": [
    {
     "data": {
      "text/plain": [
       "0.4674164630144437"
      ]
     },
     "execution_count": 705,
     "metadata": {},
     "output_type": "execute_result"
    }
   ],
   "source": [
    "nx.average_clustering(G)"
   ]
  },
  {
   "cell_type": "code",
   "execution_count": 706,
   "metadata": {},
   "outputs": [
    {
     "data": {
      "text/plain": [
       "0.5312167938601672"
      ]
     },
     "execution_count": 706,
     "metadata": {},
     "output_type": "execute_result"
    }
   ],
   "source": [
    "nx.average_clustering(S[0])"
   ]
  },
  {
   "cell_type": "code",
   "execution_count": 707,
   "metadata": {
    "collapsed": false,
    "editable": true,
    "jupyter": {
     "outputs_hidden": false
    },
    "slideshow": {
     "slide_type": ""
    },
    "tags": []
   },
   "outputs": [
    {
     "data": {
      "image/png": "[encoded data removed]",
      "text/plain": [
       "<Figure size 640x480 with 1 Axes>"
      ]
     },
     "metadata": {},
     "output_type": "display_data"
    }
   ],
   "source": [
    "#### Draw subgraph for Jean Shafiroff (Highest Degree) to visualize an\n",
    "#### example node with high importance.  Visualizing the entire graph\n",
    "#### may be impossible to do in a meaningful way.\n",
    "\n",
    "jean_shafiroff_subgraph = G.subgraph(nx.ego_graph(G, \"Jean Shafiroff\"))\n",
    "deg = jean_shafiroff_subgraph.degree()\n",
    "nlarge = G.subgraph([n for n in deg if deg[n[0]] >= 10])\n",
    "nsmall = G.subgraph([n for n in deg if deg[n[0]] < 10])\n",
    "\n",
    "elarge = [(u, v) for (u, v, d) in jean_shafiroff_subgraph.edges(data=True) if d[\"weight\"] > 1]\n",
    "esmall = [(u, v) for (u, v, d) in jean_shafiroff_subgraph.edges(data=True) if d[\"weight\"] == 1]\n",
    "\n",
    "pos = nx.spring_layout(jean_shafiroff_subgraph, seed=7)  # positions for all nodes - seed for reproducibility\n",
    "\n",
    "\n",
    "# nodes\n",
    "nx.draw_networkx_nodes(nlarge, pos, node_size=100)\n",
    "nx.draw_networkx_nodes(nsmall, pos, node_size=25)\n",
    "\n",
    "# edges\n",
    "nx.draw_networkx_edges(jean_shafiroff_subgraph, pos, edgelist=elarge, width=2)\n",
    "nx.draw_networkx_edges(\n",
    "    jean_shafiroff_subgraph, pos, edgelist=esmall, width=2, alpha=0.5, edge_color=\"b\", style=\"dashed\"\n",
    ")\n",
    "\n",
    "# node labels\n",
    "nx.draw_networkx_labels(nlarge, pos, font_size=8, font_family=\"sans-serif\")\n",
    "# edge weight labels\n",
    "##edge_labels = nx.get_edge_attributes(jean_shafiroff_subgraph, \"weight\")\n",
    "##nx.draw_networkx_edge_labels(jean_shafiroff_subgraph, pos, edge_labels)\n",
    "\n",
    "ax = plt.gca()\n",
    "ax.margins(0.08)\n",
    "plt.axis(\"off\")\n",
    "plt.tight_layout()\n",
    "plt.show()"
   ]
  },
  {
   "cell_type": "markdown",
   "metadata": {
    "collapsed": false,
    "editable": true,
    "id": "Gh52kP5pdQmD",
    "jupyter": {
     "outputs_hidden": false
    },
    "slideshow": {
     "slide_type": ""
    },
    "tags": []
   },
   "source": [
    "## Question 4: Graph properties (20 p)"
   ]
  },
  {
   "cell_type": "markdown",
   "metadata": {
    "collapsed": false,
    "id": "SUa1Q-L3dQmD",
    "jupyter": {
     "outputs_hidden": false
    }
   },
   "source": [
    "What real-world graph properties does this graph exhibit? Please show your work and interpret your answer. Does the result make sense given the nature of the graph?"
   ]
  },
  {
   "cell_type": "markdown",
   "metadata": {},
   "source": [
    "➢ Small-world property"
   ]
  },
  {
   "cell_type": "code",
   "execution_count": 709,
   "metadata": {},
   "outputs": [
    {
     "data": {
      "text/plain": [
       "10.558153746277792"
      ]
     },
     "execution_count": 709,
     "metadata": {},
     "output_type": "execute_result"
    }
   ],
   "source": [
    "n = len(S[0].nodes)\n",
    "log_n = math.log(n)\n",
    "\n",
    "log_n"
   ]
  },
  {
   "cell_type": "code",
   "execution_count": 710,
   "metadata": {},
   "outputs": [
    {
     "ename": "KeyboardInterrupt",
     "evalue": "",
     "output_type": "error",
     "traceback": [
      "\u001b[0;31m---------------------------------------------------------------------------\u001b[0m",
      "\u001b[0;31mKeyboardInterrupt\u001b[0m                         Traceback (most recent call last)",
      "Cell \u001b[0;32mIn[710], line 1\u001b[0m\n\u001b[0;32m----> 1\u001b[0m mu_l \u001b[38;5;241m=\u001b[39m \u001b[43mnx\u001b[49m\u001b[38;5;241;43m.\u001b[39;49m\u001b[43maverage_shortest_path_length\u001b[49m\u001b[43m(\u001b[49m\u001b[43mS\u001b[49m\u001b[43m[\u001b[49m\u001b[38;5;241;43m0\u001b[39;49m\u001b[43m]\u001b[49m\u001b[43m)\u001b[49m\n",
      "File \u001b[0;32m<class 'networkx.utils.decorators.argmap'> compilation 92:3\u001b[0m, in \u001b[0;36margmap_average_shortest_path_length_89\u001b[0;34m(G, weight, method, backend, **backend_kwargs)\u001b[0m\n\u001b[1;32m      1\u001b[0m \u001b[38;5;28;01mimport\u001b[39;00m \u001b[38;5;21;01mbz2\u001b[39;00m\n\u001b[1;32m      2\u001b[0m \u001b[38;5;28;01mimport\u001b[39;00m \u001b[38;5;21;01mcollections\u001b[39;00m\n\u001b[0;32m----> 3\u001b[0m \u001b[38;5;28;01mimport\u001b[39;00m \u001b[38;5;21;01mgzip\u001b[39;00m\n\u001b[1;32m      4\u001b[0m \u001b[38;5;28;01mimport\u001b[39;00m \u001b[38;5;21;01minspect\u001b[39;00m\n\u001b[1;32m      5\u001b[0m \u001b[38;5;28;01mimport\u001b[39;00m \u001b[38;5;21;01mitertools\u001b[39;00m\n",
      "File \u001b[0;32m~/.virtualenvs/csci550-miniproject1/lib/python3.11/site-packages/networkx/utils/backends.py:633\u001b[0m, in \u001b[0;36m_dispatchable.__call__\u001b[0;34m(self, backend, *args, **kwargs)\u001b[0m\n\u001b[1;32m    628\u001b[0m \u001b[38;5;250m\u001b[39m\u001b[38;5;124;03m\"\"\"Returns the result of the original function, or the backend function if\u001b[39;00m\n\u001b[1;32m    629\u001b[0m \u001b[38;5;124;03mthe backend is specified and that backend implements `func`.\"\"\"\u001b[39;00m\n\u001b[1;32m    631\u001b[0m \u001b[38;5;28;01mif\u001b[39;00m \u001b[38;5;129;01mnot\u001b[39;00m backends:\n\u001b[1;32m    632\u001b[0m     \u001b[38;5;66;03m# Fast path if no backends are installed\u001b[39;00m\n\u001b[0;32m--> 633\u001b[0m     \u001b[38;5;28;01mreturn\u001b[39;00m \u001b[38;5;28;43mself\u001b[39;49m\u001b[38;5;241;43m.\u001b[39;49m\u001b[43morig_func\u001b[49m\u001b[43m(\u001b[49m\u001b[38;5;241;43m*\u001b[39;49m\u001b[43margs\u001b[49m\u001b[43m,\u001b[49m\u001b[43m \u001b[49m\u001b[38;5;241;43m*\u001b[39;49m\u001b[38;5;241;43m*\u001b[39;49m\u001b[43mkwargs\u001b[49m\u001b[43m)\u001b[49m\n\u001b[1;32m    635\u001b[0m \u001b[38;5;66;03m# Use `backend_name` in this function instead of `backend`\u001b[39;00m\n\u001b[1;32m    636\u001b[0m backend_name \u001b[38;5;241m=\u001b[39m backend\n",
      "File \u001b[0;32m~/.virtualenvs/csci550-miniproject1/lib/python3.11/site-packages/networkx/algorithms/shortest_paths/generic.py:441\u001b[0m, in \u001b[0;36maverage_shortest_path_length\u001b[0;34m(G, weight, method)\u001b[0m\n\u001b[1;32m    437\u001b[0m         \u001b[38;5;28;01mreturn\u001b[39;00m nx\u001b[38;5;241m.\u001b[39msingle_source_bellman_ford_path_length(G, v, weight\u001b[38;5;241m=\u001b[39mweight)\n\u001b[1;32m    439\u001b[0m \u001b[38;5;28;01mif\u001b[39;00m method \u001b[38;5;129;01min\u001b[39;00m single_source_methods:\n\u001b[1;32m    440\u001b[0m     \u001b[38;5;66;03m# Sum the distances for each (ordered) pair of source and target node.\u001b[39;00m\n\u001b[0;32m--> 441\u001b[0m     s \u001b[38;5;241m=\u001b[39m \u001b[38;5;28;43msum\u001b[39;49m\u001b[43m(\u001b[49m\u001b[43ml\u001b[49m\u001b[43m \u001b[49m\u001b[38;5;28;43;01mfor\u001b[39;49;00m\u001b[43m \u001b[49m\u001b[43mu\u001b[49m\u001b[43m \u001b[49m\u001b[38;5;129;43;01min\u001b[39;49;00m\u001b[43m \u001b[49m\u001b[43mG\u001b[49m\u001b[43m \u001b[49m\u001b[38;5;28;43;01mfor\u001b[39;49;00m\u001b[43m \u001b[49m\u001b[43ml\u001b[49m\u001b[43m \u001b[49m\u001b[38;5;129;43;01min\u001b[39;49;00m\u001b[43m \u001b[49m\u001b[43mpath_length\u001b[49m\u001b[43m(\u001b[49m\u001b[43mu\u001b[49m\u001b[43m)\u001b[49m\u001b[38;5;241;43m.\u001b[39;49m\u001b[43mvalues\u001b[49m\u001b[43m(\u001b[49m\u001b[43m)\u001b[49m\u001b[43m)\u001b[49m\n\u001b[1;32m    442\u001b[0m \u001b[38;5;28;01melse\u001b[39;00m:\n\u001b[1;32m    443\u001b[0m     \u001b[38;5;28;01mif\u001b[39;00m method \u001b[38;5;241m==\u001b[39m \u001b[38;5;124m\"\u001b[39m\u001b[38;5;124mfloyd-warshall\u001b[39m\u001b[38;5;124m\"\u001b[39m:\n",
      "File \u001b[0;32m~/.virtualenvs/csci550-miniproject1/lib/python3.11/site-packages/networkx/algorithms/shortest_paths/generic.py:441\u001b[0m, in \u001b[0;36m<genexpr>\u001b[0;34m(.0)\u001b[0m\n\u001b[1;32m    437\u001b[0m         \u001b[38;5;28;01mreturn\u001b[39;00m nx\u001b[38;5;241m.\u001b[39msingle_source_bellman_ford_path_length(G, v, weight\u001b[38;5;241m=\u001b[39mweight)\n\u001b[1;32m    439\u001b[0m \u001b[38;5;28;01mif\u001b[39;00m method \u001b[38;5;129;01min\u001b[39;00m single_source_methods:\n\u001b[1;32m    440\u001b[0m     \u001b[38;5;66;03m# Sum the distances for each (ordered) pair of source and target node.\u001b[39;00m\n\u001b[0;32m--> 441\u001b[0m     s \u001b[38;5;241m=\u001b[39m \u001b[38;5;28msum\u001b[39m(l \u001b[38;5;28;01mfor\u001b[39;00m u \u001b[38;5;129;01min\u001b[39;00m G \u001b[38;5;28;01mfor\u001b[39;00m l \u001b[38;5;129;01min\u001b[39;00m \u001b[43mpath_length\u001b[49m\u001b[43m(\u001b[49m\u001b[43mu\u001b[49m\u001b[43m)\u001b[49m\u001b[38;5;241m.\u001b[39mvalues())\n\u001b[1;32m    442\u001b[0m \u001b[38;5;28;01melse\u001b[39;00m:\n\u001b[1;32m    443\u001b[0m     \u001b[38;5;28;01mif\u001b[39;00m method \u001b[38;5;241m==\u001b[39m \u001b[38;5;124m\"\u001b[39m\u001b[38;5;124mfloyd-warshall\u001b[39m\u001b[38;5;124m\"\u001b[39m:\n",
      "File \u001b[0;32m~/.virtualenvs/csci550-miniproject1/lib/python3.11/site-packages/networkx/algorithms/shortest_paths/generic.py:433\u001b[0m, in \u001b[0;36maverage_shortest_path_length.<locals>.path_length\u001b[0;34m(v)\u001b[0m\n\u001b[1;32m    431\u001b[0m \u001b[38;5;28;01mdef\u001b[39;00m \u001b[38;5;21mpath_length\u001b[39m(v):\n\u001b[1;32m    432\u001b[0m     \u001b[38;5;28;01mif\u001b[39;00m method \u001b[38;5;241m==\u001b[39m \u001b[38;5;124m\"\u001b[39m\u001b[38;5;124munweighted\u001b[39m\u001b[38;5;124m\"\u001b[39m:\n\u001b[0;32m--> 433\u001b[0m         \u001b[38;5;28;01mreturn\u001b[39;00m \u001b[43mnx\u001b[49m\u001b[38;5;241;43m.\u001b[39;49m\u001b[43msingle_source_shortest_path_length\u001b[49m\u001b[43m(\u001b[49m\u001b[43mG\u001b[49m\u001b[43m,\u001b[49m\u001b[43m \u001b[49m\u001b[43mv\u001b[49m\u001b[43m)\u001b[49m\n\u001b[1;32m    434\u001b[0m     \u001b[38;5;28;01melif\u001b[39;00m method \u001b[38;5;241m==\u001b[39m \u001b[38;5;124m\"\u001b[39m\u001b[38;5;124mdijkstra\u001b[39m\u001b[38;5;124m\"\u001b[39m:\n\u001b[1;32m    435\u001b[0m         \u001b[38;5;28;01mreturn\u001b[39;00m nx\u001b[38;5;241m.\u001b[39msingle_source_dijkstra_path_length(G, v, weight\u001b[38;5;241m=\u001b[39mweight)\n",
      "File \u001b[0;32m<class 'networkx.utils.decorators.argmap'> compilation 8:3\u001b[0m, in \u001b[0;36margmap_single_source_shortest_path_length_5\u001b[0;34m(G, source, cutoff, backend, **backend_kwargs)\u001b[0m\n\u001b[1;32m      1\u001b[0m \u001b[38;5;28;01mimport\u001b[39;00m \u001b[38;5;21;01mbz2\u001b[39;00m\n\u001b[1;32m      2\u001b[0m \u001b[38;5;28;01mimport\u001b[39;00m \u001b[38;5;21;01mcollections\u001b[39;00m\n\u001b[0;32m----> 3\u001b[0m \u001b[38;5;28;01mimport\u001b[39;00m \u001b[38;5;21;01mgzip\u001b[39;00m\n\u001b[1;32m      4\u001b[0m \u001b[38;5;28;01mimport\u001b[39;00m \u001b[38;5;21;01minspect\u001b[39;00m\n\u001b[1;32m      5\u001b[0m \u001b[38;5;28;01mimport\u001b[39;00m \u001b[38;5;21;01mitertools\u001b[39;00m\n",
      "File \u001b[0;32m~/.virtualenvs/csci550-miniproject1/lib/python3.11/site-packages/networkx/utils/backends.py:633\u001b[0m, in \u001b[0;36m_dispatchable.__call__\u001b[0;34m(self, backend, *args, **kwargs)\u001b[0m\n\u001b[1;32m    628\u001b[0m \u001b[38;5;250m\u001b[39m\u001b[38;5;124;03m\"\"\"Returns the result of the original function, or the backend function if\u001b[39;00m\n\u001b[1;32m    629\u001b[0m \u001b[38;5;124;03mthe backend is specified and that backend implements `func`.\"\"\"\u001b[39;00m\n\u001b[1;32m    631\u001b[0m \u001b[38;5;28;01mif\u001b[39;00m \u001b[38;5;129;01mnot\u001b[39;00m backends:\n\u001b[1;32m    632\u001b[0m     \u001b[38;5;66;03m# Fast path if no backends are installed\u001b[39;00m\n\u001b[0;32m--> 633\u001b[0m     \u001b[38;5;28;01mreturn\u001b[39;00m \u001b[38;5;28;43mself\u001b[39;49m\u001b[38;5;241;43m.\u001b[39;49m\u001b[43morig_func\u001b[49m\u001b[43m(\u001b[49m\u001b[38;5;241;43m*\u001b[39;49m\u001b[43margs\u001b[49m\u001b[43m,\u001b[49m\u001b[43m \u001b[49m\u001b[38;5;241;43m*\u001b[39;49m\u001b[38;5;241;43m*\u001b[39;49m\u001b[43mkwargs\u001b[49m\u001b[43m)\u001b[49m\n\u001b[1;32m    635\u001b[0m \u001b[38;5;66;03m# Use `backend_name` in this function instead of `backend`\u001b[39;00m\n\u001b[1;32m    636\u001b[0m backend_name \u001b[38;5;241m=\u001b[39m backend\n",
      "File \u001b[0;32m~/.virtualenvs/csci550-miniproject1/lib/python3.11/site-packages/networkx/algorithms/shortest_paths/unweighted.py:62\u001b[0m, in \u001b[0;36msingle_source_shortest_path_length\u001b[0;34m(G, source, cutoff)\u001b[0m\n\u001b[1;32m     60\u001b[0m     cutoff \u001b[38;5;241m=\u001b[39m \u001b[38;5;28mfloat\u001b[39m(\u001b[38;5;124m\"\u001b[39m\u001b[38;5;124minf\u001b[39m\u001b[38;5;124m\"\u001b[39m)\n\u001b[1;32m     61\u001b[0m nextlevel \u001b[38;5;241m=\u001b[39m [source]\n\u001b[0;32m---> 62\u001b[0m \u001b[38;5;28;01mreturn\u001b[39;00m \u001b[38;5;28mdict\u001b[39m(_single_shortest_path_length(G\u001b[38;5;241m.\u001b[39m_adj, nextlevel, cutoff))\n",
      "File \u001b[0;32m~/.virtualenvs/csci550-miniproject1/lib/python3.11/site-packages/networkx/algorithms/shortest_paths/unweighted.py:-1\u001b[0m, in \u001b[0;36m_single_shortest_path_length\u001b[0;34m(adj, firstlevel, cutoff)\u001b[0m\n\u001b[1;32m      0\u001b[0m <Error retrieving source code with stack_data see ipython/ipython#13598>\n",
      "\u001b[0;31mKeyboardInterrupt\u001b[0m: "
     ]
    }
   ],
   "source": [
    "mu_l = nx.average_shortest_path_length(S[0])"
   ]
  },
  {
   "cell_type": "code",
   "execution_count": null,
   "metadata": {},
   "outputs": [],
   "source": [
    "mu_l"
   ]
  },
  {
   "cell_type": "markdown",
   "metadata": {},
   "source": [
    "$\\mu_L$ $\\propto$ $\\log_2n$, therefore the graph exhibits small-world property. This means that the people in S[0], the largest subgraph of the set of disconnected subgraphs, are all connected in the social chain by a few individuals. In other words, the strangers in this graph are often easily connected by a \"friend-of-a-friend\" chain. $\\mu_L$ = 6.3, which is consistent with the commonly referenced \"six degrees of separation\" between two individuals.  The graph does not exhibit ultra-small-world properties as it is not true that $\\mu_L \\ll \\log_2n$."
   ]
  },
  {
   "cell_type": "markdown",
   "metadata": {},
   "source": [
    "➢ Scale-free property"
   ]
  },
  {
   "cell_type": "code",
   "execution_count": 588,
   "metadata": {},
   "outputs": [
    {
     "data": {
      "text/plain": [
       "[<matplotlib.lines.Line2D at 0x7fd227837150>]"
      ]
     },
     "execution_count": 588,
     "metadata": {},
     "output_type": "execute_result"
    },
    {
     "data": {
      "image/png": "[encoded data removed]",
      "text/plain": [
       "<Figure size 640x480 with 1 Axes>"
      ]
     },
     "metadata": {},
     "output_type": "display_data"
    }
   ],
   "source": [
    "dict_degrees = dict(nx.degree(S[0], weight = \"weight\"))\n",
    "degree_vals = dict_degrees.values()\n",
    "unique, count = np.unique(list(degree_vals), return_counts=True)\n",
    "unique = np.log2(unique)\n",
    "count = np.log2(count)\n",
    "plt.scatter(unique, count)\n",
    "plt.xlabel('log(degree)')\n",
    "plt.ylabel('log(frequency)')      \n",
    "\n",
    "m, c = np.polyfit(unique, count, 1)\n",
    "plt.plot(unique, m*unique + c, \"r--\")"
   ]
  },
  {
   "cell_type": "code",
   "execution_count": 125,
   "metadata": {},
   "outputs": [
    {
     "data": {
      "text/plain": [
       "-2.329850950122799"
      ]
     },
     "execution_count": 125,
     "metadata": {},
     "output_type": "execute_result"
    }
   ],
   "source": [
    "## Gamma\n",
    "m"
   ]
  },
  {
   "cell_type": "markdown",
   "metadata": {},
   "source": [
    "$\\log$-$\\log$ plot of $k$ vs $f(k)$ shows a linear relationship with a slope ($\\gamma$) of -2.3299, so the graph can be said to exhibit scale-free property."
   ]
  },
  {
   "cell_type": "markdown",
   "metadata": {},
   "source": [
    "➢ Clustering effect"
   ]
  },
  {
   "cell_type": "code",
   "execution_count": null,
   "metadata": {
    "scrolled": true
   },
   "outputs": [],
   "source": [
    "unique = np.unique(list(degree_vals))\n",
    "\n",
    "clust_coefs = dict()\n",
    "for i in unique:\n",
    "    subgraph = [n[0] for n in nx.degree(S[0], weight = \"weight\") if n[1] == i]\n",
    "    c = nx.average_clustering(S[0], nodes = subgraph)\n",
    "    clust_coefs[i] = c\n",
    "\n",
    "clust_coefs"
   ]
  },
  {
   "cell_type": "code",
   "execution_count": null,
   "metadata": {},
   "outputs": [],
   "source": [
    "log_k = np.log2(list(clust_coefs.keys()))\n",
    "log_c = np.nan_to_num(np.log2(list(clust_coefs.values())), neginf = 0)\n",
    "\n",
    "plt.scatter(log_k, log_c)\n",
    "plt.xlabel('log_2(degree)')\n",
    "plt.ylabel('log_2(C(k))')\n",
    "m, c = np.polyfit(log_k, log_c, 1)\n",
    "plt.plot(log_k, m*log_k + c, \"r--\")"
   ]
  },
  {
   "cell_type": "code",
   "execution_count": 621,
   "metadata": {},
   "outputs": [
    {
     "data": {
      "text/plain": [
       "-0.7905516113111712"
      ]
     },
     "execution_count": 621,
     "metadata": {},
     "output_type": "execute_result"
    }
   ],
   "source": [
    "m #gamma"
   ]
  },
  {
   "cell_type": "markdown",
   "metadata": {},
   "source": [
    "$C(k) \\propto k^{-\\gamma}$"
   ]
  },
  {
   "cell_type": "markdown",
   "metadata": {
    "collapsed": false,
    "id": "9FFIp3O2dQmD",
    "jupyter": {
     "outputs_hidden": false
    }
   },
   "source": [
    "## Question 4: Who are the most photogenic persons? (10 p)"
   ]
  },
  {
   "cell_type": "markdown",
   "metadata": {
    "collapsed": false,
    "id": "PLmABp34dQmD",
    "jupyter": {
     "outputs_hidden": false
    }
   },
   "source": [
    "The simplest question to ask is \"who is the most popular\"?  The easiest way to answer this question is to look at how many connections everyone has.  Return the top 100 people and their degree.  Remember that if an edge of the graph has weight 2, it counts for 2 in the degree.\n",
    "\n",
    "**Checkpoint:** Some aggregate stats on the solution\n",
    "\n",
    "    \"count\": 100.0\n",
    "    \"mean\": 189.92\n",
    "    \"std\": 87.8053034454\n",
    "    \"min\": 124.0\n",
    "    \"25%\": 138.0\n",
    "    \"50%\": 157.0\n",
    "    \"75%\": 195.0\n",
    "    \"max\": 666.0"
   ]
  },
  {
   "cell_type": "code",
   "execution_count": 50,
   "metadata": {
    "collapsed": false,
    "jupyter": {
     "outputs_hidden": false
    }
   },
   "outputs": [],
   "source": [
    "top_degrees_df = pd.DataFrame(degrees[:100])\n",
    "top_degrees_df"
   ]
  },
  {
   "cell_type": "code",
   "execution_count": 51,
   "metadata": {
    "collapsed": false,
    "id": "uvfpNfrBdQmD",
    "jupyter": {
     "outputs_hidden": false
    }
   },
   "outputs": [
    {
     "data": {
      "text/html": [
       "<div>\n",
       "<style scoped>\n",
       "    .dataframe tbody tr th:only-of-type {\n",
       "        vertical-align: middle;\n",
       "    }\n",
       "\n",
       "    .dataframe tbody tr th {\n",
       "        vertical-align: top;\n",
       "    }\n",
       "\n",
       "    .dataframe thead th {\n",
       "        text-align: right;\n",
       "    }\n",
       "</style>\n",
       "<table border=\"1\" class=\"dataframe\">\n",
       "  <thead>\n",
       "    <tr style=\"text-align: right;\">\n",
       "      <th></th>\n",
       "      <th>1</th>\n",
       "    </tr>\n",
       "  </thead>\n",
       "  <tbody>\n",
       "    <tr>\n",
       "      <th>count</th>\n",
       "      <td>100.000000</td>\n",
       "    </tr>\n",
       "    <tr>\n",
       "      <th>mean</th>\n",
       "      <td>129.760000</td>\n",
       "    </tr>\n",
       "    <tr>\n",
       "      <th>std</th>\n",
       "      <td>60.649868</td>\n",
       "    </tr>\n",
       "    <tr>\n",
       "      <th>min</th>\n",
       "      <td>85.000000</td>\n",
       "    </tr>\n",
       "    <tr>\n",
       "      <th>25%</th>\n",
       "      <td>94.000000</td>\n",
       "    </tr>\n",
       "    <tr>\n",
       "      <th>50%</th>\n",
       "      <td>111.000000</td>\n",
       "    </tr>\n",
       "    <tr>\n",
       "      <th>75%</th>\n",
       "      <td>135.000000</td>\n",
       "    </tr>\n",
       "    <tr>\n",
       "      <th>max</th>\n",
       "      <td>462.000000</td>\n",
       "    </tr>\n",
       "  </tbody>\n",
       "</table>\n",
       "</div>"
      ],
      "text/plain": [
       "                1\n",
       "count  100.000000\n",
       "mean   129.760000\n",
       "std     60.649868\n",
       "min     85.000000\n",
       "25%     94.000000\n",
       "50%    111.000000\n",
       "75%    135.000000\n",
       "max    462.000000"
      ]
     },
     "execution_count": 51,
     "metadata": {},
     "output_type": "execute_result"
    }
   ],
   "source": [
    "top_degrees_df.describe()"
   ]
  },
  {
   "cell_type": "markdown",
   "metadata": {
    "collapsed": false,
    "editable": true,
    "id": "9_NLf97kdQmD",
    "jupyter": {
     "outputs_hidden": false
    },
    "slideshow": {
     "slide_type": ""
    },
    "tags": []
   },
   "source": [
    "## Question 5: Centrality analysis (20 p)\n"
   ]
  },
  {
   "cell_type": "markdown",
   "metadata": {
    "collapsed": false,
    "id": "pWJFmfmwdQmD",
    "jupyter": {
     "outputs_hidden": false
    }
   },
   "source": [
    "Use eccentricity centrality, closeness centrality, betweenness centrality, prestige, and PageRank to identify the top 10 individuals with the highest centrality for each measure. How do you interpret the results?\n",
    "\n",
    "Use 0.85 as the damping parameter for page rank, so that there is a 15% chance of jumping to another vertex at random.\n",
    "\n",
    "**Checkpoint:** Some aggregate stats on the solution for pagerank\n",
    "\n",
    "    \"count\": 100.0\n",
    "    \"mean\": 0.0001841088\n",
    "    \"std\": 0.0000758068\n",
    "    \"min\": 0.0001238355\n",
    "    \"25%\": 0.0001415028\n",
    "    \"50%\": 0.0001616183\n",
    "    \"75%\": 0.0001972663\n",
    "    \"max\": 0.0006085816"
   ]
  },
  {
   "cell_type": "code",
   "execution_count": 53,
   "metadata": {
    "collapsed": false,
    "editable": true,
    "jupyter": {
     "outputs_hidden": false
    },
    "slideshow": {
     "slide_type": ""
    },
    "tags": []
   },
   "outputs": [
    {
     "data": {
      "text/plain": [
       "list"
      ]
     },
     "execution_count": 53,
     "metadata": {},
     "output_type": "execute_result"
    }
   ],
   "source": [
    "type(sorted(G.degree, key=lambda x: x[1], reverse=True))"
   ]
  },
  {
   "cell_type": "code",
   "execution_count": 54,
   "metadata": {
    "collapsed": false,
    "editable": true,
    "jupyter": {
     "outputs_hidden": false
    },
    "scrolled": true,
    "slideshow": {
     "slide_type": ""
    },
    "tags": []
   },
   "outputs": [],
   "source": [
    "### Eccentricity Centrality\n",
    "ecc = nx.eccentricity(S[0])"
   ]
  },
  {
   "cell_type": "code",
   "execution_count": 55,
   "metadata": {
    "collapsed": false,
    "editable": true,
    "jupyter": {
     "outputs_hidden": false
    },
    "scrolled": true,
    "slideshow": {
     "slide_type": ""
    },
    "tags": []
   },
   "outputs": [
    {
     "ename": "AttributeError",
     "evalue": "'str' object has no attribute 'value'",
     "output_type": "error",
     "traceback": [
      "\u001b[0;31m---------------------------------------------------------------------------\u001b[0m",
      "\u001b[0;31mAttributeError\u001b[0m                            Traceback (most recent call last)",
      "Cell \u001b[0;32mIn[55], line 1\u001b[0m\n\u001b[0;32m----> 1\u001b[0m \u001b[38;5;28;43msorted\u001b[39;49m\u001b[43m(\u001b[49m\u001b[43mecc\u001b[49m\u001b[43m,\u001b[49m\u001b[43m \u001b[49m\u001b[43mkey\u001b[49m\u001b[43m \u001b[49m\u001b[38;5;241;43m=\u001b[39;49m\u001b[43m \u001b[49m\u001b[38;5;28;43;01mlambda\u001b[39;49;00m\u001b[43m \u001b[49m\u001b[43mx\u001b[49m\u001b[43m:\u001b[49m\u001b[43m \u001b[49m\u001b[43mx\u001b[49m\u001b[38;5;241;43m.\u001b[39;49m\u001b[43mvalue\u001b[49m\u001b[43m,\u001b[49m\u001b[43m \u001b[49m\u001b[43mreverse\u001b[49m\u001b[43m \u001b[49m\u001b[38;5;241;43m=\u001b[39;49m\u001b[43m \u001b[49m\u001b[38;5;28;43;01mTrue\u001b[39;49;00m\u001b[43m)\u001b[49m\n",
      "Cell \u001b[0;32mIn[55], line 1\u001b[0m, in \u001b[0;36m<lambda>\u001b[0;34m(x)\u001b[0m\n\u001b[0;32m----> 1\u001b[0m \u001b[38;5;28msorted\u001b[39m(ecc, key \u001b[38;5;241m=\u001b[39m \u001b[38;5;28;01mlambda\u001b[39;00m x: \u001b[43mx\u001b[49m\u001b[38;5;241;43m.\u001b[39;49m\u001b[43mvalue\u001b[49m, reverse \u001b[38;5;241m=\u001b[39m \u001b[38;5;28;01mTrue\u001b[39;00m)\n",
      "\u001b[0;31mAttributeError\u001b[0m: 'str' object has no attribute 'value'"
     ]
    }
   ],
   "source": [
    "sorted(ecc, key = lambda x: x.value, reverse = True)"
   ]
  },
  {
   "cell_type": "code",
   "execution_count": null,
   "metadata": {
    "collapsed": false,
    "editable": true,
    "jupyter": {
     "outputs_hidden": false
    },
    "scrolled": true,
    "slideshow": {
     "slide_type": ""
    },
    "tags": []
   },
   "outputs": [],
   "source": [
    "closeness = nx.closeness_centrality(S[0])"
   ]
  },
  {
   "cell_type": "code",
   "execution_count": null,
   "metadata": {
    "collapsed": false,
    "editable": true,
    "jupyter": {
     "outputs_hidden": false
    },
    "scrolled": true,
    "slideshow": {
     "slide_type": ""
    },
    "tags": []
   },
   "outputs": [],
   "source": [
    "sorted(closeness, key = lambda x: x.value, reverse = True)"
   ]
  },
  {
   "cell_type": "code",
   "execution_count": null,
   "metadata": {
    "collapsed": false,
    "editable": true,
    "jupyter": {
     "outputs_hidden": false
    },
    "slideshow": {
     "slide_type": ""
    },
    "tags": []
   },
   "outputs": [],
   "source": [
    "betweenness = nx.betweenness_centrality(S[0])"
   ]
  },
  {
   "cell_type": "code",
   "execution_count": null,
   "metadata": {
    "collapsed": false,
    "editable": true,
    "jupyter": {
     "outputs_hidden": false
    },
    "slideshow": {
     "slide_type": ""
    },
    "tags": []
   },
   "outputs": [],
   "source": [
    "sorted(betweenness, key = lambda x: x.value, reverse = True)"
   ]
  },
  {
   "cell_type": "code",
   "execution_count": null,
   "metadata": {
    "collapsed": false,
    "editable": true,
    "jupyter": {
     "outputs_hidden": false
    },
    "scrolled": true,
    "slideshow": {
     "slide_type": ""
    },
    "tags": []
   },
   "outputs": [],
   "source": [
    "page_rank = nx.pagerank(G, alpha = 0.85)\n",
    "page_rank[\"Jean Shafiroff\"]"
   ]
  },
  {
   "cell_type": "code",
   "execution_count": null,
   "metadata": {
    "collapsed": false,
    "jupyter": {
     "outputs_hidden": false
    }
   },
   "outputs": [],
   "source": [
    "page_rank_df = pd.DataFrame.from_dict(page_rank, orient = \"index\")\n",
    "page_rank_df.describe()"
   ]
  },
  {
   "cell_type": "code",
   "execution_count": 468,
   "metadata": {
    "collapsed": false,
    "jupyter": {
     "outputs_hidden": false
    }
   },
   "outputs": [
    {
     "data": {
      "text/html": [
       "<div>\n",
       "<style scoped>\n",
       "    .dataframe tbody tr th:only-of-type {\n",
       "        vertical-align: middle;\n",
       "    }\n",
       "\n",
       "    .dataframe tbody tr th {\n",
       "        vertical-align: top;\n",
       "    }\n",
       "\n",
       "    .dataframe thead th {\n",
       "        text-align: right;\n",
       "    }\n",
       "</style>\n",
       "<table border=\"1\" class=\"dataframe\">\n",
       "  <thead>\n",
       "    <tr style=\"text-align: right;\">\n",
       "      <th></th>\n",
       "      <th>0</th>\n",
       "    </tr>\n",
       "  </thead>\n",
       "  <tbody>\n",
       "    <tr>\n",
       "      <th>Jean Shafiroff</th>\n",
       "      <td>0.000748</td>\n",
       "    </tr>\n",
       "    <tr>\n",
       "      <th>Mark Gilbertson</th>\n",
       "      <td>0.000614</td>\n",
       "    </tr>\n",
       "    <tr>\n",
       "      <th>Gillian Miniter</th>\n",
       "      <td>0.000510</td>\n",
       "    </tr>\n",
       "    <tr>\n",
       "      <th>Alexandra Lebenthal</th>\n",
       "      <td>0.000457</td>\n",
       "    </tr>\n",
       "    <tr>\n",
       "      <th>Geoffrey Bradfield</th>\n",
       "      <td>0.000439</td>\n",
       "    </tr>\n",
       "    <tr>\n",
       "      <th>...</th>\n",
       "      <td>...</td>\n",
       "    </tr>\n",
       "    <tr>\n",
       "      <th>Coralie Charriol Paul</th>\n",
       "      <td>0.000150</td>\n",
       "    </tr>\n",
       "    <tr>\n",
       "      <th>Mary Van Pelt</th>\n",
       "      <td>0.000150</td>\n",
       "    </tr>\n",
       "    <tr>\n",
       "      <th>Carol Mack</th>\n",
       "      <td>0.000149</td>\n",
       "    </tr>\n",
       "    <tr>\n",
       "      <th>Stephanie Winston Wolkoff</th>\n",
       "      <td>0.000147</td>\n",
       "    </tr>\n",
       "    <tr>\n",
       "      <th>Liliana Cavendish</th>\n",
       "      <td>0.000147</td>\n",
       "    </tr>\n",
       "  </tbody>\n",
       "</table>\n",
       "<p>100 rows × 1 columns</p>\n",
       "</div>"
      ],
      "text/plain": [
       "                                  0\n",
       "Jean Shafiroff             0.000748\n",
       "Mark Gilbertson            0.000614\n",
       "Gillian Miniter            0.000510\n",
       "Alexandra Lebenthal        0.000457\n",
       "Geoffrey Bradfield         0.000439\n",
       "...                             ...\n",
       "Coralie Charriol Paul      0.000150\n",
       "Mary Van Pelt              0.000150\n",
       "Carol Mack                 0.000149\n",
       "Stephanie Winston Wolkoff  0.000147\n",
       "Liliana Cavendish          0.000147\n",
       "\n",
       "[100 rows x 1 columns]"
      ]
     },
     "execution_count": 468,
     "metadata": {},
     "output_type": "execute_result"
    }
   ],
   "source": [
    "page_rank_df.sort_values(by = 0, ascending = False)[0:100]"
   ]
  },
  {
   "cell_type": "markdown",
   "metadata": {
    "collapsed": false,
    "id": "0nuRZPJHdQmD",
    "jupyter": {
     "outputs_hidden": false
    }
   },
   "source": [
    "## Question 6: best_friends (10 p)\n"
   ]
  },
  {
   "cell_type": "markdown",
   "metadata": {
    "collapsed": false,
    "id": "Iyhdm9cjdQmE",
    "jupyter": {
     "outputs_hidden": false
    }
   },
   "source": [
    "Another interesting question is who tend to co-occur with each other.  Give us the 100 edges with the highest weights.\n",
    "\n",
    "Google these people and see what their connection is.  Can we use this to detect instances of infidelity?\n",
    "\n",
    "**Checkpoint:** Some aggregate stats on the solution\n",
    "\n",
    "    \"count\": 100.0\n",
    "    \"mean\": 25.84\n",
    "    \"std\": 16.0395470855\n",
    "    \"min\": 14.0\n",
    "    \"25%\": 16.0\n",
    "    \"50%\": 19.0\n",
    "    \"75%\": 29.25\n",
    "    \"max\": 109.0"
   ]
  },
  {
   "cell_type": "code",
   "execution_count": 469,
   "metadata": {
    "collapsed": false,
    "id": "aI-QPUTjdQmE",
    "jupyter": {
     "outputs_hidden": false
    }
   },
   "outputs": [],
   "source": [
    "#temple form for the answer\n",
    "best_friends = [(('Michael Kennedy', 'Eleanora Kennedy'), 41)] * 100\n"
   ]
  },
  {
   "cell_type": "code",
   "execution_count": 806,
   "metadata": {
    "collapsed": false,
    "id": "YEf_csTydQmE",
    "jupyter": {
     "outputs_hidden": false
    },
    "scrolled": true
   },
   "outputs": [
    {
     "data": {
      "text/plain": [
       "[('Gillian Miniter', 'Sylvester Miniter', {'weight': 71}),\n",
       " ('Bonnie Comley', 'Stewart Lane', {'weight': 50}),\n",
       " ('Peter Gregory', 'Jamee Gregory', {'weight': 49}),\n",
       " ('Geoffrey Bradfield', 'Roric Tobin', {'weight': 49}),\n",
       " ('Andrew Saffir', 'Daniel Benedict', {'weight': 48}),\n",
       " ('Alexandra Lebenthal', 'Jay Diamond', {'weight': 36}),\n",
       " ('Jonathan Farkas', 'Somers Farkas', {'weight': 34}),\n",
       " ('Barbara Tober', 'Donald Tober', {'weight': 33}),\n",
       " ('Jean Shafiroff', 'Martin Shafiroff', {'weight': 33}),\n",
       " ('Melissa Morris', 'Chappy Morris', {'weight': 28}),\n",
       " ('Chris Meigher', 'Grace Meigher', {'weight': 27}),\n",
       " ('Campion Platt', 'Tatiana Platt', {'weight': 27}),\n",
       " ('Margo Catsimatidis', 'John Catsimatidis', {'weight': 26}),\n",
       " ('Hilary Geary Ross', 'Wilbur Ross', {'weight': 26}),\n",
       " ('Deborah Norville', 'Karl Wellner', {'weight': 26}),\n",
       " ('Lizzie Tisch', 'Jonathan Tisch', {'weight': 25}),\n",
       " ('Barbara Regna', 'Peter Regna', {'weight': 25}),\n",
       " ('Julia Koch', 'David Koch', {'weight': 24}),\n",
       " ('Valentin Hernandez', 'Yaz Hernandez', {'weight': 24}),\n",
       " ('Guy Robinson', 'Elizabeth Stribling', {'weight': 24}),\n",
       " ('Richard Johnson', 'Sessa von Richthofen', {'weight': 24}),\n",
       " ('Coco Kopelman', 'Arie Kopelman', {'weight': 23}),\n",
       " ('R Couri Hay', 'Janna Bullock', {'weight': 22}),\n",
       " ('Frederick Anderson', 'Douglas Hannant', {'weight': 20}),\n",
       " ('Johannes Huebl', 'Olivia Palermo', {'weight': 20}),\n",
       " ('Mark Badgley', 'James Mischka', {'weight': 20}),\n",
       " ('Jay McInerney', 'Anne Hearst McInerney', {'weight': 19}),\n",
       " ('Tommy Hilfiger', 'Dee Ocleppo', {'weight': 19}),\n",
       " ('Marc Rosen', 'Arlene Dahl', {'weight': 18}),\n",
       " ('Eleanora Kennedy', 'Michael Kennedy', {'weight': 18}),\n",
       " ('Stephanie Krieger', 'Brian Stewart', {'weight': 17}),\n",
       " ('Nina Griscom', 'Leonel Piraino', {'weight': 17}),\n",
       " ('Deborah Roberts', 'Al Roker', {'weight': 16}),\n",
       " ('Kirk Henckels', 'Fernanda Kellogg', {'weight': 16}),\n",
       " ('Rick Friedberg', 'Francine LeFrak', {'weight': 15}),\n",
       " ('Eleanora Kennedy', 'Anna Safir', {'weight': 15}),\n",
       " ('Dennis Basso', 'Michael Cominotto', {'weight': 15}),\n",
       " ('Melanie Wambold', 'John Wambold', {'weight': 15}),\n",
       " ('Randy Kemper', 'Tony Ingrao', {'weight': 15}),\n",
       " ('Michael Bloomberg', 'Diana Taylor', {'weight': 15}),\n",
       " ('Muffie Potter Aston', 'Sherrell Aston', {'weight': 14}),\n",
       " ('Jean Shafiroff', 'Sharon Bush', {'weight': 14}),\n",
       " ('Harry Slatkin', 'Laura Slatkin', {'weight': 14}),\n",
       " ('Donald Trump', 'Melania Trump', {'weight': 14}),\n",
       " ('Christian Simonds', 'Gillian Hearst Simonds', {'weight': 13}),\n",
       " ('Clo Cohen', 'Charles Cohen', {'weight': 13}),\n",
       " ('Richard Steinberg', 'Renee Steinberg', {'weight': 13}),\n",
       " ('Herbert Pardes', 'Nancy Wexler', {'weight': 13}),\n",
       " ('Richard Soloway', 'Donna Soloway', {'weight': 13}),\n",
       " ('Somers Farkas', 'Muffie Potter Aston', {'weight': 12}),\n",
       " ('Chele Chiavacci', 'Richard Farley', {'weight': 12}),\n",
       " ('Kathy Prounis', 'Othon Prounis', {'weight': 12}),\n",
       " ('Gillian Miniter', 'Serena Miniter', {'weight': 12}),\n",
       " ('Lucia Hwong Gordon', 'Jean Shafiroff', {'weight': 12}),\n",
       " ('Charlotte Ronson', 'Ali Wise', {'weight': 12}),\n",
       " ('Jeff Koons', 'Justine Koons', {'weight': 12}),\n",
       " ('Jeff Peek', 'Liz Peek', {'weight': 12}),\n",
       " ('Martha Glass', 'John Glass', {'weight': 12}),\n",
       " ('Will Cotton', 'Rose Dergan', {'weight': 12}),\n",
       " ('Juan Montoya', 'Urban Karlsson', {'weight': 12}),\n",
       " ('Nicholas Scoppetta', 'Susan Magazine', {'weight': 12}),\n",
       " ('Heather Matarazzo', 'Caroline Murphy', {'weight': 12}),\n",
       " ('Michele Herbert', 'Larry Herbert', {'weight': 12}),\n",
       " ('Ray Kelly', 'Veronica Kelly', {'weight': 12}),\n",
       " ('Mary Davidson', 'Marvin Davidson', {'weight': 12}),\n",
       " ('David Lauren', 'Lauren Bush', {'weight': 12}),\n",
       " ('Elaine Langone', 'Ken Langone', {'weight': 12}),\n",
       " ('Barbara Taylor Bradford', 'Robert Bradford', {'weight': 12}),\n",
       " ('Alec Baldwin', 'Hilaria Baldwin', {'weight': 11}),\n",
       " ('Jonathan Adler', 'Simon Doonan', {'weight': 11}),\n",
       " ('Nicole Miller', 'Kim Taipale', {'weight': 11}),\n",
       " ('Lee Black', 'CeCe Black', {'weight': 11}),\n",
       " ('Carolina Herrera', 'Reinaldo Herrera', {'weight': 11}),\n",
       " ('Susan Burke', 'Coleman Burke', {'weight': 11}),\n",
       " ('Hilary Ross', 'Wilbur Ross', {'weight': 11}),\n",
       " ('Hunt Slonem', 'Liliana Cavendish', {'weight': 11}),\n",
       " ('Dean Palin', 'Roxanne Palin', {'weight': 11}),\n",
       " ('Thorne Perkin', 'Tatiana Perkin', {'weight': 11}),\n",
       " ('Mish Tworkowski', 'Joseph Singer', {'weight': 11}),\n",
       " ('Alex McCord', 'Simon van Kempen', {'weight': 11}),\n",
       " ('Jill Kargman', 'Harry Kargman', {'weight': 11}),\n",
       " ('Gayle Sobel', 'Howard Sobel', {'weight': 11}),\n",
       " ('Ana Oliveira', 'Diana Taylor', {'weight': 11}),\n",
       " ('Ken Starr', 'Diane Passage', {'weight': 11}),\n",
       " ('Jodie Eastman', 'John Eastman', {'weight': 10}),\n",
       " ('Gillian Miniter', 'Elyse Newhouse', {'weight': 10}),\n",
       " ('Gillian Miniter', 'Alexandra Lebenthal', {'weight': 10}),\n",
       " ('Daniel Benedict', 'Johannes Huebl', {'weight': 10}),\n",
       " ('Porschla Coleman', 'Russell Simmons', {'weight': 10}),\n",
       " ('Dan Lufkin', 'Cynthia Lufkin', {'weight': 10}),\n",
       " ('Edwina Sandys', 'Richard Kaplan', {'weight': 10}),\n",
       " ('Audrey Gruss', 'Martin Gruss', {'weight': 10}),\n",
       " ('Geoffrey Bradfield', 'Debbie Bancroft', {'weight': 10}),\n",
       " ('Debbie Bancroft', 'Tiffany Dubin', {'weight': 10}),\n",
       " ('Marcy Warren', 'Michael Warren', {'weight': 10}),\n",
       " ('Patricia Shiah', 'Fe Fendi', {'weight': 10}),\n",
       " ('Robert I Grossman', 'NYU Langone', {'weight': 10}),\n",
       " ('Bryant Gumbel', 'Hilary Gumbel', {'weight': 10}),\n",
       " ('Jim Freeman', 'Laura Lofaro Freeman', {'weight': 10}),\n",
       " ('Todd Slotkin', 'Sharyn Mann', {'weight': 10})]"
      ]
     },
     "execution_count": 806,
     "metadata": {},
     "output_type": "execute_result"
    }
   ],
   "source": [
    "weighted_nodes = sorted(G.edges(data = True), key = lambda x: (-x[2]['weight']))\n",
    "\n",
    "weighted_nodes[0:100]"
   ]
  },
  {
   "cell_type": "code",
   "execution_count": 807,
   "metadata": {
    "collapsed": false,
    "editable": true,
    "jupyter": {
     "outputs_hidden": false
    },
    "slideshow": {
     "slide_type": ""
    },
    "tags": []
   },
   "outputs": [
    {
     "data": {
      "text/html": [
       "<div>\n",
       "<style scoped>\n",
       "    .dataframe tbody tr th:only-of-type {\n",
       "        vertical-align: middle;\n",
       "    }\n",
       "\n",
       "    .dataframe tbody tr th {\n",
       "        vertical-align: top;\n",
       "    }\n",
       "\n",
       "    .dataframe thead th {\n",
       "        text-align: right;\n",
       "    }\n",
       "</style>\n",
       "<table border=\"1\" class=\"dataframe\">\n",
       "  <thead>\n",
       "    <tr style=\"text-align: right;\">\n",
       "      <th></th>\n",
       "      <th>0</th>\n",
       "    </tr>\n",
       "  </thead>\n",
       "  <tbody>\n",
       "    <tr>\n",
       "      <th>count</th>\n",
       "      <td>100.000000</td>\n",
       "    </tr>\n",
       "    <tr>\n",
       "      <th>mean</th>\n",
       "      <td>17.290000</td>\n",
       "    </tr>\n",
       "    <tr>\n",
       "      <th>std</th>\n",
       "      <td>10.603311</td>\n",
       "    </tr>\n",
       "    <tr>\n",
       "      <th>min</th>\n",
       "      <td>10.000000</td>\n",
       "    </tr>\n",
       "    <tr>\n",
       "      <th>25%</th>\n",
       "      <td>11.000000</td>\n",
       "    </tr>\n",
       "    <tr>\n",
       "      <th>50%</th>\n",
       "      <td>12.000000</td>\n",
       "    </tr>\n",
       "    <tr>\n",
       "      <th>75%</th>\n",
       "      <td>20.000000</td>\n",
       "    </tr>\n",
       "    <tr>\n",
       "      <th>max</th>\n",
       "      <td>71.000000</td>\n",
       "    </tr>\n",
       "  </tbody>\n",
       "</table>\n",
       "</div>"
      ],
      "text/plain": [
       "                0\n",
       "count  100.000000\n",
       "mean    17.290000\n",
       "std     10.603311\n",
       "min     10.000000\n",
       "25%     11.000000\n",
       "50%     12.000000\n",
       "75%     20.000000\n",
       "max     71.000000"
      ]
     },
     "execution_count": 807,
     "metadata": {},
     "output_type": "execute_result"
    }
   ],
   "source": [
    "top_weights_df = pd.DataFrame([item[2][\"weight\"] for item in weighted_nodes[0:100]])\n",
    "top_weights_df.describe()"
   ]
  }
 ],
 "metadata": {
  "colab": {
   "provenance": []
  },
  "kernelspec": {
   "display_name": "csci550-miniproject1",
   "language": "python",
   "name": "csci550-miniproject1"
  },
  "language_info": {
   "codemirror_mode": {
    "name": "ipython",
    "version": 3
   },
   "file_extension": ".py",
   "mimetype": "text/x-python",
   "name": "python",
   "nbconvert_exporter": "python",
   "pygments_lexer": "ipython3",
   "version": "3.11.2"
  },
  "name": "mini_project_1_graph.ipynb",
  "nbclean": true
 },
 "nbformat": 4,
 "nbformat_minor": 4
}
