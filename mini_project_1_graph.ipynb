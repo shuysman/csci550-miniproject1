{
 "cells": [
  {
   "cell_type": "code",
   "execution_count": 2,
   "id": "3a90cb7f-38f1-4c20-b215-4251b58806b7",
   "metadata": {
    "id": "FZwLrjR3dQl0"
   },
   "outputs": [],
   "source": [
    "import seaborn as sns\n",
    "sns.set()"
   ]
  },
  {
   "cell_type": "markdown",
   "id": "72f7e5d5-fedd-467f-9906-abb6af61c0fd",
   "metadata": {
    "id": "pZ2MWm92dQl2"
   },
   "source": [
    "# The New York Social Graph\n"
   ]
  },
  {
   "cell_type": "markdown",
   "id": "f384ade5-3dfc-49ea-b8e7-d43fc6886e60",
   "metadata": {
    "id": "BRD19jzbdQl3"
   },
   "source": [
    "[New York Social Diary](https://www.newyorksocialdiary.com/) provides a\n",
    "fascinating lens onto New York's socially well-to-do.  The data forms a natural social graph for New York's social elite.  Take a look at this page of a recent [To Love Unconditionally](https://www.newyorksocialdiary.com/to-love-unconditionally/).\n",
    "\n",
    "You will notice the photos have carefully annotated captions labeling those that appear in the photos.  We can think of this as implicitly implying a social graph: there is a connection between two individuals if they appear in a picture together.\n",
    "\n",
    "For this project, we will assemble the social graph from photo captions for parties.  Using this graph, we can make guesses at the most popular socialites, the most influential people, and the most tightly coupled pairs.\n",
    "\n",
    "We will attack the project in three phases:\n",
    "1. Get a list of all the photo pages to be analyzed.\n",
    "2. Get all captions in each party, Parse all of the captions and extract guests' names.\n",
    "3. Assemble the graph, analyze the graph and answer the questions"
   ]
  },
  {
   "cell_type": "markdown",
   "id": "73722e22-a96c-4da8-82dc-767aa713fd5a",
   "metadata": {
    "id": "fil83QYMdQl4"
   },
   "source": [
    "## Phase One\n"
   ]
  },
  {
   "cell_type": "markdown",
   "id": "c00266ab-3b65-4165-9a1e-db4e20c50b60",
   "metadata": {
    "id": "sHL14Y2udQl4"
   },
   "source": [
    "The first step is to crawl the data.  We want photos from parties on or before December 1st, 2014.  Go to the [Party Pictures Archive](https://web.archive.org/web/20150913224145/http://www.newyorksocialdiary.com/party-pictures) to see a list of (party) pages.  We want to get the url for each party page, along with its date.\n",
    "\n",
    "Here are some packages that you may find useful.  You are welcome to use others, if you prefer."
   ]
  },
  {
   "cell_type": "code",
   "execution_count": 1,
   "id": "96182861-2dbf-4be4-8b0a-1acdf9319a51",
   "metadata": {
    "colab": {
     "base_uri": "https://localhost:8080/"
    },
    "id": "jYBmnGpydQl4",
    "outputId": "0fee2573-2c76-4169-db76-ab20b0ed60e2"
   },
   "outputs": [
    {
     "name": "stdout",
     "output_type": "stream",
     "text": [
      "\u001b[1;31merror\u001b[0m: \u001b[1mexternally-managed-environment\u001b[0m\r\n",
      "\r\n",
      "\u001b[31m×\u001b[0m This environment is externally managed\r\n",
      "\u001b[31m╰─>\u001b[0m To install Python packages system-wide, try apt install\r\n",
      "\u001b[31m   \u001b[0m python3-xyz, where xyz is the package you are trying to\r\n",
      "\u001b[31m   \u001b[0m install.\r\n",
      "\u001b[31m   \u001b[0m \r\n",
      "\u001b[31m   \u001b[0m If you wish to install a non-Debian-packaged Python package,\r\n",
      "\u001b[31m   \u001b[0m create a virtual environment using python3 -m venv path/to/venv.\r\n",
      "\u001b[31m   \u001b[0m Then use path/to/venv/bin/python and path/to/venv/bin/pip. Make\r\n",
      "\u001b[31m   \u001b[0m sure you have python3-full installed.\r\n",
      "\u001b[31m   \u001b[0m \r\n",
      "\u001b[31m   \u001b[0m If you wish to install a non-Debian packaged Python application,\r\n",
      "\u001b[31m   \u001b[0m it may be easiest to use pipx install xyz, which will manage a\r\n",
      "\u001b[31m   \u001b[0m virtual environment for you. Make sure you have pipx installed.\r\n",
      "\u001b[31m   \u001b[0m \r\n",
      "\u001b[31m   \u001b[0m See /usr/share/doc/python3.11/README.venv for more information.\r\n",
      "\r\n",
      "\u001b[1;35mnote\u001b[0m: If you believe this is a mistake, please contact your Python installation or OS distribution provider. You can override this, at the risk of breaking your Python installation or OS, by passing --break-system-packages.\r\n",
      "\u001b[1;36mhint\u001b[0m: See PEP 668 for the detailed specification.\r\n"
     ]
    }
   ],
   "source": [
    "import requests\n",
    "import dill\n",
    "from bs4 import BeautifulSoup\n",
    "from datetime import datetime\n",
    "import time"
   ]
  },
  {
   "cell_type": "markdown",
   "id": "4b4b32c7-b401-4dca-ace1-3b5fdd97c88c",
   "metadata": {
    "id": "X7MzwfTUdQl5"
   },
   "source": [
    "We recommend using Python [Requests](http://docs.python-requests.org/en/master/) to download the HTML pages, and [BeautifulSoup](https://www.crummy.com/software/BeautifulSoup/) to process the HTML.  Let's start by getting the [first page](https://web.archive.org/web/20150913224145/http://www.newyorksocialdiary.com/party-pictures)."
   ]
  },
  {
   "cell_type": "code",
   "execution_count": null,
   "id": "d6e4a42c-47e0-4ef2-8c71-4111993fcb20",
   "metadata": {
    "id": "S6nrDVuadQl5"
   },
   "outputs": [],
   "source": [
    "nysd_url = \"https://web.archive.org/web/20150913224145/http://www.newyorksocialdiary.com/party-pictures\"\n",
    "page = requests.get(nysd_url) # Use requests.get to download the page."
   ]
  },
  {
   "cell_type": "markdown",
   "id": "34f2c153-bcec-4dac-a274-4da7e430e4bd",
   "metadata": {
    "id": "N6A372fWdQl5"
   },
   "source": [
    "Now, we process the text of the page with BeautifulSoup."
   ]
  },
  {
   "cell_type": "code",
   "execution_count": null,
   "id": "6832f23d-71b3-43c3-9c6e-a3163df57c39",
   "metadata": {
    "id": "hDqhRM2gdQl5"
   },
   "outputs": [],
   "source": [
    "soup = BeautifulSoup(page.text, \"lxml\")"
   ]
  },
  {
   "cell_type": "markdown",
   "id": "6855485c-67d1-4b38-9a6b-8e3d87d7e3ba",
   "metadata": {
    "id": "cDbSvwNOdQl6"
   },
   "source": [
    "This page has links to 50 party pages. Look at the structure of the page and determine how to isolate those links.  Your browser's developer tools (usually `Cmd`-`Option`-`I` on Mac, `Ctrl`-`Shift`-`I` on others) offer helpful tools to explore the structure of the HTML page.\n",
    "\n",
    "Once you have found a pattern, use BeautifulSoup's [select](https://www.crummy.com/software/BeautifulSoup/bs4/doc/#css-selectors) or [find_all](https://www.crummy.com/software/BeautifulSoup/bs4/doc/#find) methods to get those elements."
   ]
  },
  {
   "cell_type": "code",
   "execution_count": null,
   "id": "4c105632-9d52-4ca9-a2ad-22b3c5216aa7",
   "metadata": {
    "colab": {
     "base_uri": "https://localhost:8080/",
     "height": 36
    },
    "id": "XXAwWDp0dQl6",
    "outputId": "e3685981-f7c7-4b23-a73b-43171385fa96"
   },
   "outputs": [
    {
     "data": {
      "application/vnd.google.colaboratory.intrinsic+json": {
       "type": "string"
      },
      "text/plain": [
       "'Tuesday, September 1, 2015'"
      ]
     },
     "execution_count": 6,
     "metadata": {},
     "output_type": "execute_result"
    }
   ],
   "source": [
    "links = soup.select(\"div.views-row\")\n",
    "links[1].select(\"span.field-content\")[1].text"
   ]
  },
  {
   "cell_type": "markdown",
   "id": "52d92fce-a29d-4625-98a5-cda65d2ac8d3",
   "metadata": {
    "id": "Dqo4nAZ6dQl7"
   },
   "source": [
    "There should be 50 per page."
   ]
  },
  {
   "cell_type": "code",
   "execution_count": null,
   "id": "e20fc861-3e76-4eef-a625-8eab5ac4ead5",
   "metadata": {
    "colab": {
     "base_uri": "https://localhost:8080/"
    },
    "id": "55w2XnyndQl7",
    "outputId": "16964e6d-9b5f-4ff5-b08c-8e6063fd9572"
   },
   "outputs": [
    {
     "data": {
      "text/plain": [
       "True"
      ]
     },
     "execution_count": 7,
     "metadata": {},
     "output_type": "execute_result"
    }
   ],
   "source": [
    "len(links) == 50"
   ]
  },
  {
   "cell_type": "markdown",
   "id": "182ac477-b04d-4861-a7e8-740624a1f0a0",
   "metadata": {
    "id": "qUagJwV8dQl7"
   },
   "source": [
    "Let's take a look at that first link.  Figure out how to extract the URL of the link, as well as the date.  You probably want to use `datetime.strptime`.  See the [format codes for dates](https://docs.python.org/3/library/datetime.html#strftime-and-strptime-behavior) for reference."
   ]
  },
  {
   "cell_type": "code",
   "execution_count": null,
   "id": "fae49011-a349-4526-8bb9-0941a4cf909a",
   "metadata": {
    "colab": {
     "base_uri": "https://localhost:8080/",
     "height": 146
    },
    "id": "os3Hnk2gdQl7",
    "outputId": "5d02de87-9b6a-4cbe-a4fe-6a9be92ea74c"
   },
   "outputs": [
    {
     "ename": "SyntaxError",
     "evalue": "invalid syntax (<ipython-input-8-77b3313c5022>, line 1)",
     "output_type": "error",
     "traceback": [
      "\u001b[0;36m  File \u001b[0;32m\"<ipython-input-8-77b3313c5022>\"\u001b[0;36m, line \u001b[0;32m1\u001b[0m\n\u001b[0;31m    \"/web/20150913224145/http://www.newyorksocialdiary.com/party-pictures/2015/grand-finale-of-the-hampton-classic-horse-show\">Grand Finale of the Hampton Classic Horse Show</a>\u001b[0m\n\u001b[0m                                                                                                                                     ^\u001b[0m\n\u001b[0;31mSyntaxError\u001b[0m\u001b[0;31m:\u001b[0m invalid syntax\n"
     ]
    }
   ],
   "source": [
    "\"/web/20150913224145/http://www.newyorksocialdiary.com/party-pictures/2015/grand-finale-of-the-hampton-classic-horse-show\">Grand Finale of the Hampton Classic Horse Show</a>"
   ]
  },
  {
   "cell_type": "code",
   "execution_count": null,
   "id": "ff110101-953b-48ae-8e9b-cb5086b2d6d3",
   "metadata": {
    "id": "eFmrbxiYdQl7"
   },
   "outputs": [],
   "source": [
    "link = links[0]\n",
    "# Check that the title and date match what you see visually.\n",
    "links[0].find(\"a\").get(\"href\")"
   ]
  },
  {
   "cell_type": "markdown",
   "id": "38db4cc1-f142-48a6-a000-35dee14adbf5",
   "metadata": {
    "id": "e30LrMB7dQl7"
   },
   "source": [
    "For purposes of code reuse, let's put that logic into a function.  It should take the link element and return the URL and date parsed from it."
   ]
  },
  {
   "cell_type": "code",
   "execution_count": null,
   "id": "2307324f-58a1-409b-8922-443c19e60df3",
   "metadata": {
    "id": "rckvye4fdQl8"
   },
   "outputs": [],
   "source": [
    "def get_link_date(el):\n",
    "    url = el.find(\"a\").get(\"href\")\n",
    "    date_text = el.select(\"span.field-content\")[1].text\n",
    "    ## Example date format:\n",
    "    ## Tuesday, September 1, 2015\n",
    "    date = datetime.strptime(date_text, \"%A, %B %d, %Y\")\n",
    "    return url, date\n",
    "\n",
    "get_link_date(links[0])"
   ]
  },
  {
   "cell_type": "markdown",
   "id": "9b0957fa-e054-4dd2-8152-86b6801db489",
   "metadata": {
    "id": "aPgOMDJbdQl8"
   },
   "source": [
    "You may want to check that it works as you expected.\n",
    "\n",
    "Once that's working, let's write another function to parse all of the links on a page.  Thinking ahead, we can make it take a Requests [Response](https://requests.readthedocs.io/en/master/api/#requests.Response) object and do the BeautifulSoup parsing within it."
   ]
  },
  {
   "cell_type": "code",
   "execution_count": null,
   "id": "c6f0dc53-b13e-484f-909b-cb061e8fdd10",
   "metadata": {
    "id": "W67j6Fl2dQl8"
   },
   "outputs": [],
   "source": [
    "def get_links(response):\n",
    "  links = []\n",
    "  for r in response:\n",
    "    links.append(get_link_date(r))\n",
    "  return links # A list of URL, date pair s\n",
    "\n",
    "get_links(links)"
   ]
  },
  {
   "cell_type": "markdown",
   "id": "84453c91-a31c-4f3a-8711-bb92c17b2b41",
   "metadata": {
    "id": "0flSSgGndQl8"
   },
   "source": [
    "If we run this on the previous response, we should get 50 pairs."
   ]
  },
  {
   "cell_type": "code",
   "execution_count": null,
   "id": "d62d2366-4b7a-4b51-a0f9-eba3db97a304",
   "metadata": {
    "id": "FXNFZW59dQl8"
   },
   "outputs": [],
   "source": [
    "# These should be the same links from earlier\n",
    "len(get_links(links)) == 50"
   ]
  },
  {
   "cell_type": "markdown",
   "id": "5cd1554a-9475-45b3-821d-cd7b5f2be202",
   "metadata": {
    "id": "pQWA9oPfdQl8"
   },
   "source": [
    "But we only want parties with dates on or before the first of December, 2014.  Let's write a function to filter our list of dates to those at or before a cutoff.  Using a keyword argument, we can put in a default cutoff, but allow us to test with others."
   ]
  },
  {
   "cell_type": "code",
   "execution_count": null,
   "id": "638f4b8d-816f-431d-853c-166318727ca0",
   "metadata": {
    "id": "ph83id-6dQl9"
   },
   "outputs": [],
   "source": [
    "def filter_by_date(links, cutoff=datetime(2014, 12, 1)):\n",
    "    # Return only the elements with date <= cutoff\n",
    "    return [link for link in links if link[1] <= cutoff]\n",
    "\n",
    "filter_by_date(get_links(links))"
   ]
  },
  {
   "cell_type": "markdown",
   "id": "0eae22aa-8caa-42a6-acce-214cf100da32",
   "metadata": {
    "id": "WT58Q_YkdQl9"
   },
   "source": [
    "With the default cutoff, there should be no valid parties on the first page.  Adjust the cutoff date to check that it is actually working."
   ]
  },
  {
   "cell_type": "code",
   "execution_count": null,
   "id": "62d7aafa-8537-4bbb-8a4d-e95a3425c7fb",
   "metadata": {
    "id": "Au4PqJ5IdQl9"
   },
   "outputs": [],
   "source": [
    "# Double check the dates are being extracted correctly\n",
    "len(filter_by_date(get_links(links))) == 0"
   ]
  },
  {
   "cell_type": "markdown",
   "id": "a9fb8bfd-15dc-44b0-93e0-ed9d75aa08e3",
   "metadata": {
    "id": "AGR19IN4dQl9"
   },
   "source": [
    "Now we should be ready to get all of the party URLs.  Click through a few of the index pages to determine how the URL changes.  Figure out a strategy to visit all of them.\n",
    "\n",
    "HTTP requests are generally IO-bound.  This means that most of the time is spent waiting for the remote server to respond.  If you use `requests` directly, you can only wait on one response at a time.  [requests-futures](https://github.com/ross/requests-futures) lets you wait for multiple requests at a time.  You may wish to use this to speed up the downloading process."
   ]
  },
  {
   "cell_type": "code",
   "execution_count": null,
   "id": "2bddd137-0d4f-44ec-928f-c5a5ecbe14f8",
   "metadata": {
    "id": "BH7D7CZVdQl9"
   },
   "outputs": [],
   "source": [
    "!pip install requests-futures\n",
    "from requests_futures.sessions import FuturesSession\n",
    "\n",
    "link_list = []\n",
    "# You can use link_list.extend(others) to add the elements of others\n",
    "# to link_list.\n",
    "\n",
    "for i in range(1, 27):\n",
    "  index_url = f\"https://web.archive.org/web/20150913224145/http://www.newyorksocialdiary.com/party-pictures?page={i}\"\n",
    "  page = requests.get(index_url)\n",
    "  soup = BeautifulSoup(page.text, \"lxml\")\n",
    "  links = soup.select(\"div.views-row\")\n",
    "  link_list.extend(filter_by_date(get_links(links)))\n",
    "  time.sleep(10) ### Avoid getting blocked by making requests too quickly"
   ]
  },
  {
   "cell_type": "markdown",
   "id": "fb8f0ffd-ec81-4c13-8940-4dbc6f81f09a",
   "metadata": {
    "id": "zsYv__JOdQl9"
   },
   "source": [
    "In the end, you should have 1193 parties."
   ]
  },
  {
   "cell_type": "code",
   "execution_count": null,
   "id": "0b92b957-d998-4c19-9746-7d78cc9d771f",
   "metadata": {
    "id": "Zab-LDGydQl9"
   },
   "outputs": [],
   "source": [
    "# Make sure you are using the same /web/stringofdigits/... for each page\n",
    "# This is to prevent the archive from accessing later copies of the same page\n",
    "# If you are off by a just a few, that can be the archive misbehaving\n",
    "len(link_list) == 1193"
   ]
  },
  {
   "cell_type": "markdown",
   "id": "896226e5-46c2-48eb-bdb1-031ad5b25f9c",
   "metadata": {
    "id": "MRTcFU_0dQl9"
   },
   "source": [
    "In case we need to restart the notebook, we should save this information to a file.  There are many ways you could do this; here's one using `dill`."
   ]
  },
  {
   "cell_type": "code",
   "execution_count": null,
   "id": "6a22b05a-94e7-4b69-bcc8-7e4ac11fd8d3",
   "metadata": {
    "id": "M11QdhVWdQl-"
   },
   "outputs": [],
   "source": [
    "dill.dump(link_list, open('nysd-links.pkd', 'wb'))"
   ]
  },
  {
   "cell_type": "markdown",
   "id": "958e5f1d-c3a9-410d-a25e-589b2e1b10da",
   "metadata": {
    "id": "9MV6aZosdQl-"
   },
   "source": [
    "To restore the list, we can just load it from the file.  When the notebook is restarted, you can skip the code above and just run this command."
   ]
  },
  {
   "cell_type": "code",
   "execution_count": 6,
   "id": "f7518f1b-5f6f-4038-be5f-677c0511b9bd",
   "metadata": {
    "id": "1b_1ZW4ddQl-"
   },
   "outputs": [],
   "source": [
    "link_list = dill.load(open('nysd-links.pkd', 'rb'))"
   ]
  },
  {
   "cell_type": "markdown",
   "id": "46600cf9-5c74-4b40-bda0-bdc416be215c",
   "metadata": {
    "id": "NePMX4hEdQl-"
   },
   "source": [
    "### Question 1: In which month did most of the parties occur? (10 p)\n",
    "### Question 2: What is the overall trend of parties from 2007 to 2014? (10 p)\n",
    "Use visualizations to answer the two questions above. Ensure that you interpret your plots thoroughly."
   ]
  },
  {
   "cell_type": "code",
   "execution_count": 7,
   "id": "6606b6f7-938f-483c-82f5-28cfcff60d06",
   "metadata": {
    "colab": {
     "base_uri": "https://localhost:8080/",
     "height": 730
    },
    "id": "fdNAdexj8GH7",
    "outputId": "285bcc85-5cc2-495f-a7c3-b278e7561f21"
   },
   "outputs": [
    {
     "name": "stdout",
     "output_type": "stream",
     "text": [
      "month\n",
      "1      60\n",
      "2      76\n",
      "3     133\n",
      "4     110\n",
      "5     124\n",
      "6     111\n",
      "7     110\n",
      "8      93\n",
      "9      99\n",
      "10    111\n",
      "11    111\n",
      "12     75\n",
      "dtype: int64\n"
     ]
    },
    {
     "data": {
      "image/png": "[encoded data removed]",
      "text/plain": [
       "<Figure size 640x480 with 1 Axes>"
      ]
     },
     "metadata": {},
     "output_type": "display_data"
    }
   ],
   "source": [
    "import pandas as pd\n",
    "import numpy as np\n",
    "import matplotlib.pyplot as plt\n",
    "\n",
    "df = pd.DataFrame(link_list, columns=['url', 'date'])\n",
    "df['month'] = df['date'].dt.month\n",
    "\n",
    "# Group by month and count the number of parties in each month\n",
    "monthly_counts = df.groupby('month').size()\n",
    "\n",
    "print(monthly_counts)\n",
    "\n",
    "plt.bar(monthly_counts.index, monthly_counts.values)\n",
    "plt.xlabel(\"Month\")\n",
    "plt.ylabel(\"Number of Parties\")\n",
    "plt.title(\"Number of Parties by Month\")\n",
    "\n",
    "plt.show()"
   ]
  },
  {
   "cell_type": "code",
   "execution_count": null,
   "id": "9c2c978a-d9fc-44d9-b0d5-221168a23cb3",
   "metadata": {
    "colab": {
     "base_uri": "https://localhost:8080/",
     "height": 480
    },
    "id": "91vM2wBI8m9x",
    "outputId": "bf26fc37-eb16-479b-de6d-d9031211bf0d"
   },
   "outputs": [
    {
     "data": {
      "image/png": "[encoded data removed]",
      "text/plain": [
       "<Figure size 640x480 with 1 Axes>"
      ]
     },
     "metadata": {},
     "output_type": "display_data"
    }
   ],
   "source": [
    "df['year'] = df['date'].dt.year\n",
    "\n",
    "## Number of parties per year\n",
    "yearly_counts = df.groupby('year').size()\n",
    "\n",
    "plt.scatter(yearly_counts.index, yearly_counts.values)\n",
    "z = np.polyfit(yearly_counts.index, yearly_counts.values, 1)\n",
    "p = np.poly1d(z)\n",
    "plt.plot(yearly_counts.index, p(yearly_counts.index), \"r--\")\n",
    "\n",
    "plt.xlabel(\"Year\")\n",
    "plt.ylabel(\"Number of Parties\")\n",
    "plt.title(\"Trend of Parties from 2007 to 2014\")\n",
    "\n",
    "plt.show()\n"
   ]
  },
  {
   "cell_type": "markdown",
   "id": "ecfd199b-52b9-4a3d-8a58-1e49123e2ccd",
   "metadata": {
    "id": "TdCKxlIUdQl-"
   },
   "source": [
    "## Phase Two\n"
   ]
  },
  {
   "cell_type": "markdown",
   "id": "3ac6b451-f434-441d-b4a5-fc8ada8c9a97",
   "metadata": {
    "id": "FD-kvAmsdQl-"
   },
   "source": [
    "In this phase, we concentrate on getting the names out of captions for a given page.  We'll start with [the benefit cocktails and dinner](https://web.archive.org/web/20150913224145/http://www.newyorksocialdiary.com/party-pictures/2015/celebrating-the-neighborhood) for [Lenox Hill Neighborhood House](http://www.lenoxhill.org/), a neighborhood organization for the East Side.\n",
    "\n",
    "Take a look at that page.  Note that some of the text on the page is captions, but others are descriptions of the event.  Determine how to select only the captions."
   ]
  },
  {
   "cell_type": "code",
   "execution_count": null,
   "id": "1de7b989-eefe-44ac-b7c5-5b0de7a496ce",
   "metadata": {
    "id": "ROB-Jk1xdQl-"
   },
   "outputs": [],
   "source": [
    "url = \"https://web.archive.org/web/20151114014941/http://www.newyorksocialdiary.com/party-pictures/2015/celebrating-the-neighborhood\"\n",
    "page = requests.get(url)\n",
    "soup = BeautifulSoup(page.text, \"lxml\")\n",
    "\n"
   ]
  },
  {
   "cell_type": "code",
   "execution_count": null,
   "id": "8c01d99c-68e7-4f76-b076-72569d3e9cba",
   "metadata": {
    "id": "3GxiYzT7_F-N"
   },
   "outputs": [],
   "source": [
    "captions = soup.select(\"div.photocaption\")"
   ]
  },
  {
   "cell_type": "markdown",
   "id": "bb3cbcd4-4503-4aa2-9a8d-b0005774deb1",
   "metadata": {
    "id": "n_RjKoX9dQl_"
   },
   "source": [
    "By our count, there are about 110.  But if you're off by a couple, you're probably okay."
   ]
  },
  {
   "cell_type": "code",
   "execution_count": null,
   "id": "b564f826-8ba5-4dea-b41b-2f8a751a4251",
   "metadata": {
    "colab": {
     "base_uri": "https://localhost:8080/"
    },
    "id": "GSbz31mudQl_",
    "outputId": "e9e7c9c5-5d54-4150-c94d-bd5564215175"
   },
   "outputs": [
    {
     "data": {
      "text/plain": [
       "True"
      ]
     },
     "execution_count": 41,
     "metadata": {},
     "output_type": "execute_result"
    }
   ],
   "source": [
    "# These are for the specific party referenced in the text\n",
    "abs(len(captions) - 110) < 5"
   ]
  },
  {
   "cell_type": "markdown",
   "id": "0f6a0583-7c62-4ac5-b084-ac1bdd846796",
   "metadata": {
    "id": "DafrBmkzdQl_"
   },
   "source": [
    "Let's encapsulate this in a function.  As with the links pages, we want to avoid downloading a given page the next time we need to run the notebook.  While we could save the files by hand, as we did before, a checkpoint library like [ediblepickle](https://pypi.python.org/pypi/ediblepickle/1.1.3) can handle this for you.  (Note, though, that you may not want to enable this until you are sure that your function is working.)\n",
    "\n",
    "You should also keep in mind that HTTP requests fail occasionally, for transient reasons.  You should plan how to detect and react to these failures.   The [retrying module](https://pypi.python.org/pypi/retrying) is one way to deal with this."
   ]
  },
  {
   "cell_type": "code",
   "execution_count": null,
   "id": "ed03ae2a-4435-461b-8309-eaf4ccf4a4c3",
   "metadata": {
    "id": "3OZtv5OmdQl_"
   },
   "outputs": [],
   "source": [
    "def get_captions(path):\n",
    "  url = f\"https://web.archive.org/{path}\"\n",
    "  page = requests.get(url)\n",
    "  soup = BeautifulSoup(page.text, \"lxml\")\n",
    "  return soup.select(\"div.photocaption\")"
   ]
  },
  {
   "cell_type": "markdown",
   "id": "da3ad31b-539c-4612-946d-e4c04fb15f19",
   "metadata": {
    "id": "t6_iwcFwdQl_"
   },
   "source": [
    "This should get the same captions as before."
   ]
  },
  {
   "cell_type": "code",
   "execution_count": null,
   "id": "beaf8525-9e8a-4632-86ff-f745388d57a3",
   "metadata": {
    "colab": {
     "base_uri": "https://localhost:8080/"
    },
    "id": "eMS0xI5wdQmA",
    "outputId": "3443238c-f3c5-44aa-ee2a-7e86760e5213"
   },
   "outputs": [
    {
     "data": {
      "text/plain": [
       "True"
      ]
     },
     "execution_count": 43,
     "metadata": {},
     "output_type": "execute_result"
    }
   ],
   "source": [
    "# This cell is expecting get_captions to return a list of the captions themselves\n",
    "# Other routes to a solution might need to adjust this cell a bit\n",
    "captions == get_captions(\"/web/20150913224145/http://www.newyorksocialdiary.com/party-pictures/2015/celebrating-the-neighborhood\")"
   ]
  },
  {
   "cell_type": "markdown",
   "id": "94607420-1c8b-4348-8290-a68f5d5e279d",
   "metadata": {
    "id": "7mBXliqbdQmA"
   },
   "source": [
    "Now that we have some sample captions, let's start parsing names out of those captions.  There are many ways of going about this, and we leave the details up to you.  Some issues to consider:\n",
    "\n",
    "  1. Some captions are not useful: they contain long narrative texts that explain the event.  Try to find some heuristic rules to separate captions that are a list of names from those that are not.  A few heuristics include:\n",
    "    - look for sentences (which have verbs) and as opposed to lists of nouns. For example, [`nltk` does part of speech tagging](http://www.nltk.org/book/ch05.html) but it is a little slow. There may also be heuristics that accomplish the same thing.\n",
    "    - Similarly, spaCy's [entity recognition](https://spacy.io/docs/usage/entity-recognition) could be useful here.\n",
    "    - Look for commonly repeated threads (e.g. you might end up picking up the photo credits or people such as \"a friend\").\n",
    "    - Long captions are often not lists of people.  The cutoff is subjective, but for grading purposes, *set that cutoff at 250 characters*.\n",
    "  2. You will want to separate the captions based on various forms of punctuation.  Try using `re.split`, which is more sophisticated than `string.split`. **Note**: Use regex exclusively for name parsing.\n",
    "  3. This site is pretty formal and likes to say things like \"Mayor Michael Bloomberg\" after his election but \"Michael Bloomberg\" before his election.  Can you find other titles that are being used?  They should probably be filtered out because they ultimately refer to the same person: \"Michael Bloomberg.\"\n",
    "  4. There is a special case you might find where couples are written as eg. \"John and Mary Smith\". You will need to write some extra logic to make sure this properly parses to two names: \"John Smith\" and \"Mary Smith\".\n",
    "  5. When parsing names from captions, it can help to look at your output frequently and address the problems that you see coming up, iterating until you have a list that looks reasonable. Because we can only asymptotically approach perfect identification and entity matching, we have to stop somewhere.\n",
    "  \n",
    "**Questions worth considering:**\n",
    "  1. Who is Patrick McMullan and should he be included in the results? How would you address this?\n",
    "  2. What else could you do to improve the quality of the graph's information?"
   ]
  },
  {
   "cell_type": "code",
   "execution_count": null,
   "id": "bd6ce6eb-4753-458d-aa53-7ebf7c0d787e",
   "metadata": {
    "colab": {
     "base_uri": "https://localhost:8080/"
    },
    "id": "fYliWF39_8vE",
    "outputId": "a6e35980-b860-4928-f08f-d67d73ee764d"
   },
   "outputs": [
    {
     "data": {
      "text/plain": [
       "['Glenn Adamson',\n",
       " 'Simon Doonan',\n",
       " 'Victoire de Castellane',\n",
       " 'Craig Leavitt',\n",
       " 'Jerome Chazen',\n",
       " 'Andi Potamkin',\n",
       " 'Ralph Pucci',\n",
       " 'Kirsten Bailey',\n",
       " 'Edwin Hathaway',\n",
       " \"and Dennis Freedman at the Museum of Art and Design's annual MAD BALL\",\n",
       " 'Randy Takian',\n",
       " 'Kamie Lightburn and Christopher Spitzmiller',\n",
       " 'Christopher Spitzmiller and Diana Quasha',\n",
       " 'Mariam Azarm',\n",
       " 'Sana Sabbagh',\n",
       " 'and Lynette Dallas',\n",
       " 'Christopher Spitzmiller',\n",
       " 'Sydney Shuman',\n",
       " 'and Matthew Bees',\n",
       " 'Christopher Spitzmiller and Tom Edelman',\n",
       " 'Warren Scharf and Sydney Shuman',\n",
       " 'Amory McAndrew and Sean McAndrew',\n",
       " 'Sydney Shuman',\n",
       " 'Mario Buatta',\n",
       " 'and Helene Tilney',\n",
       " 'Katherine DeConti and Elijah Duckworth-Schachter',\n",
       " 'John Rosselli and Elizabeth Swartz',\n",
       " 'Stephen Simcock',\n",
       " 'Lee Strock',\n",
       " 'and Thomas Hammer',\n",
       " 'Searcy Dryden',\n",
       " 'Lesley Dryden',\n",
       " 'Richard Lightburn',\n",
       " 'and Michel Witmer',\n",
       " 'Jennifer Cacioppo and Kevin Michael Barba',\n",
       " 'Virginia Wilbanks and Lacary Sharpe',\n",
       " 'Valentin Hernandez',\n",
       " 'Yaz Hernandez',\n",
       " 'Chele Farley',\n",
       " 'and James Farley',\n",
       " 'Harry Heissmann',\n",
       " 'Angela Clofine',\n",
       " 'and Michael Clofine',\n",
       " 'Jared Goss and Kristina Stewart Ward',\n",
       " 'Alex Papachristidis and Mario Buatta',\n",
       " 'Nick Olsen',\n",
       " 'Lindsey Coral Harper',\n",
       " 'Alberto Villalobos',\n",
       " 'and David Duncan',\n",
       " 'Caroline Dean',\n",
       " 'Christopher Spitzmiller',\n",
       " 'and Ellen Niven',\n",
       " 'Debbie Bancroft and David Svanda',\n",
       " 'Julia Weld and Christopher Spitzmiller',\n",
       " 'Kevin Lichten',\n",
       " 'Robert Ruffino',\n",
       " 'Joan Craig',\n",
       " 'and Michael McGraw',\n",
       " 'Roric Tobin',\n",
       " 'Chele Farley',\n",
       " 'Richard Farley',\n",
       " 'and Geoffrey Bradfield',\n",
       " 'Lacary Sharpe',\n",
       " 'Kamie Lightburn',\n",
       " 'and Emily Leonard',\n",
       " 'Dr. Doug Steinbrech and Mary Van Pelt',\n",
       " 'Kathy  and Othon Prounis',\n",
       " 'The MAD dinner scene',\n",
       " 'Victoire de Castellane',\n",
       " 'Dennis Freedman',\n",
       " 'Andi Potamkin',\n",
       " 'and Ralph Pucci',\n",
       " 'Donald Tober',\n",
       " 'Barbara Tober',\n",
       " 'Linda Fargo',\n",
       " 'and Bjorn Wallander',\n",
       " 'Andi Potamkin',\n",
       " 'Glenn Adamson',\n",
       " 'Ralph Pucci',\n",
       " 'Victoire de Castellane',\n",
       " 'Dennis Freedman',\n",
       " 'and Craig Leavitt',\n",
       " 'Celia Morrissette and Keith Johnson',\n",
       " 'Simon Doonan',\n",
       " 'Sandra Gering and Julia Kuni',\n",
       " 'Alexandra Richards and Paul Longo',\n",
       " 'Bryna and Martin Pomp',\n",
       " 'Neville Wakefield',\n",
       " 'Caroline Cokley',\n",
       " 'Ryan Davis',\n",
       " 'Freddie Leiba and Cynthia Adler',\n",
       " 'Rick and Leticia Presutti',\n",
       " 'Glenn Adamson and Ebony G. Patterson',\n",
       " 'Lowery Stokes Sims and C. Virginia Fields',\n",
       " 'Barbara Regna',\n",
       " 'Deborah Lloyd',\n",
       " 'Kelly  and Jay Sugarman',\n",
       " 'Steve Evans',\n",
       " 'Kate White',\n",
       " 'Liz Nacey',\n",
       " 'Anne Strickland',\n",
       " 'Patrick Jones',\n",
       " 'and Jennifer Fujitani',\n",
       " 'Wendy Diamond',\n",
       " 'Tood Eberle and Gina Nanni',\n",
       " 'Linda Fargo and Bjorn Wallander',\n",
       " 'Tony Ingrao and Randy Kemper',\n",
       " 'C. Virginia Fields',\n",
       " 'Gordan Kenney',\n",
       " 'and Jill Huggins',\n",
       " 'Wendy MacGaw and Howard Ben Tre',\n",
       " 'Laura  and Lewis Kruger',\n",
       " 'The Waldorf Astoria Ballroom',\n",
       " 'Deborah Marton (Executive Director of the NYRP)',\n",
       " 'Bette Midler',\n",
       " 'Lance LePere and Michael Kors',\n",
       " 'A table centerpiece',\n",
       " \"Linda Allard's party\",\n",
       " 'Mrs. and Mrs. Ben Needell Esq',\n",
       " 'Nile Rodgers and Bette Midler',\n",
       " 'Todd DeGarmo and Deborah Marton',\n",
       " 'Samuel Kelly',\n",
       " 'David and Lola Rockwell',\n",
       " 'Davon Windsor and Rachel Hilbert',\n",
       " 'Hula girls welcome the guests',\n",
       " 'Honorees Sheryl and and Dan Tishman with Bette Midler',\n",
       " 'Darcy Stacom',\n",
       " 'Judy Gold and Bette Midler',\n",
       " 'Kevin and Michelle Fox',\n",
       " 'Jane Krakowski',\n",
       " 'Michael Kors',\n",
       " 'Bette Midler',\n",
       " 'and Lance LePere',\n",
       " 'Shoshanna Gruss and Dr. Drew Schiff',\n",
       " 'Margo and Jimmy Nederlander',\n",
       " 'Nederlander table as Zombie Gillian’s Island',\n",
       " 'Jon Recor',\n",
       " 'Shelly Malkin and Nathalie Gerschel Kaplan',\n",
       " 'Zombie dancers in silver corridor',\n",
       " 'Douglas Little and friend',\n",
       " 'Zombie airplane staff directing guests around the party',\n",
       " 'Martin von Haselberg',\n",
       " 'Mr. and Mrs. Allen Swerdlick',\n",
       " \"Ta'Rhonda Jones of Empire (on right)\",\n",
       " 'Lance LePere',\n",
       " 'Jane Krakowski',\n",
       " 'and Michael Kors',\n",
       " 'Kelly Bensimon and John Demsey',\n",
       " 'Michael Kors and Lauren duPont',\n",
       " 'Nancy Hunt',\n",
       " 'Bette Midler',\n",
       " 'and Nile Rodgers',\n",
       " 'Nile Rodgers & CHIC with Bette Midler on stage',\n",
       " 'Thriller zombie dancers',\n",
       " 'Richard and Donna Soloway',\n",
       " 'Barbara  and Peter Regna',\n",
       " 'Jonas Barcellos and friends',\n",
       " 'Michelle Halpern',\n",
       " 'Mark Robinson',\n",
       " 'and Lisa Halpern',\n",
       " 'Clark  and Esra Munnell',\n",
       " 'Elizabeth Johnson and friends',\n",
       " 'Wendy Carduner and George Perry',\n",
       " 'Lisa and Tom Wilkenson',\n",
       " 'Stacy Reilly and friends',\n",
       " 'Eveyln Subramaniam',\n",
       " 'Sarah and Chips Page',\n",
       " 'Mrs. DeMaurier and friend',\n",
       " 'Jim Killerlane and Allison Minton',\n",
       " 'Liana Makkos',\n",
       " 'Ken and Maria Fishel',\n",
       " 'Tina Wong',\n",
       " 'and George Perry',\n",
       " 'Marisa Rose and \"KISS\" friends',\n",
       " 'Eveyln Subramaniam',\n",
       " 'Alexis Mersentes and Doris Liebman']"
      ]
     },
     "execution_count": 38,
     "metadata": {},
     "output_type": "execute_result"
    }
   ],
   "source": [
    "import re\n",
    "\n",
    "def split_groups(text):\n",
    "  pass\n",
    "\n",
    "def parse_names(caption):\n",
    "  caption_text = caption.text\n",
    "\n",
    "  ## Long captions are often not lists of people\n",
    "  if len(caption_text) > 250:\n",
    "    return None\n",
    "\n",
    "  strings = re.split(r\",\", caption_text)\n",
    "  #strings = re.split(r\",|and\", caption_text)\n",
    "\n",
    "  strings = [string for string in map(lambda x: x.strip(), strings)]\n",
    "  strings = [string for string in map(lambda x: x.rstrip(\".\"), strings)]\n",
    "\n",
    "  #strings = [string for strings in map(lambda string: split_groups(string), strings) for string in strings]\n",
    "\n",
    "  return strings\n",
    "\n",
    "\n",
    "### Make a flattened list of names from all captions on page\n",
    "[name for names in list(map(lambda caption: parse_names(caption), captions)) for name in names]"
   ]
  },
  {
   "cell_type": "markdown",
   "id": "6040a2d1-51f0-44c4-81ed-6dbe293505a0",
   "metadata": {
    "id": "64aBJD93dQmA"
   },
   "source": [
    "Once you feel that your algorithm is working well on these captions, parse all of the captions and extract all the names mentioned.  "
   ]
  },
  {
   "cell_type": "markdown",
   "id": "b10e4996-ff7a-4787-b86a-2be8e1f579a8",
   "metadata": {
    "id": "QgElWndsdQmA"
   },
   "source": [
    "Now, run this sort of test on a few other pages.  You will probably find that other pages have a slightly different HTML structure, as well as new captions that trip up your caption parser.  But don't worry if the parser isn't perfect -- just try to get the easy cases."
   ]
  },
  {
   "cell_type": "markdown",
   "id": "43e62a69-5be5-4d1d-b3ac-99d84c1e8cc8",
   "metadata": {
    "id": "DH549Y3pdQmA"
   },
   "source": [
    "Once you are satisfied that your caption scraper and parser are working, run this for all of the pages.  If you haven't implemented some caching of the captions, you probably want to do this first."
   ]
  },
  {
   "cell_type": "code",
   "execution_count": null,
   "id": "5659492e-9e4c-43cc-9328-4376cbafb78d",
   "metadata": {
    "id": "EfFleKGhdQmB"
   },
   "outputs": [],
   "source": [
    "# Scraping all of the pages could take 10 minutes to an hour"
   ]
  },
  {
   "cell_type": "markdown",
   "id": "13303d1f-d6fd-4efb-8ebf-76dccd609599",
   "metadata": {
    "id": "rB_b-H-8dQmB"
   },
   "source": [
    "## Phase 3: Graph Analysis"
   ]
  },
  {
   "cell_type": "markdown",
   "id": "1ebd74e6-b6bf-40ae-bdfa-5a484749fe10",
   "metadata": {
    "id": "OaEwFF4ndQmB"
   },
   "source": [
    "For the remaining analysis, we think of the problem in terms of a\n",
    "[network](http://en.wikipedia.org/wiki/Computer_network) or a\n",
    "[graph](https://en.wikipedia.org/wiki/Graph_%28discrete_mathematics%29).  Any time a pair of people appear in a photo together, that is considered a link.  It is an example of  an **undirected weighted graph**. We recommend using python's [`networkx`](https://networkx.github.io/) library."
   ]
  },
  {
   "cell_type": "code",
   "execution_count": null,
   "id": "03b4a55c-d0e2-43ff-922b-f37ab83521ca",
   "metadata": {
    "id": "nr9jhVC3dQmB"
   },
   "outputs": [],
   "source": [
    "import itertools  # itertools.combinations may be useful\n",
    "import networkx as nx"
   ]
  },
  {
   "cell_type": "markdown",
   "id": "402bd4a3-37bb-4b49-9d46-3cbffdb76821",
   "metadata": {
    "id": "SdMTym8QdQmB"
   },
   "source": [
    "All in all, you should end up with over 100,000 captions and more than 110,000 names, connected in about 200,000 pairs."
   ]
  },
  {
   "cell_type": "markdown",
   "id": "8901f5ed-fa7c-4feb-bbef-f92062bce868",
   "metadata": {
    "id": "W4U6DsKDdQmB"
   },
   "source": [
    "## Question 3: Graph EDA (20 p)\n"
   ]
  },
  {
   "cell_type": "markdown",
   "id": "788a4a12-9e37-44e9-914f-ea652669478a",
   "metadata": {
    "id": "-V5rO16rdQmB"
   },
   "source": [
    "- Use parsed names to create the undirected weighted network and visualize it (5 p)\n",
    "- Report the number of nodes and edges (5 p)\n",
    "- What is the diameter of this graph? (5 p)\n",
    "- What is the average clustering coeff of the graph? How you interpret this number? (5 p)"
   ]
  },
  {
   "cell_type": "markdown",
   "id": "a90f282e-8de9-4860-838c-b653f16d40d6",
   "metadata": {
    "id": "awKPMK-TdQmD"
   },
   "source": []
  },
  {
   "cell_type": "markdown",
   "id": "ca361702-066b-4d08-8f7d-07f6ba811723",
   "metadata": {
    "id": "Gh52kP5pdQmD"
   },
   "source": [
    "## Question 4: Graph properties (20 p)"
   ]
  },
  {
   "cell_type": "markdown",
   "id": "48b232de-4a37-49eb-b4b9-a6f8c5b97ab8",
   "metadata": {
    "id": "SUa1Q-L3dQmD"
   },
   "source": [
    "What real-world graph properties does this graph exhibit? Please show your work and interpret your answer. Does the result make sense given the nature of the graph?"
   ]
  },
  {
   "cell_type": "markdown",
   "id": "42e0fc2e-12aa-485e-a9f7-1907c9495b00",
   "metadata": {
    "id": "9FFIp3O2dQmD"
   },
   "source": [
    "## Question 4: Who are the most photogenic persons? (10 p)"
   ]
  },
  {
   "cell_type": "markdown",
   "id": "f3498581-5bd9-48aa-b8a6-105bda0199d0",
   "metadata": {
    "id": "PLmABp34dQmD"
   },
   "source": [
    "The simplest question to ask is \"who is the most popular\"?  The easiest way to answer this question is to look at how many connections everyone has.  Return the top 100 people and their degree.  Remember that if an edge of the graph has weight 2, it counts for 2 in the degree.\n",
    "\n",
    "**Checkpoint:** Some aggregate stats on the solution\n",
    "\n",
    "    \"count\": 100.0\n",
    "    \"mean\": 189.92\n",
    "    \"std\": 87.8053034454\n",
    "    \"min\": 124.0\n",
    "    \"25%\": 138.0\n",
    "    \"50%\": 157.0\n",
    "    \"75%\": 195.0\n",
    "    \"max\": 666.0"
   ]
  },
  {
   "cell_type": "code",
   "execution_count": null,
   "id": "9363f371-7f23-4cdf-934d-992cfe64c955",
   "metadata": {
    "id": "uvfpNfrBdQmD"
   },
   "outputs": [],
   "source": [
    "degree =\n"
   ]
  },
  {
   "cell_type": "markdown",
   "id": "000c7d18-e311-4b8c-9332-f05d02a98098",
   "metadata": {
    "id": "9_NLf97kdQmD"
   },
   "source": [
    "## Question 5: Centrality analysis (20 p)\n"
   ]
  },
  {
   "cell_type": "markdown",
   "id": "8f6b0460-163f-45e5-8647-740883c619bb",
   "metadata": {
    "id": "pWJFmfmwdQmD"
   },
   "source": [
    "Use eccentricity centrality, closeness centrality, betweenness centrality, prestige, and PageRank to identify the top 10 individuals with the highest centrality for each measure. How do you interpret the results?\n",
    "\n",
    "Use 0.85 as the damping parameter for page rank, so that there is a 15% chance of jumping to another vertex at random.\n",
    "\n",
    "**Checkpoint:** Some aggregate stats on the solution for pagerank\n",
    "\n",
    "    \"count\": 100.0\n",
    "    \"mean\": 0.0001841088\n",
    "    \"std\": 0.0000758068\n",
    "    \"min\": 0.0001238355\n",
    "    \"25%\": 0.0001415028\n",
    "    \"50%\": 0.0001616183\n",
    "    \"75%\": 0.0001972663\n",
    "    \"max\": 0.0006085816"
   ]
  },
  {
   "cell_type": "markdown",
   "id": "12529132-7cf2-43df-957e-79f6fd04bfb1",
   "metadata": {
    "id": "0nuRZPJHdQmD"
   },
   "source": [
    "## Question 6: best_friends (10 p)\n"
   ]
  },
  {
   "cell_type": "markdown",
   "id": "7e983414-bff0-4cc2-8ef7-574053db4e67",
   "metadata": {
    "id": "Iyhdm9cjdQmE"
   },
   "source": [
    "Another interesting question is who tend to co-occur with each other.  Give us the 100 edges with the highest weights.\n",
    "\n",
    "Google these people and see what their connection is.  Can we use this to detect instances of infidelity?\n",
    "\n",
    "**Checkpoint:** Some aggregate stats on the solution\n",
    "\n",
    "    \"count\": 100.0\n",
    "    \"mean\": 25.84\n",
    "    \"std\": 16.0395470855\n",
    "    \"min\": 14.0\n",
    "    \"25%\": 16.0\n",
    "    \"50%\": 19.0\n",
    "    \"75%\": 29.25\n",
    "    \"max\": 109.0"
   ]
  },
  {
   "cell_type": "code",
   "execution_count": null,
   "id": "99b67e87-8673-4b50-9e00-177601a591c7",
   "metadata": {
    "id": "aI-QPUTjdQmE"
   },
   "outputs": [],
   "source": [
    "#temple form for the answer\n",
    "best_friends = [(('Michael Kennedy', 'Eleanora Kennedy'), 41)] * 100\n"
   ]
  },
  {
   "cell_type": "code",
   "execution_count": null,
   "id": "a9270a49-6012-401a-b1c0-a842a4d2c806",
   "metadata": {
    "id": "YEf_csTydQmE"
   },
   "outputs": [],
   "source": []
  }
 ],
 "metadata": {
  "colab": {
   "provenance": []
  },
  "kernelspec": {
   "display_name": "Python 3 (ipykernel)",
   "language": "python",
   "name": "python3"
  },
  "language_info": {
   "codemirror_mode": {
    "name": "ipython",
    "version": 3
   },
   "file_extension": ".py",
   "mimetype": "text/x-python",
   "name": "python",
   "nbconvert_exporter": "python",
   "pygments_lexer": "ipython3",
   "version": "3.11.2"
  },
  "name": "mini_project_1_graph.ipynb",
  "nbclean": true
 },
 "nbformat": 4,
 "nbformat_minor": 1
}
