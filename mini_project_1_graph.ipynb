{
 "cells": [
  {
   "cell_type": "markdown",
   "metadata": {
    "collapsed": false,
    "editable": true,
    "id": "pZ2MWm92dQl2",
    "jupyter": {
     "outputs_hidden": false
    },
    "slideshow": {
     "slide_type": ""
    },
    "tags": []
   },
   "source": [
    "# The New York Social Graph\n"
   ]
  },
  {
   "cell_type": "markdown",
   "metadata": {
    "collapsed": false,
    "id": "BRD19jzbdQl3",
    "jupyter": {
     "outputs_hidden": false
    }
   },
   "source": [
    "[New York Social Diary](https://www.newyorksocialdiary.com/) provides a\n",
    "fascinating lens onto New York's socially well-to-do.  The data forms a natural social graph for New York's social elite.  Take a look at this page of a recent [To Love Unconditionally](https://www.newyorksocialdiary.com/to-love-unconditionally/).\n",
    "\n",
    "You will notice the photos have carefully annotated captions labeling those that appear in the photos.  We can think of this as implicitly implying a social graph: there is a connection between two individuals if they appear in a picture together.\n",
    "\n",
    "For this project, we will assemble the social graph from photo captions for parties.  Using this graph, we can make guesses at the most popular socialites, the most influential people, and the most tightly coupled pairs.\n",
    "\n",
    "We will attack the project in three phases:\n",
    "1. Get a list of all the photo pages to be analyzed.\n",
    "2. Get all captions in each party, Parse all of the captions and extract guests' names.\n",
    "3. Assemble the graph, analyze the graph and answer the questions"
   ]
  },
  {
   "cell_type": "markdown",
   "metadata": {
    "collapsed": false,
    "id": "fil83QYMdQl4",
    "jupyter": {
     "outputs_hidden": false
    }
   },
   "source": [
    "## Phase One\n"
   ]
  },
  {
   "cell_type": "markdown",
   "metadata": {
    "collapsed": false,
    "id": "sHL14Y2udQl4",
    "jupyter": {
     "outputs_hidden": false
    }
   },
   "source": [
    "The first step is to crawl the data.  We want photos from parties on or before December 1st, 2014.  Go to the [Party Pictures Archive](https://web.archive.org/web/20150913224145/http://www.newyorksocialdiary.com/party-pictures) to see a list of (party) pages.  We want to get the url for each party page, along with its date.\n",
    "\n",
    "Here are some packages that you may find useful.  You are welcome to use others, if you prefer."
   ]
  },
  {
   "cell_type": "code",
   "execution_count": 1,
   "metadata": {
    "colab": {
     "base_uri": "https://localhost:8080/"
    },
    "collapsed": false,
    "id": "jYBmnGpydQl4",
    "jupyter": {
     "outputs_hidden": false
    },
    "outputId": "0fee2573-2c76-4169-db76-ab20b0ed60e2"
   },
   "outputs": [],
   "source": [
    "import requests\n",
    "#!pip install dill\n",
    "import dill\n",
    "import glob\n",
    "from bs4 import BeautifulSoup\n",
    "from datetime import datetime\n",
    "import time\n",
    "\n",
    "import pandas as pd\n",
    "import numpy as np\n",
    "import matplotlib.pyplot as plt\n",
    "\n",
    "import re\n",
    "\n",
    "import itertools  # itertools.combinations may be useful\n",
    "import networkx as nx\n",
    "\n",
    "#!pip install spacy\n",
    "#!python -m spacy download en_core_web_lg\n",
    "\n",
    "import spacy\n",
    "from spacy.language import Language\n",
    "from spacy.tokens import Span"
   ]
  },
  {
   "cell_type": "markdown",
   "metadata": {
    "collapsed": false,
    "id": "X7MzwfTUdQl5",
    "jupyter": {
     "outputs_hidden": false
    }
   },
   "source": [
    "We recommend using Python [Requests](http://docs.python-requests.org/en/master/) to download the HTML pages, and [BeautifulSoup](https://www.crummy.com/software/BeautifulSoup/) to process the HTML.  Let's start by getting the [first page](https://web.archive.org/web/20150913224145/http://www.newyorksocialdiary.com/party-pictures)."
   ]
  },
  {
   "cell_type": "code",
   "execution_count": 2,
   "metadata": {
    "collapsed": false,
    "id": "S6nrDVuadQl5",
    "jupyter": {
     "outputs_hidden": false
    }
   },
   "outputs": [],
   "source": [
    "nysd_url = \"https://web.archive.org/web/20150913224145/http://www.newyorksocialdiary.com/party-pictures\"\n",
    "page = requests.get(nysd_url) # Use requests.get to download the page."
   ]
  },
  {
   "cell_type": "markdown",
   "metadata": {
    "collapsed": false,
    "id": "N6A372fWdQl5",
    "jupyter": {
     "outputs_hidden": false
    }
   },
   "source": [
    "Now, we process the text of the page with BeautifulSoup."
   ]
  },
  {
   "cell_type": "code",
   "execution_count": 3,
   "metadata": {
    "collapsed": false,
    "id": "hDqhRM2gdQl5",
    "jupyter": {
     "outputs_hidden": false
    }
   },
   "outputs": [],
   "source": [
    "soup = BeautifulSoup(page.text, \"lxml\")"
   ]
  },
  {
   "cell_type": "markdown",
   "metadata": {
    "collapsed": false,
    "id": "cDbSvwNOdQl6",
    "jupyter": {
     "outputs_hidden": false
    }
   },
   "source": [
    "This page has links to 50 party pages. Look at the structure of the page and determine how to isolate those links.  Your browser's developer tools (usually `Cmd`-`Option`-`I` on Mac, `Ctrl`-`Shift`-`I` on others) offer helpful tools to explore the structure of the HTML page.\n",
    "\n",
    "Once you have found a pattern, use BeautifulSoup's [select](https://www.crummy.com/software/BeautifulSoup/bs4/doc/#css-selectors) or [find_all](https://www.crummy.com/software/BeautifulSoup/bs4/doc/#find) methods to get those elements."
   ]
  },
  {
   "cell_type": "code",
   "execution_count": 4,
   "metadata": {
    "colab": {
     "base_uri": "https://localhost:8080/",
     "height": 36
    },
    "collapsed": false,
    "id": "XXAwWDp0dQl6",
    "jupyter": {
     "outputs_hidden": false
    },
    "outputId": "e3685981-f7c7-4b23-a73b-43171385fa96"
   },
   "outputs": [
    {
     "name": "stdout",
     "output_type": "stream",
     "text": [
      "URL:  /web/20150913224145/http://www.newyorksocialdiary.com/party-pictures/2015/kicks-offs-sing-offs-and-pro-ams\n",
      "Date:  Friday, September 11, 2015\n"
     ]
    }
   ],
   "source": [
    "links = soup.select(\"div.views-row\")\n",
    "\n",
    "print(\"URL: \", links[0].find(\"a\").get(\"href\"))\n",
    "print(\"Date: \", links[0].select(\"span.field-content\")[1].text)"
   ]
  },
  {
   "cell_type": "markdown",
   "metadata": {
    "collapsed": false,
    "id": "Dqo4nAZ6dQl7",
    "jupyter": {
     "outputs_hidden": false
    }
   },
   "source": [
    "There should be 50 per page."
   ]
  },
  {
   "cell_type": "code",
   "execution_count": 5,
   "metadata": {
    "colab": {
     "base_uri": "https://localhost:8080/"
    },
    "collapsed": false,
    "id": "55w2XnyndQl7",
    "jupyter": {
     "outputs_hidden": false
    },
    "outputId": "16964e6d-9b5f-4ff5-b08c-8e6063fd9572"
   },
   "outputs": [
    {
     "data": {
      "text/plain": [
       "True"
      ]
     },
     "execution_count": 5,
     "metadata": {},
     "output_type": "execute_result"
    }
   ],
   "source": [
    "len(links) == 50"
   ]
  },
  {
   "cell_type": "markdown",
   "metadata": {
    "collapsed": false,
    "id": "qUagJwV8dQl7",
    "jupyter": {
     "outputs_hidden": false
    }
   },
   "source": [
    "Let's take a look at that first link.  Figure out how to extract the URL of the link, as well as the date.  You probably want to use `datetime.strptime`.  See the [format codes for dates](https://docs.python.org/3/library/datetime.html#strftime-and-strptime-behavior) for reference."
   ]
  },
  {
   "cell_type": "code",
   "execution_count": 6,
   "metadata": {
    "colab": {
     "base_uri": "https://localhost:8080/",
     "height": 146
    },
    "collapsed": false,
    "id": "os3Hnk2gdQl7",
    "jupyter": {
     "outputs_hidden": false
    },
    "outputId": "5d02de87-9b6a-4cbe-a4fe-6a9be92ea74c"
   },
   "outputs": [
    {
     "ename": "SyntaxError",
     "evalue": "invalid syntax (3998999942.py, line 1)",
     "output_type": "error",
     "traceback": [
      "\u001b[0;36m  Cell \u001b[0;32mIn[6], line 1\u001b[0;36m\u001b[0m\n\u001b[0;31m    \"/web/20150913224145/http://www.newyorksocialdiary.com/party-pictures/2015/grand-finale-of-the-hampton-classic-horse-show\">Grand Finale of the Hampton Classic Horse Show</a>\u001b[0m\n\u001b[0m                                                                                                                                     ^\u001b[0m\n\u001b[0;31mSyntaxError\u001b[0m\u001b[0;31m:\u001b[0m invalid syntax\n"
     ]
    }
   ],
   "source": [
    "\"/web/20150913224145/http://www.newyorksocialdiary.com/party-pictures/2015/grand-finale-of-the-hampton-classic-horse-show\">Grand Finale of the Hampton Classic Horse Show</a>"
   ]
  },
  {
   "cell_type": "code",
   "execution_count": 7,
   "metadata": {
    "collapsed": false,
    "id": "eFmrbxiYdQl7",
    "jupyter": {
     "outputs_hidden": false
    }
   },
   "outputs": [
    {
     "data": {
      "text/plain": [
       "'/web/20150913224145/http://www.newyorksocialdiary.com/party-pictures/2015/kicks-offs-sing-offs-and-pro-ams'"
      ]
     },
     "execution_count": 7,
     "metadata": {},
     "output_type": "execute_result"
    }
   ],
   "source": [
    "link = links[0]\n",
    "# Check that the title and date match what you see visually.\n",
    "links[0].find(\"a\").get(\"href\")"
   ]
  },
  {
   "cell_type": "markdown",
   "metadata": {
    "collapsed": false,
    "id": "e30LrMB7dQl7",
    "jupyter": {
     "outputs_hidden": false
    }
   },
   "source": [
    "For purposes of code reuse, let's put that logic into a function.  It should take the link element and return the URL and date parsed from it."
   ]
  },
  {
   "cell_type": "code",
   "execution_count": 8,
   "metadata": {
    "collapsed": false,
    "id": "rckvye4fdQl8",
    "jupyter": {
     "outputs_hidden": false
    }
   },
   "outputs": [
    {
     "data": {
      "text/plain": [
       "('/web/20150913224145/http://www.newyorksocialdiary.com/party-pictures/2015/kicks-offs-sing-offs-and-pro-ams',\n",
       " datetime.datetime(2015, 9, 11, 0, 0))"
      ]
     },
     "execution_count": 8,
     "metadata": {},
     "output_type": "execute_result"
    }
   ],
   "source": [
    "def get_link_date(el):\n",
    "    url = el.find(\"a\").get(\"href\")\n",
    "    date_text = el.select(\"span.field-content\")[1].text\n",
    "    ## Example date format:\n",
    "    ## Tuesday, September 1, 2015\n",
    "    date = datetime.strptime(date_text, \"%A, %B %d, %Y\")\n",
    "    return url, date\n",
    "\n",
    "get_link_date(links[0])"
   ]
  },
  {
   "cell_type": "markdown",
   "metadata": {
    "collapsed": false,
    "id": "aPgOMDJbdQl8",
    "jupyter": {
     "outputs_hidden": false
    }
   },
   "source": [
    "You may want to check that it works as you expected.\n",
    "\n",
    "Once that's working, let's write another function to parse all of the links on a page.  Thinking ahead, we can make it take a Requests [Response](https://requests.readthedocs.io/en/master/api/#requests.Response) object and do the BeautifulSoup parsing within it."
   ]
  },
  {
   "cell_type": "code",
   "execution_count": 9,
   "metadata": {
    "collapsed": false,
    "id": "W67j6Fl2dQl8",
    "jupyter": {
     "outputs_hidden": false
    }
   },
   "outputs": [
    {
     "data": {
      "text/plain": [
       "[('/web/20150913224145/http://www.newyorksocialdiary.com/party-pictures/2015/kicks-offs-sing-offs-and-pro-ams',\n",
       "  datetime.datetime(2015, 9, 11, 0, 0)),\n",
       " ('/web/20150913224145/http://www.newyorksocialdiary.com/party-pictures/2015/grand-finale-of-the-hampton-classic-horse-show',\n",
       "  datetime.datetime(2015, 9, 1, 0, 0)),\n",
       " ('/web/20150913224145/http://www.newyorksocialdiary.com/party-pictures/2015/riders-spectators-horses-and-more',\n",
       "  datetime.datetime(2015, 8, 26, 0, 0)),\n",
       " ('/web/20150913224145/http://www.newyorksocialdiary.com/party-pictures/2015/artist-and-writers-and-designers',\n",
       "  datetime.datetime(2015, 8, 20, 0, 0)),\n",
       " ('/web/20150913224145/http://www.newyorksocialdiary.com/party-pictures/2015/garden-parties-kickoffs-and-summer-benefits',\n",
       "  datetime.datetime(2015, 8, 17, 0, 0)),\n",
       " ('/web/20150913224145/http://www.newyorksocialdiary.com/party-pictures/2015/the-summer-set',\n",
       "  datetime.datetime(2015, 8, 12, 0, 0)),\n",
       " ('/web/20150913224145/http://www.newyorksocialdiary.com/party-pictures/2015/midsummer-parties',\n",
       "  datetime.datetime(2015, 8, 5, 0, 0)),\n",
       " ('/web/20150913224145/http://www.newyorksocialdiary.com/party-pictures/2015/the-watermill-center-and-the-parrish',\n",
       "  datetime.datetime(2015, 7, 29, 0, 0)),\n",
       " ('/web/20150913224145/http://www.newyorksocialdiary.com/party-pictures/2015/unconditional-love',\n",
       "  datetime.datetime(2015, 7, 23, 0, 0)),\n",
       " ('/web/20150913224145/http://www.newyorksocialdiary.com/party-pictures/2015/womens-health-boys-girls-cancer-research-and-just-plain-summer-fun',\n",
       "  datetime.datetime(2015, 7, 17, 0, 0)),\n",
       " ('/web/20150913224145/http://www.newyorksocialdiary.com/party-pictures/2015/art-southampton-mashomack-sofo-and-arthamptons',\n",
       "  datetime.datetime(2015, 7, 13, 0, 0)),\n",
       " ('/web/20150913224145/http://www.newyorksocialdiary.com/party-pictures/2015/this-and-that',\n",
       "  datetime.datetime(2015, 7, 10, 0, 0)),\n",
       " ('/web/20150913224145/http://www.newyorksocialdiary.com/party-pictures/2015/divine-intervention',\n",
       "  datetime.datetime(2015, 7, 3, 0, 0)),\n",
       " ('/web/20150913224145/http://www.newyorksocialdiary.com/party-pictures/2015/where-the-wild-things',\n",
       "  datetime.datetime(2015, 6, 29, 0, 0)),\n",
       " ('/web/20150913224145/http://www.newyorksocialdiary.com/party-pictures/2015/signature-events',\n",
       "  datetime.datetime(2015, 6, 26, 0, 0)),\n",
       " ('/web/20150913224145/http://www.newyorksocialdiary.com/party-pictures/2015/young-new-yorkers-chashama-brain-behavior-fundahigado-america',\n",
       "  datetime.datetime(2015, 6, 23, 0, 0)),\n",
       " ('/web/20150913224145/http://www.newyorksocialdiary.com/party-pictures/2015/play-for-pink-freeing-voices-stories-from-the-war-and-spirit-of-achievement',\n",
       "  datetime.datetime(2015, 6, 22, 0, 0)),\n",
       " ('/web/20150913224145/http://www.newyorksocialdiary.com/party-pictures/2015/a-taste-of-summer',\n",
       "  datetime.datetime(2015, 6, 17, 0, 0)),\n",
       " ('/web/20150913224145/http://www.newyorksocialdiary.com/party-pictures/2015/gods-love-we-deliver-the-black-alumni-of-pratt-a-gala-salute-for-wnet-and',\n",
       "  datetime.datetime(2015, 6, 15, 0, 0)),\n",
       " ('/web/20150913224145/http://www.newyorksocialdiary.com/party-pictures/2015/education-research-and-patient-care',\n",
       "  datetime.datetime(2015, 6, 10, 0, 0)),\n",
       " ('/web/20150913224145/http://www.newyorksocialdiary.com/party-pictures/2015/broadway-melodies-historic-hearst-castle-the-hermione-calvary-china-institute',\n",
       "  datetime.datetime(2015, 6, 8, 0, 0)),\n",
       " ('/web/20150913224145/http://www.newyorksocialdiary.com/party-pictures/2015/philanthropic-legal-social-justice-civic-and-business-communities',\n",
       "  datetime.datetime(2015, 6, 5, 0, 0)),\n",
       " ('/web/20150913224145/http://www.newyorksocialdiary.com/party-pictures/2015/milestone-celebrations',\n",
       "  datetime.datetime(2015, 6, 4, 0, 0)),\n",
       " ('/web/20150913224145/http://www.newyorksocialdiary.com/party-pictures/2015/arf-pratt-institute-caron-city-college-center-for-the-arts-and-susan-g-komen',\n",
       "  datetime.datetime(2015, 6, 1, 0, 0)),\n",
       " ('/web/20150913224145/http://www.newyorksocialdiary.com/party-pictures/2015/united-cerebral-palsy-the-opportunity-network-92nd-street-y-the-animal-medical',\n",
       "  datetime.datetime(2015, 5, 27, 0, 0)),\n",
       " ('/web/20150913224145/http://www.newyorksocialdiary.com/party-pictures/2015/la-belle-epoque',\n",
       "  datetime.datetime(2015, 5, 26, 0, 0)),\n",
       " ('/web/20150913224145/http://www.newyorksocialdiary.com/party-pictures/2015/el-museo-del-barrio-fountain-house-empowers-africa-and-gray-matters',\n",
       "  datetime.datetime(2015, 5, 22, 0, 0)),\n",
       " ('/web/20150913224145/http://www.newyorksocialdiary.com/party-pictures/2015/spring-ahead',\n",
       "  datetime.datetime(2015, 5, 19, 0, 0)),\n",
       " ('/web/20150913224145/http://www.newyorksocialdiary.com/party-pictures/2015/rockefeller-university-bal-des-berceaux-and-icaa',\n",
       "  datetime.datetime(2015, 5, 18, 0, 0)),\n",
       " ('/web/20150913224145/http://www.newyorksocialdiary.com/party-pictures/2015/nyc-ballet-masterpiece-london-pratt-institute-and-project-sunshine',\n",
       "  datetime.datetime(2015, 5, 15, 0, 0)),\n",
       " ('/web/20150913224145/http://www.newyorksocialdiary.com/party-pictures/2015/in-the-presence-of',\n",
       "  datetime.datetime(2015, 5, 12, 0, 0)),\n",
       " ('/web/20150913224145/http://www.newyorksocialdiary.com/party-pictures/2015/over-the-top-extravaganzas',\n",
       "  datetime.datetime(2015, 5, 8, 0, 0)),\n",
       " ('/web/20150913224145/http://www.newyorksocialdiary.com/party-pictures/2015/dpcs-take-at-the-33rd-annual-frederick-law-olmsted-awards-luncheon',\n",
       "  datetime.datetime(2015, 5, 7, 0, 0)),\n",
       " ('/web/20150913224145/http://www.newyorksocialdiary.com/party-pictures/2015/hellos-and-goodbyes',\n",
       "  datetime.datetime(2015, 5, 5, 0, 0)),\n",
       " ('/web/20150913224145/http://www.newyorksocialdiary.com/party-pictures/2015/women-of-distinction',\n",
       "  datetime.datetime(2015, 4, 30, 0, 0)),\n",
       " ('/web/20150913224145/http://www.newyorksocialdiary.com/party-pictures/2015/nights-for-changing-lives',\n",
       "  datetime.datetime(2015, 4, 27, 0, 0)),\n",
       " ('/web/20150913224145/http://www.newyorksocialdiary.com/party-pictures/2015/il-piacere-dellamore',\n",
       "  datetime.datetime(2015, 4, 23, 0, 0)),\n",
       " ('/web/20150913224145/http://www.newyorksocialdiary.com/party-pictures/2015/masquerade-retrograde',\n",
       "  datetime.datetime(2015, 4, 22, 0, 0)),\n",
       " ('/web/20150913224145/http://www.newyorksocialdiary.com/party-pictures/2015/artists-and-writers-and-designers',\n",
       "  datetime.datetime(2015, 4, 21, 0, 0)),\n",
       " ('/web/20150913224145/http://www.newyorksocialdiary.com/party-pictures/2015/in-kind',\n",
       "  datetime.datetime(2015, 4, 17, 0, 0)),\n",
       " ('/web/20150913224145/http://www.newyorksocialdiary.com/party-pictures/2015/aspca-playground-partners-east-side-house-settlement-and-castle-connolly',\n",
       "  datetime.datetime(2015, 4, 13, 0, 0)),\n",
       " ('/web/20150913224145/http://www.newyorksocialdiary.com/party-pictures/2015/el-museo-pdf-tusk-and-nyc-mission-society',\n",
       "  datetime.datetime(2015, 4, 9, 0, 0)),\n",
       " ('/web/20150913224145/http://www.newyorksocialdiary.com/party-pictures/2015/drifting-in-daylight',\n",
       "  datetime.datetime(2015, 4, 6, 0, 0)),\n",
       " ('/web/20150913224145/http://www.newyorksocialdiary.com/party-pictures/2015/the-art-of-fashion',\n",
       "  datetime.datetime(2015, 4, 3, 0, 0)),\n",
       " ('/web/20150913224145/http://www.newyorksocialdiary.com/party-pictures/2015/glitz-glamour',\n",
       "  datetime.datetime(2015, 3, 30, 0, 0)),\n",
       " ('/web/20150913224145/http://www.newyorksocialdiary.com/party-pictures/2015/madoo-in-manhattan-pmp-in-palm-beach',\n",
       "  datetime.datetime(2015, 3, 25, 0, 0)),\n",
       " ('/web/20150913224145/http://www.newyorksocialdiary.com/party-pictures/2015/love-heals',\n",
       "  datetime.datetime(2015, 3, 20, 0, 0)),\n",
       " ('/web/20150913224145/http://www.newyorksocialdiary.com/party-pictures/2015/citymeals-on-wheels-mount-sinai-hospital-un-women-for-peace-and-the-red-cross',\n",
       "  datetime.datetime(2015, 3, 18, 0, 0)),\n",
       " ('/web/20150913224145/http://www.newyorksocialdiary.com/party-pictures/2015/ripa-eight-over-eighty-trees-new-york-and-fabulous-at-any-age',\n",
       "  datetime.datetime(2015, 3, 17, 0, 0)),\n",
       " ('/web/20150913224145/http://www.newyorksocialdiary.com/party-pictures/2015/bunny-hop-the-boys-club-old-bags-and-more',\n",
       "  datetime.datetime(2015, 3, 13, 0, 0))]"
      ]
     },
     "execution_count": 9,
     "metadata": {},
     "output_type": "execute_result"
    }
   ],
   "source": [
    "def get_links(response):\n",
    "  links = []\n",
    "  for r in response:\n",
    "    links.append(get_link_date(r))\n",
    "  return links # A list of URL, date pair s\n",
    "\n",
    "get_links(links)"
   ]
  },
  {
   "cell_type": "markdown",
   "metadata": {
    "collapsed": false,
    "id": "0flSSgGndQl8",
    "jupyter": {
     "outputs_hidden": false
    }
   },
   "source": [
    "If we run this on the previous response, we should get 50 pairs."
   ]
  },
  {
   "cell_type": "code",
   "execution_count": 10,
   "metadata": {
    "collapsed": false,
    "id": "FXNFZW59dQl8",
    "jupyter": {
     "outputs_hidden": false
    }
   },
   "outputs": [
    {
     "data": {
      "text/plain": [
       "True"
      ]
     },
     "execution_count": 10,
     "metadata": {},
     "output_type": "execute_result"
    }
   ],
   "source": [
    "# These should be the same links from earlier\n",
    "len(get_links(links)) == 50"
   ]
  },
  {
   "cell_type": "markdown",
   "metadata": {
    "collapsed": false,
    "id": "pQWA9oPfdQl8",
    "jupyter": {
     "outputs_hidden": false
    }
   },
   "source": [
    "But we only want parties with dates on or before the first of December, 2014.  Let's write a function to filter our list of dates to those at or before a cutoff.  Using a keyword argument, we can put in a default cutoff, but allow us to test with others."
   ]
  },
  {
   "cell_type": "code",
   "execution_count": 11,
   "metadata": {
    "collapsed": false,
    "id": "ph83id-6dQl9",
    "jupyter": {
     "outputs_hidden": false
    }
   },
   "outputs": [
    {
     "data": {
      "text/plain": [
       "[]"
      ]
     },
     "execution_count": 11,
     "metadata": {},
     "output_type": "execute_result"
    }
   ],
   "source": [
    "def filter_by_date(links, cutoff=datetime(2014, 12, 1)):\n",
    "    # Return only the elements with date <= cutoff\n",
    "    return [link for link in links if link[1] <= cutoff]\n",
    "\n",
    "filter_by_date(get_links(links))"
   ]
  },
  {
   "cell_type": "markdown",
   "metadata": {
    "collapsed": false,
    "id": "WT58Q_YkdQl9",
    "jupyter": {
     "outputs_hidden": false
    }
   },
   "source": [
    "With the default cutoff, there should be no valid parties on the first page.  Adjust the cutoff date to check that it is actually working."
   ]
  },
  {
   "cell_type": "code",
   "execution_count": 12,
   "metadata": {
    "collapsed": false,
    "id": "Au4PqJ5IdQl9",
    "jupyter": {
     "outputs_hidden": false
    }
   },
   "outputs": [
    {
     "data": {
      "text/plain": [
       "True"
      ]
     },
     "execution_count": 12,
     "metadata": {},
     "output_type": "execute_result"
    }
   ],
   "source": [
    "# Double check the dates are being extracted correctly\n",
    "len(filter_by_date(get_links(links))) == 0"
   ]
  },
  {
   "cell_type": "markdown",
   "metadata": {
    "collapsed": false,
    "id": "AGR19IN4dQl9",
    "jupyter": {
     "outputs_hidden": false
    }
   },
   "source": [
    "Now we should be ready to get all of the party URLs.  Click through a few of the index pages to determine how the URL changes.  Figure out a strategy to visit all of them.\n",
    "\n",
    "HTTP requests are generally IO-bound.  This means that most of the time is spent waiting for the remote server to respond.  If you use `requests` directly, you can only wait on one response at a time.  [requests-futures](https://github.com/ross/requests-futures) lets you wait for multiple requests at a time.  You may wish to use this to speed up the downloading process."
   ]
  },
  {
   "cell_type": "code",
   "execution_count": null,
   "metadata": {
    "collapsed": false,
    "id": "BH7D7CZVdQl9",
    "jupyter": {
     "outputs_hidden": false
    }
   },
   "outputs": [],
   "source": [
    "#!pip install requests-futures\n",
    "#from requests_futures.sessions import FuturesSession\n",
    "\n",
    "link_list = []\n",
    "# You can use link_list.extend(others) to add the elements of others\n",
    "# to link_list.\n",
    "\n",
    "for i in range(1, 27):\n",
    "  index_url = f\"https://web.archive.org/web/20150913224145/http://www.newyorksocialdiary.com/party-pictures?page={i}\"\n",
    "  page = requests.get(index_url)\n",
    "  soup = BeautifulSoup(page.text, \"lxml\")\n",
    "  links = soup.select(\"div.views-row\")\n",
    "  link_list.extend(filter_by_date(get_links(links)))\n",
    "  time.sleep(10) ### Avoid getting blocked by making requests too quickly"
   ]
  },
  {
   "cell_type": "markdown",
   "metadata": {
    "collapsed": false,
    "id": "zsYv__JOdQl9",
    "jupyter": {
     "outputs_hidden": false
    }
   },
   "source": [
    "In the end, you should have 1193 parties."
   ]
  },
  {
   "cell_type": "code",
   "execution_count": null,
   "metadata": {
    "collapsed": false,
    "id": "Zab-LDGydQl9",
    "jupyter": {
     "outputs_hidden": false
    }
   },
   "outputs": [],
   "source": [
    "# Make sure you are using the same /web/stringofdigits/... for each page\n",
    "# This is to prevent the archive from accessing later copies of the same page\n",
    "# If you are off by a just a few, that can be the archive misbehaving\n",
    "len(link_list) == 1193"
   ]
  },
  {
   "cell_type": "markdown",
   "metadata": {
    "collapsed": false,
    "id": "MRTcFU_0dQl9",
    "jupyter": {
     "outputs_hidden": false
    }
   },
   "source": [
    "In case we need to restart the notebook, we should save this information to a file.  There are many ways you could do this; here's one using `dill`."
   ]
  },
  {
   "cell_type": "code",
   "execution_count": null,
   "metadata": {
    "collapsed": false,
    "id": "M11QdhVWdQl-",
    "jupyter": {
     "outputs_hidden": false
    }
   },
   "outputs": [],
   "source": [
    "dill.dump(link_list, open('nysd-links.pkd', 'wb'))"
   ]
  },
  {
   "cell_type": "markdown",
   "metadata": {
    "collapsed": false,
    "id": "9MV6aZosdQl-",
    "jupyter": {
     "outputs_hidden": false
    }
   },
   "source": [
    "To restore the list, we can just load it from the file.  When the notebook is restarted, you can skip the code above and just run this command."
   ]
  },
  {
   "cell_type": "code",
   "execution_count": 6,
   "metadata": {
    "collapsed": false,
    "id": "1b_1ZW4ddQl-",
    "jupyter": {
     "outputs_hidden": false
    }
   },
   "outputs": [
    {
     "name": "stdout",
     "output_type": "stream",
     "text": [
      "1213\n",
      "('/web/20150918040703/http://www.newyorksocialdiary.com/party-pictures/2014/the-thanksgiving-day-parade-from-the-ground-up', datetime.datetime(2014, 12, 1, 0, 0))\n",
      "('/web/20160414071258/http://www.newyorksocialdiary.com/party-pictures/2007/orchids-growing-wild', datetime.datetime(2007, 2, 21, 0, 0))\n"
     ]
    }
   ],
   "source": [
    "link_list = dill.load(open('nysd-links.pkd', 'rb'))\n",
    "link_list = dill.load(open('nysd-links.pkd', 'rb'))\n",
    "\n",
    "print(len(link_list))\n",
    "print(link_list[0])\n",
    "print(link_list[-1])"
   ]
  },
  {
   "cell_type": "markdown",
   "metadata": {
    "collapsed": false,
    "id": "NePMX4hEdQl-",
    "jupyter": {
     "outputs_hidden": false
    }
   },
   "source": [
    "### Question 1: In which month did most of the parties occur? (10 p)\n",
    "### Question 2: What is the overall trend of parties from 2007 to 2014? (10 p)\n",
    "Use visualizations to answer the two questions above. Ensure that you interpret your plots thoroughly."
   ]
  },
  {
   "cell_type": "code",
   "execution_count": 7,
   "metadata": {
    "colab": {
     "base_uri": "https://localhost:8080/",
     "height": 730
    },
    "collapsed": false,
    "id": "fdNAdexj8GH7",
    "jupyter": {
     "outputs_hidden": false
    },
    "outputId": "285bcc85-5cc2-495f-a7c3-b278e7561f21"
   },
   "outputs": [
    {
     "name": "stdout",
     "output_type": "stream",
     "text": [
      "month\n",
      "1      60\n",
      "2      76\n",
      "3     133\n",
      "4     110\n",
      "5     124\n",
      "6     111\n",
      "7     110\n",
      "8      93\n",
      "9      99\n",
      "10    111\n",
      "11    111\n",
      "12     75\n",
      "dtype: int64\n"
     ]
    },
    {
     "data": {
      "image/png": "[encoded data removed]",
      "text/plain": [
       "<Figure size 640x480 with 1 Axes>"
      ]
     },
     "metadata": {},
     "output_type": "display_data"
    }
   ],
   "source": [
    "import pandas as pd\n",
    "import numpy as np\n",
    "import matplotlib.pyplot as plt\n",
    "\n",
    "df = pd.DataFrame(link_list, columns=['url', 'date'])\n",
    "df['month'] = df['date'].dt.month\n",
    "\n",
    "# Group by month and count the number of parties in each month\n",
    "monthly_counts = df.groupby('month').size()\n",
    "\n",
    "print(monthly_counts)\n",
    "\n",
    "plt.bar(monthly_counts.index, monthly_counts.values)\n",
    "plt.xlabel(\"Month\")\n",
    "plt.ylabel(\"Number of Parties\")\n",
    "plt.title(\"Number of Parties by Month\")\n",
    "\n",
    "plt.show()"
   ]
  },
  {
   "cell_type": "code",
   "execution_count": null,
   "metadata": {
    "colab": {
     "base_uri": "https://localhost:8080/",
     "height": 480
    },
    "collapsed": false,
    "id": "91vM2wBI8m9x",
    "jupyter": {
     "outputs_hidden": false
    },
    "outputId": "bf26fc37-eb16-479b-de6d-d9031211bf0d"
   },
   "outputs": [
    {
     "data": {
      "image/png": "[encoded data removed]",
      "text/plain": [
       "<Figure size 640x480 with 1 Axes>"
      ]
     },
     "metadata": {},
     "output_type": "display_data"
    }
   ],
   "source": [
    "df['year'] = df['date'].dt.year\n",
    "\n",
    "## Number of parties per year\n",
    "yearly_counts = df.groupby('year').size()\n",
    "\n",
    "plt.scatter(yearly_counts.index, yearly_counts.values)\n",
    "z = np.polyfit(yearly_counts.index, yearly_counts.values, 1)\n",
    "p = np.poly1d(z)\n",
    "plt.plot(yearly_counts.index, p(yearly_counts.index), \"r--\")\n",
    "\n",
    "plt.xlabel(\"Year\")\n",
    "plt.ylabel(\"Number of Parties\")\n",
    "plt.title(\"Trend of Parties from 2007 to 2014\")\n",
    "\n",
    "plt.show()\n"
   ]
  },
  {
   "cell_type": "markdown",
   "metadata": {
    "collapsed": false,
    "id": "TdCKxlIUdQl-",
    "jupyter": {
     "outputs_hidden": false
    }
   },
   "source": [
    "## Phase Two\n"
   ]
  },
  {
   "cell_type": "markdown",
   "metadata": {
    "collapsed": false,
    "id": "FD-kvAmsdQl-",
    "jupyter": {
     "outputs_hidden": false
    }
   },
   "source": [
    "In this phase, we concentrate on getting the names out of captions for a given page.  We'll start with [the benefit cocktails and dinner](https://web.archive.org/web/20150913224145/http://www.newyorksocialdiary.com/party-pictures/2015/celebrating-the-neighborhood) for [Lenox Hill Neighborhood House](http://www.lenoxhill.org/), a neighborhood organization for the East Side.\n",
    "\n",
    "Take a look at that page.  Note that some of the text on the page is captions, but others are descriptions of the event.  Determine how to select only the captions."
   ]
  },
  {
   "cell_type": "code",
   "execution_count": 13,
   "metadata": {
    "collapsed": false,
    "id": "ROB-Jk1xdQl-",
    "jupyter": {
     "outputs_hidden": false
    }
   },
   "outputs": [],
   "source": [
    "url = \"https://web.archive.org/web/20151114014941/http://www.newyorksocialdiary.com/party-pictures/2015/celebrating-the-neighborhood\"\n",
    "page = requests.get(url)\n",
    "soup = BeautifulSoup(page.text, \"lxml\")\n",
    "\n"
   ]
  },
  {
   "cell_type": "code",
   "execution_count": 14,
   "metadata": {
    "collapsed": false,
    "id": "3GxiYzT7_F-N",
    "jupyter": {
     "outputs_hidden": false
    }
   },
   "outputs": [],
   "source": [
    "captions = soup.select(\"div.photocaption\")"
   ]
  },
  {
   "cell_type": "markdown",
   "metadata": {
    "collapsed": false,
    "id": "n_RjKoX9dQl_",
    "jupyter": {
     "outputs_hidden": false
    }
   },
   "source": [
    "By our count, there are about 110.  But if you're off by a couple, you're probably okay."
   ]
  },
  {
   "cell_type": "code",
   "execution_count": 15,
   "metadata": {
    "colab": {
     "base_uri": "https://localhost:8080/"
    },
    "collapsed": false,
    "id": "GSbz31mudQl_",
    "jupyter": {
     "outputs_hidden": false
    },
    "outputId": "e9e7c9c5-5d54-4150-c94d-bd5564215175"
   },
   "outputs": [
    {
     "data": {
      "text/plain": [
       "True"
      ]
     },
     "execution_count": 15,
     "metadata": {},
     "output_type": "execute_result"
    }
   ],
   "source": [
    "# These are for the specific party referenced in the text\n",
    "abs(len(captions) - 110) < 5"
   ]
  },
  {
   "cell_type": "markdown",
   "metadata": {
    "collapsed": false,
    "id": "DafrBmkzdQl_",
    "jupyter": {
     "outputs_hidden": false
    }
   },
   "source": [
    "Let's encapsulate this in a function.  As with the links pages, we want to avoid downloading a given page the next time we need to run the notebook.  While we could save the files by hand, as we did before, a checkpoint library like [ediblepickle](https://pypi.python.org/pypi/ediblepickle/1.1.3) can handle this for you.  (Note, though, that you may not want to enable this until you are sure that your function is working.)\n",
    "\n",
    "You should also keep in mind that HTTP requests fail occasionally, for transient reasons.  You should plan how to detect and react to these failures.   The [retrying module](https://pypi.python.org/pypi/retrying) is one way to deal with this."
   ]
  },
  {
   "cell_type": "code",
   "execution_count": 16,
   "metadata": {
    "collapsed": false,
    "id": "3OZtv5OmdQl_",
    "jupyter": {
     "outputs_hidden": false
    }
   },
   "outputs": [],
   "source": [
    "def get_captions(path):\n",
    "  url = f\"https://web.archive.org/{path}\"\n",
    "  page = requests.get(url)\n",
    "  soup = BeautifulSoup(page.text, \"lxml\")\n",
    "  return soup.select(\"div.photocaption\")"
   ]
  },
  {
   "cell_type": "markdown",
   "metadata": {
    "collapsed": false,
    "id": "t6_iwcFwdQl_",
    "jupyter": {
     "outputs_hidden": false
    }
   },
   "source": [
    "This should get the same captions as before."
   ]
  },
  {
   "cell_type": "code",
   "execution_count": 17,
   "metadata": {
    "colab": {
     "base_uri": "https://localhost:8080/"
    },
    "collapsed": false,
    "id": "eMS0xI5wdQmA",
    "jupyter": {
     "outputs_hidden": false
    },
    "outputId": "3443238c-f3c5-44aa-ee2a-7e86760e5213"
   },
   "outputs": [
    {
     "data": {
      "text/plain": [
       "True"
      ]
     },
     "execution_count": 17,
     "metadata": {},
     "output_type": "execute_result"
    }
   ],
   "source": [
    "# This cell is expecting get_captions to return a list of the captions themselves\n",
    "# Other routes to a solution might need to adjust this cell a bit\n",
    "captions == get_captions(\"/web/20150913224145/http://www.newyorksocialdiary.com/party-pictures/2015/celebrating-the-neighborhood\")"
   ]
  },
  {
   "cell_type": "markdown",
   "metadata": {
    "collapsed": false,
    "id": "7mBXliqbdQmA",
    "jupyter": {
     "outputs_hidden": false
    }
   },
   "source": [
    "Now that we have some sample captions, let's start parsing names out of those captions.  There are many ways of going about this, and we leave the details up to you.  Some issues to consider:\n",
    "\n",
    "  1. Some captions are not useful: they contain long narrative texts that explain the event.  Try to find some heuristic rules to separate captions that are a list of names from those that are not.  A few heuristics include:\n",
    "    - look for sentences (which have verbs) and as opposed to lists of nouns. For example, [`nltk` does part of speech tagging](http://www.nltk.org/book/ch05.html) but it is a little slow. There may also be heuristics that accomplish the same thing.\n",
    "    - Similarly, spaCy's [entity recognition](https://spacy.io/docs/usage/entity-recognition) could be useful here.\n",
    "    - Look for commonly repeated threads (e.g. you might end up picking up the photo credits or people such as \"a friend\").\n",
    "    - Long captions are often not lists of people.  The cutoff is subjective, but for grading purposes, *set that cutoff at 250 characters*.\n",
    "  2. You will want to separate the captions based on various forms of punctuation.  Try using `re.split`, which is more sophisticated than `string.split`. **Note**: Use regex exclusively for name parsing.\n",
    "  3. This site is pretty formal and likes to say things like \"Mayor Michael Bloomberg\" after his election but \"Michael Bloomberg\" before his election.  Can you find other titles that are being used?  They should probably be filtered out because they ultimately refer to the same person: \"Michael Bloomberg.\"\n",
    "  4. There is a special case you might find where couples are written as eg. \"John and Mary Smith\". You will need to write some extra logic to make sure this properly parses to two names: \"John Smith\" and \"Mary Smith\".\n",
    "  5. When parsing names from captions, it can help to look at your output frequently and address the problems that you see coming up, iterating until you have a list that looks reasonable. Because we can only asymptotically approach perfect identification and entity matching, we have to stop somewhere.\n",
    "  \n",
    "**Questions worth considering:**\n",
    "  1. Who is Patrick McMullan and should he be included in the results? How would you address this?\n",
    "  2. What else could you do to improve the quality of the graph's information?"
   ]
  },
  {
   "cell_type": "code",
   "execution_count": 18,
   "metadata": {
    "colab": {
     "base_uri": "https://localhost:8080/"
    },
    "collapsed": false,
    "id": "fYliWF39_8vE",
    "jupyter": {
     "outputs_hidden": false
    },
    "outputId": "a6e35980-b860-4928-f08f-d67d73ee764d"
   },
   "outputs": [],
   "source": [
    "### Configure spaCy to use expanded person entities\n",
    "### To process titles (Mr., Mrs., Dr., etc.)\n",
    "### See https://spacy.io/usage/rule-based-matching#models-rules\n",
    "@Language.component(\"expand_person_entities\")\n",
    "def expand_person_entities(doc):\n",
    "    new_ents = []\n",
    "    for ent in doc.ents:\n",
    "        if ent.label_ == \"PERSON\" and ent.start != 0:\n",
    "            prev_token = doc[ent.start - 1]\n",
    "            if prev_token.text in (\"Dr\", \"Dr.\", \"Mr\", \"Mr.\", \"Mrs\", \"Mrs.\", \"Ms\", \"Ms.\"):\n",
    "                new_ent = Span(doc, ent.start - 1, ent.end, label=ent.label)\n",
    "                new_ents.append(new_ent)\n",
    "            else:\n",
    "                new_ents.append(ent)\n",
    "        else:\n",
    "            new_ents.append(ent)\n",
    "    doc.ents = new_ents\n",
    "    return doc\n",
    "\n",
    "nlp = spacy.load(\"en_core_web_lg\")\n",
    "##nlp.add_pipe(\"expand_person_entities\", after=\"ner\")"
   ]
  },
  {
   "cell_type": "code",
   "execution_count": 19,
   "metadata": {
    "colab": {
     "base_uri": "https://localhost:8080/"
    },
    "collapsed": false,
    "id": "fYliWF39_8vE",
    "jupyter": {
     "outputs_hidden": false
    },
    "outputId": "a6e35980-b860-4928-f08f-d67d73ee764d"
   },
   "outputs": [],
   "source": [
    "test = \"John and Jane Smith\"\n",
    "test2 = \"Jean Shafiroff and Mary Mahoney\"\n",
    "def split_married_couple(text):\n",
    "    groups = re.split(r',\\s*(and|with|&)\\s*', text)\n",
    "    names = []\n",
    "    for group in groups:\n",
    "        match = re.search(r'(.*) (?:and|&) (.*) (\\w+)', group)\n",
    "        if match and len(match.group(1).split()) == 1:  ### Only repair names if first name in pair is just first name\n",
    "            first_name1 = match.group(1)\n",
    "            first_name2 = match.group(2)\n",
    "            last_name = match.group(3)\n",
    "            names.extend([f\"{first_name1} {last_name}\", f\"{first_name2} {last_name}\"])\n",
    "        else:\n",
    "            names.append(group)\n",
    "    return \", \".join(names)"
   ]
  },
  {
   "cell_type": "code",
   "execution_count": 210,
   "metadata": {
    "colab": {
     "base_uri": "https://localhost:8080/"
    },
    "collapsed": false,
    "id": "fYliWF39_8vE",
    "jupyter": {
     "outputs_hidden": false
    },
    "outputId": "a6e35980-b860-4928-f08f-d67d73ee764d"
   },
   "outputs": [],
   "source": [
    "def remove_blacklisted_words(text):\n",
    "    ### Pre-processing cleaning.  Remove blacklisted words that pass through spaCy filter\n",
    "    text = re.sub(r\"Frick Director\", \"\", text)\n",
    "    text = re.sub(r\"Chair(wo)?m(e|a)n\", \"\", text)\n",
    "    text = re.sub(r\"CFO\", \"\", text)\n",
    "    text = re.sub(r\"Honoree\", \"\", text)\n",
    "    text = re.sub(r\"Dr\\.*\", \"\", text)\n",
    "    text = re.sub(r\"Jr\\.*\", \"\", text)\n",
    "    text = re.sub(r\"Esq\\.*\", \"\", text)\n",
    "    text = re.sub(r\"M\\.*D\\.*\", \"\", text)\n",
    "    text = re.sub(r\"PhD\\.*\", \"\", text)\n",
    "    text = re.sub(r\"PsyD\\.*\", \"\", text)\n",
    "    text = re.sub(r\"Benefit\\s+\", \"\", text)\n",
    "    text = re.sub(r\"Composer\\s+\", \"\", text)\n",
    "    text = re.sub(r\"Chair\\s+\", \"\", text)\n",
    "    text = re.sub(r\"Father\\s+\", \"\", text)\n",
    "    text = re.sub(r\"Executive Director\\s+\", \"\", text)\n",
    "\n",
    "    return text"
   ]
  },
  {
   "cell_type": "code",
   "execution_count": 211,
   "metadata": {
    "colab": {
     "base_uri": "https://localhost:8080/"
    },
    "collapsed": false,
    "id": "fYliWF39_8vE",
    "jupyter": {
     "outputs_hidden": false
    },
    "outputId": "a6e35980-b860-4928-f08f-d67d73ee764d"
   },
   "outputs": [],
   "source": [
    "def pre_clean_name(name):\n",
    "    name = str(name)\n",
    "    name = re.sub(r\"'s$\", \"\", name)    ### remove trailing 's\n",
    "    name = re.sub(r\"\\s+\", \" \", name)  ### replace sequences of multiple whitespaces with a single space char\n",
    "    \n",
    "    name = name.strip(\"/\")\n",
    "    name = name.strip(\"'\")\n",
    "    name = name.strip()\n",
    "    \n",
    "    return name"
   ]
  },
  {
   "cell_type": "code",
   "execution_count": 212,
   "metadata": {
    "editable": true,
    "slideshow": {
     "slide_type": ""
    },
    "tags": []
   },
   "outputs": [],
   "source": [
    "def post_clean_name(caption):\n",
    "    new_caption = []\n",
    "    for item in caption:\n",
    "        if (item not in [\",\", \"and\", \"with\", '', ' '] and\n",
    "            len(item.split()) < 4 and ### Things over 5 words are probably not names\n",
    "            len(item.split()) > 1):   ### 1 word things are probably not identifiable names\n",
    "            new_caption.append(item)\n",
    "\n",
    "    return new_caption"
   ]
  },
  {
   "cell_type": "code",
   "execution_count": 213,
   "metadata": {},
   "outputs": [],
   "source": [
    "def extract_names_re(caption):\n",
    "    caption = remove_blacklisted_words(caption)\n",
    "    caption = split_married_couple(caption)\n",
    "    caption = pre_clean_name(caption)\n",
    "\n",
    "    caption = re.split(r\"\\s*(,|and|with|&)+\\s+\", caption)\n",
    "\n",
    "    caption = post_clean_name(caption)\n",
    "    \n",
    "    return caption"
   ]
  },
  {
   "cell_type": "code",
   "execution_count": 214,
   "metadata": {
    "editable": true,
    "slideshow": {
     "slide_type": ""
    },
    "tags": []
   },
   "outputs": [
    {
     "data": {
      "text/plain": [
       "[[],\n",
       " [],\n",
       " ['Gretchen Dow Simpson', 'James Baird', 'Tina Howe'],\n",
       " ['Genevieve Mathis', 'Ed Sherin', 'Tony Sherin'],\n",
       " ['Robert MacNeil'],\n",
       " ['Joel Sanders', 'Paul Gunther', 'Pamela Joyner', 'Rick Stone'],\n",
       " ['Ed Sherin', 'Jane Alexander', 'Jace Alexander', 'Maddie Corman'],\n",
       " ['Steve Reich', 'Beryl Korot'],\n",
       " ['Stewart Wallace', 'Writer Rick Moody'],\n",
       " ['MacDowell Robert MacNeil', 'Jane Alexander', 'James Earl Jones'],\n",
       " ['Cheryl Young', 'Nicky Dawidoff'],\n",
       " ['Anne Jackson', 'Eli Wallach'],\n",
       " ['Genevieve Mathis', 'Tony Sherin'],\n",
       " ['Jane Alexander', 'Thomas Putnam'],\n",
       " ['Writers Amitav Ghosh', 'Deborah Baker'],\n",
       " ['Eileen Wiseman', 'William Banks', 'Ann Cox Chambers', 'Stephanie Olmsted'],\n",
       " ['Lynn Waterston', 'Sam Waterston'],\n",
       " ['Jace Alexander', 'Maddie Corman'],\n",
       " ['playwright Tina Howe', 'Jane Alexander'],\n",
       " ['Paul LeClerc', 'Emerita Helen Tucker'],\n",
       " ['Artist Jane Dickson', 'Brandon Fradd'],\n",
       " ['Chairs Bob', 'Stephanie Olmsted'],\n",
       " ['Coddy Granum', 'James Earl Jones'],\n",
       " ['Helen Tucker', 'Lewis Cullman'],\n",
       " ['Cheryl Young'],\n",
       " ['Tina Howe', 'Jane Alexander', 'Sam Waterston'],\n",
       " ['Beryl Korot', 'Steve Reich'],\n",
       " ['Tania Leon'],\n",
       " ['Robert MacNeil', 'Donna MacNeil'],\n",
       " [],\n",
       " [],\n",
       " ['Camille Kelleher', 'Min Min Schaffner', 'Christopher Hyl'],\n",
       " [\"George D'Angelo\", 'Brenda Barak'],\n",
       " ['The Sogoloffs', 'Constantino Castellano', 'Seth Pariser'],\n",
       " ['Lorenzo Carcaterra', 'Susan Toepfer'],\n",
       " ['Francis Gasparik', 'Joe Sano', 'Christopher Hyl'],\n",
       " ['The Hendersons', 'Christopher Hyland'],\n",
       " ['Mr. Raiola', 'Jared Flynn'],\n",
       " ['Andy Presti', 'Eilen Presti'],\n",
       " ['Jana Milo', 'Louis Milo'],\n",
       " ['Jane Pflug', 'Scott Salvatore', 'Tyler Tinsworth'],\n",
       " ['John Maguire'],\n",
       " ['Georgia Gogel', 'Christopher Hyl', 'Cassandra Hyland'],\n",
       " ['Seth Pariser', 'Mr. Gary Knapp'],\n",
       " ['Rory Kelleher', 'Camille Kelleher'],\n",
       " ['Leif Arntzen', 'Kathy Arntzen'],\n",
       " ['William Diamond', 'Kathy Pardoe Irwin', 'Christopher Hyl', 'Mr. Baratta'],\n",
       " ['Helga Hodosh', 'Richard Hodosh'],\n",
       " ['Helga Hodosh', 'Anna Galtarossa'],\n",
       " ['Georgia Gogel'],\n",
       " ['Emanuel Sharp', 'Dorothy Palmer'],\n",
       " ['Mr. Ewing'],\n",
       " ['Andrew Weiss', 'Linda Berkeley'],\n",
       " [],\n",
       " [\"George D'Angelo\", 'Christopher Hyl'],\n",
       " ['Mr. Henderson', 'Alana Henderson'],\n",
       " ['Kathy Pardoe Irwin', 'Constantino Castellano'],\n",
       " ['Carol Sano',\n",
       "  'Thomas Gambino Sr.',\n",
       "  'Francis Gasparik',\n",
       "  'Frances Gambino',\n",
       "  'Louis Milo',\n",
       "  'Joseph Sano',\n",
       "  'Jana Milo',\n",
       "  'Eilen Presti'],\n",
       " ['Joana Steichen', 'Irene Neves'],\n",
       " ['Pat Bass', 'Fred Bass'],\n",
       " ['Mrs. Sogoloff', 'Mr. Capriccio'],\n",
       " ['Dave Oesterheld', 'Barbara Sieg', 'Min Min Schaffner'],\n",
       " ['Susan Solomon', 'Harold Koplewicz'],\n",
       " ['Linda Sirow', 'Wood Heller'],\n",
       " ['Marcia Mishaan', 'Linda Sirow'],\n",
       " ['Stuart Match-Suna', 'Beth Gordon'],\n",
       " ['Alex Usi'],\n",
       " ['Stanley Rosenberg,'],\n",
       " ['Joan Lazarus', 'Rachel Klein,'],\n",
       " ['Harold Koplewicz', 'Molly Jong-Fast'],\n",
       " ['Ann Keating', 'Linda Sirow'],\n",
       " ['Alexandra Trullols',\n",
       "  'Jane Bloomingdale',\n",
       "  'Andrea Gutierrez',\n",
       "  'Henrique Cisneros',\n",
       "  'Jose Agria Trulliols'],\n",
       " ['Alejandro Santo Domingo'],\n",
       " ['Yaz Hernandez'],\n",
       " ['Carlos Picon', 'Jose Solis Betancourt', 'Andrew Kepler'],\n",
       " ['Claudia Cisneros',\n",
       "  'Katerina Thermiotis',\n",
       "  'Martin Rozenblum',\n",
       "  'Katie von Strasser'],\n",
       " ['Mark Mullet', 'Fabiola Beracasa', 'Kevin Ulrich'],\n",
       " ['Yayi Santandreu', 'Corina Balbontin', 'Irene Zingg', 'Katerina Thermiotis'],\n",
       " ['Sonia Braga'],\n",
       " ['Amy Sacco', 'Mario Testino'],\n",
       " ['Narciso Rodriguez', 'Margherita Misoni', 'Sonia Braga', 'Lily Donaldson'],\n",
       " ['Alexandra Trullols', 'Regina Haymes', 'Karen Larrain', 'Lily Maddock'],\n",
       " ['Maria Eugenia', 'Ambassador Ricardo Arias', 'wife Maraquel'],\n",
       " ['Jesus Aguais', 'Fabiola Beracasa', 'Alejandro Pompei', 'Maria Eugenia'],\n",
       " ['Karina Correa Maury', 'Mario Testino', 'Maria Eugenia'],\n",
       " []]"
      ]
     },
     "execution_count": 214,
     "metadata": {},
     "output_type": "execute_result"
    }
   ],
   "source": [
    "[extract_names_re(caption.text) for caption in captions]"
   ]
  },
  {
   "cell_type": "code",
   "execution_count": 22,
   "metadata": {
    "colab": {
     "base_uri": "https://localhost:8080/"
    },
    "collapsed": false,
    "id": "fYliWF39_8vE",
    "jupyter": {
     "outputs_hidden": false
    },
    "outputId": "a6e35980-b860-4928-f08f-d67d73ee764d"
   },
   "outputs": [],
   "source": [
    "def extract_names_spacy(caption):\n",
    "    \"\"\"\n",
    "    Extracts names from a caption using spaCy.\n",
    "    \n",
    "    Args:\n",
    "    caption: The caption text.\n",
    "    \n",
    "    Returns:\n",
    "    A list of names extracted from the caption.\n",
    "    \"\"\"\n",
    "    caption = split_married_couple(caption)\n",
    "    caption = remove_blacklisted_words(caption)\n",
    "    doc = nlp(split_married_couple(caption))\n",
    "    names = [clean_name(ent) for ent in doc.ents if ent.label_ == \"PERSON\"]\n",
    "\n",
    "    return names"
   ]
  },
  {
   "cell_type": "code",
   "execution_count": 23,
   "metadata": {
    "colab": {
     "base_uri": "https://localhost:8080/"
    },
    "collapsed": false,
    "id": "fYliWF39_8vE",
    "jupyter": {
     "outputs_hidden": false
    },
    "outputId": "a6e35980-b860-4928-f08f-d67d73ee764d"
   },
   "outputs": [],
   "source": [
    "def extract_other_spacy(caption):\n",
    "    \"\"\"\n",
    "    Extracts names from a caption using spaCy.\n",
    "    \n",
    "    Args:\n",
    "    caption: The caption text.\n",
    "    \n",
    "    Returns:\n",
    "    A list of names extracted from the caption.\n",
    "    \"\"\"\n",
    "    caption = split_married_couple(caption)\n",
    "    caption = remove_blacklisted_words(caption)\n",
    "    doc = nlp(split_married_couple(caption))\n",
    "    other = [ent for ent in doc.ents if ent.label_ != \"PERSON\"]\n",
    "\n",
    "    return other"
   ]
  },
  {
   "cell_type": "code",
   "execution_count": 182,
   "metadata": {
    "colab": {
     "base_uri": "https://localhost:8080/"
    },
    "collapsed": false,
    "editable": true,
    "id": "fYliWF39_8vE",
    "jupyter": {
     "outputs_hidden": false
    },
    "outputId": "a6e35980-b860-4928-f08f-d67d73ee764d",
    "slideshow": {
     "slide_type": ""
    },
    "tags": []
   },
   "outputs": [
    {
     "data": {
      "text/plain": [
       "[\"The dinner scene at 7 World Trade Center for The MacDowell Colony's  evening in honor of Jane Alexander.\",\n",
       " 'Master Puppeteer Basil Twist',\n",
       " ' Gretchen Dow Simpson, James Baird, and Tina Howe ',\n",
       " ' Genevieve Mathis, Ed Sherin, and Tony Sherin ',\n",
       " ' Robert MacNeil ',\n",
       " ' Joel Sanders, Paul Gunther, Honorary Chair Artist Martin Puryear, Pamela Joyner, and Rick Stone ',\n",
       " ' Ed Sherin, Jane Alexander, Jace Alexander, and Maddie Corman ',\n",
       " ' Steve Reich and Beryl Korot ',\n",
       " ' Composer Stewart Wallace and Writer Rick Moody ',\n",
       " ' MacDowell Chairman Robert MacNeil, Jane Alexander, and James Earl Jones ',\n",
       " ' Cheryl Young and Nicky Dawidoff ',\n",
       " ' Anne Jackson and Eli Wallach ',\n",
       " ' Genevieve Mathis and Tony Sherin ',\n",
       " ' Jane Alexander and Thomas Putnam ',\n",
       " ' Writers Amitav Ghosh and Deborah Baker ',\n",
       " ' Eileen Wiseman, William Banks, Ann Cox Chambers, and Benefit Chair Stephanie Olmsted ',\n",
       " ' Lynn  and Sam Waterston ',\n",
       " ' Jace Alexander and Maddie Corman ',\n",
       " ' Artist Gretchen Dow Simpson, playwright Tina Howe, and Honoree Jane Alexander ',\n",
       " ' Paul LeClerc and Benefit Chair Emerita Helen Tucker',\n",
       " ' Artist Jane Dickson and Brandon Fradd',\n",
       " ' Benefit Chairs Bob and Stephanie Olmsted',\n",
       " ' Coddy Granum and James Earl Jones ',\n",
       " ' Helen Tucker and Lewis Cullman',\n",
       " ' MacDowell President Carter Wiseman and Executive Director Cheryl Young',\n",
       " ' Tina Howe, Honoree Jane Alexander, and Sam Waterston ',\n",
       " ' Beryl Korot and Steve Reich ',\n",
       " ' Composer Tania Leon and Dancer and Choreographer Carlos Dos Santos ',\n",
       " ' Robert and Donna MacNeil ',\n",
       " \"The Yale Baker's Dozen performing\",\n",
       " \"Constantino Castellano as Santa with the Yale Baker's Dozen\",\n",
       " 'Rory and Camille Kelleher, Val and Min Min Schaffner, Christopher Hyland, and Father Francis',\n",
       " \"George D'Angelo and Brenda Barak\",\n",
       " 'The Sogoloffs, Constantino Castellano, and Seth Pariser',\n",
       " ' Lorenzo Carcaterra and Susan Toepfer',\n",
       " \"Father Francis Gasparik, Joe Sano, Christopher Hyland, and the Yale Baker's Dozen\",\n",
       " 'The Hendersons with Christopher Hyland ',\n",
       " 'Mr. Raiola and Jared Flynn',\n",
       " 'Andy and Eilen Presti',\n",
       " 'Jana and Louis Milo',\n",
       " 'Jane Pflug, Scott Salvatore, and Tyler Tinsworth',\n",
       " 'Father John Maguire and Father Francis',\n",
       " 'Georgia Gogel, Christopher Hyland, and Cassandra Hyland',\n",
       " 'Seth Pariser and Mrs. and Mr. Gary Knapp',\n",
       " 'Rory  and Camille Kelleher ',\n",
       " 'Leif and Kathy Arntzen',\n",
       " 'William Diamond, Kathy Pardoe Irwin, Christopher Hyland, and Mr. Baratta',\n",
       " 'Helga and Richard Hodosh',\n",
       " 'Helga Hodosh, Constantino Castellano as Santa, and Anna Galtarossa ',\n",
       " 'Donald, Evan, and Georgia Gogel',\n",
       " 'Emanuel Sharp and Dorothy Palmer',\n",
       " 'Mr. and Mrs. R Stewart Ewing',\n",
       " ' Andrew Weiss and Linda Berkeley',\n",
       " '',\n",
       " \"George D'Angelo and Christopher Hyland delivering the birthday cake\",\n",
       " 'Mr. and Mrs. R. Stewart Ewing with Alana Henderson',\n",
       " 'Kathy Pardoe Irwin and Constantino Castellano',\n",
       " ' Carol Sano, Dr. Capriccio, Thomas Gambino Sr., Father Francis Gasparik, Frances Gambino, Louis Milo, Joseph Sano, Jana Milo, and Eilen Presti',\n",
       " 'Joana Steichen and Irene Neves',\n",
       " ' Pat and Fred Bass',\n",
       " 'Mrs. Sogoloff and Mr. Capriccio',\n",
       " 'Dave Oesterheld, Barbara Sieg, and Min Min Schaffner',\n",
       " 'Susan Solomon and Dr. Harold Koplewicz',\n",
       " ' Linda Sirow and Wood Heller',\n",
       " 'Marcia Mishaan and Linda Sirow',\n",
       " ' Stuart Match-Suna and Beth Gordon',\n",
       " ' Alex Usi',\n",
       " ' Stanley Rosenberg, PhD',\n",
       " ' Joan Lazarus and Rachel Klein, PhD',\n",
       " 'Dr. Harold Koplewicz, Dr. Ruth, and Molly Jong-Fast',\n",
       " ' Ann Keating  and Linda Sirow ',\n",
       " 'Alexandra Trullols, Jane Bloomingdale, Andrea Gutierrez, Henrique Cisneros, and Jose Agria Trulliols',\n",
       " 'Alejandro Santo Domingo',\n",
       " 'Yaz Hernandez',\n",
       " 'Carlos Picon, Jose Solis Betancourt, Maria Eugenia Maury Arria, and Andrew Kepler',\n",
       " 'Claudia Cisneros, Katerina Thermiotis, Martin Rozenblum, and Katie von Strasser',\n",
       " 'Mark Mullet, Fabiola Beracasa, and Kevin Ulrich',\n",
       " 'Yayi Santandreu, Corina Balbontin, Maria Eugenia Marury Arria, Irene Zingg, and Katerina Thermiotis',\n",
       " 'Sonia Braga',\n",
       " 'Amy Sacco and Mario Testino',\n",
       " 'Narciso Rodriguez, Margherita Misoni, Sonia Braga, and Lily Donaldson',\n",
       " 'Alexandra Trullols, Regina Haymes, Karen Larrain, and Lily Maddock',\n",
       " 'Maria Eugenia with  Ambassador Ricardo Arias and wife Maraquel',\n",
       " 'Jesus Aguais, Fabiola Beracasa, Alejandro Pompei, and Maria Eugenia',\n",
       " 'Karina Correa Maury, Mario Testino, and Maria Eugenia',\n",
       " '\\n\\n            Click here for NYSD Contents\\n']"
      ]
     },
     "execution_count": 182,
     "metadata": {},
     "output_type": "execute_result"
    }
   ],
   "source": [
    "## Raw caption text\n",
    "[caption.text for caption in captions]"
   ]
  },
  {
   "cell_type": "code",
   "execution_count": 68,
   "metadata": {
    "editable": true,
    "scrolled": true,
    "slideshow": {
     "slide_type": ""
    },
    "tags": []
   },
   "outputs": [
    {
     "data": {
      "text/plain": [
       "[' Laura Durning  and Roger Waters',\n",
       " ' Walter and Judy Shipley with Lewis Bernard ',\n",
       " ' Laura Durning, Tom Freston, Katie Joel, and Harvey Weinstein ',\n",
       " ' Valerie and Jeffrey Peltier ',\n",
       " ' Tom and Dana Petty ',\n",
       " ' Michael and Diana Lomonaco ',\n",
       " ' Alan and Jill Rappaport ',\n",
       " ' Amy Poehler and Alec Baldwin ',\n",
       " ' Gala Chairs John and Jodie Eastman ',\n",
       " ' Lisa Falcone and Cindy Gallop during the auction ',\n",
       " 'Amy Poehler, Jorma Taccone, Will Forte, Seth Meyers, and Jason Sudeikis',\n",
       " ' Philip and Lisa Falcone, Ellen V. Futter, and Gala Chairs Allison and Roberto Mignone',\n",
       " ' Tom Brokaw and auctioneer C. Hugh Hildesdley',\n",
       " ' Jann Wenner and Gala Chair Lorne Michaels ',\n",
       " ' Kenan Thompson, Fred Armisen, and Andy Samberg ',\n",
       " ' Jane and Brian Williams ',\n",
       " ' Steve and Roberta Denning ',\n",
       " ' Juliette Jassens, Moran and Drew Demann, and Mark Janssens ',\n",
       " ' Katie Joel with Tom and Kathy Freston ',\n",
       " ' Tracy Morgan and Noris Bentivegna ',\n",
       " \" Conan and Liza O'Brien with Amy Poehler \",\n",
       " ' Cathie Black and Tom Harvey with Ellen V. Futter ',\n",
       " ' Joella and John Lukouretzos ',\n",
       " ' Alex Baldwin and Donna Dixon during the auction ',\n",
       " ' John McEnroe and John Sykes ',\n",
       " ' Kelly Sugarman and Chair Kathy Freston ',\n",
       " ' Ed Schlossberg and Caroline Kennedy Schlossberg ',\n",
       " ' HCC staff: Ed Haran, Chris Chiu, Kirby Sabra, Laura Lagana, Jason Lehrhoff, Peter Brown, Sarah Street, Liz Szaluta, and Helen Tannenbaum ',\n",
       " ' Tim Collins, Vernon Jordan, Larry Toal, and Marty Lipton ',\n",
       " ' Sharon Wood, Tara Roche, Joseph Muller, Terry Martino, Kathleen Magdich, Marianne Hardart, and Janet Cahill at podium ',\n",
       " ' Arlyn and Edward Gardner ',\n",
       " ' Trustees Diana Goldin, Josh Rosenkranz, and Rochelle Hirsch ',\n",
       " ' Tim and Andrea Collins with Hondi Brasco ',\n",
       " ' Sheila and Larry Toal ',\n",
       " ' Trustee Dr. David Case and Dr. Jean Case ',\n",
       " ' Fr. Walter Smith, Lucy Flemming McGrath, Irene McCreery, Joan Triulzi, and Charles McCreery ',\n",
       " ' The Rev. Arnd Braun-Storck, Janet Cahill, Sr. Margaret Ottinger, and Rabbi Ralph Kreger ',\n",
       " ' Dr. Anne Moore and Dr. Arnold Lisio ',\n",
       " ' Tim and Andrea Collins ',\n",
       " ' Bill and Maria Spears ',\n",
       " ' Jill and Howard Sharfstein ',\n",
       " ' Chaplain Jane Mather, Joseph Muller, and Victor Ribaudo ',\n",
       " ' The Rev. Dr. Walter J. Smith, Rose Folliero, and The Rev. Canon John E.B. Andrew ',\n",
       " ' Suzanne Fawbush and Trustee Christopher Grisanti ',\n",
       " ' Trustee Judith and David Lewittes ',\n",
       " ' Eileen Lovett, The Rev. Peggy Muncie, Barbara Hanley, and Tim Day ',\n",
       " ' Alexandra Hack, Kimberly and Aaron Tighe, Alexander Hack, and Siobhan Roche ',\n",
       " ' Tom Bow, Jonathan Mechanic, and Douglas Durst ',\n",
       " ' Veronica Hackett, Mary Ann Tighe, and Steven Weinryb',\n",
       " ' Victor Newfeld, WABC Anchor Bill Ritter, with Rebecca Campbell, Danielle Baum, and David Sloan of ABC ',\n",
       " ' Carlos Valdes, Janeen Saltman, and Marc Wilson ',\n",
       " ' Heather and Ali Khazani ',\n",
       " ' Thad Sheely, Jay Cross, and Roxanne Donovan ',\n",
       " ' Tess Wachs, Laura Byerson, Daisey Holms, and Bob Wachs ',\n",
       " ' Nadia Martincic, Alan Friedman, Avis Richards, and Pamela Murphy ',\n",
       " ' Warren Estis, David Levinson, and David Hidalgo ',\n",
       " ' Craig and Erin Reicher, Jon Mechanic, and Herb Valentine ',\n",
       " ' Kim Kirk and Wendy Levine ',\n",
       " ' Binnie and Jay Bauer ',\n",
       " ' Mark Ambrosone, Denise Cassidy, Martin Dressner,  and Roger Larson ',\n",
       " ' Cory Zelnick with Ed and Wendy Gellert ',\n",
       " \" Thomas Labrecque and Susan Mantel (Executive Director, Joan's Legacy) \",\n",
       " ' Paula Zahn, Alex Witt, Robert Desiderio, Daryl Roth, Judith Light, America Ferrara, Herb Hamsher, and Thomas Robert at the 13th Annual Women Who Care Luncheon benefitting United Cerebral Palsy of NYC.',\n",
       " 'Mark Ackermann, Thom Browne, Sheila Nevins, and Jonathan Adler',\n",
       " 'Candace and Jonathan Wainwright',\n",
       " 'Margo and John Catsimatidis',\n",
       " 'Jonathan Farkas, Somers Farkas, Michael Bruno, Kelly Killoren Bensimon, and John Demsey',\n",
       " 'Richard Leinhardt, Francene Leinhardt, and Rick Friedberg',\n",
       " 'Thom Browne and Amy Fine Collins',\n",
       " 'Marc Rosen and Arlene Dahl',\n",
       " 'Nicole Sexton, Gary Morris, and Chele Chiavacci',\n",
       " 'Marc Rosen and Anna Bergman',\n",
       " 'Ann Caruso, Frederick Anderson, and Alina Cho',\n",
       " 'Jonathan Adler and Liz Lange',\n",
       " 'Amy Fine Collins, Hamish Bowles, and Tory Burch',\n",
       " 'Simon Doonan and Flora Collins',\n",
       " 'Adrien Corbett and Lorry Newhouse',\n",
       " 'Mark Gilbertson and Michael Bruno',\n",
       " ' Board Members Miyoung Lee, LaMae Allen de Jongh and Laurie M. Tisch ',\n",
       " ' LaMae Allen de Jongh, Honoree Renee Edelman and Miyoung Lee ',\n",
       " ' CMOM Executive Director Andrew Ackerman and Honorary Board Chair Laurie M. Tisch ',\n",
       " ' Dean Peterson and Mary Pflum ',\n",
       " ' Andrew and Ellen Celli ',\n",
       " ' Cat Emil and David Emil ',\n",
       " ' John, Renee and Richard Edelman with Laure M. Tisch ',\n",
       " ' Judith and John Hannan ',\n",
       " ' Kerri and Justin Hamill ',\n",
       " ' Leslie Bushara, Mark Adkins and Wendy Sigurdson ',\n",
       " ' Maurice and Andrea DuBois ',\n",
       " ' Michael and Mimi Boublik ',\n",
       " ' Rosalind and Richard Edelman (and daughters) ',\n",
       " ' Shannon Bauer and Elliot Aronson ',\n",
       " ' Tiffany and John Rhea ',\n",
       " ' Teri Weiss, Nate Guild, Callie Siegel and Emily Madison ',\n",
       " 'Timothy Michael Cardinal Dolan and Ruth Woolard',\n",
       " 'Martha MacCallum and Timothy Michael Cardinal Dolan',\n",
       " 'Melanie and Joseph Shugart',\n",
       " 'Jaclyn Scerbak and CJ de Nicola',\n",
       " 'Susan George and Christine Schwarzman',\n",
       " 'Wendy Carduner, Kamie Lightburn, and Margot Takian',\n",
       " 'Sloan and Alex Overstrom',\n",
       " 'Polly Onet with Othon and Kathy Prounis',\n",
       " 'Amy Hoadley, Jack Lynch, and Alexis Waller',\n",
       " 'Cassandra Seiderfield and Katlean De Monchy',\n",
       " 'Kamie Lightburn and Margot Takian',\n",
       " 'Ann Ruppe, Jane Told, and Sarah and Chips Page',\n",
       " 'Mark Gilbertson, Damien Lipman, and Bryan Colwell',\n",
       " 'Eleanora and Michael Kennedy',\n",
       " 'Wendy and Dick Cooke',\n",
       " 'Annabella and Charles Murphy with Wendy Carduner',\n",
       " 'Mark Gilbertson and  Mary Van Pelt',\n",
       " ' Virginia and Tony Montgomery',\n",
       " ' Alex Whitt, Donna Hanover, Paula Zahn, Nicole Miller, Robin Givens, Susan Lucci, Loreen Arbus, and Tamsen Fadal ',\n",
       " ' Anita Hollander ',\n",
       " ' Liza Huber, Donna Hanover, Susan Lucci, and Jane Pontarelli ',\n",
       " ' Susan Lucci, America Ferrera, and Judith Light ',\n",
       " ' Judith Light, Loreen Arbus, America Ferrera, and Tamsen Fadal ',\n",
       " ' Hannah Jacobs, Julia Monk, China Machado, and Judith Light ',\n",
       " ' Scott Stanford, Tamsen Fadal, Theresa Priolo, Scott Woods, Alex Whitt, and Isaiah Whitlock Jr. ',\n",
       " 'Paula Zahn, Robin Givens, Susan Lucci, Nicole Miller, and Donna Hanover, ',\n",
       " ' David Carpenter, Grace Carpenter, Sean Carpenter, and Lauren Carpenter ',\n",
       " ' Judith Light, Sheila Lennon, and Kipton Cronkite ',\n",
       " ' Lauren Day Roberts and Katrina Peebles ',\n",
       " ' Mark Boekenheide and Julia Monk ',\n",
       " ' Roxanne Cason and Lauren Day Roberts ',\n",
       " ' Yuba Hassan and Kipton Cronkite ',\n",
       " ' Emcee and WNBC reporter Lynda Baquero and Jack Rubin ',\n",
       " ' Nick and Beverly Billotti ',\n",
       " ' Lisa and Gary Matthews ',\n",
       " \" Joanne Del Prete, Executive Director of Let's Get Ready Lauri Novick and Peter Rosten \",\n",
       " ' Wendy Reiners and Kendall Hochman ',\n",
       " ' Lenore and Jeffrey Gould ',\n",
       " ' Amy and Brook Payner ',\n",
       " ' John Chatzky and Debbie Mullen ',\n",
       " ' Paula and Dan Reingold ',\n",
       " \" Lenore Gould and and founder of Let's Get Ready, Jeannie Lang Rosenthal \",\n",
       " ' Hanna, Emily, and Mike Cavanagh ',\n",
       " ' Annabel Monaghan and Emily Cavanagh ',\n",
       " ' Carolina and Jim Johnson and Cynthia Humphrey ',\n",
       " ' Nick Billotti and Nelson Chai ',\n",
       " ' Mike and Nick Billotti ',\n",
       " 'Gillian Miniter and Dr. Pat Allen',\n",
       " 'Marcia Levine and Jonathan Farkas',\n",
       " 'Grace Miegher and Bob Hardwick',\n",
       " 'Liz Smith, Peter Rogers, and Mayor Bloomberg',\n",
       " 'Jim Kaufman and Lisa Gulley',\n",
       " 'Jon and Lizzie Tisch with Chris Meigher',\n",
       " 'Michael Witmer and Michele Gerber Klein',\n",
       " 'Barbara de Portago and Michele Gerber Klein',\n",
       " 'Lee and Cece Black',\n",
       " 'Robert Caravaggi and Countess Dagmar de Brantes',\n",
       " 'Konrad Kessee and Roberta Sanderman',\n",
       " 'Ellery Gordon, Marjorie Reed Gordon, and Cetie Ames',\n",
       " 'Ann Rapp, Charlie Scheips, and Roy Kean',\n",
       " 'Wendy Carduner and Mayor Bloomberg',\n",
       " 'Anka Palitz and Beth Hardwick',\n",
       " 'Peter and Jamee Gregory',\n",
       " 'Jim Kaufman and friend',\n",
       " 'Laurie and Daniel Colon',\n",
       " 'Charlie Scheips, Blain Caravaggi, and Roger Webster',\n",
       " 'Jamie Figg and Cetie Ames',\n",
       " 'Barbara and Kevin McLaughlin',\n",
       " ' Mark Gilbertson and Mary Hilliard',\n",
       " 'Barbara de Portago, Sabrina Forsythe, and Christopher Walling',\n",
       " 'Mayor Mike greeted by Susan and Donald Newhouse',\n",
       " 'Bob and Beth Hardwick, Stephanie Krieger, Brian Stewart, and Margo Langenberg',\n",
       " 'Nancy Baker and Tobie Roosevelt',\n",
       " ' Sherlock Hackley and Carolina Richards',\n",
       " ' Bart Freundlich, Julianne Moore, and Lisa Denison ',\n",
       " ' Amy and John Phelan ',\n",
       " ' Jeisa Chiminazzo and Linda Vojtova ',\n",
       " ' Anthony Grant, Julianne Moore, and Bart Freundlich ',\n",
       " ' Mary Boone and John Thompson ',\n",
       " ' Dennis Basso and David Ganek ',\n",
       " ' Padma Lakshmi and Alan Cumming ',\n",
       " ' Frances Tulk-Hart and Sabine Heller ',\n",
       " ' Lisa Anastos and Natascha Theis ',\n",
       " ' Lisa Dennison, James Frye, and Amy Phelan ',\n",
       " 'Americas Society President Susan Segal; The Right Honourable M. Brian Mulroney; Peter Munk; Carlos Fuentes; Patricia Phelps de Cisneros; Americas Society Honorary Chairman and Founder David Rockefeller; and Americas Society Chairman William R. Rhodes',\n",
       " ' John and Ann Marie Sten Heimann ',\n",
       " ' Silvia Lemus de Fuentes and Carlos Fuentes ',\n",
       " ' Matt Lauer and Annette Roque ',\n",
       " ' Susan Segal, Marc Rosell, Florencia Masri, and Elias Carmen Masri ',\n",
       " ' Alexandra and Milton Chavez with Nancy Anderson and Hector Herrera ',\n",
       " 'Eugenio and María Luisa Mendoza and their daughter María Luisa Mendoza Leviant',\n",
       " ' William B. Harrison, Jr. and Anne Harrison ',\n",
       " ' Mr. and Mrs. Marco Pappalardo and their son, Augusto Pappalardo ',\n",
       " ' Susan Segal and Amalia Lacroze de Fortabat ',\n",
       " ' William R. Rhodes, Carlos Fuentes, and Susan Segal ',\n",
       " ' Amalia Lacroze de Fortabat and David Rockefeller ',\n",
       " ' Carlos Fuentes, Patricia Phelps de Cisneros, and Peter Munk ',\n",
       " ' Enrique Norten, Patricia Phelps de Cisneros, and Richard Meier ',\n",
       " ' Donaldson Pillsbury, Marnie Pillsbury, David Rockefeller, and Gustavo Cisneros ',\n",
       " ' Wendy Luers, William H. Luers, and Princess Firyal of Jordan ',\n",
       " ' William H. Luers, Wendy Luers, Silvia Lemus de Fuentes, and Carlos Fuentes ',\n",
       " ' Princess Firyal of Jordan and Marieluise Hessel ',\n",
       " ' Adriana Cisneros de Griffin and Nicholas Griffin ',\n",
       " ' Beatriz and Eduardo Amadeo, Carlos Fuentes and Silvia Lemus de Fuentes, and Eva Soldati ',\n",
       " ' Robert Zimmerman and Museum President Ellen V. Futter ',\n",
       " ' Museum Provost Michael Novacek, Honoree David H. Koch, Museum President \\tEllen V. Futter and Chairmen of the Museum Board of Trustees Lewis Bernard ',\n",
       " ' Francesco and Marino Galesi with Jan and George Bunn ',\n",
       " ' David H. Koch and Ellen V. Futter ',\n",
       " ' David H. Koch, Julia Koch, and Chairman Walter Shipley ',\n",
       " ' Chairman Victor F. Ganzi,  Lewis Bernard, Don Callahan, and Chairman Roger Altman',\n",
       " ' David H. Koch with his Distinguished Service to Science and \\tEducation Award presented by Ellen V. Futter ',\n",
       " ' Julia Koch and Richard LeFrak ',\n",
       " ' Victor F. Ganzi,  Lewis Bernard, and Robert Zimmerman',\n",
       " ' Julia Koch and Ted Hartley ',\n",
       " ' Abby and Howard Milstein with David H. Koch ',\n",
       " ' Anne Grauso, Marko Jaric, Adriana Lima, and Peter Lyden ',\n",
       " ' Karen LeFrak and Peter Lyden ',\n",
       " ' Grace Meigher and Paul Wilmot ',\n",
       " ' Adriana Lima and Marko Jaric ',\n",
       " ' Stephanie Simon, Jose de Regas, Anna Patton, and Ramon Biaget ',\n",
       " ' Susan Fales Hill and Herman Cornejo ',\n",
       " ' Adrienne Arsht and Julio Bocca ',\n",
       " ' Suvro Nil Chowdury, Eric Masella, and Juan Paysse ',\n",
       " ' Jillian Barsalou and John Banta ',\n",
       " ' Nola Weinstein and Bianca Posterli ',\n",
       " ' Tanya Potter Adler, Howard Adler, and Daisy Olarte de Kanavos ',\n",
       " ' Alessandra Ferri, Peter Lyden, and Isabella Rossellini ',\n",
       " ' Dayssi Olarte de Kavanos and Angel Sanchez ',\n",
       " '\\nEmilia Fanjul and Carolina Herrera\\n',\n",
       " 'Emilia Fanjul and Carolina Herrera',\n",
       " ' Sharon Patrick and  Rachel Moore ',\n",
       " ' Preston Tsao and Louisa Benton ',\n",
       " ' Eamon Wood, Asha Talwar, and Jillian Barsalou ',\n",
       " ' Guests of The CAA Table and Carole Radziwill ',\n",
       " ' Mike Diamond and Adam Horovitz of The Beastie Boys ',\n",
       " ' Andrew Keller, Greg D’Alba, and Eric Steaple',\n",
       " ' Ariel Morales, Student Scholarship Award Winner, and Damon Dash ',\n",
       " ' Jonathan Tucker and Todd Thaler ',\n",
       " ' Yvette Vega  and Evan Shapiro',\n",
       " ' Delroy Lindo and Gayle Jennings O’Byrne',\n",
       " ' Melissa Mark Viverito, City Council Member and Christine Quinn, City Council Speaker',\n",
       " ' Mike Diamond, Adam Horovitz, Kathleen Hannah, and Rachael Horovitz',\n",
       " ' Maurice Marabel of the Ghetto Film School, Elias Luna, Scholarship Award Winner, and Stosh Mintek of the Ghetto Film School',\n",
       " ' Evan Shapiro and his wife Jill Shapiro',\n",
       " ' Emma Heming and Bruce Willis ',\n",
       " ' Donna Karan and Demi Moore ',\n",
       " ' Demi Moore and Larry Boland ',\n",
       " ' Elise Overland and Bonnie Morrison ',\n",
       " 'Andrew Saffir, Amy Sacco, Derek Blasberg, Lyle Maltz, and Zac Posen',\n",
       " ' Doug Steinbrech, Daniel Benedict, Irina Pantaeva,  and Jeffrey Sharp',\n",
       " ' Larry Boland and Glenda Bailey ',\n",
       " ' Porschla Coleman and Russell Simmons ',\n",
       " ' Peter and Jamee Gregory ',\n",
       " ' Daniel Benedict and Andrew Saffir ',\n",
       " ' Eamonn Bowles and Michael Pierce',\n",
       " ' Michael Radford and Emma Tweed ',\n",
       " ' Emma Hemming, Tallulah Willis, and Bruce Willis ',\n",
       " ' Johannes Huebl and Olivia Palermo ',\n",
       " ' Andrew Saffir and Amy Sacco ',\n",
       " 'Max Weiner and Vanessa von Bismarck',\n",
       " \"Jon Batiste and Marcus Miller at The NAACP Legal Defense and Educational Fund's  28th annual National Equal Justice Award Dinner.\",\n",
       " 'Sherrilyn Ifill and Geoffrey Canada',\n",
       " 'Sherrilyn Ifill and Debra Lee',\n",
       " 'Deborah Roberts, Bernard Tyson, and Gerald Adolph',\n",
       " 'Yvonne and Geoffrey Canada',\n",
       " 'Denise Tyson and Judith Byrd',\n",
       " 'Philip Wells, Tonya Lewis Lee, Ted Wells, and Byron Pitts',\n",
       " 'Angela Vallot and Deborah Roberts',\n",
       " 'Star Jones and Frank Ahimaz',\n",
       " 'Debra Lee with Denise and Bernard Tyson',\n",
       " 'Debra Lee and Jon Batiste',\n",
       " 'Amsale Aberra, Amelia Ogunleis,and friends',\n",
       " 'Nina Wells and Gay McDougall',\n",
       " 'Janai Nelson and Benjamin Talton',\n",
       " 'Debby and Jack Greenberg',\n",
       " 'Jonelle Procope and Frank Ahimaz',\n",
       " 'Geoffrey Canada and Judith M. Scheide',\n",
       " 'Bruce Gordon, Tonya Lewis Lee, and Charles Atkins',\n",
       " 'John Utendahl, Debra Lee, and Debra Martin Chase',\n",
       " 'Tasha Smith and friend',\n",
       " 'Jonathan Soros and Gwen Adolph',\n",
       " 'Philip Wells, Henry \"Hank\" Aaron, and Ted Wells, Jr.',\n",
       " 'Susan Fales-Hill and Darren Walker',\n",
       " ' Dennis Brownlee and Gabriella Morris ',\n",
       " 'Cheryl Brown Henderson, Sherrilyn Ifill, and Osceola Brown',\n",
       " 'Angela Vallot and Gwen Adolph',\n",
       " 'Janet Dewart Bell, Sherrilyn Ifill, and Lisa Boykin ',\n",
       " 'Debra Martin Chase and Laurie Robinson Haden',\n",
       " 'Sherrilyn Ifill, Dwight Johnson, Jon Batiste, and Marcus Miller',\n",
       " ' Madelaine Cohen, Kimberly Tighe, Lisa Ling, Barbara Cohen, and Melissa Pordy ',\n",
       " ' Yousaf Ali, Dr. Douglas Dieterich, Barbara Murphy, and Alice Levine ',\n",
       " ' Adrianne Silver, Sondra Mack, and Susan Mark ',\n",
       " ' Dr. Alice Levine and Dr. Yousaf Ali ',\n",
       " ' Dr. Barbara Murphy and Dr. David Reich ',\n",
       " ' Kimberly Tighe and Madelaine Cohen ',\n",
       " ' Peter W. May and Lisa Ling ',\n",
       " ' Jane Rittmaster, Joan Raines, Vivian Farah, and Ginny Aaron ',\n",
       " ' Jane Whitney and Maura Duffy ',\n",
       " ' Dr. Michael Brodman, Dr. Mary Ann McLaughlin, Kimberly Tighe, and Barbara Murphy ',\n",
       " ' Dr. Peter Dottino and Dr. Marie-Noelle Langan ',\n",
       " ' Michael Schantz, Nina Muller, Peter and Andrea Klein, and Beverly Bell ',\n",
       " ' Ron Goldstein, Margy Hargrave, and Diane and Dan Barry ',\n",
       " ' Sarah Bay Williams, Paul Gachot, Richard Gachot, the Honorable Dana Winslow, Emily Franchina, and Franklin Hill Perrell ',\n",
       " ' Lisa and Gilbert Ott, Carol and Jim Large, and Meredith and Frank Olt ',\n",
       " ' Thomas and Devon Carroll, Kim Testa, and Kingsley Woolworth ',\n",
       " ' Franklin Hill Perrell, Christine and John Gachot, and Sarane Ross ',\n",
       " ' Denyse Duval Pugsley, Sealy Hopkinson, and Jonathan Wehle ',\n",
       " ' Charles Holcomb and Patricia Sands ',\n",
       " ' Ed and Pat Travaglianti with Carol and Ed Clarke ',\n",
       " ' Paul Gachot, Sarah Bay Williams, and James Tiberg ',\n",
       " ' Thomas and Diahn McGrath with Robert and Jon Cooper ',\n",
       " ' Bart Tiernan, Dr. James Watson, and Nini Tiernan ',\n",
       " ' Richard Weir, Rita Roselle, Cynthia Jay, Julie Rinaldini, Stephen Jay, and Luis Rinaldini ',\n",
       " ' John and Bonnie Williamson, Rusty and Peggy McCormack, and Diane and Dan Barry ',\n",
       " ' Doug and Chris Fox with Paul Vermylen ',\n",
       " ' Dr. and Mrs. Mykola Alyskewycz ',\n",
       " ' Brendan and Kathleen FitzGerald ',\n",
       " ' Jim and Eileen Cahill with MaryAnn and Peter Hurd ',\n",
       " ' Caroline Gerry and Stephen Jay ',\n",
       " ' Michael Plackis, Teresa Martin, and Robert Cooper ',\n",
       " ' Peri and Martin Wenz with Margie Burkett ',\n",
       " ' Bob and Debbie Hussey with Jonathan Wehle ',\n",
       " ' Clint Finlayson, Lynda and Jacques Busquet, and Peter White ',\n",
       " ' Ted Bahr, Mr. and Mrs. Bob Mackay, Jonathan Wehle, Frank Olt, and Jackie Olt ',\n",
       " ' Chris Nottonson, Lawrence Smith, and Ann Marie Mirabile ',\n",
       " ' David Hidalgo, UALC board member, Mary Ann Tighe, UALC board president, Aaron Tighe, UALC board member, Anne-Marie Olson Kahn, and Todd Kahn ',\n",
       " ' Laurie Golub and Suri Kasirer ',\n",
       " ' Deborah Kern and Pamela Liebman ',\n",
       " ' Rebecca and Ben Malinsky, Carolyn Malinsky, event co-chair, and Aaron Malinsky ',\n",
       " ' David Greenbaum, Mary Ann Tighe, UALC board president, and Glen Weiss ',\n",
       " ' JD Chalmé, Hy Chalmé, Robin Chalmé, Ray Chalmé, UALC board member, and Vanessa Chalmé ',\n",
       " ' James Regan, Cyrus Izzo and Tom Scarangello, UALC board member ',\n",
       " ' Tim Dempsey, Jon Mechanic, Tommy Craig, and Robert Knakal ',\n",
       " ' Roxanne Donovan, UALC board member, and Ted Moudis ',\n",
       " ' Suzi Hill, Karen Asprea, Stephanie Schroeder, and L. Stephen Hill ',\n",
       " ' Sharif El-Gamal, Soho Properties, Sammy El-Gamal, Aziz Friedrich, Andee Radu, and Daniel Parker ',\n",
       " ' Mitti Liebersohn and Melissa Greenwald ',\n",
       " ' Milo Riverso and Tony Schirripa ',\n",
       " \" At the Breast Cancer Research Foundation's annual Symposium and Awards Luncheon (standing): Susan Mendik, Denise LeFrak, Andrea Stark, Richard Ziegelasch, Roberta Amon, and Dr. Mina Bissell. Seated: Leslie Model, Penny Wallerstein, Wendy Finerman, and Mira Zwillinger.\",\n",
       " ' Drs Larry Norton, Titia de Lange, Robert Vonderheide, Nancy Davidson, and Clifford Hudis ',\n",
       " ' Arlene Taub, William Lauder, and Marisa Acocella Marchetto ',\n",
       " ' Dan Lufkin, Myra Biblowit, William Lauder, and Dr Clifford Hudis ',\n",
       " ' Dr Moien Kanaan, Roz Goldstein, and Dr Mary-Claire King ',\n",
       " ' Gabi Siegal and Arlene Taub ',\n",
       " ' Schuyler Hazard and Autumn Blair ',\n",
       " ' Gigi Grimstadt and Natalie Kaplan ',\n",
       " ' Gigi Mortimer, Caryn Zucker, and Caroline Dean ',\n",
       " ' Hugh Freund and Patsy Callahan ',\n",
       " ' Marisa Brown and Caryn Zuker ',\n",
       " ' Meyer Grodetsky and Jane Pontarelli ',\n",
       " ' Marshall and Wendi Rose ',\n",
       " ' Prudence Solomon, Muffie Potter Aston, Gianna Palminteri, Somers Farkas, and Daphna Kastner Keitel ',\n",
       " ' Schuyler Hazard and Myra Biblowit ',\n",
       " ' Adrienne Vittadini and Maria Cuomo Cole ',\n",
       " ' Stacie Kiratsous and Stephanie Ginsberg ',\n",
       " ' Standing: Dr Joan Brugge, Bonnie Strauss, Amanda Grove Holmen. Seated: Marjorie Reed Gordon, Coco Kopelman, Ambassador Brenda Johnson, Jeanne Lawrence, and Sahra Lese ',\n",
       " ' Standing:Gail Hilson, Dr Laurie Glimcher, Jamee Gregory, Larry Leeds, Muffy Miller. Seated: Melinda Blinken, Dr Martine Piccart-Gebhart, and Anne Sitrick ',\n",
       " ' Standing: Maria Baum, Kim Heyman, Nina Davidson, Lisa Klein, Debi Wisch. Seated: Kara Council, Harriet Weintraub, Eleanora Kennedy, and Julie Dannenberg ',\n",
       " ' Susan Solomon, Shirley Cook, and Richard D. Kaplan ',\n",
       " ' Shirley Cook and Richard D. Kaplan ',\n",
       " ' David Alan Grier and Ariel Ashe ',\n",
       " ' Alex Goldberger, Susan Solomon, Ben Goldberger, and Paul Goldberger ',\n",
       " ' Zachary Knight, Jacob Hanna, Amy Wagers, Daniel Huber, Julian Robertson, Winrich Freiwald, Susan Solomon, Kristen Brennand, Jay Rajagopal, and Melissa Warden ',\n",
       " ' Jill Iscol and Meredith Melling Burke ',\n",
       " ' Helen Lang Suskin, Zach Hall, and Constance Casey ',\n",
       " ' Millie Cook, Shirley Cook, Richard Smith, and Jamieson Webster ',\n",
       " ' Meredith Melling Burke, Jill Iscol, Kiva Iscol, and Libby Leist ',\n",
       " ' Alex Goldberger and Carolyna De Laurentiis ',\n",
       " ' Lazara Hernandez, Lauren Santo Domingo, and Derek Blasberg ',\n",
       " ' Panos Douvaras, Susan Burke, Valentina Fossati Phd, and Marco Calafiore PhD ',\n",
       " ' Cece Cord and Anna Gary ',\n",
       " ' Gail Geronemus, Jessie Spitzer, and Jim Spitzer ',\n",
       " ' Tony Pacchia, Larry Eagle, and Lee Pacchia ',\n",
       " ' Tom Stern and Denise Stern ',\n",
       " ' Dr. Roy Geronemus, Jeff Wallerstein, and Alex Goldberger ',\n",
       " ' Joan Davidson, Edwina Sandys, and Regina Gil ',\n",
       " ' Ellen Lewis and Donald Sultan ',\n",
       " ' Marcia Mishaan and Bess Weatherman ',\n",
       " ' Christian Langbein, Cheriela Jones, and Ben Beshein ',\n",
       " ' Charles Mangum, Salwa Aboud Smith, Elaine Mangum, and Beth Swanstrom ',\n",
       " ' Omid Masab, Mahsa Bahrani, Katy Dacey, Leslie Demers, and Adam Brunk ',\n",
       " ' Charles Kaiser, Ashton Hawkins, and Johnnie Hawkins ',\n",
       " ' Cassie Newsom and John Newsom ',\n",
       " ' Barbara Tober and Katie Krumholz ',\n",
       " ' Gillian Miniter, Sylvester Miniter, and Audrey Gruss ',\n",
       " ' Alex Robertson, Alexandra Robertson, Libby Leist, and Zach Iscol ',\n",
       " ' Edwina Sandys and Donald Tober ',\n",
       " ' Carol Roaman and Carole Olshan ',\n",
       " ' Barbara Smith, Tom Zacharias, and Clelia Zacharias ',\n",
       " ' Richard D. Kaplan, Barbara Tober, Edward Barlow, and Regina Gil ',\n",
       " ' Gert Clark and Jodie Eastman ',\n",
       " ' AJ Rourke, Dr. Erin Gilbert, and Tay Canacoo ',\n",
       " ' Thomas Zacharias and Hilary Ross',\n",
       " ' Susan Solomon and Amy Wagers PhD ',\n",
       " ' Amber Emery, Brett Thomas, and Brian Trotta ',\n",
       " ' Piero Incisa della Rocchetta and Kazu Yoshii ',\n",
       " ' Geoffrey Bradfield, Helena Lehane, Roric Tobin, and Franck Laverdin ',\n",
       " ' Ijaz Malik and Uzma Sarfraz Khan ',\n",
       " ' Eric Javits and Amy Hoadley ',\n",
       " ' Geoffrey Bradfield, Muna Rihani Al-Nasser, and Ambassador Nassir Al-Nasser ',\n",
       " ' Hunt Slonem and Liliana Cavendish ',\n",
       " ' Frederick Anderson and Greg Kan ',\n",
       " ' Geoffrey Bradfield, Monique Van Vooren, and Bruce Horten ',\n",
       " ' Susan Lloyd and Gigi Benson ',\n",
       " ' Montgomery Frazier, Angela Chen, and Ben Mindich ',\n",
       " ' Ijaz Malik and Anna Gary ',\n",
       " ' Geoffrey Bradfield and Chiu-Ti Jansen ',\n",
       " ' Debbie Bancroft and Geoffrey Bradfield ',\n",
       " ' Helena Lehane and Diana Quasha ',\n",
       " ' Anna Gary, Ijaz Malik, Denise Rich, Geoffrey Bradfield, Richard Turley, and CeCe Cord ',\n",
       " ' Alexis Zambrano and Gerardo Farias ',\n",
       " ' Tina Li and Don Sheff ',\n",
       " ' Greg Kan and Lucia Hwong Gordon ',\n",
       " ' Horacio Milberg and Dimity Milberg ',\n",
       " ' Alessandra Emanuel, Don Goldstein, and Barbara Regna ',\n",
       " ' Michael Yasenak and Salvatore Moltisanti ',\n",
       " ' Grace Li, Angela Chen, and Greg Kan ',\n",
       " ' Marc Rozic and James Lowther ',\n",
       " ' Giuvela Leisengang and Herve Amiable ',\n",
       " ' Richard Kaplan, Edwina Sandys, and Geoffrey Bradfield ',\n",
       " ' Tia Walker, Barbara Regna, and Alessandra Emanuel ',\n",
       " ' Lauren Cunningham, Karen Jaffe, Justin Concannon, and Rachel Hovnanian ',\n",
       " ' Trish Carroll, Polly Onet, and Didi Baker ',\n",
       " ' Michele Gerber Klein and Jean Shafiroff ',\n",
       " ' Gillian and Sylvester Miniter ',\n",
       " ' Everett Cook and Tom Flexner ',\n",
       " ' Bill and Daphne Richards ',\n",
       " ' Co-Chairs: David Thieringer, Helen Blodgett, Rebecca Seaman and DLC President, and Becky Thornton ',\n",
       " ' Karen and John Klopp, Susy Schieffelin with Beau ',\n",
       " ' Mrs. Hale and her children ',\n",
       " ' Jennifer and Erik Oken and their daughters ',\n",
       " ' Robert Augustine and his daughte Kathleen ',\n",
       " ' Dianda Douglas and George Langa ',\n",
       " ' Susan Abu Haidar, Beth Ledy, and Larry Shapiro ',\n",
       " ' Eric Roberts, Alicia Adams, MC Roberts, and Daniel Adams ',\n",
       " ' Simone Mailman and friends ',\n",
       " ' ?, ?, and ? ',\n",
       " ' Nancy Henze, Hilary and John Block ',\n",
       " ' Parker Thorne, Rebecca Seaman, Eva Quartararo, and Cat Kennan ',\n",
       " ' Nancy and David Hathaway ',\n",
       " ' Becky Thornton, David Thieringer, Helen Blodgett, DLC Chairman,Tim Bontecou, and Rebecca Seaman ',\n",
       " ' Becky Thornton, Lisa Barnes-Schwartz,Tim Bontecou, and Cat Kennan ',\n",
       " ' Everett Cook and David Parshall ',\n",
       " \"Limbo at the New York Botanical Garden's Winter Wonderland Ball.\",\n",
       " 'Kate Shelter, Chris Schumacher, Ttacy Smith, MAtthew Smith, Lydia Fennet, and Chris Delaney',\n",
       " 'Alexandra Lebenthal, Julia Moore, Connie Ann PhillipsNatalie Gerschel Kaplan, Alexandra Lind Rose, and Oiranne Collins Mejjati ',\n",
       " 'Meredith Ostrom and Tinsley Mortimer',\n",
       " 'Jon Kupris and Elizabeth Kupris',\n",
       " 'Vince Hikipa and Claire-Aude Sparaci ',\n",
       " 'Steve Deluca and Amy McFarland ',\n",
       " 'Phillip Gorrivan and Lisa Gorrivan ',\n",
       " 'Nick Brown and Dalia Oberlander',\n",
       " 'Crystal Fanale, Yara Devlieger, Meredith Keller, Victoria Vanbakergen, and Mara Kadish ',\n",
       " 'Nina Garcia, Gigi Howard, and Andrea Canning ',\n",
       " 'Marcy Warren and Michael Warren ',\n",
       " 'Michael Young and Molly Bohonon ',\n",
       " 'Holly Wallace Cornell and Alistar MacDonald Morgan',\n",
       " 'Malcolm Kutner, Nina Garcia, and Christian Leone ',\n",
       " 'Arielle Patrick and Eric Taylor ',\n",
       " 'David Lamprou and Jessica Davis',\n",
       " 'Charlotte Ronson, Christopher Wolf, Ali Wise, Luke Wheel, and Louise Tabbiner ',\n",
       " 'Rob Vecsler, Brooke Vecsler, Brooke Gerschel, and Edouard Gerschel',\n",
       " 'John Demsey and Jennifer Creel ',\n",
       " 'Beata Boman and Susan Shin ',\n",
       " 'George  and Kristin Brokaw',\n",
       " 'Eric Eisner and Stacy Bendet Eisner ',\n",
       " 'Jessica Sailer, Danile Urcedo, and Amelia Stirandi ',\n",
       " \"Luis Oberto, Maria Graciela Oberto, Victoria D'Agostini, and Francisco D'Agostini \",\n",
       " 'Gail Klem and Paula Sutter ',\n",
       " 'Filipa Fino and Jessica Sailer ',\n",
       " 'Farrow Crowley, Cynthia Smith, and Andrea Swaine ',\n",
       " 'Brooke Monoghan and Nell Diamond ',\n",
       " 'Chris Brock and Laura Vassar',\n",
       " 'Dr. Trevor Born and Dr. Lisa Airan ',\n",
       " 'Jana Mathison, Shaia Hosseinzadeh, and Leslie Langsam',\n",
       " 'Whitney Verraneault and Laura Lachman ',\n",
       " 'Rica Udani, Sarah Watts, Shani Ellenberg, Rob Fitzpatrick, and Trish Riedel ',\n",
       " 'Shawna Brooke, Jay Wright, Ainsley Earhardt, and Elizabeth Reed ',\n",
       " 'Adrian Ulrich and Louise Gong ',\n",
       " 'Louise Tabbiner, Christopher Wolf, and Louise Gong',\n",
       " 'Natalie Leeds Leventhal and Tinsley Mortimer',\n",
       " 'Peggy Siegal, Christopher Cuomo, and Cristina Greeven Cuomo ',\n",
       " 'Matthew Doull and Selby Drummond',\n",
       " 'Julie Alvarez and Rita Finieris ',\n",
       " 'Capera Ryan, Gigi Howard, and Dr. Liz Naftalis ',\n",
       " 'Ed Kaplan and Nathalie Kaplan ',\n",
       " 'Natalie Obradovich, Alecta Hill, and Savannah Engel',\n",
       " 'Amanda Kahn, Anne Mulden, and Alexandra Sagalas ',\n",
       " 'Louise Tabbiner, Arielle Patrick, and Louise Gong',\n",
       " 'Ali Wise, Teddy Wasserman, and Charlotte Ronson ',\n",
       " 'Elliot Merck, Juliet Fehrenbach, Yvonne Najor, and Theodore Van Buren ',\n",
       " 'Christopher Wald and Matthew Kibble ',\n",
       " 'Joy Marks and Donald Venezia ',\n",
       " 'Jennifer Fisher, Tom Finn, and Jennifer Rominiecki ',\n",
       " 'Charles Murphy and Annabella Murphy ',\n",
       " 'Heather Moss and John Moss ',\n",
       " 'Elizabeth Hawkins, Nick Bunn, Natalie Stevens, and Duncan Kirby ',\n",
       " 'Andrea Tantaros and Kimberley Guilfoyle ',\n",
       " 'Thomas Farley, Lori Lengua, and Darryl Robinson',\n",
       " 'Yumi Matsuo and Craig Drusbosky ',\n",
       " 'Jay Diamond, John Bitel, and John Hickey ',\n",
       " 'Alexandra Lebenthal, John Bitel, Alexandra Bitel, and Michelle Smith ',\n",
       " 'Timothy Furzer, Mia Fahler, Eva Fahler, and Kevin Carrigan',\n",
       " 'Dr. Susan Krysiewicz and Tom Bell ',\n",
       " 'Andrea Canning and Gigi Howard',\n",
       " 'Oiranne Collins Mejjati and Fouad Mejjati ',\n",
       " 'Giovanna Campagna and Brooke Monohan',\n",
       " 'Hayley Bloomingdale, Andrea Swain, Max Jones,  and Kris Brock ',\n",
       " 'Christian Simonds and Gillian Hearst Simonds ',\n",
       " 'Nicholas Turko and Julia Erdman ',\n",
       " 'Alina Cho, Chris Benz, and Susie Mascotte ',\n",
       " 'Andrew Lutjens and Nina Stewart ',\n",
       " 'Trevor Cook and Victoria Eigiacinto, and George Sharp',\n",
       " 'Sylvester and Gillian Miniter',\n",
       " 'Phyllis Yoo, Valerie Mason, Anna Changto, and Erica Stein ',\n",
       " 'Nick Jones, Allison Hodge, Eyal Arad, and Kipton Cronkite ',\n",
       " 'Donna Simonelli and Julia Moore ',\n",
       " 'Raymond Vargas and Sarah Richardson ',\n",
       " 'Bettina Zilkha and Patrick McMullan ',\n",
       " \"Children's artwork at Color Rwanda\",\n",
       " 'The Color Rwanda coloring book made by the children of Rwanda',\n",
       " 'Kate Cunningham (Executive Producer, LBi Syrup), Jules Shell (Executive Director, Foundation Rwanda), Jakob Daschek (LBi Syrup) and Marcus Samuelsson',\n",
       " 'Chico Mann and Abena Koomson perform',\n",
       " 'DJ Akalepse and Rich Medina',\n",
       " 'Captain Eric Tausch and John Fernandez',\n",
       " 'Lucas Detor and Sharon Bush',\n",
       " 'Simon Jowett, Steven Sribnik, and Lewis Amaro',\n",
       " 'Peter Carrara and Neil Holstein',\n",
       " 'Steven Bettini, George Chrisafis, Harry Robinson, and Bill Sussman',\n",
       " ' Deborah Strobin, Anne Roiphe, and Ilie Wacs',\n",
       " 'Barricade Books publisher Carole Stuart and Deborah Strobin',\n",
       " 'Attorney Mark Marderosian and Maris Wacs (wearing vintage Ilie Wacs jacket)',\n",
       " \"DC Holocaust Museum's Sheila Johnson Robbins and Ilie Wacs\",\n",
       " ' Ken Wu, Cecilia Chang, Ping Lu, Brenda Kan, and Jing Hau ',\n",
       " ' Norma Smith, John Desiderio, Kipton Cronkite, Yue-Sai Kan, and Iris Cantor ',\n",
       " ' Candice Bergen and Alyce Faye Cleese ',\n",
       " ' David Mason, Shauna Mei, and Chris Sifton ',\n",
       " ' David Hryck, Petra Nemcova, Alia Varsano, and Paul Perkins ',\n",
       " ' Felicia Taylor and Alyce Faye Cleese ',\n",
       " ' Jeff Song and Ping Lu ',\n",
       " ' Jacqui Safra, Kipton Cronkite, Jean Doumanian, and Lawrence Kaiser ',\n",
       " ' Gabi Garzoni, David Mason, and Michelle Liu ',\n",
       " ' Lizzette Kattan, Jeanette Chang, and Linda Silverman ',\n",
       " ' Lawrence Kaiser and Kipton Cronkite ',\n",
       " ' Brenda Kan, Joanna Bennett, and Yue-Sai Kan ',\n",
       " ' Wendy Laister, Bruce Smith, and Salma Gaya ',\n",
       " ' Melba Ruffo Di Calabria and Christian Curato ',\n",
       " ' Joanna Bennett and Tony Bennett ',\n",
       " ' Amanda Young Shortall, Alice Young, and Rima Fakih ',\n",
       " ' Ling Tan and Ein Tan ',\n",
       " ' Wang Yansheng, Charles Wang, and Shang Jiyuan ',\n",
       " ' Valentin Hernandez, Yaz Hernandez, and William Haseltine ',\n",
       " ' Marshall Rose and Ludovika Rossi Purini ',\n",
       " ' Sallu Wu, Ling Tan, and Yue-Sai Kan ',\n",
       " ' Pat Schoenfeld, Yue-Sai Kan, and Alyce Faye Cleese ',\n",
       " ' Yue-Sai Kan, Ila Paliwal, and Rima Fakih ',\n",
       " ' Zecki Dossal, Alia Varsano, Dr. Ruth, and Steve Orlins ',\n",
       " ' Alia Varsano and Reja Bakh ',\n",
       " ' Angela Chen, Yue-Sai Kan, and David Chu ',\n",
       " ' David Chu, Serena Tan, and Anson Zhang ',\n",
       " ' Alexandra Kasmin and Jim Joseph ',\n",
       " ' Adam Chilenski and Lea Bonnier ',\n",
       " ' Amanda Schneider and Ty Burski ',\n",
       " ' Will Ryman, Jane Holzer, and Paul Kasmin ',\n",
       " ' Juliette Premmereur, Hayden Dunbar, and Nicholas Olney ',\n",
       " ' Christine Cachot and Candice Ku ',\n",
       " ' Katie Baley and Mark Ledzian ',\n",
       " ' Kim Light and Susan Sayre Batton ',\n",
       " ' Ethan Ryan and Victoria Leacock Hoffman ',\n",
       " ' Hana Soukupova, Drew Arron, Seren Ceylan, and Michael Shvo ',\n",
       " ' Paul Kasmin and Alexandra Kasmin ',\n",
       " ' Julian Flescher, Molly Ringwald, and Panio Gianopoulos ',\n",
       " ' Christine Cachot and Candice Ku ',\n",
       " ' Ashley Harris, Natalie Decleve, and Jen Raddin ',\n",
       " ' Emma Holzer, Ashley Holzer, and Harry Holzer ',\n",
       " ' Grace Roselli, Robert Ryman, and Will Ryman ',\n",
       " ' Michael Shvo, Seren Ceylan, and Nicholas Olney ',\n",
       " ' Susan Sawyers and Barbara McLaughlin ',\n",
       " ' Nathlie Provosty and Phong Bui ',\n",
       " ' Paul Kasmin and Sara Fitzmaurice ',\n",
       " 'Benefit Chairman Susannah Weiss, Honoree Michel David-Weill,  Hélène David-Weill, Frick Director Ian Wardropper, Sarah McNear, and Benefit Chairman Antonio Weiss',\n",
       " 'Catherine Flint and Sarah Flint in the Boucher Room',\n",
       " 'Philippe and Edith de Montebello with Richard and Isabelle Feigen',\n",
       " 'Honoree Michel-David-Weill and Honorary Chairman Walter A. Eberstadt',\n",
       " 'Bob Haboldt with Carolyn and Malcolm H. Wiener',\n",
       " 'Frick CFO Robert Goldsmith and Joanne du Pont Foster',\n",
       " 'Susan and Henry P. Johnson',\n",
       " 'Ian Wardropper, Honoree Michel David-Weill,  Antonio Weiss, Susannah Weiss, and Chairman of the Board of Trustees Margot Bogert',\n",
       " 'Jerry Ann Woodfin-Costa and Victor Costa',\n",
       " 'David Owsley, June Dyson, and Barbara and James S. Reibel',\n",
       " 'Arie and Coco Kopelman',\n",
       " 'Frick Director Ian Wardropper, Chairman of the Board of Trustees Margot Bogert, and Honoree Michel David-Weill',\n",
       " 'Charles S. Moffett, Cécile David-Weill, and Robert Couturier ',\n",
       " 'Guillaume Fouilleron, Eiko Assael, and Nicola Knight',\n",
       " 'Anne Goldrach, Alain Goldrach, and Helen Clay Chace (great granddaughter of Henry Clay Frick)',\n",
       " 'Teresa Longyear and David Bull',\n",
       " 'Beatrice Santo Domingo, Gil Shiva, and Lynn Nesbit',\n",
       " 'Linda and Fritz Hobbs',\n",
       " 'Seymour R. Askin with Sally and Howard Lepow',\n",
       " 'Robert Froelich and Emily T. Frick',\n",
       " ' Judson Traphagen and Megan Meagher',\n",
       " 'Lynn Nesbit and Ezra Zilkha',\n",
       " 'Peter and Sophia Blanchard',\n",
       " 'Fernanda M. Kellogg and Kirk Henckels',\n",
       " 'Cetie Nippert Ames, Konrad K. Keesee, and Irene Roosevelt Akin',\n",
       " 'Henry Arnhold, Nina Beattie, and Candace Beinecke',\n",
       " 'Martha Fleischman, Barbara G. Fleischman, and Londa Weisman',\n",
       " 'Jerry Bogert, Mark Schaffer, and David Goldman',\n",
       " 'Anne Sidamon-Eristoff and Helen Clay Chase',\n",
       " 'Oscar and Annette de la Renta with Beatrice Santo Domingo',\n",
       " 'Frick Director Ian Wardropper presents honoree Michel David-Weill with an engraved silver tray  from Tiffany and Co.',\n",
       " 'Anjali Melwani and Sandeep Mathrani',\n",
       " 'Sebastien and Caroline Mazella di Bosco',\n",
       " 'Michael E. Gellert and Anne Goldrach',\n",
       " 'Melinda Sullivan and Frick Director Ian Wardropper',\n",
       " ' Elisabeth de Picciotto and Garrett Moss',\n",
       " 'Molly Schreiber, Ayesha Bulchandani-Mathrani, and John Schreiber',\n",
       " 'Thierry Despont and Claude Wasserstein',\n",
       " 'Susan Gutfreund and Robert Couturier',\n",
       " ' Gala Co-Chair Mercedes Bass, Carnegie Hall Chairman Sanford I Weill, and soprano Anna Netrebko ',\n",
       " ' Carnegie Hall Chairman Mr. Sanford I. Weill and Mrs. Joan Weill ',\n",
       " ' Trustee Judy Zankel and Mr. Noman Benzaquen ',\n",
       " ' Ara Guzelimian, Janet Clough, Emanuel Ax and Yoko Nazaki Ax ',\n",
       " ' Composer in Residence David Lang and wife Suzanne Bocanegra ',\n",
       " ' Kristina Wallison, Trustee Gilbert Kaplan, Lena Kaplan, and John Kaplan ',\n",
       " '  John Pomerantz and Trustee Mrs. Laura Pomerantz ',\n",
       " ' Mrs. Leni May and Trustee Peter May ',\n",
       " ' Mrs. Marina French and Trustee Dr. Thomas Sculco and Mrs. Cynthia Sculco ',\n",
       " ' Olympic Silver Medalist Sasha Cohen and Tom Murro ',\n",
       " ' Opening Night Gala Dinner in the Grand Ballroom at the Waldorf Astoria ',\n",
       " ' Leonardo Genovese and Esperanza Spalding ',\n",
       " ' Katherine Melchior Ray, Rashid Silvera, Eric and Dori Fisher ',\n",
       " ' Robert A.M. Stern and Gala Co-Chair Mercedes Bass ',\n",
       " ' Joan Weill, Darren Walker, and Jessye Norman ',\n",
       " ' John and Laura Pomerantz, Terry and Tina Lundgren, Robert F. Smith and Hope Dworaczyk ',\n",
       " ' Hope Dworaczyk and Robert F. Smith ',\n",
       " ' Valerie Simpson and Terri Lyne Carrington ',\n",
       " ' Sopranos Jessye Norman and Anna Netrebko ',\n",
       " ' Esperanza Spalding, Terri Lyne Carrington, and Valerie Simpson ',\n",
       " ' Trustee Terry Lundgren and Tina Lundgren ',\n",
       " ' Carnegie Hall Trustees Laura Pomerantz and Peter W. May ',\n",
       " ' Adrienne Arsht, Darren Walker, Jessye Norman, and Charles Hamlen ',\n",
       " ' Robert Shmalo and sister Lauren Shmalo ',\n",
       " 'BCRF President and CEO Myra Bilblowit, Estee Lauder Companies Executive Chairman William Lauder, and the board of directors of The Pink Agenda',\n",
       " 'The Pink Agenda Founder and President Jaquelyn M. Scharnick, Chris Benz. and Kara Council',\n",
       " 'Lori Tritsch, The Pink Agenda Director Samantha Tritsch, and William Lauder',\n",
       " 'BCRF President and CEO Myra Bilblowit, Chris Benz, and Becky Benz',\n",
       " ' William Lauder, Miss USA Erin Brady, and Samantha Tritsch',\n",
       " ' Steven Stolman and Jamie Drake ',\n",
       " ' Rich Wilkie and Patrick Murphy ',\n",
       " ' Louis Renzo and Lauren Grushkin ',\n",
       " ' Paul Bowden and Bob Dowling ',\n",
       " ' Alexa Hampton and Mario Buatta ',\n",
       " ' Gail Karr, Steven Stolman, and Michael Krumpe ',\n",
       " ' Amy Bader and Neil Bader ',\n",
       " ' Mark Jacoby and Diana Jacoby ',\n",
       " ' Bob Gaynor, Richard Kurtzer, and Dwayne Clarke ',\n",
       " ' Alexa Hampton and Ken Wyse ',\n",
       " ' Ellen Welsh and Maribeth Welsh ',\n",
       " ' Carolyn Sollis, Young Huh, and Janice Langrall ',\n",
       " ' Jack Bochonok and Tony Hoyt ',\n",
       " ' Ken Bijur and Susan Branch ',\n",
       " ' Michael and Eleonora Kennedy ',\n",
       " ' Diana DiMenna and Suzanne Johnson ',\n",
       " ' Muffy Miller and Anne Harrison ',\n",
       " ' Gillian Miniter, Suzanne Johnson, and Fiona Rudin ',\n",
       " ' Gillian Miniter, Sylvester Miniter, and Suzanne Johnson ',\n",
       " ' Deborah Roberts and Star Jones ',\n",
       " ' Gayle Perkins Atkins and William Zeckendorf ',\n",
       " ' Henry Stern and Douglas Blonsky ',\n",
       " ' Woody Johnson and Ian Snow ',\n",
       " ' Fred Schuman and Coco Kopelman ',\n",
       " ' Alexandra Lebenthal ',\n",
       " ' Michelle and Andy Smith ',\n",
       " ' David Foley, Victoria Foley, and Thomas L. Kempner Jr. ',\n",
       " ' Leslie Craige, Suzie Aijala, and Laura Wolff ',\n",
       " ' Jason and Julie Miller ',\n",
       " ' Sharon Handler and Ambassador John Loeb Jr. ',\n",
       " ' Marilyn Calderwood and Caroline MacKenzie ',\n",
       " ' Allison and George Brokaw ',\n",
       " ' Mary Snow, Bettina Zilkha, Diana DiMenna, and Suzanne Johnson ',\n",
       " ' Dodge Olmsted and Caroline MacKenzie ',\n",
       " ' James Scott and Barbara Scott ',\n",
       " ' Ronaldo Hoffman and Priscilla Hoffman ',\n",
       " ' Saha Hammari and Marianne Tu ',\n",
       " ' Jennifer Rich and Ambassador John Loeb Jr. ',\n",
       " ' Elyse Newhouse and Andy Oshrin ',\n",
       " ' Sandy Harris and Darren Henault ',\n",
       " ' Rory Hermlee and Alexis Clark ',\n",
       " ' Jeff  and Patsy Tarr ',\n",
       " ' Sylvester Miniter, Gillian Miniter, Douglas Blonsky, and Terri Coppersmith ',\n",
       " ' Vicki Foley and Alexia Hamm Ryan ',\n",
       " ' Stacy and Keith Miller ',\n",
       " ' Bill Martini and Terri Coppersmith ',\n",
       " ' Joe and Caroline Reece ',\n",
       " ' Anne Harrison and Robert Steel ',\n",
       " ' Bettina Zilkha and Michael Newhouse ',\n",
       " ' Alexandra Gildin and Luke Sacca ',\n",
       " ' R. Couri Hay and Janna Bullock ',\n",
       " ' Michael Grobstein and Nadine Grobstein ',\n",
       " ' Pamela Ryckman and Suzanne Gerard Foote ',\n",
       " ' Judy Angelo, Rebecca Dana, and Jessie Angelo ',\n",
       " ' Michael Lorig and Caroline Lorig ',\n",
       " ' Stephanie Schuman, George Clairmont, Ann Clairmont, and Coco Kopelman ',\n",
       " ' Elyse Newhouse and Michael Newhouse ',\n",
       " ' Karen Altamirano and Javier Molto ',\n",
       " ' Steve Ifshin and Billie Lim ',\n",
       " ' George Hambrech and Andrea Fahnestock ',\n",
       " ' Judy Angelo, Rebecca Dana, and Jessie Angelo ',\n",
       " ' Marilyn Calderwood and Dodge Olmsted ',\n",
       " ' Terri Polk, Peter Deneufville, and Valerie Ohrstrom ',\n",
       " ' Donald Smith and Viola ',\n",
       " ' Leni May, Peter May, Michael Targoff, and Sharzad Targoff ',\n",
       " ' Patricia Shiah and Tom Shiah ',\n",
       " ' John Gilmore and Yvette Gilmore ',\n",
       " ' Susan Calhoun and Eleonora Kennedy ',\n",
       " ' Richard Burke, Jeanne Keating, and Bill Martini ',\n",
       " ' Valerie Ohrstrom and Claire Gudefin ',\n",
       " ' Barbara Gladstone and Francesco Bonami ',\n",
       " ' Bill Mack, Phyllis Mack, and Richard Armstrong, Director of the Guggenheim Foundation and Museum ',\n",
       " \" Ben Goldwasser and Katharine O'Brien \",\n",
       " ' Amanda Fuhrman and Amy Phelan ',\n",
       " ' Julie Mehretu and Mickalene Thomas ',\n",
       " ' Jeff Koons and Dustin Yellin ',\n",
       " ' Katherine Brinson and Carolyn Wade ',\n",
       " ' Isabella Rayburn, Juanita Sabadini, and Paola Schulhof ',\n",
       " ' Richard Cohen and Julie Hayek ',\n",
       " ' Sarah Morris and Lawrence Weiner ',\n",
       " ' Seam Bluechel and Mika Rottenberg ',\n",
       " ' Nancy Spector, Maurizio Cattelan, and Jennifer Stockman ',\n",
       " ' Simon and Micaela de Pury ',\n",
       " ' Trudy and Robert Gottesman ',\n",
       " ' Alex and Susan Casdin ',\n",
       " ' Dr. Laurie Brotman and Dr. Andrew Brotman ',\n",
       " ' Vicki and Ian Cohn',\n",
       " ' Dr. Andrew Hilton and Dr. Irma Hilton',\n",
       " ' Susan and Frank Aiello ',\n",
       " ' Tina Nadler, Lynn Sedley, Janet Ginsburg, and Suellen Freeman',\n",
       " ' Stuart and Vicky Match Suna with Dr. Harold S. Koplewicz',\n",
       " ' Edward J. Minskoff and Linda Sirow Koplewicz',\n",
       " ' Brooke Neidich, Dr. Robert I. Grossman, and Alice Tisch',\n",
       " ' Vera Wang, Arthur Becker, and Julie Minskoff',\n",
       " ' Dr. George Foltin and Dr. Jessica Foltin ',\n",
       " ' Peter and Susi Wunsch ',\n",
       " ' Hannelore and Victor Trautmann ',\n",
       " ' Dr. Eugenie Doyle and Joseph Doyle ',\n",
       " ' Brad Wechsler and Patty Newburger ',\n",
       " ' Dr. Robert Porges and Dr. Felicia Axelrod ',\n",
       " ' Dr. Steve Hofstetter, Jill Sedley, and Dr. Howard B. Ginsburg ',\n",
       " ' Joshua Laterman, Dr. Aaron Rausen, and Emmalou Rausen ',\n",
       " ' Dr. Marcia Wishnick and Stanley Wishnick ',\n",
       " ' Abbe and Greg Large with Lisa Watkinson ',\n",
       " ' Lorraine Wint-Johnson, Dr. Anil Lalwani, and Frances Bordoni ',\n",
       " ' Ted Bowden, U.S. Ambassador to Jamaica Brenda Johnson, Jana Klauer, and Gerold Klauer ',\n",
       " ' John Davis, Trustee Thomas Clark, Trustee Lou Maratarano, and Dansby Evans ',\n",
       " ' President Judson R. Shaver, Ph.D. and Honoree Jana Klauer, M.D. ',\n",
       " ' Barbara and Buddy Freitag ',\n",
       " ' Josie and Kenneth Natori ',\n",
       " ' David Corvo, Mistress of Ceremonies Hoda Kotb, President Judson R. Shaver, and Page Shaver ',\n",
       " ' Caroline Wekselbaum and  Natan Wekselbaum ',\n",
       " ' Trustee Judith Carson, Trustee Ron Yoo, and Leslie Yoo ',\n",
       " ' Gerold Klauer, Erika Klauer, Jana Klauer, and Matthew Klauer ',\n",
       " ' Evan Nadler, M.D., Laurie Miller Brotman, Ph.D., and Michael Alan Graves ',\n",
       " ' Jackie Harris Hochberg, Robert Hochberg, and Laurie Miller Brotman, Ph.D. ',\n",
       " ' Douglas P. Teitelbaum, Lawrence T. Babbio, Jr., Jackie Harris Hochberg, and Harold S. Koplewicz, M.D. ',\n",
       " ' Michael and Erica Karsch ',\n",
       " ' Lawrence and Sheri Babbio',\n",
       " ' Elissa Burke, Jackie Harris Hochberg, George Fielding, M.D., Douglas P. Teitelbaum, and Lawrence T. Babbio, Jr. ',\n",
       " ' Michael Alan Graves, Jackie Harris Hochberg, and Evan Nadler, M.D. ',\n",
       " ' George Tsiolis and Michael Egarr ',\n",
       " ' Vera and Kent Clark, Fiona Gosschalk, and Andrea Vazzana, Ph.D. ',\n",
       " ' Yildiz Blackstone, Marcia Tucker, and Christine Ren Fielding, M.D. ',\n",
       " ' Jackie Harris Hochberg and Yildiz Blackstone ',\n",
       " ' Michael Gonzalez-Wallace, Spring Dawson-McClure, Ph.D., and Indran Purushothaman ',\n",
       " ' Christine Cachot and Allegra Williams ',\n",
       " ' Gillian and Serena Miniter ',\n",
       " ' Hart and Sarah Robinson ',\n",
       " ' Carol Herring, Doug Blonsky, and Jennifer Saul Yaffa ',\n",
       " ' Nancy Paduano and Suzanne Cochran ',\n",
       " ' Janet and Olivia Kagan ',\n",
       " ' Jennifer and Braden Keil ',\n",
       " ' Carter and Kamie Lightburn ',\n",
       " ' Carol Lee, Zoe Tomlinson, and Mary Lee Aphtoff ',\n",
       " ' Hannach and Amy Schrader ',\n",
       " ' Nico and Emilia Fanjul Pfeifler ',\n",
       " ' Sydney, Virginia, and Annesley Apple ',\n",
       " ' Will and Vicki Foley ',\n",
       " ' Linda Janklow, Candice Bergen, and Marshall Rose ',\n",
       " ' Edward Cardinal Egan with Janine and Tom Hill ',\n",
       " ' Annette and Oscar de la Renta with Catie Marron ',\n",
       " ' Susan Fales-Hill and Christine Schwarzman ',\n",
       " ' Pete Peterson and Stephen Schwarzman ',\n",
       " ' Kathy Rayner and Jane Stanton Hitchcock ',\n",
       " ' Jeff and Liz Peek ',\n",
       " ' Olga Votis and Elizabeth Rohatyn ',\n",
       " ' Jeffrey Rosen, Caroline Kennedy, and Stephen Schwarzman ',\n",
       " ' Lewis Cullman, William Wright, and Yvonne Durant ',\n",
       " ' Scott Stringer, Stephen Schwarzman, and Catie Marron ',\n",
       " ' Vincent Gentile and Caryl Soriano ',\n",
       " ' Sue and Edgar Wachenheim ',\n",
       " ' Sam Butler and Stephen Schwarzman ',\n",
       " ' Stephen and Christine Schwarzman with Catie and Don Marron',\n",
       " ' Mark Whitaker with Kathleen and Chris Matthews',\n",
       " 'HIlary Dick and Wendy Carduner ',\n",
       " 'Adrienne Vittadini and Bryant Gumbel ',\n",
       " 'Cornelia Bregman and Kamal Obassi',\n",
       " 'Marlene Hess and Jim Zirin ',\n",
       " 'Carol Mack and Alex Hitz',\n",
       " ' Andrew Saffir and Daniel Benedict ',\n",
       " ' Cynthia and Dan Lufkin ',\n",
       " ' Tory Burch and Marina Rust Connor ',\n",
       " ' Andrew Saffir and Jennifer Creel ',\n",
       " ' Alexis Waller and Phil McCarthy ',\n",
       " ' Bryant and Hilary Gumbel ',\n",
       " ' Brian and Lisa McCarthy ',\n",
       " ' Cornelia Bregman, Muffie Potter Aston, and Lucia Hwong Gordon ',\n",
       " ' Charlotte Reardon and Neil Rasmus ',\n",
       " ' Coco and Ari Kopelman ',\n",
       " ' Christine and Stephen Schwarzman ',\n",
       " ' Clelia and Tom Zacharias ',\n",
       " ' Doug Brown and Tracy Huss ',\n",
       " ' Grace Hightower DeNiro, Prudence Sullivan, and Amy Sacco ',\n",
       " ' Whitney and James Fairchild ',\n",
       " ' Muffie Potter Aston, Dee Dee Ricks, and Bronson van Wyck ',\n",
       " ' Nancy Jarecki, Peggy Siegal, and Patrick McMullan ',\n",
       " ' Eva Lorenzotti and Douglas Hannant ',\n",
       " ' Hilary Geary Ross and Wilbur Ross ',\n",
       " ' Kathleen Giordano and Michel Witmer ',\n",
       " ' Frederick Anderson and friend ',\n",
       " ' Karen and Tom Glover ',\n",
       " ' John and Bowen Miller ',\n",
       " ' Karin Luter and John Bossard ',\n",
       " 'Libby Fitzgerald, Leslie Jones, Muffie Potter Aston, Richard Kirschenbaum, and Ashley McDermott ',\n",
       " ' Eleanora and Michael Kennedy ',\n",
       " ' Muffie Potter Aston and Mark Gilbertson ',\n",
       " ' Nancy Jarecki and Peggy Siegal ',\n",
       " ' Peter Hermann and Mariska Hargitay ',\n",
       " ' Leslie Jones, Dr. Harold Varmus, and Constance Casey ',\n",
       " ' Leslie Jones, Jamie Niven, and Lee Niven ',\n",
       " ' Neva Martin Anton and David Anton ',\n",
       " ' Sara Ayres and Shafi Roepers ',\n",
       " ' Naeem Khan and Ranjana Khan ',\n",
       " ' Rachel Hovnanian and Serena Boardman ',\n",
       " ' Peter and Leslie Jones ',\n",
       " ' Niko Elmaleh, Shannon Signorini, and friend ',\n",
       " ' Stephan Haimo and Veronica Bulgari ',\n",
       " ' Tara and Michael Rockefeller ',\n",
       " ' Vivier and Judy Choix ',\n",
       " ' Martha Glass, Scott Johnson and Kelly Johnson, and John Glass ',\n",
       " 'Hilary Dick with Derek and Nicole Limbocker ',\n",
       " 'Scott Beaumont and Jim Bradbeer',\n",
       " 'Alexandra Lebenthal and Charlotte Diamond',\n",
       " 'Debbie and  Sean Murphy',\n",
       " 'Marion Cotrone and Carol Bradbeer',\n",
       " 'Heather Mnuchin and Mary Snow',\n",
       " 'Laurie Ferris and Karin Glover',\n",
       " 'Nicole Hanley and Helena Khazanova',\n",
       " 'Victoria Hawkins, Robert Ruffino, and Barbara Hawkins',\n",
       " 'Katie Tozer, Fernanda Kellogg, and Linda Buckley',\n",
       " 'The view from the second floor landing ',\n",
       " 'Tara and Sienna McArdle',\n",
       " 'Burwell Shore and Kathy Thomas',\n",
       " 'Christene Murphy, Teddi Ginsberg, and Amanda Karll',\n",
       " 'Courtney Crawford and Mary Snow',\n",
       " 'Elizabeth Saint-Amand',\n",
       " 'Jim Kaufman, Jane Kaufman, and Carl Forsyth',\n",
       " 'Rick Sabag, Steven Stolman, Frank Rico, and Victor Basile',\n",
       " 'Mark Gilbertson and Heather Mnuchin',\n",
       " 'Peter and Jamee Gregory',\n",
       " 'Tatiana and Tania Smith',\n",
       " 'Arthur Wayne, Greg Calejo, and Scott Currie',\n",
       " 'Carol Bradbeer, Holly Dunlap, and Jim Bradbeer',\n",
       " 'Nick Mele, Sean Glass, Kipton Cronkite, Jack Bryan, Paul Johnson-Calderon, and Alexa Greenstadt',\n",
       " 'Kipton Cronkite and Catherine Forbes',\n",
       " 'Noelle Hancock and Chris Rovzar',\n",
       " 'Daniel Cappello, Melissa Berkelhammer, and Peter Neu',\n",
       " 'Tracy Westmoreland, Anna-Karin Edelbrock, Tad Low, Jack Cacamis, and Chris Wilson',\n",
       " 'Guy Cimbalo and Jack Bryan',\n",
       " 'Hilary Heard, George Gurley, and Elizabeth Spiers',\n",
       " 'Kipton Cronkite, Michelle Edgar, and Franck Raharinosy',\n",
       " 'Wandjina, Guy Cimbalo, and Bill Hoffmann',\n",
       " 'James Shin, Ron Weisberg, John Kluge, and Nick Mele',\n",
       " ' Alexander Gilkes leads the auction ',\n",
       " ' Stacey Goergen, Brett Littman, and Brooke Shields ',\n",
       " ' Merrill Mahan, Rhiannon Kubicka, Brett Littman, Candace Worth, and Stacey Goergen ',\n",
       " ' Tina Lutz and Rhiannon Kubicka ',\n",
       " ' Candice Mabey, Barbara Bulletti Newman, and Francine Wolterbeek ',\n",
       " ' David Mann and Fritz Karch ',\n",
       " ' Will Cotton, Rose Dergan, Michele Oka Doner, and Inka Essenhigh ',\n",
       " ' Frederick Doner and Joost Elffers ',\n",
       " ' Jay Lehman and Sally Morgan Lehman ',\n",
       " ' Alexander Gilkes, Bevin Butler, and Alex Adler ',\n",
       " ' Sol Kjok and Hilde Marstrander ',\n",
       " ' Stacey Goergen, Suzanne Cochran, and Pam Goergen ',\n",
       " ' Candace Worth, Pat Steir, and Brett Littman ',\n",
       " ' Anne Cook, Jane Dresner Sadaka, and Lynn Halbfinger ',\n",
       " ' Halla Schlub and James Salomon ',\n",
       " ' Joyce Krawiecki and Nicole Gallo ',\n",
       " ' Courtney Coleman and Bill Brockschmidt ',\n",
       " ' Blair Voltz Clarke and Stacey Goergen ',\n",
       " ' Emilio Steinberger, Emma Hall, Mililani Trent, and Aaron Baldinger ',\n",
       " ' Waqas Wajahat and Elizabeth Scwartz ',\n",
       " ' Iris Marden and Thomas von Lintel ',\n",
       " ' Anika Taylor and Philae Knight ',\n",
       " ' Ellie Rines, Alex Glauber, and Begum Yasar ',\n",
       " ' Shannon and Brett Wheeler ',\n",
       " ' Lang Pew and Warrie Price ',\n",
       " ' Kate Shepard and David Humphrey ',\n",
       " ' Nina Katchadourian and Deanna Lee ',\n",
       " ' Kara Vander Weg and Candace Worth ',\n",
       " ' Annalise Goldberg and Inka Essenhigh ',\n",
       " 'Junior Council members enjoy cocktails in the Hall of Mexico and Central   America',\n",
       " 'Andrew Flug and Paulette Fox ',\n",
       " 'Meriwether and Tanner Powell ',\n",
       " 'Alex and Valerie Twerdahl with Museum Curator Mark Norell',\n",
       " 'Co-chairs Zachary and Lori Pomerantz',\n",
       " ' Natalie Barak and friend ',\n",
       " 'Steering Committee member Joseph Cavanaugh and Kate Deming with Steering Committee member W. Jameson McFadden and Aimee Schreiner',\n",
       " ' Jaka Bizilj, Amy Goodman, Sting, Jessye Norman, Trudie Styler, Thomas Kipp, Allan Buchman, and Noella Coursaris Musunka ',\n",
       " ' Eric Goode and Miye McCullough ',\n",
       " ' Lynne Cherry and Olivia Bolar ',\n",
       " ' Stacey Tisdale, Mike Woods, and Wendy Diamond ',\n",
       " ' Rachael Kun, Tim Morehouse, Noella Coursaris Musunka, and James Masters ',\n",
       " ' Faith Hope Consolo and Joseph Aquino ',\n",
       " ' Joe Berlinger, Trudie Styler, Sting, and Hans-Jürgen Beerfeltz ',\n",
       " ' Joe Berlinger and Trudie Styler ',\n",
       " ' Shonda Hornbeck and Lynne Cherry ',\n",
       " ' Tim Morehouse and Rachael Kun ',\n",
       " ' Wendy Diamond and Roxanne Mankin Cason ',\n",
       " 'From left to right,\\xa0Mr. Bob Wright (co-founder of Autism Speaks), Ms. Katie Wright (daughter of co-founders of Autism Speaks), H.E. the first lady of the Maldives Madame Ilham Hussain, Mr. Mike Lake and Jaden Lake, Her Excellency the wife of the Vice President of Nigeria Mrs. Amina Namadi Sambo, H.E. the wife of the minister of foreign affairs of Turkey Mrs. Sare Davutoglu, H.E. the first lady of Panama Mrs. Marta Linares de Martinelli, H.E.the spouse of the foreign minister of Serbia Mrs. Natasa Jeremic, H.E Mrs. Ban Soon-taek (wife of UN Secretary-General), Ms. Saima Wazed Hossain (daughter of prime minister Bangladesh), H.E. the prime minister of Bangladesh Sheikh Hasina, Her Excellency the first lady of Guyana Mrs. Deolatchmee Ramotar, Mrs. Suzanne Wright (co-founder Autism Speaks), Her Excellency the spouse of the prime minister of St. Vincent and the Grenadines Mrs. Eloise Gonsalves, H.E.\\xa0Dr. Liri Berisha spouse of prime minister of Albania,\\xa0 Her Excellency the first lady of Namibia Mrs. Penehupifo Pohamba, HE the first lady of Albania\\xa0Mrs. Odeta Mishani (front row), and HE the\\xa0spouse of the prime minister\\xa0of Croatia Mrs. Sanja Music',\n",
       " 'Mike Lake, Member of Canadian Parliament and son Jaden Lake, who has autism',\n",
       " ' H.E. Mrs. Irene deThalassinós, \\xa0H.E. Mrs. Ban Soon-taek, H.E. Mrs. Odeta Nishani, H.E. Mrs. Marta Linares de Martinelli, Mrs. Suzanne Wright, H.E.\\xa0Mrs. Penehupifo Pohamba, H.E. Mrs. Deolatchmee Ramotar, \\xa0and H.E. Mrs. Eloise Gonsalves',\n",
       " \" Marie Hope Davis with Alton and Sharon O'Neil \",\n",
       " ' Abby Patni and Judy Grubman ',\n",
       " ' Diana Salandra and Linda Salandra-Dweck ',\n",
       " ' Anka Palitz and Anushka ',\n",
       " \" Shaun O'Hearn and Colleen Bain \",\n",
       " ' Thomas and Stacey Branchini ',\n",
       " ' Dr. Melanie Bone and Eric Rawet ',\n",
       " ' Kristal Caron McConley and Irene Lummertz ',\n",
       " ' Frances Scaife and Honorable John Browne ',\n",
       " ' Nicole Neifert and Lisa Commette ',\n",
       " ' Craig and Michele Millard ',\n",
       " ' Toni and Dr. James Orsini ',\n",
       " ' Peggy and Rodney Dillard with Rosita,  The Duchess of Marlborough ',\n",
       " ' Margo Stever, Susan Cowie, John K. Castle, and Rosita, The Duchess of Marlborough ',\n",
       " ' HRH Princess Elizabeth of Bavaria and Marianne Castle ',\n",
       " ' Michael Harris, Donna Shalek and Charles Holman ',\n",
       " ' Marianne Castle, Helena Martinez, and Alina Farinas ',\n",
       " ' Countess Christina de Caraman and Grace Meigher ',\n",
       " ' Lord Charles Spencer Churchill, Susie Cowie, Daniel Zucchi, Donald Stever, Marianne Castle, Margo Stever, Dr. Annette Rickel, and John K. Castle ',\n",
       " ' Marianne Castle, Rosita, The Duchess of Marlborough, Dr. Annette Rickel, Margo Stever, and Susan Cowie ',\n",
       " ' Diana Wister and Charles Holman ',\n",
       " ' Mr. and Mrs. Herve Aaron ',\n",
       " ' Elisabeth Quin, Mr. and Mrs. Krzentowski, and Xavier Veilhan ',\n",
       " ' Jacques Chirac and Herve Aaron ',\n",
       " ' Mr. and Mrs. Martin Bouygues with Mr. and Mrs. Henri de Castries ',\n",
       " ' Minister of Culture Frederic Mitterand, Herve Aaron, and Jean-Paul Cluzel ',\n",
       " ' Robert Stilin and Francoise Klein',\n",
       " ' La Baronne Philippine de Rothschild and Jean-Pierre de Beaumarchais ',\n",
       " ' Baron  and Baroness Eric de Rothschild ',\n",
       " ' Mr. and Mrs. Dominique de Villepin ',\n",
       " ' Mr. and Mrs. Alain Minc ',\n",
       " ' Herve Aaron, Gay Gassman, and Peter Marino ',\n",
       " ' Beatrice Stern and Thaddaeus Ropac ',\n",
       " ' Mr. and Mrs. Henry Kravis ',\n",
       " ' Valentino and Monica Bellucci ',\n",
       " ' Pier Luigi Pizzi and Prince Amin Aga Khan ',\n",
       " ' Mr. and Mrs. Sydney Toledano ',\n",
       " ' Herve Aaron, Frederic Mitterrand, and Jean-Gabriel Mitterrand ',\n",
       " ' Pierre Passebon and Jacques Grange ',\n",
       " ' Christy Turlington, Yves Carcelles, and Gong Li ',\n",
       " ' Baron  and Baroness  Albert Frere ',\n",
       " ' Christy Turlington and Antoine Arnault ',\n",
       " ' Marina  Karella and Jean-Gabriel Mitterrand ',\n",
       " ' Azzedine Alaia and  Didier Krzentowski ',\n",
       " \" Madame la Secretaire d'etat Nathalie Kosciusko-Morizet and  Jacques Chirac \",\n",
       " ' Larry Gagosian and Michael Kraemer ',\n",
       " ' Roric Tobin and Geoffrey Bradfield ',\n",
       " ' Sydney Toledano, Delphine Arnault, and Victoire de Castellane ',\n",
       " ' Antoine and Delphine Arnault ',\n",
       " ' Patrick Gallagher and Alessandra di Castro ',\n",
       " ' Juan Montoya and Urban Karlsson ',\n",
       " ' Elie and Rory Tahari ',\n",
       " ' Gary Barnett and Ayala Barnett ',\n",
       " ' Erika Toner and Donna Gargano ',\n",
       " ' Gary Barnett and Josie Natori ',\n",
       " ' Tony Mannarino and Gary Barnett ',\n",
       " ' Sam Shaffer and Kathryn Neale ',\n",
       " ' Raizy Haas, Tamar Rothenberg, and Donna Gargano ',\n",
       " ' Marcia and Richard Mishaan ',\n",
       " ' Barbra Russo and Donna Gargano ',\n",
       " ' Colin Thompson and Hermon Raju ',\n",
       " ' John Truex and  Richard Lambertson ',\n",
       " ' Kelly Mack, Pam Liebman, and Raizy Haas ',\n",
       " ' Angela Gruscka and Shika Kimura ',\n",
       " ' Samatha Kleier, Michelle Kleier, and Sabrina Kleier ',\n",
       " ' Kelly Mack and Pam Liebman ',\n",
       " ' Harriet Weintraub and Sully Bonnelly ',\n",
       " ' Amanda and Cynthia Frank ',\n",
       " ' Ilan Lerman and Tamar Rothenberg ',\n",
       " ' Nicole Qualls and Melissa Goldfischer ',\n",
       " ' Amy Rossi and Peter Rosenthal ',\n",
       " ' Ken and Anika Natori ',\n",
       " ' Jeffrey Costello, Steve Kolb, and Robert Tagliapietra ',\n",
       " ' Robert Ruffino and  Carol Prisant ',\n",
       " ...]"
      ]
     },
     "execution_count": 68,
     "metadata": {},
     "output_type": "execute_result"
    }
   ],
   "source": [
    "[caption.text for caption in all_captions if \"and\" in caption.text]"
   ]
  },
  {
   "cell_type": "code",
   "execution_count": 43,
   "metadata": {
    "colab": {
     "base_uri": "https://localhost:8080/"
    },
    "collapsed": false,
    "editable": true,
    "id": "fYliWF39_8vE",
    "jupyter": {
     "outputs_hidden": false
    },
    "outputId": "a6e35980-b860-4928-f08f-d67d73ee764d",
    "slideshow": {
     "slide_type": ""
    },
    "tags": []
   },
   "outputs": [
    {
     "data": {
      "text/plain": [
       "[\"The dinner scene at 7 World Trade Center for The MacDowell Colony's evening in honor of Jane Alexander.\",\n",
       " 'Master Puppeteer Basil Twist',\n",
       " 'Gretchen Dow Simpson, James Baird, and, Tina Howe',\n",
       " 'Genevieve Mathis, Ed Sherin, and, Tony Sherin',\n",
       " 'Robert MacNeil',\n",
       " 'Joel Sanders, Paul Gunther, Honorary Chair Artist Martin Puryear, Pamela Joyner, and, Rick Stone',\n",
       " 'Ed Sherin, Jane Alexander, Jace Alexander, and, Maddie Corman',\n",
       " 'Steve Reich and Beryl Korot',\n",
       " 'Composer Stewart Wallace and Writer Rick Moody',\n",
       " 'MacDowell Robert MacNeil, Jane Alexander, and, James Earl Jones',\n",
       " 'Cheryl Young and Nicky Dawidoff',\n",
       " 'Anne Jackson and Eli Wallach',\n",
       " 'Genevieve Mathis and Tony Sherin',\n",
       " 'Jane Alexander and Thomas Putnam',\n",
       " 'Writers Amitav Ghosh and Deborah Baker',\n",
       " 'Eileen Wiseman, William Banks, Ann Cox Chambers, and, Benefit Chair Stephanie Olmsted',\n",
       " 'Lynn Waterston, Sam Waterston',\n",
       " 'Jace Alexander and Maddie Corman',\n",
       " 'Artist Gretchen Dow Simpson, playwright Tina Howe, and, Jane Alexander',\n",
       " 'Paul LeClerc and Benefit Chair Emerita Helen Tucker',\n",
       " 'Artist Jane Dickson and Brandon Fradd',\n",
       " 'Benefit Chairs Bob and Stephanie Olmsted',\n",
       " 'Coddy Granum and James Earl Jones',\n",
       " 'Helen Tucker and Lewis Cullman',\n",
       " 'MacDowell President Carter Wiseman and Executive Director Cheryl Young',\n",
       " 'Tina Howe, Jane Alexander, and, Sam Waterston',\n",
       " 'Beryl Korot and Steve Reich',\n",
       " 'Composer Tania Leon and Dancer and Choreographer Carlos Dos Santos',\n",
       " 'Robert MacNeil, Donna MacNeil',\n",
       " \"The Yale Baker's Dozen performing\",\n",
       " \"Constantino Castellano as Santa with the Yale Baker's Dozen\",\n",
       " 'Rory and Camille Kelleher, Val and Min Min Schaffner, Christopher Hyland, and, Father Francis',\n",
       " \"George D'Angelo and Brenda Barak\",\n",
       " 'The Sogoloffs, Constantino Castellano, and, Seth Pariser',\n",
       " 'Lorenzo Carcaterra and Susan Toepfer',\n",
       " \"Father Francis Gasparik, Joe Sano, Christopher Hyland, and, the Yale Baker's Dozen\",\n",
       " 'The Hendersons with Christopher Hyland',\n",
       " 'Mr. Raiola and Jared Flynn',\n",
       " 'Andy Presti, Eilen Presti',\n",
       " 'Jana Milo, Louis Milo',\n",
       " 'Jane Pflug, Scott Salvatore, and, Tyler Tinsworth',\n",
       " 'Father John Maguire and Father Francis',\n",
       " 'Georgia Gogel, Christopher Hyland, and, Cassandra Hyland',\n",
       " 'Seth Pariser and Mrs. and Mr. Gary Knapp',\n",
       " 'Rory Kelleher, Camille Kelleher',\n",
       " 'Leif Arntzen, Kathy Arntzen',\n",
       " 'William Diamond, Kathy Pardoe Irwin, Christopher Hyland, and, Mr. Baratta',\n",
       " 'Helga Hodosh, Richard Hodosh',\n",
       " 'Helga Hodosh, Constantino Castellano as Santa, and, Anna Galtarossa',\n",
       " 'Donald, Evan, and, Georgia Gogel',\n",
       " 'Emanuel Sharp and Dorothy Palmer',\n",
       " 'Mr. Ewing, Mrs. R Stewart Ewing',\n",
       " 'Andrew Weiss and Linda Berkeley',\n",
       " '',\n",
       " \"George D'Angelo and Christopher Hyland delivering the birthday cake\",\n",
       " 'Mr. Henderson, Mrs. R. Stewart Ewing with Alana Henderson',\n",
       " 'Kathy Pardoe Irwin and Constantino Castellano',\n",
       " 'Carol Sano, Capriccio, Thomas Gambino Sr., Father Francis Gasparik, Frances Gambino, Louis Milo, Joseph Sano, Jana Milo, and, Eilen Presti',\n",
       " 'Joana Steichen and Irene Neves',\n",
       " 'Pat Bass, Fred Bass',\n",
       " 'Mrs. Sogoloff and Mr. Capriccio',\n",
       " 'Dave Oesterheld, Barbara Sieg, and, Min Min Schaffner',\n",
       " 'Susan Solomon and Harold Koplewicz',\n",
       " 'Linda Sirow and Wood Heller',\n",
       " 'Marcia Mishaan and Linda Sirow',\n",
       " 'Stuart Match-Suna and Beth Gordon',\n",
       " 'Alex Usi',\n",
       " 'Stanley Rosenberg, PhD',\n",
       " 'Joan Lazarus and Rachel Klein, PhD',\n",
       " 'Harold Koplewicz, Ruth, and, Molly Jong-Fast',\n",
       " 'Ann Keating and Linda Sirow',\n",
       " 'Alexandra Trullols, Jane Bloomingdale, Andrea Gutierrez, Henrique Cisneros, and, Jose Agria Trulliols',\n",
       " 'Alejandro Santo Domingo',\n",
       " 'Yaz Hernandez',\n",
       " 'Carlos Picon, Jose Solis Betancourt, Maria Eugenia Maury Arria, and, Andrew Kepler',\n",
       " 'Claudia Cisneros, Katerina Thermiotis, Martin Rozenblum, and, Katie von Strasser',\n",
       " 'Mark Mullet, Fabiola Beracasa, and, Kevin Ulrich',\n",
       " 'Yayi Santandreu, Corina Balbontin, Maria Eugenia Marury Arria, Irene Zingg, and, Katerina Thermiotis',\n",
       " 'Sonia Braga',\n",
       " 'Amy Sacco and Mario Testino',\n",
       " 'Narciso Rodriguez, Margherita Misoni, Sonia Braga, and, Lily Donaldson',\n",
       " 'Alexandra Trullols, Regina Haymes, Karen Larrain, and, Lily Maddock',\n",
       " 'Maria Eugenia with Ambassador Ricardo Arias and wife Maraquel',\n",
       " 'Jesus Aguais, Fabiola Beracasa, Alejandro Pompei, and, Maria Eugenia',\n",
       " 'Karina Correa Maury, Mario Testino, and, Maria Eugenia',\n",
       " 'Click here for NYSD Contents']"
      ]
     },
     "execution_count": 43,
     "metadata": {},
     "output_type": "execute_result"
    }
   ],
   "source": [
    "## Cleaned caption text\n",
    "[clean_name(split_married_couple(remove_blacklisted_words(caption.text))) for caption in captions]"
   ]
  },
  {
   "cell_type": "markdown",
   "metadata": {
    "collapsed": false,
    "id": "64aBJD93dQmA",
    "jupyter": {
     "outputs_hidden": false
    }
   },
   "source": [
    "Once you feel that your algorithm is working well on these captions, parse all of the captions and extract all the names mentioned.  "
   ]
  },
  {
   "cell_type": "markdown",
   "metadata": {
    "collapsed": false,
    "id": "QgElWndsdQmA",
    "jupyter": {
     "outputs_hidden": false
    }
   },
   "source": [
    "Now, run this sort of test on a few other pages.  You will probably find that other pages have a slightly different HTML structure, as well as new captions that trip up your caption parser.  But don't worry if the parser isn't perfect -- just try to get the easy cases."
   ]
  },
  {
   "cell_type": "markdown",
   "metadata": {
    "collapsed": false,
    "id": "DH549Y3pdQmA",
    "jupyter": {
     "outputs_hidden": false
    }
   },
   "source": [
    "Once you are satisfied that your caption scraper and parser are working, run this for all of the pages.  If you haven't implemented some caching of the captions, you probably want to do this first.\n",
    "\n",
    "We use wget to scrape the NYSD archive, because the server kept rate limiting requests.  Scraping all parties in link_list takes about 20 minutes with this method."
   ]
  },
  {
   "cell_type": "code",
   "execution_count": 28,
   "metadata": {
    "collapsed": false,
    "editable": true,
    "jupyter": {
     "outputs_hidden": false
    },
    "slideshow": {
     "slide_type": ""
    },
    "tags": []
   },
   "outputs": [],
   "source": [
    "#import subprocess\n",
    "#subprocess.run([\"wget\", \"-i\", \"links.txt\", \"--random-wait\", \"-P\", \"nysd\"])"
   ]
  },
  {
   "cell_type": "markdown",
   "metadata": {
    "collapsed": false,
    "id": "rB_b-H-8dQmB",
    "jupyter": {
     "outputs_hidden": false
    }
   },
   "source": [
    "## Phase 3: Graph Analysis"
   ]
  },
  {
   "cell_type": "markdown",
   "metadata": {
    "collapsed": false,
    "id": "OaEwFF4ndQmB",
    "jupyter": {
     "outputs_hidden": false
    }
   },
   "source": [
    "For the remaining analysis, we think of the problem in terms of a\n",
    "[network](http://en.wikipedia.org/wiki/Computer_network) or a\n",
    "[graph](https://en.wikipedia.org/wiki/Graph_%28discrete_mathematics%29).  Any time a pair of people appear in a photo together, that is considered a link.  It is an example of  an **undirected weighted graph**. We recommend using python's [`networkx`](https://networkx.github.io/) library."
   ]
  },
  {
   "cell_type": "markdown",
   "metadata": {
    "collapsed": false,
    "id": "SdMTym8QdQmB",
    "jupyter": {
     "outputs_hidden": false
    }
   },
   "source": [
    "All in all, you should end up with over 100,000 captions and more than 110,000 names, connected in about 200,000 pairs."
   ]
  },
  {
   "cell_type": "code",
   "execution_count": 59,
   "metadata": {
    "collapsed": false,
    "jupyter": {
     "outputs_hidden": false
    }
   },
   "outputs": [],
   "source": [
    "def get_captions_file(webpage):\n",
    "  soup = BeautifulSoup(webpage, \"lxml\")\n",
    "  return soup.select(\"div.photocaption\")\n",
    "\n",
    "all_captions = []\n",
    "for file in glob.glob(\"./nysd/*\"):\n",
    "    with open(file, \"r\", encoding='utf-8', errors='ignore') as f:\n",
    "        webpage = f.read()\n",
    "        captions = get_captions_file(webpage)\n",
    "        all_captions.extend(captions)"
   ]
  },
  {
   "cell_type": "code",
   "execution_count": 60,
   "metadata": {
    "collapsed": false,
    "jupyter": {
     "outputs_hidden": false
    }
   },
   "outputs": [
    {
     "name": "stdout",
     "output_type": "stream",
     "text": [
      "71316\n"
     ]
    }
   ],
   "source": [
    "print(len(all_captions))"
   ]
  },
  {
   "cell_type": "code",
   "execution_count": null,
   "metadata": {},
   "outputs": [],
   "source": [
    "#### spaCy solution"
   ]
  },
  {
   "cell_type": "code",
   "execution_count": 61,
   "metadata": {
    "collapsed": false,
    "editable": true,
    "jupyter": {
     "outputs_hidden": false
    },
    "slideshow": {
     "slide_type": ""
    },
    "tags": []
   },
   "outputs": [
    {
     "data": {
      "text/plain": [
       "71316"
      ]
     },
     "execution_count": 61,
     "metadata": {},
     "output_type": "execute_result"
    }
   ],
   "source": [
    "cleaned_captions = list(map(lambda caption: extract_names_spacy(caption.text), all_captions))\n",
    "\n",
    "### Entities identified by spaCy that are not PERSON, for debugging purposes\n",
    "other_labeled_words = [(ent, ent.label_) for ents in\n",
    "                       map(lambda caption: extract_other_spacy(caption.text), all_captions)\n",
    "                       for ent in ents]\n",
    "\n",
    "len(cleaned_captions)"
   ]
  },
  {
   "cell_type": "code",
   "execution_count": 62,
   "metadata": {
    "collapsed": false,
    "jupyter": {
     "outputs_hidden": false
    }
   },
   "outputs": [
    {
     "data": {
      "text/plain": [
       "72035"
      ]
     },
     "execution_count": 62,
     "metadata": {},
     "output_type": "execute_result"
    }
   ],
   "source": [
    "unique_names = set([name for names in cleaned_captions for name in names])\n",
    "\n",
    "len(unique_names)"
   ]
  },
  {
   "cell_type": "code",
   "execution_count": 63,
   "metadata": {
    "collapsed": false,
    "jupyter": {
     "outputs_hidden": false
    }
   },
   "outputs": [],
   "source": [
    "with open(\"names.txt\", \"w\") as f:\n",
    "    f.writelines([f\"{str(name)}\\n\" for name in sorted(list(unique_names))])"
   ]
  },
  {
   "cell_type": "code",
   "execution_count": 64,
   "metadata": {
    "collapsed": false,
    "jupyter": {
     "outputs_hidden": false
    }
   },
   "outputs": [],
   "source": [
    "with open(\"other.csv\", \"w\") as f:\n",
    "    f.write(\"Label, Text\\n\")\n",
    "    f.writelines([f\"{ent[1]},{ent[0]}\\n\" for ent in other_labeled_words])"
   ]
  },
  {
   "cell_type": "code",
   "execution_count": 65,
   "metadata": {
    "collapsed": false,
    "jupyter": {
     "outputs_hidden": false
    },
    "scrolled": true
   },
   "outputs": [
    {
     "data": {
      "text/plain": [
       "['Christain Boccia',\n",
       " 'Blake Seidel',\n",
       " 'Gia Slowick',\n",
       " 'Imelda Nicolas',\n",
       " 'Patricia Marcellano',\n",
       " 'Jill Helene',\n",
       " 'Bobby Steinsdorfer',\n",
       " 'Patti Roberts',\n",
       " 'Don Laventhall',\n",
       " 'Lydia Carlston',\n",
       " 'Calvin Tomkins',\n",
       " 'Susan Zises-Green',\n",
       " 'Miranda Bass',\n",
       " 'Meagan Bonan',\n",
       " 'Anne Schultz',\n",
       " 'Delfina Frers',\n",
       " 'Barbara Duvowski',\n",
       " 'Lynne Taylor-Corbet',\n",
       " 'Serena Nikkah',\n",
       " 'Gina Clarke',\n",
       " 'Reshma Saujani',\n",
       " 'Erica Figueroa',\n",
       " 'Michael Tilson',\n",
       " 'Mya',\n",
       " 'Gail DeDona',\n",
       " 'April Benasich',\n",
       " 'Abiri',\n",
       " 'Lindsey Pittas',\n",
       " 'Jennifer Lim',\n",
       " 'Jack Huston',\n",
       " 'Irene R. Aitken',\n",
       " 'Benasich',\n",
       " 'Lexi Bennett',\n",
       " 'Delphine Figueras',\n",
       " 'Bob Garvy',\n",
       " 'Ryan Stewart',\n",
       " 'Hank Sandlass',\n",
       " 'Carla Hill',\n",
       " 'Ellen Grauer',\n",
       " 'Jake Anderson',\n",
       " 'Eri Stern',\n",
       " 'Zak DeOssie',\n",
       " 'Gilbert Kinney',\n",
       " 'Beverly Leopold',\n",
       " 'Mark Buller',\n",
       " 'Paul Ferrillo',\n",
       " 'Jacquie Garrett',\n",
       " 'David Valger',\n",
       " 'Daniel Meyer',\n",
       " 'Elizabeth Hendrickson',\n",
       " 'Amanda Seyfriend',\n",
       " 'Michael Romano',\n",
       " 'Cristobal Riestra',\n",
       " 'David Redden',\n",
       " 'Hayley Mogul',\n",
       " 'Hannah Brontman',\n",
       " 'Gordon Kaplan',\n",
       " 'Alex Charriol',\n",
       " 'Leighton Candler',\n",
       " 'Nicola Steiner',\n",
       " 'Seth Baert',\n",
       " 'Jennifer Tayle',\n",
       " 'Michelle Clayman',\n",
       " 'Mariah Kennedy Cuomo',\n",
       " 'Jack Toolin',\n",
       " 'Liv Diakolios',\n",
       " 'Alexandra Duisberg',\n",
       " 'Robert Soros',\n",
       " 'Jai Phillips',\n",
       " 'Carrie Glassman',\n",
       " 'Chris Strauss',\n",
       " 'Bill FitzGerald',\n",
       " 'Bunny Hiatt',\n",
       " 'Sarah Horton',\n",
       " 'F. Murray Abraham',\n",
       " 'Madhur Jaffrey',\n",
       " 'Edward MacDowell Medal',\n",
       " 'Michelle Suna',\n",
       " 'Lauren Elsner',\n",
       " 'Duane Wells',\n",
       " 'Willow Chang',\n",
       " 'Richard Faber',\n",
       " 'Stephen Fang',\n",
       " 'Dieter Buchhart',\n",
       " 'Emily Roy Corey',\n",
       " 'Eleanore Roper',\n",
       " 'Efraim Chalamish',\n",
       " 'Martin Duberman',\n",
       " 'Steven R. DeLott',\n",
       " 'Manny Azenberg',\n",
       " 'Kim Stone',\n",
       " 'Heather Thomson',\n",
       " 'Tamie Peters',\n",
       " 'Bedga Muzijebche',\n",
       " 'Nancy Becker',\n",
       " 'Robby',\n",
       " 'Bob Berger',\n",
       " 'Ken Harrison',\n",
       " 'Sarah Weeks',\n",
       " 'ludwig Austner']"
      ]
     },
     "execution_count": 65,
     "metadata": {},
     "output_type": "execute_result"
    }
   ],
   "source": [
    "list(unique_names)[:100]"
   ]
  },
  {
   "cell_type": "code",
   "execution_count": null,
   "metadata": {},
   "outputs": [],
   "source": [
    "#### Regex Solution"
   ]
  },
  {
   "cell_type": "code",
   "execution_count": 222,
   "metadata": {},
   "outputs": [],
   "source": [
    "cleaned_captions_re = list(map(lambda caption: extract_names_re(caption.text), all_captions))\n",
    "\n",
    "len(cleaned_captions_re)\n",
    "\n",
    "unique_names_re = set([name for names in cleaned_captions_re for name in names])\n",
    "\n",
    "len(unique_names_re)\n",
    "\n",
    "with open(\"names_Re.txt\", \"w\") as f:\n",
    "    f.writelines([f\"{str(name)}\\n\" for name in sorted(list(unique_names_re))])"
   ]
  },
  {
   "cell_type": "markdown",
   "metadata": {
    "collapsed": false,
    "id": "W4U6DsKDdQmB",
    "jupyter": {
     "outputs_hidden": false
    }
   },
   "source": [
    "## Question 3: Graph EDA (20 p)\n"
   ]
  },
  {
   "cell_type": "markdown",
   "metadata": {
    "collapsed": false,
    "id": "-V5rO16rdQmB",
    "jupyter": {
     "outputs_hidden": false
    }
   },
   "source": [
    "- Use parsed names to create the undirected weighted network and visualize it (5 p)\n",
    "- Report the number of nodes and edges (5 p)\n",
    "- What is the diameter of this graph? (5 p)\n",
    "- What is the average clustering coeff of the graph? How you interpret this number? (5 p)"
   ]
  },
  {
   "cell_type": "code",
   "execution_count": 217,
   "metadata": {
    "collapsed": false,
    "jupyter": {
     "outputs_hidden": false
    }
   },
   "outputs": [],
   "source": [
    "G = nx.Graph()\n",
    "for caption in cleaned_captions_re:\n",
    "    pairs = itertools.combinations(caption, 2)\n",
    "    for pair in pairs:\n",
    "        first_person = pair[0]\n",
    "        second_person = pair[1]\n",
    "        if G.has_edge(first_person, second_person):\n",
    "            G[first_person][second_person]['weight'] += 1\n",
    "        else:\n",
    "            G.add_edge(first_person, second_person, weight = 1)\n",
    "\n",
    "degrees = sorted(G.degree(weight = \"weight\"), key = lambda x: (-x[1]))"
   ]
  },
  {
   "cell_type": "code",
   "execution_count": 218,
   "metadata": {
    "collapsed": false,
    "jupyter": {
     "outputs_hidden": false
    }
   },
   "outputs": [
    {
     "name": "stdout",
     "output_type": "stream",
     "text": [
      "[('Jean Shafiroff', 451), ('Mark Gilbertson', 358), ('Gillian Miniter', 350), ('Alexandra Lebenthal', 300), ('Geoffrey Bradfield', 257), ('Kamie Lightburn', 210), ('Somers Farkas', 207), ('Eleanora Kennedy', 203), ('Yaz Hernandez', 198), ('Andrew Saffir', 197)]\n"
     ]
    }
   ],
   "source": [
    "print(degrees[:10])"
   ]
  },
  {
   "cell_type": "code",
   "execution_count": 219,
   "metadata": {
    "collapsed": false,
    "editable": true,
    "jupyter": {
     "outputs_hidden": false
    },
    "slideshow": {
     "slide_type": ""
    },
    "tags": []
   },
   "outputs": [
    {
     "name": "stdout",
     "output_type": "stream",
     "text": [
      "[('Joana Steichen', 1), ('Irene Neves', 1), ('Pat Bass', 1), ('Fred Bass', 1), ('Mrs. Sogoloff', 1), ('Mr. Capriccio', 1), ('Wood Heller', 1), ('Stuart Match-Suna', 1), ('Rachel Klein,', 1), ('Molly Jong-Fast', 1)]\n"
     ]
    }
   ],
   "source": [
    "print(degrees[-10:])"
   ]
  },
  {
   "cell_type": "code",
   "execution_count": 223,
   "metadata": {
    "collapsed": false,
    "jupyter": {
     "outputs_hidden": false
    }
   },
   "outputs": [
    {
     "data": {
      "image/png": "[encoded data removed]",
      "text/plain": [
       "<Figure size 640x480 with 1 Axes>"
      ]
     },
     "metadata": {},
     "output_type": "display_data"
    }
   ],
   "source": [
    "#### Draw subgraph for Jean Shafiroff (Highest Degree) to visualize an\n",
    "#### example node with high importance.  Visualizing the entire graph\n",
    "#### may be impossible to do in a meaningful way.\n",
    "\n",
    "jean_shafiroff_subgraph = G.subgraph(nx.ego_graph(G, \"Jean Shafiroff\"))\n",
    "deg = jean_shafiroff_subgraph.degree()\n",
    "nlarge = G.subgraph([n for n in deg if deg[n[0]] >= 10])\n",
    "nsmall = G.subgraph([n for n in deg if deg[n[0]] < 10])\n",
    "\n",
    "elarge = [(u, v) for (u, v, d) in jean_shafiroff_subgraph.edges(data=True) if d[\"weight\"] > 1]\n",
    "esmall = [(u, v) for (u, v, d) in jean_shafiroff_subgraph.edges(data=True) if d[\"weight\"] == 1]\n",
    "\n",
    "pos = nx.spring_layout(jean_shafiroff_subgraph, seed=7)  # positions for all nodes - seed for reproducibility\n",
    "\n",
    "\n",
    "# nodes\n",
    "nx.draw_networkx_nodes(nlarge, pos, node_size=100)\n",
    "nx.draw_networkx_nodes(nsmall, pos, node_size=25)\n",
    "\n",
    "# edges\n",
    "nx.draw_networkx_edges(jean_shafiroff_subgraph, pos, edgelist=elarge, width=2)\n",
    "nx.draw_networkx_edges(\n",
    "    jean_shafiroff_subgraph, pos, edgelist=esmall, width=2, alpha=0.5, edge_color=\"b\", style=\"dashed\"\n",
    ")\n",
    "\n",
    "# node labels\n",
    "nx.draw_networkx_labels(nlarge, pos, font_size=8, font_family=\"sans-serif\")\n",
    "# edge weight labels\n",
    "##edge_labels = nx.get_edge_attributes(jean_shafiroff_subgraph, \"weight\")\n",
    "##nx.draw_networkx_edge_labels(jean_shafiroff_subgraph, pos, edge_labels)\n",
    "\n",
    "ax = plt.gca()\n",
    "ax.margins(0.08)\n",
    "plt.axis(\"off\")\n",
    "plt.tight_layout()\n",
    "plt.show()"
   ]
  },
  {
   "cell_type": "markdown",
   "metadata": {
    "collapsed": false,
    "id": "Gh52kP5pdQmD",
    "jupyter": {
     "outputs_hidden": false
    }
   },
   "source": [
    "## Question 4: Graph properties (20 p)"
   ]
  },
  {
   "cell_type": "markdown",
   "metadata": {
    "collapsed": false,
    "id": "SUa1Q-L3dQmD",
    "jupyter": {
     "outputs_hidden": false
    }
   },
   "source": [
    "What real-world graph properties does this graph exhibit? Please show your work and interpret your answer. Does the result make sense given the nature of the graph?"
   ]
  },
  {
   "cell_type": "markdown",
   "metadata": {
    "collapsed": false,
    "id": "9FFIp3O2dQmD",
    "jupyter": {
     "outputs_hidden": false
    }
   },
   "source": [
    "## Question 4: Who are the most photogenic persons? (10 p)"
   ]
  },
  {
   "cell_type": "markdown",
   "metadata": {
    "collapsed": false,
    "id": "PLmABp34dQmD",
    "jupyter": {
     "outputs_hidden": false
    }
   },
   "source": [
    "The simplest question to ask is \"who is the most popular\"?  The easiest way to answer this question is to look at how many connections everyone has.  Return the top 100 people and their degree.  Remember that if an edge of the graph has weight 2, it counts for 2 in the degree.\n",
    "\n",
    "**Checkpoint:** Some aggregate stats on the solution\n",
    "\n",
    "    \"count\": 100.0\n",
    "    \"mean\": 189.92\n",
    "    \"std\": 87.8053034454\n",
    "    \"min\": 124.0\n",
    "    \"25%\": 138.0\n",
    "    \"50%\": 157.0\n",
    "    \"75%\": 195.0\n",
    "    \"max\": 666.0"
   ]
  },
  {
   "cell_type": "code",
   "execution_count": 221,
   "metadata": {
    "collapsed": false,
    "id": "uvfpNfrBdQmD",
    "jupyter": {
     "outputs_hidden": false
    }
   },
   "outputs": [
    {
     "data": {
      "text/html": [
       "<div>\n",
       "<style scoped>\n",
       "    .dataframe tbody tr th:only-of-type {\n",
       "        vertical-align: middle;\n",
       "    }\n",
       "\n",
       "    .dataframe tbody tr th {\n",
       "        vertical-align: top;\n",
       "    }\n",
       "\n",
       "    .dataframe thead th {\n",
       "        text-align: right;\n",
       "    }\n",
       "</style>\n",
       "<table border=\"1\" class=\"dataframe\">\n",
       "  <thead>\n",
       "    <tr style=\"text-align: right;\">\n",
       "      <th></th>\n",
       "      <th>1</th>\n",
       "    </tr>\n",
       "  </thead>\n",
       "  <tbody>\n",
       "    <tr>\n",
       "      <th>count</th>\n",
       "      <td>100.000000</td>\n",
       "    </tr>\n",
       "    <tr>\n",
       "      <th>mean</th>\n",
       "      <td>129.600000</td>\n",
       "    </tr>\n",
       "    <tr>\n",
       "      <th>std</th>\n",
       "      <td>60.143935</td>\n",
       "    </tr>\n",
       "    <tr>\n",
       "      <th>min</th>\n",
       "      <td>85.000000</td>\n",
       "    </tr>\n",
       "    <tr>\n",
       "      <th>25%</th>\n",
       "      <td>95.750000</td>\n",
       "    </tr>\n",
       "    <tr>\n",
       "      <th>50%</th>\n",
       "      <td>110.500000</td>\n",
       "    </tr>\n",
       "    <tr>\n",
       "      <th>75%</th>\n",
       "      <td>135.250000</td>\n",
       "    </tr>\n",
       "    <tr>\n",
       "      <th>max</th>\n",
       "      <td>451.000000</td>\n",
       "    </tr>\n",
       "  </tbody>\n",
       "</table>\n",
       "</div>"
      ],
      "text/plain": [
       "                1\n",
       "count  100.000000\n",
       "mean   129.600000\n",
       "std     60.143935\n",
       "min     85.000000\n",
       "25%     95.750000\n",
       "50%    110.500000\n",
       "75%    135.250000\n",
       "max    451.000000"
      ]
     },
     "execution_count": 221,
     "metadata": {},
     "output_type": "execute_result"
    }
   ],
   "source": [
    "top_degrees_df = pd.DataFrame(degrees[:100])\n",
    "\n",
    "top_degrees_df.describe()"
   ]
  },
  {
   "cell_type": "markdown",
   "metadata": {
    "collapsed": false,
    "id": "9_NLf97kdQmD",
    "jupyter": {
     "outputs_hidden": false
    }
   },
   "source": [
    "## Question 5: Centrality analysis (20 p)\n"
   ]
  },
  {
   "cell_type": "markdown",
   "metadata": {
    "collapsed": false,
    "id": "pWJFmfmwdQmD",
    "jupyter": {
     "outputs_hidden": false
    }
   },
   "source": [
    "Use eccentricity centrality, closeness centrality, betweenness centrality, prestige, and PageRank to identify the top 10 individuals with the highest centrality for each measure. How do you interpret the results?\n",
    "\n",
    "Use 0.85 as the damping parameter for page rank, so that there is a 15% chance of jumping to another vertex at random.\n",
    "\n",
    "**Checkpoint:** Some aggregate stats on the solution for pagerank\n",
    "\n",
    "    \"count\": 100.0\n",
    "    \"mean\": 0.0001841088\n",
    "    \"std\": 0.0000758068\n",
    "    \"min\": 0.0001238355\n",
    "    \"25%\": 0.0001415028\n",
    "    \"50%\": 0.0001616183\n",
    "    \"75%\": 0.0001972663\n",
    "    \"max\": 0.0006085816"
   ]
  },
  {
   "cell_type": "markdown",
   "metadata": {
    "collapsed": false,
    "id": "0nuRZPJHdQmD",
    "jupyter": {
     "outputs_hidden": false
    }
   },
   "source": [
    "## Question 6: best_friends (10 p)\n"
   ]
  },
  {
   "cell_type": "markdown",
   "metadata": {
    "collapsed": false,
    "id": "Iyhdm9cjdQmE",
    "jupyter": {
     "outputs_hidden": false
    }
   },
   "source": [
    "Another interesting question is who tend to co-occur with each other.  Give us the 100 edges with the highest weights.\n",
    "\n",
    "Google these people and see what their connection is.  Can we use this to detect instances of infidelity?\n",
    "\n",
    "**Checkpoint:** Some aggregate stats on the solution\n",
    "\n",
    "    \"count\": 100.0\n",
    "    \"mean\": 25.84\n",
    "    \"std\": 16.0395470855\n",
    "    \"min\": 14.0\n",
    "    \"25%\": 16.0\n",
    "    \"50%\": 19.0\n",
    "    \"75%\": 29.25\n",
    "    \"max\": 109.0"
   ]
  },
  {
   "cell_type": "code",
   "execution_count": null,
   "metadata": {
    "collapsed": false,
    "id": "aI-QPUTjdQmE",
    "jupyter": {
     "outputs_hidden": false
    }
   },
   "outputs": [],
   "source": [
    "#temple form for the answer\n",
    "best_friends = [(('Michael Kennedy', 'Eleanora Kennedy'), 41)] * 100\n"
   ]
  },
  {
   "cell_type": "code",
   "execution_count": null,
   "metadata": {
    "collapsed": false,
    "id": "YEf_csTydQmE",
    "jupyter": {
     "outputs_hidden": false
    }
   },
   "outputs": [],
   "source": []
  }
 ],
 "metadata": {
  "colab": {
   "provenance": []
  },
  "kernelspec": {
   "display_name": "csci550-miniproject1",
   "language": "python",
   "name": "csci550-miniproject1"
  },
  "language_info": {
   "codemirror_mode": {
    "name": "ipython",
    "version": 3
   },
   "file_extension": ".py",
   "mimetype": "text/x-python",
   "name": "python",
   "nbconvert_exporter": "python",
   "pygments_lexer": "ipython3",
   "version": "3.11.2"
  },
  "name": "mini_project_1_graph.ipynb",
  "nbclean": true
 },
 "nbformat": 4,
 "nbformat_minor": 4
}
