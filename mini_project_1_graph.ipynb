{
 "cells": [
  {
   "cell_type": "markdown",
   "metadata": {
    "collapsed": false,
    "editable": true,
    "id": "pZ2MWm92dQl2",
    "jupyter": {
     "outputs_hidden": false
    },
    "slideshow": {
     "slide_type": ""
    },
    "tags": []
   },
   "source": [
    "# The New York Social Graph\n"
   ]
  },
  {
   "cell_type": "markdown",
   "metadata": {
    "collapsed": false,
    "id": "BRD19jzbdQl3",
    "jupyter": {
     "outputs_hidden": false
    }
   },
   "source": [
    "[New York Social Diary](https://www.newyorksocialdiary.com/) provides a\n",
    "fascinating lens onto New York's socially well-to-do.  The data forms a natural social graph for New York's social elite.  Take a look at this page of a recent [To Love Unconditionally](https://www.newyorksocialdiary.com/to-love-unconditionally/).\n",
    "\n",
    "You will notice the photos have carefully annotated captions labeling those that appear in the photos.  We can think of this as implicitly implying a social graph: there is a connection between two individuals if they appear in a picture together.\n",
    "\n",
    "For this project, we will assemble the social graph from photo captions for parties.  Using this graph, we can make guesses at the most popular socialites, the most influential people, and the most tightly coupled pairs.\n",
    "\n",
    "We will attack the project in three phases:\n",
    "1. Get a list of all the photo pages to be analyzed.\n",
    "2. Get all captions in each party, Parse all of the captions and extract guests' names.\n",
    "3. Assemble the graph, analyze the graph and answer the questions"
   ]
  },
  {
   "cell_type": "markdown",
   "metadata": {
    "collapsed": false,
    "id": "fil83QYMdQl4",
    "jupyter": {
     "outputs_hidden": false
    }
   },
   "source": [
    "## Phase One\n"
   ]
  },
  {
   "cell_type": "markdown",
   "metadata": {
    "collapsed": false,
    "id": "sHL14Y2udQl4",
    "jupyter": {
     "outputs_hidden": false
    }
   },
   "source": [
    "The first step is to crawl the data.  We want photos from parties on or before December 1st, 2014.  Go to the [Party Pictures Archive](https://web.archive.org/web/20150913224145/http://www.newyorksocialdiary.com/party-pictures) to see a list of (party) pages.  We want to get the url for each party page, along with its date.\n",
    "\n",
    "Here are some packages that you may find useful.  You are welcome to use others, if you prefer."
   ]
  },
  {
   "cell_type": "code",
   "execution_count": 587,
   "metadata": {
    "colab": {
     "base_uri": "https://localhost:8080/"
    },
    "collapsed": false,
    "id": "jYBmnGpydQl4",
    "jupyter": {
     "outputs_hidden": false
    },
    "outputId": "0fee2573-2c76-4169-db76-ab20b0ed60e2"
   },
   "outputs": [],
   "source": [
    "import requests\n",
    "#!pip install dill\n",
    "import dill\n",
    "import glob\n",
    "from bs4 import BeautifulSoup\n",
    "from datetime import datetime\n",
    "import time\n",
    "\n",
    "import math\n",
    "\n",
    "import pandas as pd\n",
    "import numpy as np\n",
    "import matplotlib.pyplot as plt\n",
    "\n",
    "import re\n",
    "\n",
    "import itertools  # itertools.combinations may be useful\n",
    "import networkx as nx\n",
    "import nx_parallel as nxp\n",
    "\n",
    "# enabling networkx's config for nx-parallel\n",
    "#nx.config.backends.parallel.active = True\n",
    "\n",
    "# setting `n_jobs` (by default, `n_jobs=None`)\n",
    "#nx.config.backends.parallel.n_jobs = 4\n",
    "\n",
    "#!pip install spacy\n",
    "#!python -m spacy download en_core_web_lg\n",
    "\n",
    "#import spacy\n",
    "#from spacy.language import Language\n",
    "#from spacy.tokens import Span"
   ]
  },
  {
   "cell_type": "markdown",
   "metadata": {
    "collapsed": false,
    "id": "X7MzwfTUdQl5",
    "jupyter": {
     "outputs_hidden": false
    }
   },
   "source": [
    "We recommend using Python [Requests](http://docs.python-requests.org/en/master/) to download the HTML pages, and [BeautifulSoup](https://www.crummy.com/software/BeautifulSoup/) to process the HTML.  Let's start by getting the [first page](https://web.archive.org/web/20150913224145/http://www.newyorksocialdiary.com/party-pictures)."
   ]
  },
  {
   "cell_type": "code",
   "execution_count": 109,
   "metadata": {
    "collapsed": false,
    "id": "S6nrDVuadQl5",
    "jupyter": {
     "outputs_hidden": false
    }
   },
   "outputs": [],
   "source": [
    "nysd_url = \"https://web.archive.org/web/20150913224145/http://www.newyorksocialdiary.com/party-pictures\"\n",
    "page = requests.get(nysd_url) # Use requests.get to download the page."
   ]
  },
  {
   "cell_type": "markdown",
   "metadata": {
    "collapsed": false,
    "id": "N6A372fWdQl5",
    "jupyter": {
     "outputs_hidden": false
    }
   },
   "source": [
    "Now, we process the text of the page with BeautifulSoup."
   ]
  },
  {
   "cell_type": "code",
   "execution_count": 110,
   "metadata": {
    "collapsed": false,
    "id": "hDqhRM2gdQl5",
    "jupyter": {
     "outputs_hidden": false
    }
   },
   "outputs": [],
   "source": [
    "soup = BeautifulSoup(page.text, \"lxml\")"
   ]
  },
  {
   "cell_type": "markdown",
   "metadata": {
    "collapsed": false,
    "id": "cDbSvwNOdQl6",
    "jupyter": {
     "outputs_hidden": false
    }
   },
   "source": [
    "This page has links to 50 party pages. Look at the structure of the page and determine how to isolate those links.  Your browser's developer tools (usually `Cmd`-`Option`-`I` on Mac, `Ctrl`-`Shift`-`I` on others) offer helpful tools to explore the structure of the HTML page.\n",
    "\n",
    "Once you have found a pattern, use BeautifulSoup's [select](https://www.crummy.com/software/BeautifulSoup/bs4/doc/#css-selectors) or [find_all](https://www.crummy.com/software/BeautifulSoup/bs4/doc/#find) methods to get those elements."
   ]
  },
  {
   "cell_type": "code",
   "execution_count": 111,
   "metadata": {
    "colab": {
     "base_uri": "https://localhost:8080/",
     "height": 36
    },
    "collapsed": false,
    "id": "XXAwWDp0dQl6",
    "jupyter": {
     "outputs_hidden": false
    },
    "outputId": "e3685981-f7c7-4b23-a73b-43171385fa96"
   },
   "outputs": [],
   "source": [
    "links = soup.select(\"div.views-row\")\n",
    "\n",
    "print(\"URL: \", links[0].find(\"a\").get(\"href\"))\n",
    "print(\"Date: \", links[0].select(\"span.field-content\")[1].text)"
   ]
  },
  {
   "cell_type": "markdown",
   "metadata": {
    "collapsed": false,
    "id": "Dqo4nAZ6dQl7",
    "jupyter": {
     "outputs_hidden": false
    }
   },
   "source": [
    "There should be 50 per page."
   ]
  },
  {
   "cell_type": "code",
   "execution_count": 112,
   "metadata": {
    "colab": {
     "base_uri": "https://localhost:8080/"
    },
    "collapsed": false,
    "id": "55w2XnyndQl7",
    "jupyter": {
     "outputs_hidden": false
    },
    "outputId": "16964e6d-9b5f-4ff5-b08c-8e6063fd9572"
   },
   "outputs": [],
   "source": [
    "len(links) == 50"
   ]
  },
  {
   "cell_type": "markdown",
   "metadata": {
    "collapsed": false,
    "id": "qUagJwV8dQl7",
    "jupyter": {
     "outputs_hidden": false
    }
   },
   "source": [
    "Let's take a look at that first link.  Figure out how to extract the URL of the link, as well as the date.  You probably want to use `datetime.strptime`.  See the [format codes for dates](https://docs.python.org/3/library/datetime.html#strftime-and-strptime-behavior) for reference."
   ]
  },
  {
   "cell_type": "code",
   "execution_count": 113,
   "metadata": {
    "collapsed": false,
    "id": "eFmrbxiYdQl7",
    "jupyter": {
     "outputs_hidden": false
    }
   },
   "outputs": [],
   "source": [
    "link = links[0]\n",
    "# Check that the title and date match what you see visually.\n",
    "links[0].find(\"a\").get(\"href\")"
   ]
  },
  {
   "cell_type": "markdown",
   "metadata": {
    "collapsed": false,
    "id": "e30LrMB7dQl7",
    "jupyter": {
     "outputs_hidden": false
    }
   },
   "source": [
    "For purposes of code reuse, let's put that logic into a function.  It should take the link element and return the URL and date parsed from it."
   ]
  },
  {
   "cell_type": "code",
   "execution_count": 114,
   "metadata": {
    "collapsed": false,
    "id": "rckvye4fdQl8",
    "jupyter": {
     "outputs_hidden": false
    }
   },
   "outputs": [],
   "source": [
    "def get_link_date(el):\n",
    "    url = el.find(\"a\").get(\"href\")\n",
    "    date_text = el.select(\"span.field-content\")[1].text\n",
    "    ## Example date format:\n",
    "    ## Tuesday, September 1, 2015\n",
    "    date = datetime.strptime(date_text, \"%A, %B %d, %Y\")\n",
    "    return url, date\n",
    "\n",
    "get_link_date(links[0])"
   ]
  },
  {
   "cell_type": "markdown",
   "metadata": {
    "collapsed": false,
    "id": "aPgOMDJbdQl8",
    "jupyter": {
     "outputs_hidden": false
    }
   },
   "source": [
    "You may want to check that it works as you expected.\n",
    "\n",
    "Once that's working, let's write another function to parse all of the links on a page.  Thinking ahead, we can make it take a Requests [Response](https://requests.readthedocs.io/en/master/api/#requests.Response) object and do the BeautifulSoup parsing within it."
   ]
  },
  {
   "cell_type": "code",
   "execution_count": 115,
   "metadata": {
    "collapsed": false,
    "id": "W67j6Fl2dQl8",
    "jupyter": {
     "outputs_hidden": false
    }
   },
   "outputs": [],
   "source": [
    "def get_links(response):\n",
    "  links = []\n",
    "  for r in response:\n",
    "    links.append(get_link_date(r))\n",
    "  return links # A list of URL, date pair s\n",
    "\n",
    "get_links(links)"
   ]
  },
  {
   "cell_type": "markdown",
   "metadata": {
    "collapsed": false,
    "id": "0flSSgGndQl8",
    "jupyter": {
     "outputs_hidden": false
    }
   },
   "source": [
    "If we run this on the previous response, we should get 50 pairs."
   ]
  },
  {
   "cell_type": "code",
   "execution_count": 116,
   "metadata": {
    "collapsed": false,
    "id": "FXNFZW59dQl8",
    "jupyter": {
     "outputs_hidden": false
    }
   },
   "outputs": [],
   "source": [
    "# These should be the same links from earlier\n",
    "len(get_links(links)) == 50"
   ]
  },
  {
   "cell_type": "markdown",
   "metadata": {
    "collapsed": false,
    "id": "pQWA9oPfdQl8",
    "jupyter": {
     "outputs_hidden": false
    }
   },
   "source": [
    "But we only want parties with dates on or before the first of December, 2014.  Let's write a function to filter our list of dates to those at or before a cutoff.  Using a keyword argument, we can put in a default cutoff, but allow us to test with others."
   ]
  },
  {
   "cell_type": "code",
   "execution_count": 117,
   "metadata": {
    "collapsed": false,
    "id": "ph83id-6dQl9",
    "jupyter": {
     "outputs_hidden": false
    }
   },
   "outputs": [],
   "source": [
    "def filter_by_date(links, cutoff=datetime(2014, 12, 1)):\n",
    "    # Return only the elements with date <= cutoff\n",
    "    return [link for link in links if link[1] <= cutoff]\n",
    "\n",
    "filter_by_date(get_links(links))"
   ]
  },
  {
   "cell_type": "markdown",
   "metadata": {
    "collapsed": false,
    "id": "WT58Q_YkdQl9",
    "jupyter": {
     "outputs_hidden": false
    }
   },
   "source": [
    "With the default cutoff, there should be no valid parties on the first page.  Adjust the cutoff date to check that it is actually working."
   ]
  },
  {
   "cell_type": "code",
   "execution_count": 118,
   "metadata": {
    "collapsed": false,
    "id": "Au4PqJ5IdQl9",
    "jupyter": {
     "outputs_hidden": false
    }
   },
   "outputs": [],
   "source": [
    "# Double check the dates are being extracted correctly\n",
    "len(filter_by_date(get_links(links))) == 0"
   ]
  },
  {
   "cell_type": "markdown",
   "metadata": {
    "collapsed": false,
    "id": "AGR19IN4dQl9",
    "jupyter": {
     "outputs_hidden": false
    }
   },
   "source": [
    "Now we should be ready to get all of the party URLs.  Click through a few of the index pages to determine how the URL changes.  Figure out a strategy to visit all of them.\n",
    "\n",
    "HTTP requests are generally IO-bound.  This means that most of the time is spent waiting for the remote server to respond.  If you use `requests` directly, you can only wait on one response at a time.  [requests-futures](https://github.com/ross/requests-futures) lets you wait for multiple requests at a time.  You may wish to use this to speed up the downloading process."
   ]
  },
  {
   "cell_type": "code",
   "execution_count": 119,
   "metadata": {
    "collapsed": false,
    "id": "BH7D7CZVdQl9",
    "jupyter": {
     "outputs_hidden": false
    }
   },
   "outputs": [],
   "source": [
    "#!pip install requests-futures\n",
    "#from requests_futures.sessions import FuturesSession\n",
    "\n",
    "link_list = []\n",
    "# You can use link_list.extend(others) to add the elements of others\n",
    "# to link_list.\n",
    "\n",
    "for i in range(1, 27):\n",
    "  index_url = f\"https://web.archive.org/web/20150913224145/http://www.newyorksocialdiary.com/party-pictures?page={i}\"\n",
    "  page = requests.get(index_url)\n",
    "  soup = BeautifulSoup(page.text, \"lxml\")\n",
    "  links = soup.select(\"div.views-row\")\n",
    "  link_list.extend(filter_by_date(get_links(links)))\n",
    "  time.sleep(10) ### Avoid getting blocked by making requests too quickly"
   ]
  },
  {
   "cell_type": "markdown",
   "metadata": {
    "collapsed": false,
    "id": "zsYv__JOdQl9",
    "jupyter": {
     "outputs_hidden": false
    }
   },
   "source": [
    "In the end, you should have 1193 parties."
   ]
  },
  {
   "cell_type": "code",
   "execution_count": null,
   "metadata": {
    "collapsed": false,
    "id": "Zab-LDGydQl9",
    "jupyter": {
     "outputs_hidden": false
    }
   },
   "outputs": [],
   "source": [
    "# Make sure you are using the same /web/stringofdigits/... for each page\n",
    "# This is to prevent the archive from accessing later copies of the same page\n",
    "# If you are off by a just a few, that can be the archive misbehaving\n",
    "len(link_list) == 1193"
   ]
  },
  {
   "cell_type": "markdown",
   "metadata": {
    "collapsed": false,
    "id": "MRTcFU_0dQl9",
    "jupyter": {
     "outputs_hidden": false
    }
   },
   "source": [
    "In case we need to restart the notebook, we should save this information to a file.  There are many ways you could do this; here's one using `dill`."
   ]
  },
  {
   "cell_type": "code",
   "execution_count": null,
   "metadata": {
    "collapsed": false,
    "id": "M11QdhVWdQl-",
    "jupyter": {
     "outputs_hidden": false
    }
   },
   "outputs": [],
   "source": [
    "dill.dump(link_list, open('nysd-links.pkd', 'wb'))"
   ]
  },
  {
   "cell_type": "markdown",
   "metadata": {
    "collapsed": false,
    "id": "9MV6aZosdQl-",
    "jupyter": {
     "outputs_hidden": false
    }
   },
   "source": [
    "To restore the list, we can just load it from the file.  When the notebook is restarted, you can skip the code above and just run this command."
   ]
  },
  {
   "cell_type": "code",
   "execution_count": 12,
   "metadata": {
    "collapsed": false,
    "editable": true,
    "id": "1b_1ZW4ddQl-",
    "jupyter": {
     "outputs_hidden": false
    },
    "slideshow": {
     "slide_type": ""
    },
    "tags": []
   },
   "outputs": [],
   "source": [
    "link_list = dill.load(open('nysd-links.pkd', 'rb'))\n",
    "link_list = dill.load(open('nysd-links.pkd', 'rb'))\n",
    "\n",
    "print(len(link_list))\n",
    "print(link_list[0])\n",
    "print(link_list[-1])"
   ]
  },
  {
   "cell_type": "markdown",
   "metadata": {
    "collapsed": false,
    "editable": true,
    "id": "NePMX4hEdQl-",
    "jupyter": {
     "outputs_hidden": false
    },
    "slideshow": {
     "slide_type": ""
    },
    "tags": []
   },
   "source": [
    "### Question 1: In which month did most of the parties occur? (10 p)"
   ]
  },
  {
   "cell_type": "code",
   "execution_count": 13,
   "metadata": {
    "colab": {
     "base_uri": "https://localhost:8080/",
     "height": 730
    },
    "collapsed": false,
    "id": "fdNAdexj8GH7",
    "jupyter": {
     "outputs_hidden": false
    },
    "outputId": "285bcc85-5cc2-495f-a7c3-b278e7561f21"
   },
   "outputs": [],
   "source": [
    "import pandas as pd\n",
    "import numpy as np\n",
    "import matplotlib.pyplot as plt\n",
    "\n",
    "df = pd.DataFrame(link_list, columns=['url', 'date'])\n",
    "df['month'] = df['date'].dt.month\n",
    "\n",
    "# Group by month and count the number of parties in each month\n",
    "monthly_counts = df.groupby('month').size()\n",
    "\n",
    "print(monthly_counts)\n",
    "\n",
    "plt.bar(monthly_counts.index, monthly_counts.values)\n",
    "plt.xlabel(\"Month\")\n",
    "plt.ylabel(\"Number of Parties\")\n",
    "plt.title(\"Number of Parties by Month\")\n",
    "\n",
    "plt.show()"
   ]
  },
  {
   "cell_type": "markdown",
   "metadata": {
    "collapsed": false,
    "editable": true,
    "id": "NePMX4hEdQl-",
    "jupyter": {
     "outputs_hidden": false
    },
    "slideshow": {
     "slide_type": ""
    },
    "tags": []
   },
   "source": [
    "### Question 2: What is the overall trend of parties from 2007 to 2014? (10 p)\n",
    "Use visualizations to answer the two questions above. Ensure that you interpret your plots thoroughly."
   ]
  },
  {
   "cell_type": "code",
   "execution_count": 14,
   "metadata": {
    "colab": {
     "base_uri": "https://localhost:8080/",
     "height": 480
    },
    "collapsed": false,
    "id": "91vM2wBI8m9x",
    "jupyter": {
     "outputs_hidden": false
    },
    "outputId": "bf26fc37-eb16-479b-de6d-d9031211bf0d"
   },
   "outputs": [],
   "source": [
    "df['year'] = df['date'].dt.year\n",
    "\n",
    "## Number of parties per year\n",
    "yearly_counts = df.groupby('year').size()\n",
    "\n",
    "plt.scatter(yearly_counts.index, yearly_counts.values)\n",
    "z = np.polyfit(yearly_counts.index, yearly_counts.values, 1)\n",
    "p = np.poly1d(z)\n",
    "plt.plot(yearly_counts.index, p(yearly_counts.index), \"r--\")\n",
    "\n",
    "plt.xlabel(\"Year\")\n",
    "plt.ylabel(\"Number of Parties\")\n",
    "plt.title(\"Trend of Parties from 2007 to 2014\")\n",
    "\n",
    "plt.show()\n"
   ]
  },
  {
   "cell_type": "markdown",
   "metadata": {
    "collapsed": false,
    "id": "TdCKxlIUdQl-",
    "jupyter": {
     "outputs_hidden": false
    }
   },
   "source": [
    "## Phase Two\n"
   ]
  },
  {
   "cell_type": "markdown",
   "metadata": {
    "collapsed": false,
    "id": "FD-kvAmsdQl-",
    "jupyter": {
     "outputs_hidden": false
    }
   },
   "source": [
    "In this phase, we concentrate on getting the names out of captions for a given page.  We'll start with [the benefit cocktails and dinner](https://web.archive.org/web/20150913224145/http://www.newyorksocialdiary.com/party-pictures/2015/celebrating-the-neighborhood) for [Lenox Hill Neighborhood House](http://www.lenoxhill.org/), a neighborhood organization for the East Side.\n",
    "\n",
    "Take a look at that page.  Note that some of the text on the page is captions, but others are descriptions of the event.  Determine how to select only the captions."
   ]
  },
  {
   "cell_type": "code",
   "execution_count": 9,
   "metadata": {
    "collapsed": false,
    "id": "ROB-Jk1xdQl-",
    "jupyter": {
     "outputs_hidden": false
    }
   },
   "outputs": [],
   "source": [
    "url = \"https://web.archive.org/web/20151114014941/http://www.newyorksocialdiary.com/party-pictures/2015/celebrating-the-neighborhood\"\n",
    "page = requests.get(url)\n",
    "soup = BeautifulSoup(page.text, \"lxml\")"
   ]
  },
  {
   "cell_type": "code",
   "execution_count": 10,
   "metadata": {
    "collapsed": false,
    "id": "3GxiYzT7_F-N",
    "jupyter": {
     "outputs_hidden": false
    }
   },
   "outputs": [],
   "source": [
    "captions = soup.select(\"div.photocaption\")"
   ]
  },
  {
   "cell_type": "markdown",
   "metadata": {
    "collapsed": false,
    "id": "n_RjKoX9dQl_",
    "jupyter": {
     "outputs_hidden": false
    }
   },
   "source": [
    "By our count, there are about 110.  But if you're off by a couple, you're probably okay."
   ]
  },
  {
   "cell_type": "code",
   "execution_count": 11,
   "metadata": {
    "colab": {
     "base_uri": "https://localhost:8080/"
    },
    "collapsed": false,
    "id": "GSbz31mudQl_",
    "jupyter": {
     "outputs_hidden": false
    },
    "outputId": "e9e7c9c5-5d54-4150-c94d-bd5564215175"
   },
   "outputs": [],
   "source": [
    "# These are for the specific party referenced in the text\n",
    "abs(len(captions) - 110) < 5"
   ]
  },
  {
   "cell_type": "markdown",
   "metadata": {
    "collapsed": false,
    "id": "DafrBmkzdQl_",
    "jupyter": {
     "outputs_hidden": false
    }
   },
   "source": [
    "Let's encapsulate this in a function.  As with the links pages, we want to avoid downloading a given page the next time we need to run the notebook.  While we could save the files by hand, as we did before, a checkpoint library like [ediblepickle](https://pypi.python.org/pypi/ediblepickle/1.1.3) can handle this for you.  (Note, though, that you may not want to enable this until you are sure that your function is working.)\n",
    "\n",
    "You should also keep in mind that HTTP requests fail occasionally, for transient reasons.  You should plan how to detect and react to these failures.   The [retrying module](https://pypi.python.org/pypi/retrying) is one way to deal with this."
   ]
  },
  {
   "cell_type": "code",
   "execution_count": 12,
   "metadata": {
    "collapsed": false,
    "id": "3OZtv5OmdQl_",
    "jupyter": {
     "outputs_hidden": false
    }
   },
   "outputs": [],
   "source": [
    "def get_captions(path):\n",
    "  url = f\"https://web.archive.org/{path}\"\n",
    "  page = requests.get(url)\n",
    "  soup = BeautifulSoup(page.text, \"lxml\")\n",
    "  return soup.select(\"div.photocaption\")"
   ]
  },
  {
   "cell_type": "markdown",
   "metadata": {
    "collapsed": false,
    "id": "t6_iwcFwdQl_",
    "jupyter": {
     "outputs_hidden": false
    }
   },
   "source": [
    "This should get the same captions as before."
   ]
  },
  {
   "cell_type": "code",
   "execution_count": 13,
   "metadata": {
    "colab": {
     "base_uri": "https://localhost:8080/"
    },
    "collapsed": false,
    "id": "eMS0xI5wdQmA",
    "jupyter": {
     "outputs_hidden": false
    },
    "outputId": "3443238c-f3c5-44aa-ee2a-7e86760e5213"
   },
   "outputs": [],
   "source": [
    "# This cell is expecting get_captions to return a list of the captions themselves\n",
    "# Other routes to a solution might need to adjust this cell a bit\n",
    "captions == get_captions(\"/web/20150913224145/http://www.newyorksocialdiary.com/party-pictures/2015/celebrating-the-neighborhood\")"
   ]
  },
  {
   "cell_type": "markdown",
   "metadata": {
    "collapsed": false,
    "id": "7mBXliqbdQmA",
    "jupyter": {
     "outputs_hidden": false
    }
   },
   "source": [
    "Now that we have some sample captions, let's start parsing names out of those captions.  There are many ways of going about this, and we leave the details up to you.  Some issues to consider:\n",
    "\n",
    "  1. Some captions are not useful: they contain long narrative texts that explain the event.  Try to find some heuristic rules to separate captions that are a list of names from those that are not.  A few heuristics include:\n",
    "    - look for sentences (which have verbs) and as opposed to lists of nouns. For example, [`nltk` does part of speech tagging](http://www.nltk.org/book/ch05.html) but it is a little slow. There may also be heuristics that accomplish the same thing.\n",
    "    - Similarly, spaCy's [entity recognition](https://spacy.io/docs/usage/entity-recognition) could be useful here.\n",
    "    - Look for commonly repeated threads (e.g. you might end up picking up the photo credits or people such as \"a friend\").\n",
    "    - Long captions are often not lists of people.  The cutoff is subjective, but for grading purposes, *set that cutoff at 250 characters*.\n",
    "  2. You will want to separate the captions based on various forms of punctuation.  Try using `re.split`, which is more sophisticated than `string.split`. **Note**: Use regex exclusively for name parsing.\n",
    "  3. This site is pretty formal and likes to say things like \"Mayor Michael Bloomberg\" after his election but \"Michael Bloomberg\" before his election.  Can you find other titles that are being used?  They should probably be filtered out because they ultimately refer to the same person: \"Michael Bloomberg.\"\n",
    "  4. There is a special case you might find where couples are written as eg. \"John and Mary Smith\". You will need to write some extra logic to make sure this properly parses to two names: \"John Smith\" and \"Mary Smith\".\n",
    "  5. When parsing names from captions, it can help to look at your output frequently and address the problems that you see coming up, iterating until you have a list that looks reasonable. Because we can only asymptotically approach perfect identification and entity matching, we have to stop somewhere.\n",
    "  \n",
    "**Questions worth considering:**\n",
    "  1. Who is Patrick McMullan and should he be included in the results? How would you address this?\n",
    "\n",
    "    Patrick McMullan is the photographer cited in lots of the pages. Because our captions are pulled using the \"div.photocaption\" tag, he is not included in the output, which makes sense given that there is no way of knowing if he is connected to those in the photo.\n",
    "\n",
    "  2. What else could you do to improve the quality of the graph's information?\n",
    "\n",
    "    A strategy we tested was using spaCy for name extraction using the built in \"People\" class. This worked well, but often missed strange names or names that are also nouns (e.g. Chips Page). If we trained spaCy on a labeled test set, we might have seen better results using it. We also blacklisted many words, removed names that were only one word (likely groups or not people), and removing titles and qualifications."
   ]
  },
  {
   "cell_type": "code",
   "execution_count": 821,
   "metadata": {
    "colab": {
     "base_uri": "https://localhost:8080/"
    },
    "collapsed": false,
    "id": "fYliWF39_8vE",
    "jupyter": {
     "outputs_hidden": false
    },
    "outputId": "a6e35980-b860-4928-f08f-d67d73ee764d"
   },
   "outputs": [],
   "source": [
    "def split_married_couple(text):\n",
    "    groups = re.split(r',\\s*(and|with|&)\\s*', text)\n",
    "    names = []\n",
    "    for group in groups:\n",
    "        match = re.search(r'(.*) (?:and|with|&) (.*) (\\w+)', group)\n",
    "        if match and len(match.group(1).split()) == 1:  ### Only repair names if first name in pair is just first name\n",
    "            first_name1 = match.group(1)\n",
    "            first_name2 = match.group(2)\n",
    "            last_name = match.group(3)\n",
    "            names.extend([f\"{first_name1} {last_name}\", f\"{first_name2} {last_name}\"])\n",
    "        else:\n",
    "            names.append(group)\n",
    "    return \", \".join(names)"
   ]
  },
  {
   "cell_type": "code",
   "execution_count": 822,
   "metadata": {
    "colab": {
     "base_uri": "https://localhost:8080/"
    },
    "collapsed": false,
    "id": "fYliWF39_8vE",
    "jupyter": {
     "outputs_hidden": false
    },
    "outputId": "a6e35980-b860-4928-f08f-d67d73ee764d"
   },
   "outputs": [],
   "source": [
    "test = \"John and Jane Smith\"\n",
    "split_married_couple(test) ### Should merge last names"
   ]
  },
  {
   "cell_type": "code",
   "execution_count": 823,
   "metadata": {
    "colab": {
     "base_uri": "https://localhost:8080/"
    },
    "collapsed": false,
    "id": "fYliWF39_8vE",
    "jupyter": {
     "outputs_hidden": false
    },
    "outputId": "a6e35980-b860-4928-f08f-d67d73ee764d"
   },
   "outputs": [],
   "source": [
    "test2 = \"Jean Shafiroff and Mary Mahoney\"\n",
    "split_married_couple(test2) ### Should not merge last names"
   ]
  },
  {
   "cell_type": "code",
   "execution_count": 857,
   "metadata": {},
   "outputs": [],
   "source": [
    "test3 = \"Tim and Andrea Collins with Hondi Brasco \"\n",
    "split_married_couple(test3) ### Doesn't work"
   ]
  },
  {
   "cell_type": "code",
   "execution_count": 853,
   "metadata": {
    "colab": {
     "base_uri": "https://localhost:8080/"
    },
    "collapsed": false,
    "editable": true,
    "id": "fYliWF39_8vE",
    "jupyter": {
     "outputs_hidden": false
    },
    "outputId": "a6e35980-b860-4928-f08f-d67d73ee764d",
    "slideshow": {
     "slide_type": ""
    },
    "tags": []
   },
   "outputs": [],
   "source": [
    "def remove_blacklisted_words(text):\n",
    "    ### Pre-processing cleaning.  Remove blacklisted words that pass through spaCy filter\n",
    "    text = re.sub(r\"Frick Director\", \"\", text)\n",
    "    text = re.sub(r\"Chair(wo)?m(e|a)n\", \"\", text)\n",
    "    text = re.sub(r\"CFO\", \"\", text)\n",
    "    text = re.sub(r\"CEO\", \"\", text)\n",
    "    text = re.sub(r\"COO\", \"\", text)\n",
    "    text = re.sub(r\"Mayor\\s+\", \"\", text)\n",
    "    text = re.sub(r\"Board\", \"\", text)\n",
    "    text = re.sub(r\"Honoree\", \"\", text)\n",
    "    text = re.sub(r\"Dr\\.*\", \"\", text)\n",
    "    text = re.sub(r\"Jr\\.*\", \"\", text)\n",
    "    text = re.sub(r\"Esq\\.*\", \"\", text)\n",
    "    text = re.sub(r\"M\\.*D\\.*\", \"\", text)\n",
    "    text = re.sub(r\"PhD\\.*\", \"\", text)\n",
    "    text = re.sub(r\"PsyD\\.*\", \"\", text)\n",
    "    text = re.sub(r\"Benefit\\s+\", \"\", text)\n",
    "    text = re.sub(r\"Artist\\s+\", \"\", text)\n",
    "    text = re.sub(r\"Composer\\s+\", \"\", text)\n",
    "    text = re.sub(r\"Chair[s]?\\s+\", \"\", text)\n",
    "    text = re.sub(r\"[Tt]he\\s+\", \"\", text)\n",
    "    text = re.sub(r\"Actor\\s+\", \"\", text)\n",
    "    text = re.sub(r\"Actress\\s+\", \"\", text)\n",
    "    text = re.sub(r\"President\\s+\", \"\", text)\n",
    "    text = re.sub(r\"Senator\\s+\", \"\", text)\n",
    "    text = re.sub(r\"wife\\s+\", \"\", text)\n",
    "    text = re.sub(r\"Co-[C|c]hair[s]?\\s+\", \"\", text)\n",
    "    text = re.sub(r\"Father\\s+\", \"\", text)\n",
    "    text = re.sub(r\"Colonel\\s+\", \"\", text)\n",
    "    text = re.sub(r\"Commissioner\\s+\", \"\", text)\n",
    "    text = re.sub(r\"Committee\\s+\", \"\", text)\n",
    "    text = re.sub(r\"Writer(s)?\\s+\", \"\", text)\n",
    "    text = re.sub(r\"Congress(wo)?man\\s+\", \"\", text)\n",
    "    text = re.sub(r\"Executive Director\\s+\", \"\", text)\n",
    "    text = re.sub(r\"NewYork-Presbyterian\\s+\", \"\", text)\n",
    "    text = re.sub(r\"\\d+\", \"\", text)\n",
    "    text = re.sub(r\"\\.\", \"\", text)\n",
    "    text = re.sub(r\"\\(.*\\)\", \"\", text)\n",
    "    text = re.sub(r\":\", \"\", text)\n",
    "\n",
    "    return text"
   ]
  },
  {
   "cell_type": "code",
   "execution_count": 854,
   "metadata": {
    "colab": {
     "base_uri": "https://localhost:8080/"
    },
    "collapsed": false,
    "id": "fYliWF39_8vE",
    "jupyter": {
     "outputs_hidden": false
    },
    "outputId": "a6e35980-b860-4928-f08f-d67d73ee764d"
   },
   "outputs": [],
   "source": [
    "def pre_clean_name(name):\n",
    "    name = str(name)\n",
    "    name = re.sub(r\"'s$\", \"\", name)    ### remove trailing 's\n",
    "    name = re.sub(r\"\\s+\", \" \", name)  ### replace sequences of multiple whitespaces with a single space char\n",
    "    \n",
    "    name = name.strip(\"/\")\n",
    "    name = name.strip(\"'\")\n",
    "    name = name.strip()\n",
    "    \n",
    "    return name"
   ]
  },
  {
   "cell_type": "code",
   "execution_count": 855,
   "metadata": {
    "collapsed": false,
    "editable": true,
    "jupyter": {
     "outputs_hidden": false
    },
    "slideshow": {
     "slide_type": ""
    },
    "tags": []
   },
   "outputs": [],
   "source": [
    "def post_clean_name(caption):\n",
    "    name_re = r\"((?:[A-Z]{1}\\S*[a-z]*\\s+)(?:[A-Z]{1,2}\\s+|[a-z]+\\s+)?(?:[A-Z]{1}\\S*[a-z]*\\s+)?(?:[A-Z]{1}\\S*[a-z]+))\"\n",
    "    \n",
    "    new_caption = []\n",
    "    for item in caption:\n",
    "        if (item not in [\",\", \"and\", \"with\", '', ' '] and\n",
    "            len(item.split()) < 4 and ### Things over 3 words are probably not names\n",
    "            len(item.split()) > 1):   ### 1 word things are probably not identifiable names\n",
    "            search =  re.search(name_re, item)\n",
    "            if search:\n",
    "                name = search.group(1)\n",
    "                new_caption.append(name)\n",
    "\n",
    "    return new_caption"
   ]
  },
  {
   "cell_type": "code",
   "execution_count": 856,
   "metadata": {
    "collapsed": false,
    "jupyter": {
     "outputs_hidden": false
    }
   },
   "outputs": [],
   "source": [
    "def extract_names_re(caption):\n",
    "    caption = remove_blacklisted_words(caption)\n",
    "    caption = split_married_couple(caption)\n",
    "    caption = pre_clean_name(caption)\n",
    "\n",
    "    caption = re.split(r\"\\s*(,|and|with|&)+\\s+\", caption)\n",
    "\n",
    "    caption = post_clean_name(caption)\n",
    "    \n",
    "    return caption"
   ]
  },
  {
   "cell_type": "code",
   "execution_count": 852,
   "metadata": {
    "collapsed": false,
    "editable": true,
    "jupyter": {
     "outputs_hidden": false
    },
    "scrolled": true,
    "slideshow": {
     "slide_type": ""
    },
    "tags": []
   },
   "outputs": [],
   "source": [
    "### Test name extraction on sample captions\n",
    "[extract_names_re(caption.text) for caption in captions]"
   ]
  },
  {
   "cell_type": "markdown",
   "metadata": {
    "collapsed": false,
    "id": "64aBJD93dQmA",
    "jupyter": {
     "outputs_hidden": false
    }
   },
   "source": [
    "Once you feel that your algorithm is working well on these captions, parse all of the captions and extract all the names mentioned.  \n",
    "\n"
   ]
  },
  {
   "cell_type": "markdown",
   "metadata": {
    "collapsed": false,
    "id": "QgElWndsdQmA",
    "jupyter": {
     "outputs_hidden": false
    }
   },
   "source": [
    "Now, run this sort of test on a few other pages.  You will probably find that other pages have a slightly different HTML structure, as well as new captions that trip up your caption parser.  But don't worry if the parser isn't perfect -- just try to get the easy cases."
   ]
  },
  {
   "cell_type": "markdown",
   "metadata": {
    "collapsed": false,
    "id": "DH549Y3pdQmA",
    "jupyter": {
     "outputs_hidden": false
    }
   },
   "source": [
    "Once you are satisfied that your caption scraper and parser are working, run this for all of the pages.  If you haven't implemented some caching of the captions, you probably want to do this first.\n"
   ]
  },
  {
   "cell_type": "code",
   "execution_count": 73,
   "metadata": {},
   "outputs": [],
   "source": [
    "## make txt file containing all urls to scrape\n",
    "with open(\"links.txt\", \"w\") as f:\n",
    "    for link in link_list:\n",
    "        f.writelines(f\"https://web.archive.org{link[0]}\\n\")"
   ]
  },
  {
   "cell_type": "markdown",
   "metadata": {},
   "source": [
    "We use GNU `Wget` to scrape the NYSD archive, because when python `requests` was used, the NYSD server would eventually throttle requests, making the scraping take an exceptionally long amount of time.  Scraping all parties in link_list takes about 20 minutes with this method."
   ]
  },
  {
   "cell_type": "code",
   "execution_count": 28,
   "metadata": {
    "collapsed": false,
    "editable": true,
    "jupyter": {
     "outputs_hidden": false
    },
    "slideshow": {
     "slide_type": ""
    },
    "tags": []
   },
   "outputs": [],
   "source": [
    "#import subprocess\n",
    "#subprocess.run([\"wget\", \"-i\", \"links.txt\", \"--random-wait\", \"-P\", \"nysd\"])"
   ]
  },
  {
   "cell_type": "markdown",
   "metadata": {
    "collapsed": false,
    "id": "rB_b-H-8dQmB",
    "jupyter": {
     "outputs_hidden": false
    }
   },
   "source": [
    "## Phase 3: Graph Analysis"
   ]
  },
  {
   "cell_type": "markdown",
   "metadata": {
    "collapsed": false,
    "id": "OaEwFF4ndQmB",
    "jupyter": {
     "outputs_hidden": false
    }
   },
   "source": [
    "For the remaining analysis, we think of the problem in terms of a\n",
    "[network](http://en.wikipedia.org/wiki/Computer_network) or a\n",
    "[graph](https://en.wikipedia.org/wiki/Graph_%28discrete_mathematics%29).  Any time a pair of people appear in a photo together, that is considered a link.  It is an example of  an **undirected weighted graph**. We recommend using python's [`networkx`](https://networkx.github.io/) library."
   ]
  },
  {
   "cell_type": "markdown",
   "metadata": {
    "collapsed": false,
    "id": "SdMTym8QdQmB",
    "jupyter": {
     "outputs_hidden": false
    }
   },
   "source": [
    "All in all, you should end up with over 100,000 captions and more than 110,000 names, connected in about 200,000 pairs."
   ]
  },
  {
   "cell_type": "code",
   "execution_count": 41,
   "metadata": {
    "collapsed": false,
    "jupyter": {
     "outputs_hidden": false
    }
   },
   "outputs": [],
   "source": [
    "def get_captions_file(webpage):\n",
    "  soup = BeautifulSoup(webpage, \"lxml\")\n",
    "  return soup.select(\"div.photocaption\")\n",
    "\n",
    "all_captions = []\n",
    "for file in glob.glob(\"./nysd/*\"):\n",
    "    with open(file, \"r\", encoding='utf-8', errors='ignore') as f:\n",
    "        webpage = f.read()\n",
    "        captions = get_captions_file(webpage)\n",
    "        all_captions.extend(captions)"
   ]
  },
  {
   "cell_type": "code",
   "execution_count": 42,
   "metadata": {
    "collapsed": false,
    "jupyter": {
     "outputs_hidden": false
    }
   },
   "outputs": [],
   "source": [
    "len(all_captions)"
   ]
  },
  {
   "cell_type": "code",
   "execution_count": 43,
   "metadata": {
    "collapsed": false,
    "jupyter": {
     "outputs_hidden": false
    }
   },
   "outputs": [],
   "source": [
    "cleaned_captions_re = [extract_names_re(caption.text) for caption in all_captions]\n",
    "\n",
    "len(cleaned_captions_re)"
   ]
  },
  {
   "cell_type": "code",
   "execution_count": 44,
   "metadata": {
    "collapsed": false,
    "jupyter": {
     "outputs_hidden": false
    }
   },
   "outputs": [],
   "source": [
    "unique_names = set([name for names in cleaned_captions_re for name in names])\n",
    "\n",
    "len(unique_names)"
   ]
  },
  {
   "cell_type": "code",
   "execution_count": 45,
   "metadata": {
    "collapsed": false,
    "jupyter": {
     "outputs_hidden": false
    }
   },
   "outputs": [],
   "source": [
    "with open(\"names_Re.txt\", \"w\") as f:\n",
    "    f.writelines([f\"{str(name)}\\n\" for name in sorted(list(unique_names))])"
   ]
  },
  {
   "cell_type": "markdown",
   "metadata": {
    "collapsed": false,
    "editable": true,
    "id": "W4U6DsKDdQmB",
    "jupyter": {
     "outputs_hidden": false
    },
    "slideshow": {
     "slide_type": ""
    },
    "tags": []
   },
   "source": [
    "## Question 3: Graph EDA (20 p)\n"
   ]
  },
  {
   "cell_type": "markdown",
   "metadata": {
    "collapsed": false,
    "id": "-V5rO16rdQmB",
    "jupyter": {
     "outputs_hidden": false
    }
   },
   "source": [
    "- Use parsed names to create the undirected weighted network and visualize it (5 p)\n",
    "- Report the number of nodes and edges (5 p)\n",
    "- What is the diameter of this graph? (5 p)\n",
    "- What is the average clustering coeff of the graph? How you interpret this number? (5 p)"
   ]
  },
  {
   "cell_type": "code",
   "execution_count": 47,
   "metadata": {
    "collapsed": false,
    "jupyter": {
     "outputs_hidden": false
    }
   },
   "outputs": [],
   "source": [
    "G = nx.Graph()\n",
    "for caption in cleaned_captions_re:\n",
    "    pairs = itertools.combinations(caption, 2)\n",
    "    for pair in pairs:\n",
    "        first_person = pair[0]\n",
    "        second_person = pair[1]\n",
    "        if G.has_edge(first_person, second_person):\n",
    "            G[first_person][second_person]['weight'] += 1\n",
    "        else:\n",
    "            G.add_edge(first_person, second_person, weight = 1)\n",
    "\n",
    "degrees = sorted(G.degree(weight = \"weight\"), key = lambda x: (-x[1]))"
   ]
  },
  {
   "cell_type": "code",
   "execution_count": 100,
   "metadata": {},
   "outputs": [
    {
     "data": {
      "text/plain": [
       "[('Jean Shafiroff', 290),\n",
       " ('Mark Gilbertson', 265),\n",
       " ('Alexandra Lebenthal', 183),\n",
       " ('Gillian Miniter', 172),\n",
       " ('Geoffrey Bradfield', 150),\n",
       " ('Kamie Lightburn', 147),\n",
       " ('Mario Buatta', 135),\n",
       " ('Alina Cho', 135),\n",
       " ('Patrick McMullan', 130),\n",
       " ('Somers Farkas', 129),\n",
       " ('Eleanora Kennedy', 125),\n",
       " ('Andrew Saffir', 124),\n",
       " ('Lucia Hwong Gordon', 123),\n",
       " ('Debbie Bancroft', 123),\n",
       " ('Allison Aston', 122),\n",
       " ('Yaz Hernandez', 120),\n",
       " ('Lydia Fenet', 114),\n",
       " ('Martha Stewart', 108),\n",
       " ('Bettina Zilkha', 107),\n",
       " ('Sharon Bush', 106),\n",
       " ('Jennifer Creel', 105),\n",
       " ('Muffie Potter Aston', 104),\n",
       " ('Kipton Cronkite', 102),\n",
       " ('Deborah Norville', 101),\n",
       " ('Jamee Gregory', 100),\n",
       " ('Leonard Lauder', 100),\n",
       " ('Liz Peek', 97),\n",
       " ('Karen LeFrak', 96),\n",
       " ('Audrey Gruss', 95),\n",
       " ('Amy Fine Collins', 94),\n",
       " ('Karen Klopp', 94),\n",
       " ('Michael Bloomberg', 94),\n",
       " ('Nathalie Kaplan', 93),\n",
       " ('Martha Glass', 92),\n",
       " ('Adelina Wong Ettelson', 91),\n",
       " ('Lisa Anastos', 91),\n",
       " ('Nicole Miller', 89),\n",
       " ('Barbara Tober', 89),\n",
       " ('Rosanna Scotto', 88),\n",
       " ('Alexandra Lind Rose', 87),\n",
       " ('Fern Mallis', 87),\n",
       " ('Grace Meigher', 86),\n",
       " ('Margaret Russell', 86),\n",
       " ('Michele Gerber Klein', 85),\n",
       " ('Diana Taylor', 83),\n",
       " ('Wendy Carduner', 82),\n",
       " ('Margo Langenberg', 81),\n",
       " ('Alec Baldwin', 81),\n",
       " ('Dennis Basso', 81),\n",
       " ('Pamela Fiori', 79),\n",
       " ('Diana DiMenna', 79),\n",
       " ('Alexia Hamm Ryan', 78),\n",
       " ('Donna Karan', 75),\n",
       " ('Fe Fendi', 75),\n",
       " ('Janna Bullock', 74),\n",
       " ('Susan Shin', 74),\n",
       " ('Dawne Marie Grannum', 74),\n",
       " ('Russell Simmons', 74),\n",
       " ('Bonnie Comley', 73),\n",
       " ('Felicia Taylor', 73),\n",
       " ('Michele Herbert', 73),\n",
       " ('R Couri Hay', 72),\n",
       " ('Barbara Regna', 71),\n",
       " ('Georgina Schaeffer', 71),\n",
       " ('Carol Mack', 70),\n",
       " ('Julia Koch', 70),\n",
       " ('CeCe Black', 70),\n",
       " ('Clare McKeon', 70),\n",
       " ('Tinsley Mortimer', 69),\n",
       " ('Coralie Charriol Paul', 69),\n",
       " ('Kelly Rutherford', 69),\n",
       " ('Stephanie Winston Wolkoff', 69),\n",
       " ('Evelyn Lauder', 69),\n",
       " ('Elizabeth Stribling', 69),\n",
       " ('Deborah Roberts', 69),\n",
       " ('Karen Pearl', 68),\n",
       " ('Fernanda Kellogg', 68),\n",
       " ('Melanie Holl', 67),\n",
       " ('Charlotte Moss', 67),\n",
       " ('Carmen Dubroc', 67),\n",
       " ('Olivia Chantecaille', 66),\n",
       " ('Amy Hoadley', 66),\n",
       " ('Mary Davidson', 66),\n",
       " ('Hilary Geary Ross', 66),\n",
       " ('Danielle Ganek', 66),\n",
       " ('Steven Stolman', 65),\n",
       " ('Suzanne Cochran', 65),\n",
       " ('Paula Zahn', 65),\n",
       " ('Liliana Cavendish', 65),\n",
       " ('Glenn Close', 64),\n",
       " ('Coco Kopelman', 64),\n",
       " ('Annette Rickel', 64),\n",
       " ('Peggy Siegal', 63),\n",
       " ('Allison Mignone', 63),\n",
       " ('Gerald Loughlin', 62),\n",
       " ('Herbert Pardes', 62),\n",
       " ('Bette Midler', 62),\n",
       " ('Beth Rudin DeWoody', 62),\n",
       " ('Peter Lyden', 62),\n",
       " ('Ellie Cullman', 62)]"
      ]
     },
     "execution_count": 100,
     "metadata": {},
     "output_type": "execute_result"
    }
   ],
   "source": [
    "degrees_unweight = sorted(G.degree(), key = lambda x: (-x[1]))\n",
    "degrees_unweight[:100]"
   ]
  },
  {
   "cell_type": "code",
   "execution_count": 98,
   "metadata": {
    "collapsed": false,
    "jupyter": {
     "outputs_hidden": false
    },
    "scrolled": true
   },
   "outputs": [
    {
     "data": {
      "text/plain": [
       "[('Jean Shafiroff', 462),\n",
       " ('Mark Gilbertson', 358),\n",
       " ('Gillian Miniter', 349),\n",
       " ('Alexandra Lebenthal', 299),\n",
       " ('Geoffrey Bradfield', 257),\n",
       " ('Kamie Lightburn', 210),\n",
       " ('Somers Farkas', 208),\n",
       " ('Eleanora Kennedy', 203),\n",
       " ('Yaz Hernandez', 198),\n",
       " ('Andrew Saffir', 197),\n",
       " ('Debbie Bancroft', 196),\n",
       " ('Alina Cho', 180),\n",
       " ('Lydia Fenet', 180),\n",
       " ('Jamee Gregory', 177),\n",
       " ('Allison Aston', 167),\n",
       " ('Muffie Potter Aston', 158),\n",
       " ('Mario Buatta', 157),\n",
       " ('Bonnie Comley', 156),\n",
       " ('Lucia Hwong Gordon', 155),\n",
       " ('Sharon Bush', 153),\n",
       " ('Patrick McMullan', 150),\n",
       " ('Deborah Norville', 150),\n",
       " ('Karen LeFrak', 145),\n",
       " ('Liz Peek', 141),\n",
       " ('Bettina Zilkha', 135),\n",
       " ('Martha Stewart', 135),\n",
       " ('Grace Meigher', 133),\n",
       " ('Barbara Tober', 133),\n",
       " ('Stewart Lane', 131),\n",
       " ('Audrey Gruss', 131),\n",
       " ('Rosanna Scotto', 129),\n",
       " ('Jennifer Creel', 128),\n",
       " ('Martha Glass', 128),\n",
       " ('Alexandra Lind Rose', 123),\n",
       " ('Diana Taylor', 123),\n",
       " ('Michael Bloomberg', 122),\n",
       " ('Fe Fendi', 121),\n",
       " ('Roric Tobin', 121),\n",
       " ('Nicole Miller', 121),\n",
       " ('Nathalie Kaplan', 119),\n",
       " ('Daniel Benedict', 119),\n",
       " ('Kipton Cronkite', 118),\n",
       " ('Adelina Wong Ettelson', 117),\n",
       " ('Karen Klopp', 116),\n",
       " ('Janna Bullock', 115),\n",
       " ('Leonard Lauder', 115),\n",
       " ('Barbara Regna', 115),\n",
       " ('Amy Fine Collins', 114),\n",
       " ('Margaret Russell', 113),\n",
       " ('Lisa Anastos', 111),\n",
       " ('Julia Koch', 111),\n",
       " ('Clare McKeon', 111),\n",
       " ('R Couri Hay', 110),\n",
       " ('Dennis Basso', 110),\n",
       " ('Sylvester Miniter', 109),\n",
       " ('Gregory Long', 109),\n",
       " ('Margo Langenberg', 109),\n",
       " ('Elizabeth Stribling', 109),\n",
       " ('Hilary Geary Ross', 105),\n",
       " ('Alexia Hamm Ryan', 103),\n",
       " ('CeCe Black', 103),\n",
       " ('Michele Herbert', 102),\n",
       " ('Wendy Carduner', 102),\n",
       " ('Coco Kopelman', 100),\n",
       " ('Dawne Marie Grannum', 99),\n",
       " ('Stephanie Winston Wolkoff', 99),\n",
       " ('Fern Mallis', 99),\n",
       " ('Wilbur Ross', 98),\n",
       " ('Amy Hoadley', 97),\n",
       " ('Margo Catsimatidis', 97),\n",
       " ('Kelly Rutherford', 96),\n",
       " ('John Catsimatidis', 96),\n",
       " ('Deborah Roberts', 96),\n",
       " ('Alec Baldwin', 95),\n",
       " ('Evelyn Lauder', 94),\n",
       " ('Russell Simmons', 94),\n",
       " ('Diana DiMenna', 94),\n",
       " ('Coralie Charriol Paul', 93),\n",
       " ('Gerald Loughlin', 93),\n",
       " ('Michele Gerber Klein', 92),\n",
       " ('Felicia Taylor', 92),\n",
       " ('Pamela Fiori', 92),\n",
       " ('Susan Shin', 90),\n",
       " ('Chris Meigher', 90),\n",
       " ('Frederick Anderson', 90),\n",
       " ('Mary Davidson', 89),\n",
       " ('Donna Hanover', 89),\n",
       " ('Richard Johnson', 89),\n",
       " ('Fernanda Kellogg', 89),\n",
       " ('Liliana Cavendish', 88),\n",
       " ('Carmen Dubroc', 88),\n",
       " ('Olivia Chantecaille', 87),\n",
       " ('Tinsley Mortimer', 87),\n",
       " ('Georgina Schaeffer', 87),\n",
       " ('Lizzie Tisch', 86),\n",
       " ('Melanie Holl', 86),\n",
       " ('Glenn Close', 85),\n",
       " ('Jonathan Farkas', 85),\n",
       " ('Hunt Slonem', 85),\n",
       " ('Suzanne Cochran', 85)]"
      ]
     },
     "execution_count": 98,
     "metadata": {},
     "output_type": "execute_result"
    }
   ],
   "source": [
    "### 100 Highest Degree nodes\n",
    "degrees[:100]"
   ]
  },
  {
   "cell_type": "code",
   "execution_count": 49,
   "metadata": {
    "collapsed": false,
    "editable": true,
    "jupyter": {
     "outputs_hidden": false
    },
    "scrolled": true,
    "slideshow": {
     "slide_type": ""
    },
    "tags": []
   },
   "outputs": [],
   "source": [
    "#### 100 Lowest degree nodes\n",
    "degrees[-100:]"
   ]
  },
  {
   "cell_type": "code",
   "execution_count": 50,
   "metadata": {
    "collapsed": false,
    "jupyter": {
     "outputs_hidden": false
    }
   },
   "outputs": [],
   "source": [
    "n_nodes = len(G.nodes)\n",
    "n_edges = len(G.edges)\n",
    "\n",
    "print(n_nodes)\n",
    "print(n_edges)"
   ]
  },
  {
   "cell_type": "code",
   "execution_count": 63,
   "metadata": {
    "collapsed": false,
    "jupyter": {
     "outputs_hidden": false
    },
    "scrolled": true
   },
   "outputs": [],
   "source": [
    "#G = G.remove_nodes_from(list(nx.isolates(G)))\n",
    "nx.is_connected(G)\n"
   ]
  },
  {
   "cell_type": "code",
   "execution_count": 65,
   "metadata": {},
   "outputs": [],
   "source": [
    "len(list(nx.connected_components(G)))"
   ]
  },
  {
   "cell_type": "code",
   "execution_count": 78,
   "metadata": {
    "collapsed": false,
    "jupyter": {
     "outputs_hidden": false
    },
    "scrolled": true
   },
   "outputs": [],
   "source": [
    "S = [G.subgraph(c).copy() for c in nx.connected_components(G)]\n",
    "print(f\"S[0] n_edges: {len(S[0].edges)}\")\n",
    "print(f\"S[0] n_nodes: {len(S[0].nodes)}\")"
   ]
  },
  {
   "cell_type": "markdown",
   "metadata": {},
   "source": [
    "`G` is not connected, consisting of 10,708 separate subnetworks, many of which consist of only two people.  These disconnected graphs are the result of photo captions with groups of people that do not also appear in captions with anyone in the largest subnetwork.  Many of the graph metrics calculated in this analysis can only be calculated for a connected graph, such as diameter and centrality measures.  In order to calculate those measurements, we will reference the largest, connected subnetwork, `S[0]`.`S[0]` consists of 38,707 individuals forming 92,702 edges."
   ]
  },
  {
   "cell_type": "code",
   "execution_count": null,
   "metadata": {
    "collapsed": false,
    "jupyter": {
     "outputs_hidden": false
    },
    "scrolled": true
   },
   "outputs": [],
   "source": [
    "diams = [nx.diameter(graph) for graph in S]"
   ]
  },
  {
   "cell_type": "code",
   "execution_count": 639,
   "metadata": {
    "collapsed": false,
    "jupyter": {
     "outputs_hidden": false
    },
    "scrolled": true
   },
   "outputs": [],
   "source": [
    "sorted(diams, reverse = True)"
   ]
  },
  {
   "cell_type": "code",
   "execution_count": 48,
   "metadata": {
    "scrolled": true
   },
   "outputs": [],
   "source": [
    "##H = nxp.ParallelGraph(S[0])\n",
    "\n",
    "##list(nxp.all_pairs_shortest_path_length(H))"
   ]
  },
  {
   "cell_type": "code",
   "execution_count": 576,
   "metadata": {},
   "outputs": [],
   "source": [
    "nx.diameter(S[0]) ### Takes a long time to run"
   ]
  },
  {
   "cell_type": "code",
   "execution_count": 705,
   "metadata": {
    "collapsed": false,
    "jupyter": {
     "outputs_hidden": false
    }
   },
   "outputs": [],
   "source": [
    "nx.average_clustering(G)"
   ]
  },
  {
   "cell_type": "code",
   "execution_count": 706,
   "metadata": {},
   "outputs": [],
   "source": [
    "nx.average_clustering(S[0])"
   ]
  },
  {
   "cell_type": "code",
   "execution_count": 80,
   "metadata": {
    "collapsed": false,
    "editable": true,
    "jupyter": {
     "outputs_hidden": false
    },
    "slideshow": {
     "slide_type": ""
    },
    "tags": []
   },
   "outputs": [
    {
     "data": {
      "image/png": "[encoded data removed]",
      "text/plain": [
       "<Figure size 640x480 with 1 Axes>"
      ]
     },
     "metadata": {},
     "output_type": "display_data"
    }
   ],
   "source": [
    "#### Draw subgraph for Jean Shafiroff (Highest Degree) to visualize an\n",
    "#### example node with high importance.  Visualizing the entire graph\n",
    "#### may be impossible to do in a meaningful way.\n",
    "\n",
    "jean_shafiroff_subgraph = G.subgraph(nx.ego_graph(G, \"Jean Shafiroff\"))\n",
    "deg = jean_shafiroff_subgraph.degree()\n",
    "nlarge = G.subgraph([n for n in deg if deg[n[0]] >= 10])\n",
    "nsmall = G.subgraph([n for n in deg if deg[n[0]] < 10])\n",
    "\n",
    "elarge = [(u, v) for (u, v, d) in jean_shafiroff_subgraph.edges(data=True) if d[\"weight\"] > 1]\n",
    "esmall = [(u, v) for (u, v, d) in jean_shafiroff_subgraph.edges(data=True) if d[\"weight\"] == 1]\n",
    "\n",
    "pos = nx.spring_layout(jean_shafiroff_subgraph, seed=7)  # positions for all nodes - seed for reproducibility\n",
    "\n",
    "\n",
    "# nodes\n",
    "nx.draw_networkx_nodes(nlarge, pos, node_size=100)\n",
    "nx.draw_networkx_nodes(nsmall, pos, node_size=25)\n",
    "\n",
    "# edges\n",
    "nx.draw_networkx_edges(jean_shafiroff_subgraph, pos, edgelist=elarge, width=2)\n",
    "nx.draw_networkx_edges(\n",
    "    jean_shafiroff_subgraph, pos, edgelist=esmall, width=2, alpha=0.5, edge_color=\"b\", style=\"dashed\"\n",
    ")\n",
    "\n",
    "# node labels\n",
    "nx.draw_networkx_labels(nlarge, pos, font_size=8, font_family=\"sans-serif\")\n",
    "# edge weight labels\n",
    "##edge_labels = nx.get_edge_attributes(jean_shafiroff_subgraph, \"weight\")\n",
    "##nx.draw_networkx_edge_labels(jean_shafiroff_subgraph, pos, edge_labels)\n",
    "\n",
    "ax = plt.gca()\n",
    "ax.margins(0.08)\n",
    "plt.axis(\"off\")\n",
    "plt.tight_layout()\n",
    "plt.show()"
   ]
  },
  {
   "cell_type": "markdown",
   "metadata": {
    "collapsed": false,
    "editable": true,
    "id": "Gh52kP5pdQmD",
    "jupyter": {
     "outputs_hidden": false
    },
    "slideshow": {
     "slide_type": ""
    },
    "tags": []
   },
   "source": [
    "## Question 4: Graph properties (20 p)"
   ]
  },
  {
   "cell_type": "markdown",
   "metadata": {
    "collapsed": false,
    "id": "SUa1Q-L3dQmD",
    "jupyter": {
     "outputs_hidden": false
    }
   },
   "source": [
    "What real-world graph properties does this graph exhibit? Please show your work and interpret your answer. Does the result make sense given the nature of the graph?"
   ]
  },
  {
   "cell_type": "markdown",
   "metadata": {},
   "source": [
    "➢ Small-world property"
   ]
  },
  {
   "cell_type": "code",
   "execution_count": 55,
   "metadata": {},
   "outputs": [],
   "source": [
    "n = len(S[0].nodes)\n",
    "log_n = math.log(n)\n",
    "\n",
    "log_n"
   ]
  },
  {
   "cell_type": "code",
   "execution_count": 56,
   "metadata": {},
   "outputs": [],
   "source": [
    "mu_l = nx.average_shortest_path_length(S[0])"
   ]
  },
  {
   "cell_type": "code",
   "execution_count": null,
   "metadata": {},
   "outputs": [],
   "source": [
    "mu_l"
   ]
  },
  {
   "cell_type": "markdown",
   "metadata": {},
   "source": [
    "$\\mu_L$ $\\propto$ $\\log_2n$, therefore the graph exhibits small-world property. This means that the people in S[0], the largest subgraph of the set of disconnected subgraphs, are all connected in the social chain by a few individuals. In other words, the strangers in this graph are often easily connected by a \"friend-of-a-friend\" chain. $\\mu_L$ = 6.3, which is consistent with the commonly referenced \"six degrees of separation\" between two individuals.  The graph does not exhibit ultra-small-world properties as it is not true that $\\mu_L \\ll \\log_2n$."
   ]
  },
  {
   "cell_type": "markdown",
   "metadata": {},
   "source": [
    "➢ Scale-free property"
   ]
  },
  {
   "cell_type": "code",
   "execution_count": 57,
   "metadata": {},
   "outputs": [],
   "source": [
    "dict_degrees = dict(nx.degree(S[0], weight = \"weight\"))\n",
    "degree_vals = dict_degrees.values()\n",
    "unique, count = np.unique(list(degree_vals), return_counts=True)\n",
    "unique = np.log2(unique)\n",
    "count = np.log2(count)\n",
    "plt.scatter(unique, count)\n",
    "plt.xlabel('log(degree)')\n",
    "plt.ylabel('log(frequency)')      \n",
    "\n",
    "m, c = np.polyfit(unique, count, 1)\n",
    "plt.plot(unique, m*unique + c, \"r--\")"
   ]
  },
  {
   "cell_type": "code",
   "execution_count": 125,
   "metadata": {},
   "outputs": [],
   "source": [
    "## Gamma\n",
    "m"
   ]
  },
  {
   "cell_type": "markdown",
   "metadata": {},
   "source": [
    "$\\log$-$\\log$ plot of $k$ vs $f(k)$ is consistent with a power law relationship, so the graph can be said to exhibit scale-free property..  It shows a linear relationship with a slope ($\\gamma$) of -2.3299. This means that there are few individuals with high degree (a large number of connections), while most individuals have low degree (few connections). This is typical of social networks, where an already popular individual will connect with strangers more often. "
   ]
  },
  {
   "cell_type": "markdown",
   "metadata": {},
   "source": [
    "➢ Clustering effect"
   ]
  },
  {
   "cell_type": "code",
   "execution_count": 101,
   "metadata": {
    "scrolled": true
   },
   "outputs": [
    {
     "data": {
      "text/plain": [
       "{1: 0.0,\n",
       " 2: 0.8286554724843731,\n",
       " 3: 0.8060905087803093,\n",
       " 4: 0.7110542560103967,\n",
       " 5: 0.6317838105863424,\n",
       " 6: 0.59138634046891,\n",
       " 7: 0.5415157612340695,\n",
       " 8: 0.49910982410982385,\n",
       " 9: 0.47087559452180355,\n",
       " 10: 0.4155927539555153,\n",
       " 11: 0.3995283678423214,\n",
       " 12: 0.38407167457510705,\n",
       " 13: 0.39578598999084186,\n",
       " 14: 0.36232583841279525,\n",
       " 15: 0.29372226098416593,\n",
       " 16: 0.29675453412566805,\n",
       " 17: 0.273717105177493,\n",
       " 18: 0.29859251287927746,\n",
       " 19: 0.2438346669065622,\n",
       " 20: 0.2077063398958823,\n",
       " 21: 0.2362925952969644,\n",
       " 22: 0.2472217626249494,\n",
       " 23: 0.2028938353040932,\n",
       " 24: 0.20440406534285122,\n",
       " 25: 0.19160962617530955,\n",
       " 26: 0.17647361161166056,\n",
       " 27: 0.17671654131678877,\n",
       " 28: 0.1868871167259615,\n",
       " 29: 0.21091111407254523,\n",
       " 30: 0.20048532176099268,\n",
       " 31: 0.1861309956982122,\n",
       " 32: 0.19213110284352894,\n",
       " 33: 0.1650482643842653,\n",
       " 34: 0.1669018841008585,\n",
       " 35: 0.1485228092786528,\n",
       " 36: 0.23452192316707904,\n",
       " 37: 0.12079786185468462,\n",
       " 38: 0.11954310029438396,\n",
       " 39: 0.15664436511821173,\n",
       " 40: 0.11691318416853395,\n",
       " 41: 0.11129583395916084,\n",
       " 42: 0.1143967865354949,\n",
       " 43: 0.10010277749830399,\n",
       " 44: 0.09810352559254525,\n",
       " 45: 0.11301118820662003,\n",
       " 46: 0.09740321405244148,\n",
       " 47: 0.09393096107284275,\n",
       " 48: 0.09147658481714599,\n",
       " 49: 0.12230587460187474,\n",
       " 50: 0.09487862630899335,\n",
       " 51: 0.09813295258173553,\n",
       " 52: 0.07998003333552159,\n",
       " 53: 0.10444890137429286,\n",
       " 54: 0.09853062728559256,\n",
       " 55: 0.1027365031960949,\n",
       " 56: 0.09490699721025733,\n",
       " 57: 0.08388914914005924,\n",
       " 58: 0.11266275950648186,\n",
       " 59: 0.08551376078006342,\n",
       " 60: 0.08013781242660618,\n",
       " 61: 0.07846001828415103,\n",
       " 62: 0.08143378326370715,\n",
       " 63: 0.07387715072384061,\n",
       " 64: 0.06216760530457166,\n",
       " 65: 0.067281411747153,\n",
       " 66: 0.06487214410532728,\n",
       " 67: 0.0907454362743583,\n",
       " 68: 0.08052476428430241,\n",
       " 69: 0.07404450242154349,\n",
       " 70: 0.05765145057349458,\n",
       " 71: 0.09819027382159032,\n",
       " 72: 0.07691245187829097,\n",
       " 73: 0.05141123896431403,\n",
       " 74: 0.08110364029159302,\n",
       " 75: 0.058255489804734495,\n",
       " 76: 0.11430377036725597,\n",
       " 77: 0.04492880373507532,\n",
       " 78: 0.06220940452804714,\n",
       " 79: 0.08054732791574896,\n",
       " 80: 0.06904863135358377,\n",
       " 81: 0.04881175584507155,\n",
       " 83: 0.06044691750574103,\n",
       " 84: 0.07622331617620352,\n",
       " 85: 0.08386180926128413,\n",
       " 86: 0.05296314055151447,\n",
       " 87: 0.05022871776591024,\n",
       " 88: 0.10705378266012594,\n",
       " 89: 0.06266037656905184,\n",
       " 90: 0.06930609845082002,\n",
       " 92: 0.043590010733188446,\n",
       " 93: 0.0915689385219979,\n",
       " 94: 0.06349855449991731,\n",
       " 95: 0.025308641975308643,\n",
       " 96: 0.07267720617621694,\n",
       " 97: 0.0900668513876061,\n",
       " 98: 0.09503843466107617,\n",
       " 99: 0.045532937976157546,\n",
       " 100: 0.041666666666666664,\n",
       " 102: 0.040967504423902686,\n",
       " 103: 0.061133069828722006,\n",
       " 105: 0.05501165501165501,\n",
       " 109: 0.06812003955639956,\n",
       " 110: 0.04412276125891149,\n",
       " 111: 0.053320066461248684,\n",
       " 113: 0.04623803009575923,\n",
       " 114: 0.028826355525051476,\n",
       " 115: 0.04318541061739981,\n",
       " 116: 0.040265385495309995,\n",
       " 117: 0.06275946275946276,\n",
       " 118: 0.0258202290817317,\n",
       " 119: 0.06312523930707249,\n",
       " 121: 0.04942567418095889,\n",
       " 122: 0.03088538091969801,\n",
       " 123: 0.06678424143107528,\n",
       " 128: 0.05072861920688007,\n",
       " 129: 0.047021943573667714,\n",
       " 131: 0.057809010445334395,\n",
       " 133: 0.036552905125277896,\n",
       " 135: 0.03144490814213967,\n",
       " 141: 0.05283505154639175,\n",
       " 145: 0.03881578947368421,\n",
       " 150: 0.03564232451867727,\n",
       " 153: 0.039353099730458224,\n",
       " 155: 0.04238304678128749,\n",
       " 156: 0.05555555555555555,\n",
       " 157: 0.021116639027086787,\n",
       " 158: 0.061153174140943505,\n",
       " 167: 0.05175450480964639,\n",
       " 177: 0.04,\n",
       " 180: 0.03922868707747296,\n",
       " 196: 0.033719845395175266,\n",
       " 197: 0.017571466037241017,\n",
       " 198: 0.04635854341736695,\n",
       " 203: 0.050451612903225806,\n",
       " 208: 0.03657945736434109,\n",
       " 210: 0.038300251607492314,\n",
       " 257: 0.028456375838926174,\n",
       " 299: 0.039272203206629434,\n",
       " 349: 0.034203726370189036,\n",
       " 358: 0.018496283590623212,\n",
       " 462: 0.02111919818637394}"
      ]
     },
     "execution_count": 101,
     "metadata": {},
     "output_type": "execute_result"
    }
   ],
   "source": [
    "unique = np.unique(list(degree_vals))\n",
    "\n",
    "clust_coefs = dict()\n",
    "for i in unique:\n",
    "    subgraph = [n[0] for n in nx.degree(S[0], weight = \"weight\") if n[1] == i]\n",
    "    c = nx.average_clustering(S[0], nodes = subgraph)\n",
    "    clust_coefs[i] = c\n",
    "\n",
    "clust_coefs"
   ]
  },
  {
   "cell_type": "code",
   "execution_count": 102,
   "metadata": {},
   "outputs": [
    {
     "name": "stderr",
     "output_type": "stream",
     "text": [
      "/tmp/ipykernel_6502/2736996925.py:2: RuntimeWarning: divide by zero encountered in log2\n",
      "  log_c = np.nan_to_num(np.log2(list(clust_coefs.values())), neginf = 0)\n"
     ]
    },
    {
     "data": {
      "image/png": "[encoded data removed]",
      "text/plain": [
       "<Figure size 640x480 with 1 Axes>"
      ]
     },
     "metadata": {},
     "output_type": "display_data"
    }
   ],
   "source": [
    "log_k = np.log2(list(clust_coefs.keys()))\n",
    "log_c = np.nan_to_num(np.log2(list(clust_coefs.values())), neginf = 0)\n",
    "\n",
    "plt.scatter(log_k, log_c)\n",
    "plt.xlabel(r'$log_2(degree)$')\n",
    "plt.ylabel(r'$log_2(Average Clustering(k))$')\n",
    "plt.title('log-log plot Average Clustering Coefficient vs Degree')\n",
    "plt.grid(True)\n",
    "m, c = np.polyfit(log_k, log_c, 1)\n",
    "plt.plot(log_k, m*log_k + c, \"r--\")\n",
    "plt.show()"
   ]
  },
  {
   "cell_type": "code",
   "execution_count": 103,
   "metadata": {},
   "outputs": [
    {
     "data": {
      "text/plain": [
       "-0.7906318071493778"
      ]
     },
     "execution_count": 103,
     "metadata": {},
     "output_type": "execute_result"
    }
   ],
   "source": [
    "m #gamma"
   ]
  },
  {
   "cell_type": "markdown",
   "metadata": {},
   "source": [
    "The clustering effect for the graph S[0] is consistent with the power law relationship: $C(k) \\propto k^{-\\gamma}$. $\\gamma$ = -0.79. The average clustering coefficient for nodes with low degree is high compared to those with high degree. The means that people with a high degree (lots of connections) are likely to be intermediate nodes connecting the sparse nodes with high average clustering coefficients. "
   ]
  },
  {
   "cell_type": "markdown",
   "metadata": {
    "collapsed": false,
    "id": "9FFIp3O2dQmD",
    "jupyter": {
     "outputs_hidden": false
    }
   },
   "source": [
    "## Question 4: Who are the most photogenic persons? (10 p)"
   ]
  },
  {
   "cell_type": "markdown",
   "metadata": {
    "collapsed": false,
    "id": "PLmABp34dQmD",
    "jupyter": {
     "outputs_hidden": false
    }
   },
   "source": [
    "The simplest question to ask is \"who is the most popular\"?  The easiest way to answer this question is to look at how many connections everyone has.  Return the top 100 people and their degree.  Remember that if an edge of the graph has weight 2, it counts for 2 in the degree.\n",
    "\n",
    "**Checkpoint:** Some aggregate stats on the solution\n",
    "\n",
    "    \"count\": 100.0\n",
    "    \"mean\": 189.92\n",
    "    \"std\": 87.8053034454\n",
    "    \"min\": 124.0\n",
    "    \"25%\": 138.0\n",
    "    \"50%\": 157.0\n",
    "    \"75%\": 195.0\n",
    "    \"max\": 666.0"
   ]
  },
  {
   "cell_type": "code",
   "execution_count": 50,
   "metadata": {
    "collapsed": false,
    "jupyter": {
     "outputs_hidden": false
    }
   },
   "outputs": [],
   "source": [
    "top_degrees_df = pd.DataFrame(degrees[:100])\n",
    "top_degrees_df"
   ]
  },
  {
   "cell_type": "markdown",
   "metadata": {},
   "source": [
    "Jean Shariroff is the most popular person, with a degree of 462.  "
   ]
  },
  {
   "cell_type": "code",
   "execution_count": 51,
   "metadata": {
    "collapsed": false,
    "id": "uvfpNfrBdQmD",
    "jupyter": {
     "outputs_hidden": false
    }
   },
   "outputs": [
    {
     "data": {
      "text/html": [
       "<div>\n",
       "<style scoped>\n",
       "    .dataframe tbody tr th:only-of-type {\n",
       "        vertical-align: middle;\n",
       "    }\n",
       "\n",
       "    .dataframe tbody tr th {\n",
       "        vertical-align: top;\n",
       "    }\n",
       "\n",
       "    .dataframe thead th {\n",
       "        text-align: right;\n",
       "    }\n",
       "</style>\n",
       "<table border=\"1\" class=\"dataframe\">\n",
       "  <thead>\n",
       "    <tr style=\"text-align: right;\">\n",
       "      <th></th>\n",
       "      <th>1</th>\n",
       "    </tr>\n",
       "  </thead>\n",
       "  <tbody>\n",
       "    <tr>\n",
       "      <th>count</th>\n",
       "      <td>100.000000</td>\n",
       "    </tr>\n",
       "    <tr>\n",
       "      <th>mean</th>\n",
       "      <td>129.760000</td>\n",
       "    </tr>\n",
       "    <tr>\n",
       "      <th>std</th>\n",
       "      <td>60.649868</td>\n",
       "    </tr>\n",
       "    <tr>\n",
       "      <th>min</th>\n",
       "      <td>85.000000</td>\n",
       "    </tr>\n",
       "    <tr>\n",
       "      <th>25%</th>\n",
       "      <td>94.000000</td>\n",
       "    </tr>\n",
       "    <tr>\n",
       "      <th>50%</th>\n",
       "      <td>111.000000</td>\n",
       "    </tr>\n",
       "    <tr>\n",
       "      <th>75%</th>\n",
       "      <td>135.000000</td>\n",
       "    </tr>\n",
       "    <tr>\n",
       "      <th>max</th>\n",
       "      <td>462.000000</td>\n",
       "    </tr>\n",
       "  </tbody>\n",
       "</table>\n",
       "</div>"
      ],
      "text/plain": [
       "                1\n",
       "count  100.000000\n",
       "mean   129.760000\n",
       "std     60.649868\n",
       "min     85.000000\n",
       "25%     94.000000\n",
       "50%    111.000000\n",
       "75%    135.000000\n",
       "max    462.000000"
      ]
     },
     "execution_count": 51,
     "metadata": {},
     "output_type": "execute_result"
    }
   ],
   "source": [
    "top_degrees_df.describe()"
   ]
  },
  {
   "cell_type": "markdown",
   "metadata": {
    "collapsed": false,
    "editable": true,
    "id": "9_NLf97kdQmD",
    "jupyter": {
     "outputs_hidden": false
    },
    "slideshow": {
     "slide_type": ""
    },
    "tags": []
   },
   "source": [
    "## Question 5: Centrality analysis (20 p)\n"
   ]
  },
  {
   "cell_type": "markdown",
   "metadata": {
    "collapsed": false,
    "id": "pWJFmfmwdQmD",
    "jupyter": {
     "outputs_hidden": false
    }
   },
   "source": [
    "Use eccentricity centrality, closeness centrality, betweenness centrality, prestige, and PageRank to identify the top 10 individuals with the highest centrality for each measure. How do you interpret the results?\n",
    "\n",
    "Use 0.85 as the damping parameter for page rank, so that there is a 15% chance of jumping to another vertex at random.\n",
    "\n",
    "**Checkpoint:** Some aggregate stats on the solution for pagerank\n",
    "\n",
    "    \"count\": 100.0\n",
    "    \"mean\": 0.0001841088\n",
    "    \"std\": 0.0000758068\n",
    "    \"min\": 0.0001238355\n",
    "    \"25%\": 0.0001415028\n",
    "    \"50%\": 0.0001616183\n",
    "    \"75%\": 0.0001972663\n",
    "    \"max\": 0.0006085816"
   ]
  },
  {
   "cell_type": "code",
   "execution_count": 60,
   "metadata": {
    "collapsed": false,
    "editable": true,
    "jupyter": {
     "outputs_hidden": false
    },
    "slideshow": {
     "slide_type": ""
    },
    "tags": []
   },
   "outputs": [
    {
     "data": {
      "text/plain": [
       "list"
      ]
     },
     "execution_count": 60,
     "metadata": {},
     "output_type": "execute_result"
    }
   ],
   "source": [
    "type(sorted(G.degree, key=lambda x: x[1], reverse=True))"
   ]
  },
  {
   "cell_type": "code",
   "execution_count": 79,
   "metadata": {
    "collapsed": false,
    "editable": true,
    "jupyter": {
     "outputs_hidden": false
    },
    "scrolled": true,
    "slideshow": {
     "slide_type": ""
    },
    "tags": []
   },
   "outputs": [],
   "source": [
    "### Eccentricity Centrality\n",
    "ecc = nx.eccentricity(S[0])"
   ]
  },
  {
   "cell_type": "code",
   "execution_count": 115,
   "metadata": {
    "collapsed": false,
    "editable": true,
    "jupyter": {
     "outputs_hidden": false
    },
    "scrolled": true,
    "slideshow": {
     "slide_type": ""
    },
    "tags": []
   },
   "outputs": [
    {
     "data": {
      "text/plain": [
       "[('Alina Cho', 11),\n",
       " ('Alexandra Lebenthal', 11),\n",
       " ('Somers Farkas', 11),\n",
       " ('Gillian Miniter', 11),\n",
       " ('Cristina Greeven Cuomo', 11),\n",
       " ('Muffie Potter Aston', 11),\n",
       " ('Fe Fendi', 11),\n",
       " ('Michael Kors', 11),\n",
       " ('Michael Bloomberg', 11),\n",
       " ('Diana Taylor', 11)]"
      ]
     },
     "execution_count": 115,
     "metadata": {},
     "output_type": "execute_result"
    }
   ],
   "source": [
    "sorted(ecc.items(), key = lambda x: x[1])[:10] ### The less eccentric a node is, the mode central it is"
   ]
  },
  {
   "cell_type": "markdown",
   "metadata": {},
   "source": [
    "The eccentricity of a node is the maximum distance of the node to any other node in the graph.  The less eccentic a node is, the more central it is.  We report above the 10 noteds with the lowest eccentricity."
   ]
  },
  {
   "cell_type": "code",
   "execution_count": 104,
   "metadata": {
    "collapsed": false,
    "editable": true,
    "jupyter": {
     "outputs_hidden": false
    },
    "scrolled": true,
    "slideshow": {
     "slide_type": ""
    },
    "tags": []
   },
   "outputs": [],
   "source": [
    "closeness = nx.closeness_centrality(S[0])"
   ]
  },
  {
   "cell_type": "code",
   "execution_count": 113,
   "metadata": {
    "collapsed": false,
    "editable": true,
    "jupyter": {
     "outputs_hidden": false
    },
    "scrolled": true,
    "slideshow": {
     "slide_type": ""
    },
    "tags": []
   },
   "outputs": [
    {
     "data": {
      "text/plain": [
       "[('Jean Shafiroff', 0.2630287791784173),\n",
       " ('Mark Gilbertson', 0.2588960830479452),\n",
       " ('Alexandra Lebenthal', 0.2558127238840495),\n",
       " ('Somers Farkas', 0.2523865414710485),\n",
       " ('Gillian Miniter', 0.25200039063771607),\n",
       " ('Alina Cho', 0.25086362782015803),\n",
       " ('Eleanora Kennedy', 0.25061835511065644),\n",
       " ('Debbie Bancroft', 0.2497870363199876),\n",
       " ('Muffie Potter Aston', 0.24928029058871265),\n",
       " ('Bettina Zilkha', 0.24900766207113953)]"
      ]
     },
     "execution_count": 113,
     "metadata": {},
     "output_type": "execute_result"
    }
   ],
   "source": [
    "sorted(closeness.items(), key = lambda x: x[1], reverse = True)[0:10]"
   ]
  },
  {
   "cell_type": "markdown",
   "metadata": {},
   "source": [
    "Closeness centrality ranks nodes by sum of distance to all other nodes.  It finds nodes with minimal distance to all other nodes."
   ]
  },
  {
   "cell_type": "code",
   "execution_count": 116,
   "metadata": {
    "collapsed": false,
    "editable": true,
    "jupyter": {
     "outputs_hidden": false
    },
    "slideshow": {
     "slide_type": ""
    },
    "tags": []
   },
   "outputs": [
    {
     "name": "stderr",
     "output_type": "stream",
     "text": [
      "Exception ignored in: <bound method IPythonKernel._clean_thread_parent_frames of <ipykernel.ipkernel.IPythonKernel object at 0x7faa35f816d0>>\n",
      "Traceback (most recent call last):\n",
      "  File \"/home/steve/.virtualenvs/miniproject1/lib/python3.11/site-packages/ipykernel/ipkernel.py\", line 775, in _clean_thread_parent_frames\n",
      "    def _clean_thread_parent_frames(\n",
      "\n",
      "KeyboardInterrupt: \n"
     ]
    },
    {
     "ename": "KeyboardInterrupt",
     "evalue": "",
     "output_type": "error",
     "traceback": [
      "\u001b[0;31m---------------------------------------------------------------------------\u001b[0m",
      "\u001b[0;31mKeyboardInterrupt\u001b[0m                         Traceback (most recent call last)",
      "Cell \u001b[0;32mIn[116], line 1\u001b[0m\n\u001b[0;32m----> 1\u001b[0m betweenness \u001b[38;5;241m=\u001b[39m \u001b[43mnx\u001b[49m\u001b[38;5;241;43m.\u001b[39;49m\u001b[43mbetweenness_centrality\u001b[49m\u001b[43m(\u001b[49m\u001b[43mS\u001b[49m\u001b[43m[\u001b[49m\u001b[38;5;241;43m0\u001b[39;49m\u001b[43m]\u001b[49m\u001b[43m)\u001b[49m\n",
      "File \u001b[0;32m<class 'networkx.utils.decorators.argmap'> compilation 63:4\u001b[0m, in \u001b[0;36margmap_betweenness_centrality_59\u001b[0;34m(G, k, normalized, weight, endpoints, seed, backend, **backend_kwargs)\u001b[0m\n\u001b[1;32m      2\u001b[0m \u001b[38;5;28;01mimport\u001b[39;00m \u001b[38;5;21;01mcollections\u001b[39;00m\n\u001b[1;32m      3\u001b[0m \u001b[38;5;28;01mimport\u001b[39;00m \u001b[38;5;21;01mgzip\u001b[39;00m\n\u001b[0;32m----> 4\u001b[0m \u001b[38;5;28;01mimport\u001b[39;00m \u001b[38;5;21;01minspect\u001b[39;00m\n\u001b[1;32m      5\u001b[0m \u001b[38;5;28;01mimport\u001b[39;00m \u001b[38;5;21;01mitertools\u001b[39;00m\n\u001b[1;32m      6\u001b[0m \u001b[38;5;28;01mimport\u001b[39;00m \u001b[38;5;21;01mre\u001b[39;00m\n",
      "File \u001b[0;32m~/.virtualenvs/miniproject1/lib/python3.11/site-packages/networkx/utils/backends.py:808\u001b[0m, in \u001b[0;36m_dispatchable.__call__\u001b[0;34m(self, backend, *args, **kwargs)\u001b[0m\n\u001b[1;32m    801\u001b[0m             \u001b[38;5;28;01mreturn\u001b[39;00m \u001b[38;5;28mself\u001b[39m\u001b[38;5;241m.\u001b[39m_convert_and_call(\n\u001b[1;32m    802\u001b[0m                 backend_name,\n\u001b[1;32m    803\u001b[0m                 args,\n\u001b[1;32m    804\u001b[0m                 kwargs,\n\u001b[1;32m    805\u001b[0m                 fallback_to_nx\u001b[38;5;241m=\u001b[39m\u001b[38;5;28mself\u001b[39m\u001b[38;5;241m.\u001b[39m_fallback_to_nx,\n\u001b[1;32m    806\u001b[0m             )\n\u001b[1;32m    807\u001b[0m \u001b[38;5;66;03m# Default: run with networkx on networkx inputs\u001b[39;00m\n\u001b[0;32m--> 808\u001b[0m \u001b[38;5;28;01mreturn\u001b[39;00m \u001b[38;5;28;43mself\u001b[39;49m\u001b[38;5;241;43m.\u001b[39;49m\u001b[43morig_func\u001b[49m\u001b[43m(\u001b[49m\u001b[38;5;241;43m*\u001b[39;49m\u001b[43margs\u001b[49m\u001b[43m,\u001b[49m\u001b[43m \u001b[49m\u001b[38;5;241;43m*\u001b[39;49m\u001b[38;5;241;43m*\u001b[39;49m\u001b[43mkwargs\u001b[49m\u001b[43m)\u001b[49m\n",
      "File \u001b[0;32m~/.virtualenvs/miniproject1/lib/python3.11/site-packages/networkx/algorithms/centrality/betweenness.py:136\u001b[0m, in \u001b[0;36mbetweenness_centrality\u001b[0;34m(G, k, normalized, weight, endpoints, seed)\u001b[0m\n\u001b[1;32m    133\u001b[0m \u001b[38;5;28;01mfor\u001b[39;00m s \u001b[38;5;129;01min\u001b[39;00m nodes:\n\u001b[1;32m    134\u001b[0m     \u001b[38;5;66;03m# single source shortest paths\u001b[39;00m\n\u001b[1;32m    135\u001b[0m     \u001b[38;5;28;01mif\u001b[39;00m weight \u001b[38;5;129;01mis\u001b[39;00m \u001b[38;5;28;01mNone\u001b[39;00m:  \u001b[38;5;66;03m# use BFS\u001b[39;00m\n\u001b[0;32m--> 136\u001b[0m         S, P, sigma, _ \u001b[38;5;241m=\u001b[39m \u001b[43m_single_source_shortest_path_basic\u001b[49m\u001b[43m(\u001b[49m\u001b[43mG\u001b[49m\u001b[43m,\u001b[49m\u001b[43m \u001b[49m\u001b[43ms\u001b[49m\u001b[43m)\u001b[49m\n\u001b[1;32m    137\u001b[0m     \u001b[38;5;28;01melse\u001b[39;00m:  \u001b[38;5;66;03m# use Dijkstra's algorithm\u001b[39;00m\n\u001b[1;32m    138\u001b[0m         S, P, sigma, _ \u001b[38;5;241m=\u001b[39m _single_source_dijkstra_path_basic(G, s, weight)\n",
      "File \u001b[0;32m~/.virtualenvs/miniproject1/lib/python3.11/site-packages/networkx/algorithms/centrality/betweenness.py:-1\u001b[0m, in \u001b[0;36m_single_source_shortest_path_basic\u001b[0;34m(G, s)\u001b[0m\n\u001b[1;32m      0\u001b[0m <Error retrieving source code with stack_data see ipython/ipython#13598>\n",
      "\u001b[0;31mKeyboardInterrupt\u001b[0m: "
     ]
    }
   ],
   "source": [
    "betweenness = nx.betweenness_centrality(S[0])"
   ]
  },
  {
   "cell_type": "code",
   "execution_count": null,
   "metadata": {
    "collapsed": false,
    "editable": true,
    "jupyter": {
     "outputs_hidden": false
    },
    "slideshow": {
     "slide_type": ""
    },
    "tags": []
   },
   "outputs": [],
   "source": [
    "sorted(betweenness.items(), key = lambda x: x[1], reverse = True)[0:10]"
   ]
  },
  {
   "cell_type": "markdown",
   "metadata": {},
   "source": []
  },
  {
   "cell_type": "code",
   "execution_count": 127,
   "metadata": {
    "collapsed": false,
    "editable": true,
    "jupyter": {
     "outputs_hidden": false
    },
    "scrolled": true,
    "slideshow": {
     "slide_type": ""
    },
    "tags": []
   },
   "outputs": [
    {
     "data": {
      "text/plain": [
       "0.0007491121145758771"
      ]
     },
     "execution_count": 127,
     "metadata": {},
     "output_type": "execute_result"
    }
   ],
   "source": [
    "page_rank = nx.pagerank(G, alpha = 0.85)\n",
    "page_rank[\"Jean Shafiroff\"]"
   ]
  },
  {
   "cell_type": "code",
   "execution_count": 128,
   "metadata": {
    "collapsed": false,
    "jupyter": {
     "outputs_hidden": false
    }
   },
   "outputs": [
    {
     "data": {
      "text/html": [
       "<div>\n",
       "<style scoped>\n",
       "    .dataframe tbody tr th:only-of-type {\n",
       "        vertical-align: middle;\n",
       "    }\n",
       "\n",
       "    .dataframe tbody tr th {\n",
       "        vertical-align: top;\n",
       "    }\n",
       "\n",
       "    .dataframe thead th {\n",
       "        text-align: right;\n",
       "    }\n",
       "</style>\n",
       "<table border=\"1\" class=\"dataframe\">\n",
       "  <thead>\n",
       "    <tr style=\"text-align: right;\">\n",
       "      <th></th>\n",
       "      <th>0</th>\n",
       "    </tr>\n",
       "  </thead>\n",
       "  <tbody>\n",
       "    <tr>\n",
       "      <th>count</th>\n",
       "      <td>67051.000000</td>\n",
       "    </tr>\n",
       "    <tr>\n",
       "      <th>mean</th>\n",
       "      <td>0.000015</td>\n",
       "    </tr>\n",
       "    <tr>\n",
       "      <th>std</th>\n",
       "      <td>0.000013</td>\n",
       "    </tr>\n",
       "    <tr>\n",
       "      <th>min</th>\n",
       "      <td>0.000003</td>\n",
       "    </tr>\n",
       "    <tr>\n",
       "      <th>25%</th>\n",
       "      <td>0.000010</td>\n",
       "    </tr>\n",
       "    <tr>\n",
       "      <th>50%</th>\n",
       "      <td>0.000015</td>\n",
       "    </tr>\n",
       "    <tr>\n",
       "      <th>75%</th>\n",
       "      <td>0.000015</td>\n",
       "    </tr>\n",
       "    <tr>\n",
       "      <th>max</th>\n",
       "      <td>0.000749</td>\n",
       "    </tr>\n",
       "  </tbody>\n",
       "</table>\n",
       "</div>"
      ],
      "text/plain": [
       "                  0\n",
       "count  67051.000000\n",
       "mean       0.000015\n",
       "std        0.000013\n",
       "min        0.000003\n",
       "25%        0.000010\n",
       "50%        0.000015\n",
       "75%        0.000015\n",
       "max        0.000749"
      ]
     },
     "execution_count": 128,
     "metadata": {},
     "output_type": "execute_result"
    }
   ],
   "source": [
    "page_rank_df = pd.DataFrame.from_dict(page_rank, orient = \"index\")\n",
    "page_rank_df.describe()"
   ]
  },
  {
   "cell_type": "code",
   "execution_count": 129,
   "metadata": {
    "collapsed": false,
    "jupyter": {
     "outputs_hidden": false
    }
   },
   "outputs": [
    {
     "data": {
      "text/html": [
       "<div>\n",
       "<style scoped>\n",
       "    .dataframe tbody tr th:only-of-type {\n",
       "        vertical-align: middle;\n",
       "    }\n",
       "\n",
       "    .dataframe tbody tr th {\n",
       "        vertical-align: top;\n",
       "    }\n",
       "\n",
       "    .dataframe thead th {\n",
       "        text-align: right;\n",
       "    }\n",
       "</style>\n",
       "<table border=\"1\" class=\"dataframe\">\n",
       "  <thead>\n",
       "    <tr style=\"text-align: right;\">\n",
       "      <th></th>\n",
       "      <th>0</th>\n",
       "    </tr>\n",
       "  </thead>\n",
       "  <tbody>\n",
       "    <tr>\n",
       "      <th>Jean Shafiroff</th>\n",
       "      <td>0.000749</td>\n",
       "    </tr>\n",
       "    <tr>\n",
       "      <th>Mark Gilbertson</th>\n",
       "      <td>0.000614</td>\n",
       "    </tr>\n",
       "    <tr>\n",
       "      <th>Gillian Miniter</th>\n",
       "      <td>0.000510</td>\n",
       "    </tr>\n",
       "    <tr>\n",
       "      <th>Alexandra Lebenthal</th>\n",
       "      <td>0.000457</td>\n",
       "    </tr>\n",
       "    <tr>\n",
       "      <th>Geoffrey Bradfield</th>\n",
       "      <td>0.000439</td>\n",
       "    </tr>\n",
       "    <tr>\n",
       "      <th>Andrew Saffir</th>\n",
       "      <td>0.000362</td>\n",
       "    </tr>\n",
       "    <tr>\n",
       "      <th>Kamie Lightburn</th>\n",
       "      <td>0.000361</td>\n",
       "    </tr>\n",
       "    <tr>\n",
       "      <th>Somers Farkas</th>\n",
       "      <td>0.000329</td>\n",
       "    </tr>\n",
       "    <tr>\n",
       "      <th>Debbie Bancroft</th>\n",
       "      <td>0.000329</td>\n",
       "    </tr>\n",
       "    <tr>\n",
       "      <th>Mario Buatta</th>\n",
       "      <td>0.000314</td>\n",
       "    </tr>\n",
       "  </tbody>\n",
       "</table>\n",
       "</div>"
      ],
      "text/plain": [
       "                            0\n",
       "Jean Shafiroff       0.000749\n",
       "Mark Gilbertson      0.000614\n",
       "Gillian Miniter      0.000510\n",
       "Alexandra Lebenthal  0.000457\n",
       "Geoffrey Bradfield   0.000439\n",
       "Andrew Saffir        0.000362\n",
       "Kamie Lightburn      0.000361\n",
       "Somers Farkas        0.000329\n",
       "Debbie Bancroft      0.000329\n",
       "Mario Buatta         0.000314"
      ]
     },
     "execution_count": 129,
     "metadata": {},
     "output_type": "execute_result"
    }
   ],
   "source": [
    "page_rank_df.sort_values(by = 0, ascending = False)[0:10]"
   ]
  },
  {
   "cell_type": "markdown",
   "metadata": {},
   "source": []
  },
  {
   "cell_type": "code",
   "execution_count": 122,
   "metadata": {},
   "outputs": [],
   "source": [
    "prestige = nx.eigenvector_centrality(G)"
   ]
  },
  {
   "cell_type": "code",
   "execution_count": 123,
   "metadata": {},
   "outputs": [
    {
     "data": {
      "text/plain": [
       "[('Jean Shafiroff', 0.22501936633428157),\n",
       " ('Mark Gilbertson', 0.22200238637510117),\n",
       " ('Alexandra Lebenthal', 0.1938322582267397),\n",
       " ('Gillian Miniter', 0.15617929256722451),\n",
       " ('Muffie Potter Aston', 0.14177196357596153),\n",
       " ('Eleanora Kennedy', 0.1370991911721332),\n",
       " ('Somers Farkas', 0.13465323217910194),\n",
       " ('Kamie Lightburn', 0.13210471125065384),\n",
       " ('Yaz Hernandez', 0.11874904475314665),\n",
       " ('Alina Cho', 0.11277308908574779)]"
      ]
     },
     "execution_count": 123,
     "metadata": {},
     "output_type": "execute_result"
    }
   ],
   "source": [
    "sorted(prestige.items(), key = lambda x: x[1], reverse = True)[0:10]"
   ]
  },
  {
   "cell_type": "markdown",
   "metadata": {},
   "source": [
    "The eigenvector centrality or prestige of the indicates the \"influence\" of a person in the network: the individuals with high prestige are also connected to other individuals with high prestige."
   ]
  },
  {
   "cell_type": "markdown",
   "metadata": {
    "collapsed": false,
    "id": "0nuRZPJHdQmD",
    "jupyter": {
     "outputs_hidden": false
    }
   },
   "source": [
    "## Question 6: best_friends (10 p)\n"
   ]
  },
  {
   "cell_type": "markdown",
   "metadata": {
    "collapsed": false,
    "id": "Iyhdm9cjdQmE",
    "jupyter": {
     "outputs_hidden": false
    }
   },
   "source": [
    "Another interesting question is who tend to co-occur with each other.  Give us the 100 edges with the highest weights.\n",
    "\n",
    "Google these people and see what their connection is.  Can we use this to detect instances of infidelity?\n",
    "\n",
    "**Checkpoint:** Some aggregate stats on the solution\n",
    "\n",
    "    \"count\": 100.0\n",
    "    \"mean\": 25.84\n",
    "    \"std\": 16.0395470855\n",
    "    \"min\": 14.0\n",
    "    \"25%\": 16.0\n",
    "    \"50%\": 19.0\n",
    "    \"75%\": 29.25\n",
    "    \"max\": 109.0"
   ]
  },
  {
   "cell_type": "code",
   "execution_count": 106,
   "metadata": {
    "collapsed": false,
    "id": "aI-QPUTjdQmE",
    "jupyter": {
     "outputs_hidden": false
    }
   },
   "outputs": [],
   "source": [
    "#temple form for the answer\n",
    "best_friends = [(('Michael Kennedy', 'Eleanora Kennedy'), 41)] * 100\n"
   ]
  },
  {
   "cell_type": "code",
   "execution_count": 109,
   "metadata": {
    "collapsed": false,
    "id": "YEf_csTydQmE",
    "jupyter": {
     "outputs_hidden": false
    },
    "scrolled": true
   },
   "outputs": [
    {
     "data": {
      "text/plain": [
       "[('Gillian Miniter', 'Sylvester Miniter', {'weight': 71}),\n",
       " ('Stewart Lane', 'Bonnie Comley', {'weight': 50}),\n",
       " ('Jamee Gregory', 'Peter Gregory', {'weight': 49}),\n",
       " ('Geoffrey Bradfield', 'Roric Tobin', {'weight': 49}),\n",
       " ('Andrew Saffir', 'Daniel Benedict', {'weight': 48}),\n",
       " ('Alexandra Lebenthal', 'Jay Diamond', {'weight': 36}),\n",
       " ('Somers Farkas', 'Jonathan Farkas', {'weight': 34}),\n",
       " ('Jean Shafiroff', 'Martin Shafiroff', {'weight': 33}),\n",
       " ('Donald Tober', 'Barbara Tober', {'weight': 33}),\n",
       " ('Melissa Morris', 'Chappy Morris', {'weight': 28}),\n",
       " ('Chris Meigher', 'Grace Meigher', {'weight': 27}),\n",
       " ('Tatiana Platt', 'Campion Platt', {'weight': 27}),\n",
       " ('Hilary Geary Ross', 'Wilbur Ross', {'weight': 26}),\n",
       " ('John Catsimatidis', 'Margo Catsimatidis', {'weight': 26}),\n",
       " ('Deborah Norville', 'Karl Wellner', {'weight': 26}),\n",
       " ('Jonathan Tisch', 'Lizzie Tisch', {'weight': 25}),\n",
       " ('Barbara Regna', 'Peter Regna', {'weight': 25}),\n",
       " ('Valentin Hernandez', 'Yaz Hernandez', {'weight': 24}),\n",
       " ('Richard Johnson', 'Sessa von Richthofen', {'weight': 24}),\n",
       " ('Julia Koch', 'David Koch', {'weight': 24}),\n",
       " ('Elizabeth Stribling', 'Guy Robinson', {'weight': 24}),\n",
       " ('Coco Kopelman', 'Arie Kopelman', {'weight': 23}),\n",
       " ('Janna Bullock', 'R Couri Hay', {'weight': 22}),\n",
       " ('Mark Badgley', 'James Mischka', {'weight': 20}),\n",
       " ('Douglas Hannant', 'Frederick Anderson', {'weight': 20}),\n",
       " ('Olivia Palermo', 'Johannes Huebl', {'weight': 20}),\n",
       " ('Dee Ocleppo', 'Tommy Hilfiger', {'weight': 19}),\n",
       " ('Jay McInerney', 'Anne Hearst McInerney', {'weight': 19}),\n",
       " ('Marc Rosen', 'Arlene Dahl', {'weight': 18}),\n",
       " ('Eleanora Kennedy', 'Michael Kennedy', {'weight': 18}),\n",
       " ('Nina Griscom', 'Leonel Piraino', {'weight': 17}),\n",
       " ('Stephanie Krieger', 'Brian Stewart', {'weight': 17}),\n",
       " ('Al Roker', 'Deborah Roberts', {'weight': 16}),\n",
       " ('Kirk Henckels', 'Fernanda Kellogg', {'weight': 16}),\n",
       " ('Michael Cominotto', 'Dennis Basso', {'weight': 15}),\n",
       " ('Rick Friedberg', 'Francine LeFrak', {'weight': 15}),\n",
       " ('Michael Bloomberg', 'Diana Taylor', {'weight': 15}),\n",
       " ('Eleanora Kennedy', 'Anna Safir', {'weight': 15}),\n",
       " ('Tony Ingrao', 'Randy Kemper', {'weight': 15}),\n",
       " ('Melanie Wambold', 'John Wambold', {'weight': 15}),\n",
       " ('Jean Shafiroff', 'Sharon Bush', {'weight': 14}),\n",
       " ('Muffie Potter Aston', 'Sherrell Aston', {'weight': 14}),\n",
       " ('Laura Slatkin', 'Harry Slatkin', {'weight': 14}),\n",
       " ('Donald Trump', 'Melania Trump', {'weight': 14}),\n",
       " ('Christian Simonds', 'Gillian Hearst Simonds', {'weight': 13}),\n",
       " ('Herbert Pardes', 'Nancy Wexler', {'weight': 13}),\n",
       " ('Richard Steinberg', 'Renee Steinberg', {'weight': 13}),\n",
       " ('Donna Soloway', 'Richard Soloway', {'weight': 13}),\n",
       " ('Clo Cohen', 'Charles Cohen', {'weight': 13}),\n",
       " ('Lucia Hwong Gordon', 'Jean Shafiroff', {'weight': 12}),\n",
       " ('Will Cotton', 'Rose Dergan', {'weight': 12}),\n",
       " ('Larry Herbert', 'Michele Herbert', {'weight': 12}),\n",
       " ('Charlotte Ronson', 'Ali Wise', {'weight': 12}),\n",
       " ('Kathy Prounis', 'Othon Prounis', {'weight': 12}),\n",
       " ('Somers Farkas', 'Muffie Potter Aston', {'weight': 12}),\n",
       " ('Mary Davidson', 'Marvin Davidson', {'weight': 12}),\n",
       " ('Gillian Miniter', 'Serena Miniter', {'weight': 12}),\n",
       " ('Elaine Langone', 'Ken Langone', {'weight': 12}),\n",
       " ('Martha Glass', 'John Glass', {'weight': 12}),\n",
       " ('Ray Kelly', 'Veronica Kelly', {'weight': 12}),\n",
       " ('Chele Chiavacci', 'Richard Farley', {'weight': 12}),\n",
       " ('Juan Montoya', 'Urban Karlsson', {'weight': 12}),\n",
       " ('Liz Peek', 'Jeff Peek', {'weight': 12}),\n",
       " ('David Lauren', 'Lauren Bush', {'weight': 12}),\n",
       " ('Barbara Taylor Bradford', 'Robert Bradford', {'weight': 12}),\n",
       " ('Susan Magazine', 'Nicholas Scoppetta', {'weight': 12}),\n",
       " ('Jeff Koons', 'Justine Koons', {'weight': 12}),\n",
       " ('Caroline Murphy', 'Heather Matarazzo', {'weight': 12}),\n",
       " ('Mish Tworkowski', 'Joseph Singer', {'weight': 11}),\n",
       " ('Coleman Burke', 'Susan Burke', {'weight': 11}),\n",
       " ('Alec Baldwin', 'Hilaria Baldwin', {'weight': 11}),\n",
       " ('Ken Starr', 'Diane Passage', {'weight': 11}),\n",
       " ('Wilbur Ross', 'Hilary Ross', {'weight': 11}),\n",
       " ('Nicole Miller', 'Kim Taipale', {'weight': 11}),\n",
       " ('Carolina Herrera', 'Reinaldo Herrera', {'weight': 11}),\n",
       " ('Howard Sobel', 'Gayle Sobel', {'weight': 11}),\n",
       " ('Ana Oliveira', 'Diana Taylor', {'weight': 11}),\n",
       " ('Alex McCord', 'Simon van Kempen', {'weight': 11}),\n",
       " ('CeCe Black', 'Lee Black', {'weight': 11}),\n",
       " ('Jonathan Adler', 'Simon Doonan', {'weight': 11}),\n",
       " ('Hunt Slonem', 'Liliana Cavendish', {'weight': 11}),\n",
       " ('Jill Kargman', 'Harry Kargman', {'weight': 11}),\n",
       " ('Thorne Perkin', 'Tatiana Perkin', {'weight': 11}),\n",
       " ('Roxanne Palin', 'Dean Palin', {'weight': 11}),\n",
       " ('Jim Freeman', 'Laura Lofaro Freeman', {'weight': 10}),\n",
       " ('Yan Assoun', 'Polina Proshkina', {'weight': 10}),\n",
       " ('Kathy Hilton', 'Rick Hilton', {'weight': 10}),\n",
       " ('Debbie Bancroft', 'Geoffrey Bradfield', {'weight': 10}),\n",
       " ('Debbie Bancroft', 'Tiffany Dubin', {'weight': 10}),\n",
       " ('Desiree Gruber', 'Kyle MacLachlan', {'weight': 10}),\n",
       " ('Johannes Huebl', 'Daniel Benedict', {'weight': 10}),\n",
       " ('Dan Lufkin', 'Cynthia Lufkin', {'weight': 10}),\n",
       " ('Jill Roosevelt', 'Andrew Roosevelt', {'weight': 10}),\n",
       " ('Alexandra Lebenthal', 'Gillian Miniter', {'weight': 10}),\n",
       " ('Gillian Miniter', 'Elyse Newhouse', {'weight': 10}),\n",
       " ('Gregory Long', 'Maureen Chilton', {'weight': 10}),\n",
       " ('Hilary Gumbel', 'Bryant Gumbel', {'weight': 10}),\n",
       " ('Anne Ford', 'Charlotte Ford', {'weight': 10}),\n",
       " ('Fe Fendi', 'Patricia Shiah', {'weight': 10}),\n",
       " ('Alex Lundqvist', 'Keytt Lundqvist', {'weight': 10})]"
      ]
     },
     "execution_count": 109,
     "metadata": {},
     "output_type": "execute_result"
    }
   ],
   "source": [
    "weighted_nodes = sorted(G.edges(data = True), key = lambda x: (-x[2]['weight']))\n",
    "\n",
    "weighted_nodes[0:100]"
   ]
  },
  {
   "cell_type": "markdown",
   "metadata": {},
   "source": [
    "Most of the top 100 connections by edge weight consist of couples who share a last name, couples who do not share a last name (Lebenthal/Diamond), or business associates. It is unlikely infedelity could be detected because there are too many unknowable factors influencing that, but perhaps if an individual in an established relationship has a direct connection to a person which is far outside their social circle (none of that persons friends share a short path or connection to the suspect) then that could be suspicious. But given that infidelity often occurs between individuals within social groups, this is virtually undetectable."
   ]
  },
  {
   "cell_type": "code",
   "execution_count": 108,
   "metadata": {
    "collapsed": false,
    "editable": true,
    "jupyter": {
     "outputs_hidden": false
    },
    "slideshow": {
     "slide_type": ""
    },
    "tags": []
   },
   "outputs": [
    {
     "data": {
      "text/html": [
       "<div>\n",
       "<style scoped>\n",
       "    .dataframe tbody tr th:only-of-type {\n",
       "        vertical-align: middle;\n",
       "    }\n",
       "\n",
       "    .dataframe tbody tr th {\n",
       "        vertical-align: top;\n",
       "    }\n",
       "\n",
       "    .dataframe thead th {\n",
       "        text-align: right;\n",
       "    }\n",
       "</style>\n",
       "<table border=\"1\" class=\"dataframe\">\n",
       "  <thead>\n",
       "    <tr style=\"text-align: right;\">\n",
       "      <th></th>\n",
       "      <th>0</th>\n",
       "    </tr>\n",
       "  </thead>\n",
       "  <tbody>\n",
       "    <tr>\n",
       "      <th>count</th>\n",
       "      <td>100.000000</td>\n",
       "    </tr>\n",
       "    <tr>\n",
       "      <th>mean</th>\n",
       "      <td>17.290000</td>\n",
       "    </tr>\n",
       "    <tr>\n",
       "      <th>std</th>\n",
       "      <td>10.603311</td>\n",
       "    </tr>\n",
       "    <tr>\n",
       "      <th>min</th>\n",
       "      <td>10.000000</td>\n",
       "    </tr>\n",
       "    <tr>\n",
       "      <th>25%</th>\n",
       "      <td>11.000000</td>\n",
       "    </tr>\n",
       "    <tr>\n",
       "      <th>50%</th>\n",
       "      <td>12.000000</td>\n",
       "    </tr>\n",
       "    <tr>\n",
       "      <th>75%</th>\n",
       "      <td>20.000000</td>\n",
       "    </tr>\n",
       "    <tr>\n",
       "      <th>max</th>\n",
       "      <td>71.000000</td>\n",
       "    </tr>\n",
       "  </tbody>\n",
       "</table>\n",
       "</div>"
      ],
      "text/plain": [
       "                0\n",
       "count  100.000000\n",
       "mean    17.290000\n",
       "std     10.603311\n",
       "min     10.000000\n",
       "25%     11.000000\n",
       "50%     12.000000\n",
       "75%     20.000000\n",
       "max     71.000000"
      ]
     },
     "execution_count": 108,
     "metadata": {},
     "output_type": "execute_result"
    }
   ],
   "source": [
    "top_weights_df = pd.DataFrame([item[2][\"weight\"] for item in weighted_nodes[0:100]])\n",
    "top_weights_df.describe()"
   ]
  }
 ],
 "metadata": {
  "colab": {
   "provenance": []
  },
  "kernelspec": {
   "display_name": "csci550-miniproject1",
   "language": "python",
   "name": "csci550-miniproject1"
  },
  "language_info": {
   "codemirror_mode": {
    "name": "ipython",
    "version": 3
   },
   "file_extension": ".py",
   "mimetype": "text/x-python",
   "name": "python",
   "nbconvert_exporter": "python",
   "pygments_lexer": "ipython3",
   "version": "3.11.2"
  },
  "name": "mini_project_1_graph.ipynb",
  "nbclean": true
 },
 "nbformat": 4,
 "nbformat_minor": 4
}
